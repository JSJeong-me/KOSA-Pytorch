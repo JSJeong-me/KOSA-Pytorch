{
  "nbformat": 4,
  "nbformat_minor": 5,
  "metadata": {
    "kernelspec": {
      "display_name": "Python SDF",
      "language": "python",
      "name": "sdf"
    },
    "language_info": {
      "codemirror_mode": {
        "name": "ipython",
        "version": 3
      },
      "file_extension": ".py",
      "mimetype": "text/x-python",
      "name": "python",
      "nbconvert_exporter": "python",
      "pygments_lexer": "ipython3",
      "version": "3.8.3"
    },
    "colab": {
      "name": "1-linear.ipynb",
      "provenance": [],
      "include_colab_link": true
    },
    "accelerator": "GPU"
  },
  "cells": [
    {
      "cell_type": "markdown",
      "metadata": {
        "id": "view-in-github",
        "colab_type": "text"
      },
      "source": [
        "<a href=\"https://colab.research.google.com/github/JSJeong-me/KOSA-Pytorch/blob/main/1_linear.ipynb\" target=\"_parent\"><img src=\"https://colab.research.google.com/assets/colab-badge.svg\" alt=\"Open In Colab\"/></a>"
      ]
    },
    {
      "cell_type": "code",
      "metadata": {
        "id": "zL-eyY86VjZd"
      },
      "source": [
        "import torch"
      ],
      "id": "zL-eyY86VjZd",
      "execution_count": 2,
      "outputs": []
    },
    {
      "cell_type": "code",
      "metadata": {
        "id": "N1naNYszVqUs"
      },
      "source": [
        "x = torch.randn(2,3)"
      ],
      "id": "N1naNYszVqUs",
      "execution_count": 3,
      "outputs": []
    },
    {
      "cell_type": "code",
      "metadata": {
        "id": "vVrooF1PV3Hj"
      },
      "source": [
        "y = torch.rand(2,3)"
      ],
      "id": "vVrooF1PV3Hj",
      "execution_count": 4,
      "outputs": []
    },
    {
      "cell_type": "code",
      "metadata": {
        "id": "mQGKHsX1Wbd7"
      },
      "source": [
        "a = x.to('cuda')"
      ],
      "id": "mQGKHsX1Wbd7",
      "execution_count": 4,
      "outputs": []
    },
    {
      "cell_type": "code",
      "metadata": {
        "id": "epkYMYhgV7uM"
      },
      "source": [
        "#python"
      ],
      "id": "epkYMYhgV7uM",
      "execution_count": null,
      "outputs": []
    },
    {
      "cell_type": "code",
      "metadata": {
        "id": "canadian-racing"
      },
      "source": [
        "# Y = Wx + b\n",
        "# input: 10 Ouput: 5 Linear Transform"
      ],
      "id": "canadian-racing",
      "execution_count": null,
      "outputs": []
    },
    {
      "cell_type": "code",
      "metadata": {
        "id": "electrical-taxation"
      },
      "source": [
        "import torch\n",
        "from torch.autograd import Variable\n",
        "from torch.nn import Linear\n",
        "\n",
        "data = Variable(torch.randn(1, 10))\n",
        "Layer =Linear(in_features=10, out_features=5, bias=True)"
      ],
      "id": "electrical-taxation",
      "execution_count": null,
      "outputs": []
    },
    {
      "cell_type": "code",
      "metadata": {
        "id": "german-sherman",
        "outputId": "e81b61f2-da4e-4915-d9e2-2450f095c43c"
      },
      "source": [
        "Layer(data)"
      ],
      "id": "german-sherman",
      "execution_count": null,
      "outputs": [
        {
          "output_type": "execute_result",
          "data": {
            "text/plain": [
              "tensor([[-0.3379, -0.2850,  0.0090, -1.1616,  0.5723]],\n",
              "       grad_fn=<AddmmBackward>)"
            ]
          },
          "metadata": {
            "tags": []
          },
          "execution_count": 4
        }
      ]
    },
    {
      "cell_type": "code",
      "metadata": {
        "id": "surprised-smart"
      },
      "source": [
        ""
      ],
      "id": "surprised-smart",
      "execution_count": null,
      "outputs": []
    },
    {
      "cell_type": "code",
      "metadata": {
        "id": "hindu-freight"
      },
      "source": [
        "Layer.weight"
      ],
      "id": "hindu-freight",
      "execution_count": null,
      "outputs": []
    },
    {
      "cell_type": "code",
      "metadata": {
        "id": "leading-liberty"
      },
      "source": [
        "Layer.bias"
      ],
      "id": "leading-liberty",
      "execution_count": null,
      "outputs": []
    },
    {
      "cell_type": "code",
      "metadata": {
        "id": "great-emergency"
      },
      "source": [
        ""
      ],
      "id": "great-emergency",
      "execution_count": null,
      "outputs": []
    },
    {
      "cell_type": "code",
      "metadata": {
        "id": "cross-think"
      },
      "source": [
        "# Activation Function -> ReLu"
      ],
      "id": "cross-think",
      "execution_count": null,
      "outputs": []
    },
    {
      "cell_type": "code",
      "metadata": {
        "id": "scheduled-boston"
      },
      "source": [
        "from torch.nn import ReLU\n",
        "import torch"
      ],
      "id": "scheduled-boston",
      "execution_count": null,
      "outputs": []
    },
    {
      "cell_type": "code",
      "metadata": {
        "id": "automated-horizon"
      },
      "source": [
        "data = torch.Tensor([[1, 2, -1, -2]])"
      ],
      "id": "automated-horizon",
      "execution_count": null,
      "outputs": []
    },
    {
      "cell_type": "code",
      "metadata": {
        "id": "early-variation",
        "outputId": "b4914d7a-6025-4b79-9569-4b80d3c71a1f"
      },
      "source": [
        "relu = ReLU()\n",
        "relu(data)"
      ],
      "id": "early-variation",
      "execution_count": null,
      "outputs": [
        {
          "output_type": "execute_result",
          "data": {
            "text/plain": [
              "tensor([[1., 2., 0., 0.]])"
            ]
          },
          "metadata": {
            "tags": []
          },
          "execution_count": 3
        }
      ]
    },
    {
      "cell_type": "code",
      "metadata": {
        "id": "divided-doctrine"
      },
      "source": [
        ""
      ],
      "id": "divided-doctrine",
      "execution_count": null,
      "outputs": []
    },
    {
      "cell_type": "code",
      "metadata": {
        "id": "nervous-plymouth"
      },
      "source": [
        "# Feedforward & Back Propagation\n",
        "# https://blog.naver.com/slykid/222007253786"
      ],
      "id": "nervous-plymouth",
      "execution_count": null,
      "outputs": []
    },
    {
      "cell_type": "code",
      "metadata": {
        "id": "southwest-replacement"
      },
      "source": [
        "import torch\n",
        "from torch import nn\n",
        "from torch.autograd import Variable"
      ],
      "id": "southwest-replacement",
      "execution_count": null,
      "outputs": []
    },
    {
      "cell_type": "code",
      "metadata": {
        "id": "narrative-onion"
      },
      "source": [
        "class Network_ex(nn.Module):\n",
        "    def __init__(self, input_size, hidden_size, output_size):\n",
        "        super(Network_ex).__init__()\n",
        "        self.layer1 = nn.Linear(input_size, hidden_size)\n",
        "        self.layer2 = nn.Linear(hidden_size, output_size)\n",
        "        \n",
        "    def forward(self, input):\n",
        "        out = self.Layer1(input)\n",
        "        out = nn.ReLU(out)\n",
        "        out = self.layer2(out)\n",
        "        \n",
        "        return out"
      ],
      "id": "narrative-onion",
      "execution_count": null,
      "outputs": []
    },
    {
      "cell_type": "code",
      "metadata": {
        "id": "dangerous-dietary"
      },
      "source": [
        "loss = nn.MSELoss()\n",
        "data = Variable(torch.randn(3, 5), requires_grad=True)"
      ],
      "id": "dangerous-dietary",
      "execution_count": null,
      "outputs": []
    },
    {
      "cell_type": "code",
      "metadata": {
        "id": "departmental-roberts",
        "outputId": "e34b9cd9-7016-42a7-8932-7098728d44d2"
      },
      "source": [
        "data"
      ],
      "id": "departmental-roberts",
      "execution_count": null,
      "outputs": [
        {
          "output_type": "execute_result",
          "data": {
            "text/plain": [
              "tensor([[-1.3343,  0.2266,  1.4069, -0.0098,  1.2536],\n",
              "        [ 0.7315,  1.0377,  1.2904,  0.7527, -0.4447],\n",
              "        [ 0.6441,  0.3752, -0.2164,  1.0216,  0.2104]], requires_grad=True)"
            ]
          },
          "metadata": {
            "tags": []
          },
          "execution_count": 4
        }
      ]
    },
    {
      "cell_type": "code",
      "metadata": {
        "id": "adopted-zambia"
      },
      "source": [
        "target = Variable(torch.randn(3, 5))"
      ],
      "id": "adopted-zambia",
      "execution_count": null,
      "outputs": []
    },
    {
      "cell_type": "code",
      "metadata": {
        "id": "interested-efficiency",
        "outputId": "d26578da-bd7e-4021-95de-bad7134ed7eb"
      },
      "source": [
        "target"
      ],
      "id": "interested-efficiency",
      "execution_count": null,
      "outputs": [
        {
          "output_type": "execute_result",
          "data": {
            "text/plain": [
              "tensor([[ 0.1866,  1.1588, -1.7590,  0.7707,  1.0213],\n",
              "        [-1.7094,  0.3668, -2.0018,  1.6499,  2.1219],\n",
              "        [ 0.1025,  0.7542,  0.6885, -0.3097, -1.1318]])"
            ]
          },
          "metadata": {
            "tags": []
          },
          "execution_count": 5
        }
      ]
    },
    {
      "cell_type": "code",
      "metadata": {
        "id": "confident-photography"
      },
      "source": [
        "output = loss(data, target)\n",
        "output.backward()"
      ],
      "id": "confident-photography",
      "execution_count": null,
      "outputs": []
    },
    {
      "cell_type": "code",
      "metadata": {
        "id": "chronic-elimination"
      },
      "source": [
        ""
      ],
      "id": "chronic-elimination",
      "execution_count": null,
      "outputs": []
    }
  ]
}