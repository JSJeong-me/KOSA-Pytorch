{
  "nbformat": 4,
  "nbformat_minor": 0,
  "metadata": {
    "colab": {
      "name": "Roboflow-Custom-YOLOv5",
      "provenance": [],
      "collapsed_sections": [],
      "include_colab_link": true
    },
    "kernelspec": {
      "name": "python3",
      "display_name": "Python 3"
    },
    "accelerator": "GPU"
  },
  "cells": [
    {
      "cell_type": "markdown",
      "metadata": {
        "id": "view-in-github",
        "colab_type": "text"
      },
      "source": [
        "<a href=\"https://colab.research.google.com/github/JSJeong-me/KOSA-Pytorch/blob/main/aquarium_10-18_YOLOv5.ipynb\" target=\"_parent\"><img src=\"https://colab.research.google.com/assets/colab-badge.svg\" alt=\"Open In Colab\"/></a>"
      ]
    },
    {
      "cell_type": "markdown",
      "metadata": {
        "id": "GD9gUQpaBxNa"
      },
      "source": [
        "# How to Train YOLOv5 on Custom Objects\n",
        "\n",
        "This tutorial is based on the [YOLOv5 repository](https://github.com/ultralytics/yolov5) by [Ultralytics](https://www.ultralytics.com/). This notebook shows training on **your own custom objects**. Many thanks to Ultralytics for putting this repository together - we hope that in combination with clean data management tools at Roboflow, this technologoy will become easily accessible to any developer wishing to use computer vision in their projects.\n",
        "\n",
        "### Accompanying Blog Post\n",
        "\n",
        "We recommend that you follow along in this notebook while reading the blog post on [how to train YOLOv5](https://blog.roboflow.ai/how-to-train-yolov5-on-a-custom-dataset/), concurrently.\n",
        "\n",
        "### Steps Covered in this Tutorial\n",
        "\n",
        "In this tutorial, we will walk through the steps required to train YOLOv5 on your custom objects. We use a [public blood cell detection dataset](https://public.roboflow.ai/object-detection/bccd), which is open source and free to use. You can also use this notebook on your own data.\n",
        "\n",
        "To train our detector we take the following steps:\n",
        "\n",
        "* Install YOLOv5 dependencies\n",
        "* Download custom YOLOv5 object detection data\n",
        "* Write our YOLOv5 Training configuration\n",
        "* Run YOLOv5 training\n",
        "* Evaluate YOLOv5 performance\n",
        "* Visualize YOLOv5 training data\n",
        "* Run YOLOv5 inference on test images\n",
        "* Export saved YOLOv5 weights for future inference\n",
        "\n",
        "\n",
        "\n",
        "### **About**\n",
        "\n",
        "[Roboflow](https://roboflow.com) enables teams to deploy custom computer vision models quickly and accurately. Convert data from to annotation format, assess dataset health, preprocess, augment, and more. It's free for your first 1000 source images.\n",
        "\n",
        "\n"
      ]
    },
    {
      "cell_type": "markdown",
      "metadata": {
        "id": "7mGmQbAO5pQb"
      },
      "source": [
        "#Install Dependencies\n",
        "\n",
        "_(Remember to choose GPU in Runtime if not already selected. Runtime --> Change Runtime Type --> Hardware accelerator --> GPU)_"
      ]
    },
    {
      "cell_type": "code",
      "metadata": {
        "id": "Ie5uLDH4uzAp",
        "outputId": "514cf30b-ca52-46b8-a336-49194e881485",
        "colab": {
          "base_uri": "https://localhost:8080/"
        }
      },
      "source": [
        "# clone YOLOv5 repository\n",
        "!git clone https://github.com/ultralytics/yolov5  # clone repo\n",
        "%cd yolov5\n",
        "!git reset --hard 886f1c03d839575afecb059accf74296fad395b6"
      ],
      "execution_count": 1,
      "outputs": [
        {
          "output_type": "stream",
          "name": "stdout",
          "text": [
            "Cloning into 'yolov5'...\n",
            "remote: Enumerating objects: 9829, done.\u001b[K\n",
            "remote: Total 9829 (delta 0), reused 0 (delta 0), pack-reused 9829\u001b[K\n",
            "Receiving objects: 100% (9829/9829), 10.06 MiB | 27.62 MiB/s, done.\n",
            "Resolving deltas: 100% (6840/6840), done.\n",
            "/content/yolov5\n",
            "HEAD is now at 886f1c0 DDP after autoanchor reorder (#2421)\n"
          ]
        }
      ]
    },
    {
      "cell_type": "code",
      "metadata": {
        "id": "wbvMlHd_QwMG",
        "outputId": "919cfc6c-b6cb-4ea6-e2dd-f96987656e79",
        "colab": {
          "base_uri": "https://localhost:8080/"
        }
      },
      "source": [
        "# install dependencies as necessary\n",
        "!pip install -qr requirements.txt  # install dependencies (ignore errors)\n",
        "import torch\n",
        "\n",
        "from IPython.display import Image, clear_output  # to display images\n",
        "from utils.google_utils import gdrive_download  # to download models/datasets\n",
        "\n",
        "# clear_output()\n",
        "print('Setup complete. Using torch %s %s' % (torch.__version__, torch.cuda.get_device_properties(0) if torch.cuda.is_available() else 'CPU'))"
      ],
      "execution_count": 2,
      "outputs": [
        {
          "output_type": "stream",
          "name": "stdout",
          "text": [
            "\u001b[?25l\r\u001b[K     |▌                               | 10 kB 28.9 MB/s eta 0:00:01\r\u001b[K     |█                               | 20 kB 25.8 MB/s eta 0:00:01\r\u001b[K     |█▋                              | 30 kB 16.4 MB/s eta 0:00:01\r\u001b[K     |██▏                             | 40 kB 16.2 MB/s eta 0:00:01\r\u001b[K     |██▊                             | 51 kB 8.6 MB/s eta 0:00:01\r\u001b[K     |███▎                            | 61 kB 8.8 MB/s eta 0:00:01\r\u001b[K     |███▉                            | 71 kB 9.3 MB/s eta 0:00:01\r\u001b[K     |████▍                           | 81 kB 10.4 MB/s eta 0:00:01\r\u001b[K     |█████                           | 92 kB 9.9 MB/s eta 0:00:01\r\u001b[K     |█████▌                          | 102 kB 8.0 MB/s eta 0:00:01\r\u001b[K     |██████                          | 112 kB 8.0 MB/s eta 0:00:01\r\u001b[K     |██████▋                         | 122 kB 8.0 MB/s eta 0:00:01\r\u001b[K     |███████▏                        | 133 kB 8.0 MB/s eta 0:00:01\r\u001b[K     |███████▊                        | 143 kB 8.0 MB/s eta 0:00:01\r\u001b[K     |████████▎                       | 153 kB 8.0 MB/s eta 0:00:01\r\u001b[K     |████████▉                       | 163 kB 8.0 MB/s eta 0:00:01\r\u001b[K     |█████████▍                      | 174 kB 8.0 MB/s eta 0:00:01\r\u001b[K     |██████████                      | 184 kB 8.0 MB/s eta 0:00:01\r\u001b[K     |██████████▍                     | 194 kB 8.0 MB/s eta 0:00:01\r\u001b[K     |███████████                     | 204 kB 8.0 MB/s eta 0:00:01\r\u001b[K     |███████████▌                    | 215 kB 8.0 MB/s eta 0:00:01\r\u001b[K     |████████████                    | 225 kB 8.0 MB/s eta 0:00:01\r\u001b[K     |████████████▋                   | 235 kB 8.0 MB/s eta 0:00:01\r\u001b[K     |█████████████▏                  | 245 kB 8.0 MB/s eta 0:00:01\r\u001b[K     |█████████████▊                  | 256 kB 8.0 MB/s eta 0:00:01\r\u001b[K     |██████████████▎                 | 266 kB 8.0 MB/s eta 0:00:01\r\u001b[K     |██████████████▉                 | 276 kB 8.0 MB/s eta 0:00:01\r\u001b[K     |███████████████▍                | 286 kB 8.0 MB/s eta 0:00:01\r\u001b[K     |████████████████                | 296 kB 8.0 MB/s eta 0:00:01\r\u001b[K     |████████████████▌               | 307 kB 8.0 MB/s eta 0:00:01\r\u001b[K     |█████████████████               | 317 kB 8.0 MB/s eta 0:00:01\r\u001b[K     |█████████████████▋              | 327 kB 8.0 MB/s eta 0:00:01\r\u001b[K     |██████████████████▏             | 337 kB 8.0 MB/s eta 0:00:01\r\u001b[K     |██████████████████▊             | 348 kB 8.0 MB/s eta 0:00:01\r\u001b[K     |███████████████████▎            | 358 kB 8.0 MB/s eta 0:00:01\r\u001b[K     |███████████████████▉            | 368 kB 8.0 MB/s eta 0:00:01\r\u001b[K     |████████████████████▍           | 378 kB 8.0 MB/s eta 0:00:01\r\u001b[K     |████████████████████▉           | 389 kB 8.0 MB/s eta 0:00:01\r\u001b[K     |█████████████████████▍          | 399 kB 8.0 MB/s eta 0:00:01\r\u001b[K     |██████████████████████          | 409 kB 8.0 MB/s eta 0:00:01\r\u001b[K     |██████████████████████▌         | 419 kB 8.0 MB/s eta 0:00:01\r\u001b[K     |███████████████████████         | 430 kB 8.0 MB/s eta 0:00:01\r\u001b[K     |███████████████████████▋        | 440 kB 8.0 MB/s eta 0:00:01\r\u001b[K     |████████████████████████▏       | 450 kB 8.0 MB/s eta 0:00:01\r\u001b[K     |████████████████████████▊       | 460 kB 8.0 MB/s eta 0:00:01\r\u001b[K     |█████████████████████████▎      | 471 kB 8.0 MB/s eta 0:00:01\r\u001b[K     |█████████████████████████▉      | 481 kB 8.0 MB/s eta 0:00:01\r\u001b[K     |██████████████████████████▍     | 491 kB 8.0 MB/s eta 0:00:01\r\u001b[K     |███████████████████████████     | 501 kB 8.0 MB/s eta 0:00:01\r\u001b[K     |███████████████████████████▌    | 512 kB 8.0 MB/s eta 0:00:01\r\u001b[K     |████████████████████████████    | 522 kB 8.0 MB/s eta 0:00:01\r\u001b[K     |████████████████████████████▋   | 532 kB 8.0 MB/s eta 0:00:01\r\u001b[K     |█████████████████████████████▏  | 542 kB 8.0 MB/s eta 0:00:01\r\u001b[K     |█████████████████████████████▊  | 552 kB 8.0 MB/s eta 0:00:01\r\u001b[K     |██████████████████████████████▎ | 563 kB 8.0 MB/s eta 0:00:01\r\u001b[K     |██████████████████████████████▊ | 573 kB 8.0 MB/s eta 0:00:01\r\u001b[K     |███████████████████████████████▎| 583 kB 8.0 MB/s eta 0:00:01\r\u001b[K     |███████████████████████████████▉| 593 kB 8.0 MB/s eta 0:00:01\r\u001b[K     |████████████████████████████████| 596 kB 8.0 MB/s \n",
            "\u001b[?25hSetup complete. Using torch 1.9.0+cu111 _CudaDeviceProperties(name='Tesla P100-PCIE-16GB', major=6, minor=0, total_memory=16280MB, multi_processor_count=56)\n"
          ]
        }
      ]
    },
    {
      "cell_type": "code",
      "metadata": {
        "id": "SB7weNlrQpl3",
        "outputId": "eadefe64-965b-41d6-ad2c-1f6ed3b58820",
        "colab": {
          "base_uri": "https://localhost:8080/"
        }
      },
      "source": [
        "from google.colab import drive\n",
        "drive.mount('/content/drive')"
      ],
      "execution_count": 3,
      "outputs": [
        {
          "output_type": "stream",
          "name": "stdout",
          "text": [
            "Mounted at /content/drive\n"
          ]
        }
      ]
    },
    {
      "cell_type": "code",
      "metadata": {
        "id": "qMjlmAXlQxvp"
      },
      "source": [
        "!cp /content/drive/MyDrive/kosa-2021/Aquarium\\ Combined.v1i.yolov5pytorch.zip ."
      ],
      "execution_count": 4,
      "outputs": []
    },
    {
      "cell_type": "code",
      "metadata": {
        "id": "l9JqhO0kFWNR",
        "outputId": "51b5399d-96d4-407c-b9e1-b897c3e80eb1",
        "colab": {
          "base_uri": "https://localhost:8080/"
        }
      },
      "source": [
        "!pwd"
      ],
      "execution_count": 5,
      "outputs": [
        {
          "output_type": "stream",
          "name": "stdout",
          "text": [
            "/content/yolov5\n"
          ]
        }
      ]
    },
    {
      "cell_type": "code",
      "metadata": {
        "id": "alzAe9JcFPzv"
      },
      "source": [
        "torch.__version__"
      ],
      "execution_count": null,
      "outputs": []
    },
    {
      "cell_type": "markdown",
      "metadata": {
        "id": "SDIhrBF0sPaM"
      },
      "source": [
        "# Download Correctly Formatted Custom Dataset \n",
        "\n",
        "We'll download our dataset from Roboflow. Use the \"**YOLOv5 PyTorch**\" export format. Note that the Ultralytics implementation calls for a YAML file defining where your training and test data is. The Roboflow export also writes this format for us.\n",
        "\n",
        "To get your data into Roboflow, follow the [Getting Started Guide](https://blog.roboflow.ai/getting-started-with-roboflow/)."
      ]
    },
    {
      "cell_type": "markdown",
      "metadata": {
        "id": "vDeebwqS9JbZ"
      },
      "source": [
        "\n",
        "\n"
      ]
    },
    {
      "cell_type": "markdown",
      "metadata": {
        "id": "qC5AdhpziDYb"
      },
      "source": [
        "### https://github.com/datitran/raccoon_dataset"
      ]
    },
    {
      "cell_type": "code",
      "metadata": {
        "id": "59Cr-WKJ5w8a"
      },
      "source": [
        "!ls -l"
      ],
      "execution_count": null,
      "outputs": []
    },
    {
      "cell_type": "code",
      "metadata": {
        "id": "r0_DL4R8FxJ9",
        "outputId": "2a82b447-375f-4196-f7a4-ad3626239bfc",
        "colab": {
          "base_uri": "https://localhost:8080/"
        }
      },
      "source": [
        "%cd .."
      ],
      "execution_count": 6,
      "outputs": [
        {
          "output_type": "stream",
          "name": "stdout",
          "text": [
            "/content\n"
          ]
        }
      ]
    },
    {
      "cell_type": "code",
      "metadata": {
        "id": "dXkRKGVq9jVk"
      },
      "source": [
        "!unzip ./Aquarium\\ Combined.v1i.yolov5pytorch.zip"
      ],
      "execution_count": null,
      "outputs": []
    },
    {
      "cell_type": "code",
      "metadata": {
        "id": "ZZ3DmmGQztJj",
        "outputId": "a0cf8a96-9ea4-4078-cee1-50dd82a6184c",
        "colab": {
          "base_uri": "https://localhost:8080/"
        }
      },
      "source": [
        "# this is the YAML file Roboflow wrote for us that we're loading into this notebook with our data\n",
        "%cat data.yaml"
      ],
      "execution_count": 8,
      "outputs": [
        {
          "output_type": "stream",
          "name": "stdout",
          "text": [
            "train: ../train/images\n",
            "val: ../valid/images\n",
            "\n",
            "nc: 7\n",
            "names: ['fish', 'jellyfish', 'penguin', 'puffin', 'shark', 'starfish', 'stingray']"
          ]
        }
      ]
    },
    {
      "cell_type": "markdown",
      "metadata": {
        "id": "UwJx-2NHsYxT"
      },
      "source": [
        "# Define Model Configuration and Architecture\n",
        "\n",
        "We will write a yaml script that defines the parameters for our model like the number of classes, anchors, and each layer.\n",
        "\n",
        "You do not need to edit these cells, but you may."
      ]
    },
    {
      "cell_type": "code",
      "metadata": {
        "id": "nW29H7LE6cP7"
      },
      "source": [
        "!cd .."
      ],
      "execution_count": 9,
      "outputs": []
    },
    {
      "cell_type": "code",
      "metadata": {
        "id": "dOPn9wjOAwwK"
      },
      "source": [
        "# define number of classes based on YAML\n",
        "import yaml\n",
        "with open(\"data.yaml\", 'r') as stream:\n",
        "    num_classes = str(yaml.safe_load(stream)['nc'])"
      ],
      "execution_count": 10,
      "outputs": []
    },
    {
      "cell_type": "code",
      "metadata": {
        "id": "1Rvt5wilnDyX"
      },
      "source": [
        "#this is the model configuration we will use for our tutorial \n",
        "%cat /content/yolov5/models/yolov5s.yaml"
      ],
      "execution_count": null,
      "outputs": []
    },
    {
      "cell_type": "code",
      "metadata": {
        "id": "t14hhyqdmw6O"
      },
      "source": [
        "#customize iPython writefile so we can write variables\n",
        "from IPython.core.magic import register_line_cell_magic\n",
        "\n",
        "@register_line_cell_magic\n",
        "def writetemplate(line, cell):\n",
        "    with open(line, 'w') as f:\n",
        "        f.write(cell.format(**globals()))"
      ],
      "execution_count": 12,
      "outputs": []
    },
    {
      "cell_type": "code",
      "metadata": {
        "id": "KOZtaOBGGeEl",
        "outputId": "37dfb67f-2a0f-4509-c7f9-b93b9cd11b73",
        "colab": {
          "base_uri": "https://localhost:8080/",
          "height": 35
        }
      },
      "source": [
        "num_classes"
      ],
      "execution_count": 13,
      "outputs": [
        {
          "output_type": "execute_result",
          "data": {
            "application/vnd.google.colaboratory.intrinsic+json": {
              "type": "string"
            },
            "text/plain": [
              "'7'"
            ]
          },
          "metadata": {},
          "execution_count": 13
        }
      ]
    },
    {
      "cell_type": "code",
      "metadata": {
        "id": "uDxebz13RdRA"
      },
      "source": [
        "%%writetemplate /content/yolov5/models/custom_yolov5s.yaml\n",
        "\n",
        "# parameters\n",
        "nc: {num_classes}  # number of classes\n",
        "depth_multiple: 0.33  # model depth multiple\n",
        "width_multiple: 0.50  # layer channel multiple\n",
        "\n",
        "# anchors\n",
        "anchors:\n",
        "  - [10,13, 16,30, 33,23]  # P3/8\n",
        "  - [30,61, 62,45, 59,119]  # P4/16\n",
        "  - [116,90, 156,198, 373,326]  # P5/32\n",
        "\n",
        "# YOLOv5 backbone\n",
        "backbone:\n",
        "  # [from, number, module, args]\n",
        "  [[-1, 1, Focus, [64, 3]],  # 0-P1/2\n",
        "   [-1, 1, Conv, [128, 3, 2]],  # 1-P2/4\n",
        "   [-1, 3, BottleneckCSP, [128]],\n",
        "   [-1, 1, Conv, [256, 3, 2]],  # 3-P3/8\n",
        "   [-1, 9, BottleneckCSP, [256]],\n",
        "   [-1, 1, Conv, [512, 3, 2]],  # 5-P4/16\n",
        "   [-1, 9, BottleneckCSP, [512]],\n",
        "   [-1, 1, Conv, [1024, 3, 2]],  # 7-P5/32\n",
        "   [-1, 1, SPP, [1024, [5, 9, 13]]],\n",
        "   [-1, 3, BottleneckCSP, [1024, False]],  # 9\n",
        "  ]\n",
        "\n",
        "# YOLOv5 head\n",
        "head:\n",
        "  [[-1, 1, Conv, [512, 1, 1]],\n",
        "   [-1, 1, nn.Upsample, [None, 2, 'nearest']],\n",
        "   [[-1, 6], 1, Concat, [1]],  # cat backbone P4\n",
        "   [-1, 3, BottleneckCSP, [512, False]],  # 13\n",
        "\n",
        "   [-1, 1, Conv, [256, 1, 1]],\n",
        "   [-1, 1, nn.Upsample, [None, 2, 'nearest']],\n",
        "   [[-1, 4], 1, Concat, [1]],  # cat backbone P3\n",
        "   [-1, 3, BottleneckCSP, [256, False]],  # 17 (P3/8-small)\n",
        "\n",
        "   [-1, 1, Conv, [256, 3, 2]],\n",
        "   [[-1, 14], 1, Concat, [1]],  # cat head P4\n",
        "   [-1, 3, BottleneckCSP, [512, False]],  # 20 (P4/16-medium)\n",
        "\n",
        "   [-1, 1, Conv, [512, 3, 2]],\n",
        "   [[-1, 10], 1, Concat, [1]],  # cat head P5\n",
        "   [-1, 3, BottleneckCSP, [1024, False]],  # 23 (P5/32-large)\n",
        "\n",
        "   [[17, 20, 23], 1, Detect, [nc, anchors]],  # Detect(P3, P4, P5)\n",
        "  ]"
      ],
      "execution_count": 14,
      "outputs": []
    },
    {
      "cell_type": "markdown",
      "metadata": {
        "id": "VUOiNLtMP5aG"
      },
      "source": [
        "# Train Custom YOLOv5 Detector\n",
        "\n",
        "### Next, we'll fire off training!\n",
        "\n",
        "\n",
        "Here, we are able to pass a number of arguments:\n",
        "- **img:** define input image size\n",
        "- **batch:** determine batch size\n",
        "- **epochs:** define the number of training epochs. (Note: often, 3000+ are common here!)\n",
        "- **data:** set the path to our yaml file\n",
        "- **cfg:** specify our model configuration\n",
        "- **weights:** specify a custom path to weights. (Note: you can download weights from the Ultralytics Google Drive [folder](https://drive.google.com/open?id=1Drs_Aiu7xx6S-ix95f9kNsA6ueKRpN2J))\n",
        "- **name:** result names\n",
        "- **nosave:** only save the final checkpoint\n",
        "- **cache:** cache images for faster training"
      ]
    },
    {
      "cell_type": "code",
      "metadata": {
        "id": "1NcFxRcFdJ_O",
        "outputId": "010ecc16-cacd-4e5b-bb03-0a45052bd3ac",
        "colab": {
          "base_uri": "https://localhost:8080/"
        }
      },
      "source": [
        "# train yolov5s on custom data for 100 epochs\n",
        "# time its performance\n",
        "%%time\n",
        "%cd /content/yolov5/\n",
        "!python train.py --img 416 --batch 16 --epochs 200 --data '../data.yaml' --cfg ./models/custom_yolov5s.yaml --weights '' --name yolov5s_results  --cache"
      ],
      "execution_count": 15,
      "outputs": [
        {
          "output_type": "stream",
          "name": "stdout",
          "text": [
            "/content/yolov5\n",
            "\u001b[34m\u001b[1mgithub: \u001b[0m⚠️ WARNING: code is out of date by 598 commits. Use 'git pull' to update or 'git clone https://github.com/ultralytics/yolov5' to download latest.\n",
            "YOLOv5 v4.0-126-g886f1c0 torch 1.9.0+cu111 CUDA:0 (Tesla P100-PCIE-16GB, 16280.875MB)\n",
            "\n",
            "Namespace(adam=False, batch_size=16, bucket='', cache_images=True, cfg='./models/custom_yolov5s.yaml', data='../data.yaml', device='', entity=None, epochs=200, evolve=False, exist_ok=False, global_rank=-1, hyp='data/hyp.scratch.yaml', image_weights=False, img_size=[416, 416], linear_lr=False, local_rank=-1, log_artifacts=False, log_imgs=16, multi_scale=False, name='yolov5s_results', noautoanchor=False, nosave=False, notest=False, project='runs/train', quad=False, rect=False, resume=False, save_dir='runs/train/yolov5s_results', single_cls=False, sync_bn=False, total_batch_size=16, weights='', workers=8, world_size=1)\n",
            "\u001b[34m\u001b[1mwandb: \u001b[0mInstall Weights & Biases for YOLOv5 logging with 'pip install wandb' (recommended)\n",
            "Start Tensorboard with \"tensorboard --logdir runs/train\", view at http://localhost:6006/\n",
            "\u001b[34m\u001b[1mhyperparameters: \u001b[0mlr0=0.01, lrf=0.2, momentum=0.937, weight_decay=0.0005, warmup_epochs=3.0, warmup_momentum=0.8, warmup_bias_lr=0.1, box=0.05, cls=0.5, cls_pw=1.0, obj=1.0, obj_pw=1.0, iou_t=0.2, anchor_t=4.0, fl_gamma=0.0, hsv_h=0.015, hsv_s=0.7, hsv_v=0.4, degrees=0.0, translate=0.1, scale=0.5, shear=0.0, perspective=0.0, flipud=0.0, fliplr=0.5, mosaic=1.0, mixup=0.0\n",
            "\n",
            "                 from  n    params  module                                  arguments                     \n",
            "  0                -1  1      3520  models.common.Focus                     [3, 32, 3]                    \n",
            "  1                -1  1     18560  models.common.Conv                      [32, 64, 3, 2]                \n",
            "  2                -1  1     19904  models.common.BottleneckCSP             [64, 64, 1]                   \n",
            "  3                -1  1     73984  models.common.Conv                      [64, 128, 3, 2]               \n",
            "  4                -1  1    161152  models.common.BottleneckCSP             [128, 128, 3]                 \n",
            "  5                -1  1    295424  models.common.Conv                      [128, 256, 3, 2]              \n",
            "  6                -1  1    641792  models.common.BottleneckCSP             [256, 256, 3]                 \n",
            "  7                -1  1   1180672  models.common.Conv                      [256, 512, 3, 2]              \n",
            "  8                -1  1    656896  models.common.SPP                       [512, 512, [5, 9, 13]]        \n",
            "  9                -1  1   1248768  models.common.BottleneckCSP             [512, 512, 1, False]          \n",
            " 10                -1  1    131584  models.common.Conv                      [512, 256, 1, 1]              \n",
            " 11                -1  1         0  torch.nn.modules.upsampling.Upsample    [None, 2, 'nearest']          \n",
            " 12           [-1, 6]  1         0  models.common.Concat                    [1]                           \n",
            " 13                -1  1    378624  models.common.BottleneckCSP             [512, 256, 1, False]          \n",
            " 14                -1  1     33024  models.common.Conv                      [256, 128, 1, 1]              \n",
            " 15                -1  1         0  torch.nn.modules.upsampling.Upsample    [None, 2, 'nearest']          \n",
            " 16           [-1, 4]  1         0  models.common.Concat                    [1]                           \n",
            " 17                -1  1     95104  models.common.BottleneckCSP             [256, 128, 1, False]          \n",
            " 18                -1  1    147712  models.common.Conv                      [128, 128, 3, 2]              \n",
            " 19          [-1, 14]  1         0  models.common.Concat                    [1]                           \n",
            " 20                -1  1    313088  models.common.BottleneckCSP             [256, 256, 1, False]          \n",
            " 21                -1  1    590336  models.common.Conv                      [256, 256, 3, 2]              \n",
            " 22          [-1, 10]  1         0  models.common.Concat                    [1]                           \n",
            " 23                -1  1   1248768  models.common.BottleneckCSP             [512, 512, 1, False]          \n",
            " 24      [17, 20, 23]  1     32364  models.yolo.Detect                      [7, [[10, 13, 16, 30, 33, 23], [30, 61, 62, 45, 59, 119], [116, 90, 156, 198, 373, 326]], [128, 256, 512]]\n",
            "/usr/local/lib/python3.7/dist-packages/torch/nn/functional.py:718: UserWarning: Named tensors and all their associated APIs are an experimental feature and subject to change. Please do not use them for anything important until they are released as stable. (Triggered internally at  /pytorch/c10/core/TensorImpl.h:1156.)\n",
            "  return torch.max_pool2d(input, kernel_size, stride, padding, dilation, ceil_mode)\n",
            "Model Summary: 283 layers, 7271276 parameters, 7271276 gradients, 16.9 GFLOPS\n",
            "\n",
            "Scaled weight_decay = 0.0005\n",
            "Optimizer groups: 62 .bias, 70 conv.weight, 59 other\n",
            "\u001b[34m\u001b[1mtrain: \u001b[0mScanning '../train/labels' for images and labels... 1344 found, 0 missing, 3 empty, 0 corrupted: 100% 1344/1344 [00:00<00:00, 2297.11it/s]\n",
            "\u001b[34m\u001b[1mtrain: \u001b[0mNew cache created: ../train/labels.cache\n",
            "\u001b[34m\u001b[1mtrain: \u001b[0mCaching images (0.7GB): 100% 1344/1344 [00:08<00:00, 161.76it/s]\n",
            "\u001b[34m\u001b[1mval: \u001b[0mScanning '../valid/labels' for images and labels... 127 found, 0 missing, 0 empty, 0 corrupted: 100% 127/127 [00:00<00:00, 1369.66it/s]\n",
            "\u001b[34m\u001b[1mval: \u001b[0mNew cache created: ../valid/labels.cache\n",
            "\u001b[34m\u001b[1mval: \u001b[0mCaching images (0.1GB): 100% 127/127 [00:01<00:00, 91.83it/s] \n",
            "[W pthreadpool-cpp.cc:90] Warning: Leaking Caffe2 thread-pool after fork. (function pthreadpool)\n",
            "[W pthreadpool-cpp.cc:90] Warning: Leaking Caffe2 thread-pool after fork. (function pthreadpool)\n",
            "Plotting labels... \n",
            "\n",
            "\u001b[34m\u001b[1mautoanchor: \u001b[0mAnalyzing anchors... anchors/target = 5.35, Best Possible Recall (BPR) = 0.9967\n",
            "Image sizes 416 train, 416 test\n",
            "Using 2 dataloader workers\n",
            "Logging results to runs/train/yolov5s_results\n",
            "Starting training for 200 epochs...\n",
            "\n",
            "     Epoch   gpu_mem       box       obj       cls     total   targets  img_size\n",
            "     0/199     1.82G    0.1036   0.06755   0.05414    0.2253       250       416: 100% 84/84 [00:17<00:00,  4.84it/s]\n",
            "               Class      Images     Targets           P           R      mAP@.5  mAP@.5:.95: 100% 4/4 [00:01<00:00,  2.16it/s]\n",
            "                 all         127         909    0.000258      0.0159    5.14e-05    8.73e-06\n",
            "\n",
            "     Epoch   gpu_mem       box       obj       cls     total   targets  img_size\n",
            "     1/199      1.8G   0.09877   0.07192   0.04917    0.2199       280       416: 100% 84/84 [00:16<00:00,  5.24it/s]\n",
            "               Class      Images     Targets           P           R      mAP@.5  mAP@.5:.95: 100% 4/4 [00:01<00:00,  3.54it/s]\n",
            "                 all         127         909       0.429     0.00124    8.07e-05    1.56e-05\n",
            "\n",
            "     Epoch   gpu_mem       box       obj       cls     total   targets  img_size\n",
            "     2/199      1.8G   0.09724   0.07064   0.04638    0.2143       263       416: 100% 84/84 [00:14<00:00,  5.67it/s]\n",
            "               Class      Images     Targets           P           R      mAP@.5  mAP@.5:.95: 100% 4/4 [00:02<00:00,  1.95it/s]\n",
            "                 all         127         909       0.715     0.00622    3.88e-05    6.24e-06\n",
            "\n",
            "     Epoch   gpu_mem       box       obj       cls     total   targets  img_size\n",
            "     3/199      1.8G   0.09643   0.07393   0.04449    0.2149       253       416: 100% 84/84 [00:14<00:00,  5.73it/s]\n",
            "               Class      Images     Targets           P           R      mAP@.5  mAP@.5:.95: 100% 4/4 [00:02<00:00,  1.56it/s]\n",
            "                 all         127         909       0.143     0.00467    6.67e-05     8.6e-06\n",
            "\n",
            "     Epoch   gpu_mem       box       obj       cls     total   targets  img_size\n",
            "     4/199      1.8G    0.0963   0.07226   0.04384    0.2124       223       416: 100% 84/84 [00:14<00:00,  5.72it/s]\n",
            "               Class      Images     Targets           P           R      mAP@.5  mAP@.5:.95: 100% 4/4 [00:02<00:00,  1.74it/s]\n",
            "                 all         127         909     0.00179    0.000934    0.000402    4.15e-05\n",
            "\n",
            "     Epoch   gpu_mem       box       obj       cls     total   targets  img_size\n",
            "     5/199      1.8G   0.09574   0.07022   0.04329    0.2093       206       416: 100% 84/84 [00:14<00:00,  5.71it/s]\n",
            "               Class      Images     Targets           P           R      mAP@.5  mAP@.5:.95: 100% 4/4 [00:02<00:00,  1.46it/s]\n",
            "                 all         127         909       0.286     0.00622    7.89e-05    1.04e-05\n",
            "\n",
            "     Epoch   gpu_mem       box       obj       cls     total   targets  img_size\n",
            "     6/199      1.8G   0.09485   0.07089   0.04332    0.2091       290       416: 100% 84/84 [00:14<00:00,  5.92it/s]\n",
            "               Class      Images     Targets           P           R      mAP@.5  mAP@.5:.95: 100% 4/4 [00:02<00:00,  1.71it/s]\n",
            "                 all         127         909       0.574     0.00342    0.000419    0.000142\n",
            "\n",
            "     Epoch   gpu_mem       box       obj       cls     total   targets  img_size\n",
            "     7/199      1.8G   0.09292   0.07137   0.04148    0.2058       246       416: 100% 84/84 [00:14<00:00,  5.85it/s]\n",
            "               Class      Images     Targets           P           R      mAP@.5  mAP@.5:.95: 100% 4/4 [00:02<00:00,  1.59it/s]\n",
            "                 all         127         909       0.863     0.00249     0.00103     0.00016\n",
            "\n",
            "     Epoch   gpu_mem       box       obj       cls     total   targets  img_size\n",
            "     8/199      1.8G   0.09072   0.06844   0.04252    0.2017       201       416: 100% 84/84 [00:14<00:00,  5.92it/s]\n",
            "               Class      Images     Targets           P           R      mAP@.5  mAP@.5:.95: 100% 4/4 [00:02<00:00,  1.84it/s]\n",
            "                 all         127         909      0.0254      0.0626     0.00154    0.000267\n",
            "\n",
            "     Epoch   gpu_mem       box       obj       cls     total   targets  img_size\n",
            "     9/199      1.8G    0.0892   0.07193   0.04063    0.2018       244       416: 100% 84/84 [00:14<00:00,  5.85it/s]\n",
            "               Class      Images     Targets           P           R      mAP@.5  mAP@.5:.95: 100% 4/4 [00:02<00:00,  1.89it/s]\n",
            "                 all         127         909        0.59      0.0427     0.00316    0.000491\n",
            "\n",
            "     Epoch   gpu_mem       box       obj       cls     total   targets  img_size\n",
            "    10/199      1.8G   0.08756   0.07173    0.0409    0.2002       232       416: 100% 84/84 [00:14<00:00,  5.98it/s]\n",
            "               Class      Images     Targets           P           R      mAP@.5  mAP@.5:.95: 100% 4/4 [00:02<00:00,  1.48it/s]\n",
            "                 all         127         909        0.59      0.0441     0.00283    0.000425\n",
            "\n",
            "     Epoch   gpu_mem       box       obj       cls     total   targets  img_size\n",
            "    11/199      1.8G    0.0857   0.07106   0.04036    0.1971       189       416: 100% 84/84 [00:13<00:00,  6.04it/s]\n",
            "               Class      Images     Targets           P           R      mAP@.5  mAP@.5:.95: 100% 4/4 [00:03<00:00,  1.29it/s]\n",
            "                 all         127         909       0.608        0.05      0.0145     0.00309\n",
            "\n",
            "     Epoch   gpu_mem       box       obj       cls     total   targets  img_size\n",
            "    12/199      1.8G   0.08402   0.06995   0.03836    0.1923       262       416: 100% 84/84 [00:13<00:00,  6.05it/s]\n",
            "               Class      Images     Targets           P           R      mAP@.5  mAP@.5:.95: 100% 4/4 [00:02<00:00,  1.64it/s]\n",
            "                 all         127         909       0.459      0.0463      0.0141     0.00211\n",
            "\n",
            "     Epoch   gpu_mem       box       obj       cls     total   targets  img_size\n",
            "    13/199      1.8G   0.08254   0.07091   0.03657      0.19       219       416: 100% 84/84 [00:13<00:00,  6.02it/s]\n",
            "               Class      Images     Targets           P           R      mAP@.5  mAP@.5:.95: 100% 4/4 [00:02<00:00,  1.36it/s]\n",
            "                 all         127         909       0.328       0.121      0.0245     0.00402\n",
            "\n",
            "     Epoch   gpu_mem       box       obj       cls     total   targets  img_size\n",
            "    14/199      1.8G    0.0816   0.06884   0.03547    0.1859       198       416: 100% 84/84 [00:13<00:00,  6.02it/s]\n",
            "               Class      Images     Targets           P           R      mAP@.5  mAP@.5:.95: 100% 4/4 [00:01<00:00,  2.09it/s]\n",
            "                 all         127         909      0.0334       0.189       0.019     0.00343\n",
            "\n",
            "     Epoch   gpu_mem       box       obj       cls     total   targets  img_size\n",
            "    15/199      1.8G   0.08093   0.07013   0.03484    0.1859       259       416: 100% 84/84 [00:13<00:00,  6.02it/s]\n",
            "               Class      Images     Targets           P           R      mAP@.5  mAP@.5:.95: 100% 4/4 [00:01<00:00,  2.12it/s]\n",
            "                 all         127         909       0.206      0.0954      0.0245     0.00479\n",
            "\n",
            "     Epoch   gpu_mem       box       obj       cls     total   targets  img_size\n",
            "    16/199      1.8G   0.07948   0.06995   0.03322    0.1826       341       416: 100% 84/84 [00:14<00:00,  5.99it/s]\n",
            "               Class      Images     Targets           P           R      mAP@.5  mAP@.5:.95: 100% 4/4 [00:01<00:00,  2.49it/s]\n",
            "                 all         127         909       0.203       0.164      0.0502       0.011\n",
            "\n",
            "     Epoch   gpu_mem       box       obj       cls     total   targets  img_size\n",
            "    17/199      1.8G   0.07837   0.07067   0.03228    0.1813       317       416: 100% 84/84 [00:14<00:00,  5.95it/s]\n",
            "               Class      Images     Targets           P           R      mAP@.5  mAP@.5:.95: 100% 4/4 [00:01<00:00,  2.14it/s]\n",
            "                 all         127         909       0.326       0.151      0.0443     0.00763\n",
            "\n",
            "     Epoch   gpu_mem       box       obj       cls     total   targets  img_size\n",
            "    18/199      1.8G   0.07786   0.07078   0.03063    0.1793       172       416: 100% 84/84 [00:13<00:00,  6.05it/s]\n",
            "               Class      Images     Targets           P           R      mAP@.5  mAP@.5:.95: 100% 4/4 [00:01<00:00,  2.44it/s]\n",
            "                 all         127         909       0.114       0.174      0.0476     0.00856\n",
            "\n",
            "     Epoch   gpu_mem       box       obj       cls     total   targets  img_size\n",
            "    19/199      1.8G   0.07632   0.06902   0.03063     0.176       199       416: 100% 84/84 [00:13<00:00,  6.00it/s]\n",
            "               Class      Images     Targets           P           R      mAP@.5  mAP@.5:.95: 100% 4/4 [00:01<00:00,  2.32it/s]\n",
            "                 all         127         909       0.163       0.153        0.07      0.0135\n",
            "\n",
            "     Epoch   gpu_mem       box       obj       cls     total   targets  img_size\n",
            "    20/199      1.8G   0.07662   0.06876   0.02878    0.1742       277       416: 100% 84/84 [00:13<00:00,  6.05it/s]\n",
            "               Class      Images     Targets           P           R      mAP@.5  mAP@.5:.95: 100% 4/4 [00:01<00:00,  2.23it/s]\n",
            "                 all         127         909       0.165       0.223       0.108      0.0294\n",
            "\n",
            "     Epoch   gpu_mem       box       obj       cls     total   targets  img_size\n",
            "    21/199      1.8G   0.07611   0.06708   0.02871    0.1719       175       416: 100% 84/84 [00:13<00:00,  6.01it/s]\n",
            "               Class      Images     Targets           P           R      mAP@.5  mAP@.5:.95: 100% 4/4 [00:01<00:00,  3.03it/s]\n",
            "                 all         127         909       0.113       0.133      0.0576      0.0128\n",
            "\n",
            "     Epoch   gpu_mem       box       obj       cls     total   targets  img_size\n",
            "    22/199      1.8G   0.07561   0.06709   0.02719    0.1699       296       416: 100% 84/84 [00:13<00:00,  6.07it/s]\n",
            "               Class      Images     Targets           P           R      mAP@.5  mAP@.5:.95: 100% 4/4 [00:01<00:00,  2.80it/s]\n",
            "                 all         127         909       0.201       0.223      0.0998      0.0233\n",
            "\n",
            "     Epoch   gpu_mem       box       obj       cls     total   targets  img_size\n",
            "    23/199      1.8G   0.07513   0.06927   0.02595    0.1704       241       416: 100% 84/84 [00:13<00:00,  6.01it/s]\n",
            "               Class      Images     Targets           P           R      mAP@.5  mAP@.5:.95: 100% 4/4 [00:01<00:00,  2.68it/s]\n",
            "                 all         127         909       0.187       0.126      0.0925       0.023\n",
            "\n",
            "     Epoch   gpu_mem       box       obj       cls     total   targets  img_size\n",
            "    24/199      1.8G   0.07539   0.06913   0.02565    0.1702       341       416: 100% 84/84 [00:13<00:00,  6.03it/s]\n",
            "               Class      Images     Targets           P           R      mAP@.5  mAP@.5:.95: 100% 4/4 [00:01<00:00,  2.78it/s]\n",
            "                 all         127         909       0.124       0.182      0.0652      0.0138\n",
            "\n",
            "     Epoch   gpu_mem       box       obj       cls     total   targets  img_size\n",
            "    25/199      1.8G   0.07551   0.06904   0.02419    0.1687       216       416: 100% 84/84 [00:14<00:00,  5.99it/s]\n",
            "               Class      Images     Targets           P           R      mAP@.5  mAP@.5:.95: 100% 4/4 [00:01<00:00,  2.93it/s]\n",
            "                 all         127         909       0.209       0.198       0.118      0.0288\n",
            "\n",
            "     Epoch   gpu_mem       box       obj       cls     total   targets  img_size\n",
            "    26/199      1.8G   0.07393   0.06457    0.0243    0.1628       241       416: 100% 84/84 [00:13<00:00,  6.01it/s]\n",
            "               Class      Images     Targets           P           R      mAP@.5  mAP@.5:.95: 100% 4/4 [00:01<00:00,  2.84it/s]\n",
            "                 all         127         909       0.416       0.132        0.11      0.0251\n",
            "\n",
            "     Epoch   gpu_mem       box       obj       cls     total   targets  img_size\n",
            "    27/199      1.8G   0.07381   0.06816   0.02342    0.1654       206       416: 100% 84/84 [00:13<00:00,  6.04it/s]\n",
            "               Class      Images     Targets           P           R      mAP@.5  mAP@.5:.95: 100% 4/4 [00:01<00:00,  2.56it/s]\n",
            "                 all         127         909        0.21       0.231        0.16       0.041\n",
            "\n",
            "     Epoch   gpu_mem       box       obj       cls     total   targets  img_size\n",
            "    28/199      1.8G   0.07356   0.06897   0.02186    0.1644       252       416: 100% 84/84 [00:13<00:00,  6.02it/s]\n",
            "               Class      Images     Targets           P           R      mAP@.5  mAP@.5:.95: 100% 4/4 [00:01<00:00,  2.95it/s]\n",
            "                 all         127         909       0.172       0.189       0.113      0.0259\n",
            "\n",
            "     Epoch   gpu_mem       box       obj       cls     total   targets  img_size\n",
            "    29/199      1.8G   0.07196   0.06771   0.02149    0.1612       252       416: 100% 84/84 [00:13<00:00,  6.02it/s]\n",
            "               Class      Images     Targets           P           R      mAP@.5  mAP@.5:.95: 100% 4/4 [00:01<00:00,  2.95it/s]\n",
            "                 all         127         909       0.312       0.233       0.178      0.0401\n",
            "\n",
            "     Epoch   gpu_mem       box       obj       cls     total   targets  img_size\n",
            "    30/199      1.8G   0.07258   0.06881   0.02125    0.1626       323       416: 100% 84/84 [00:13<00:00,  6.04it/s]\n",
            "               Class      Images     Targets           P           R      mAP@.5  mAP@.5:.95: 100% 4/4 [00:01<00:00,  2.92it/s]\n",
            "                 all         127         909       0.222       0.208        0.14      0.0303\n",
            "\n",
            "     Epoch   gpu_mem       box       obj       cls     total   targets  img_size\n",
            "    31/199      1.8G   0.07221   0.06864   0.02101    0.1619       210       416: 100% 84/84 [00:14<00:00,  5.99it/s]\n",
            "               Class      Images     Targets           P           R      mAP@.5  mAP@.5:.95: 100% 4/4 [00:01<00:00,  2.86it/s]\n",
            "                 all         127         909       0.469       0.189       0.196      0.0466\n",
            "\n",
            "     Epoch   gpu_mem       box       obj       cls     total   targets  img_size\n",
            "    32/199      1.8G   0.07133   0.06812   0.02018    0.1596       285       416: 100% 84/84 [00:13<00:00,  6.01it/s]\n",
            "               Class      Images     Targets           P           R      mAP@.5  mAP@.5:.95: 100% 4/4 [00:01<00:00,  3.03it/s]\n",
            "                 all         127         909       0.216        0.37       0.207      0.0525\n",
            "\n",
            "     Epoch   gpu_mem       box       obj       cls     total   targets  img_size\n",
            "    33/199      1.8G   0.07138   0.06745   0.01952    0.1583       255       416: 100% 84/84 [00:13<00:00,  6.02it/s]\n",
            "               Class      Images     Targets           P           R      mAP@.5  mAP@.5:.95: 100% 4/4 [00:01<00:00,  2.89it/s]\n",
            "                 all         127         909       0.261       0.286       0.202      0.0527\n",
            "\n",
            "     Epoch   gpu_mem       box       obj       cls     total   targets  img_size\n",
            "    34/199      1.8G   0.07129   0.06526   0.01927    0.1558       213       416: 100% 84/84 [00:13<00:00,  6.03it/s]\n",
            "               Class      Images     Targets           P           R      mAP@.5  mAP@.5:.95: 100% 4/4 [00:01<00:00,  3.11it/s]\n",
            "                 all         127         909       0.376       0.244       0.223      0.0598\n",
            "\n",
            "     Epoch   gpu_mem       box       obj       cls     total   targets  img_size\n",
            "    35/199      1.8G   0.07058   0.06824   0.01881    0.1576       208       416: 100% 84/84 [00:14<00:00,  6.00it/s]\n",
            "               Class      Images     Targets           P           R      mAP@.5  mAP@.5:.95: 100% 4/4 [00:01<00:00,  2.87it/s]\n",
            "                 all         127         909       0.385        0.23       0.202       0.047\n",
            "\n",
            "     Epoch   gpu_mem       box       obj       cls     total   targets  img_size\n",
            "    36/199      1.8G   0.07058   0.06716   0.01843    0.1562       222       416: 100% 84/84 [00:13<00:00,  6.03it/s]\n",
            "               Class      Images     Targets           P           R      mAP@.5  mAP@.5:.95: 100% 4/4 [00:01<00:00,  3.34it/s]\n",
            "                 all         127         909       0.245       0.292       0.167      0.0377\n",
            "\n",
            "     Epoch   gpu_mem       box       obj       cls     total   targets  img_size\n",
            "    37/199      1.8G   0.07011   0.06524   0.01851    0.1539       367       416: 100% 84/84 [00:13<00:00,  6.05it/s]\n",
            "               Class      Images     Targets           P           R      mAP@.5  mAP@.5:.95: 100% 4/4 [00:01<00:00,  3.20it/s]\n",
            "                 all         127         909        0.23       0.251       0.184      0.0471\n",
            "\n",
            "     Epoch   gpu_mem       box       obj       cls     total   targets  img_size\n",
            "    38/199      1.8G   0.06954   0.06597   0.01749     0.153       307       416: 100% 84/84 [00:13<00:00,  6.03it/s]\n",
            "               Class      Images     Targets           P           R      mAP@.5  mAP@.5:.95: 100% 4/4 [00:01<00:00,  3.08it/s]\n",
            "                 all         127         909        0.23       0.329       0.185       0.043\n",
            "\n",
            "     Epoch   gpu_mem       box       obj       cls     total   targets  img_size\n",
            "    39/199      1.8G   0.06951   0.06654   0.01751    0.1535       188       416: 100% 84/84 [00:13<00:00,  6.04it/s]\n",
            "               Class      Images     Targets           P           R      mAP@.5  mAP@.5:.95: 100% 4/4 [00:01<00:00,  3.12it/s]\n",
            "                 all         127         909       0.293       0.274       0.198      0.0402\n",
            "\n",
            "     Epoch   gpu_mem       box       obj       cls     total   targets  img_size\n",
            "    40/199      1.8G   0.06868   0.06543   0.01663    0.1507       218       416: 100% 84/84 [00:14<00:00,  6.00it/s]\n",
            "               Class      Images     Targets           P           R      mAP@.5  mAP@.5:.95: 100% 4/4 [00:01<00:00,  3.12it/s]\n",
            "                 all         127         909       0.274        0.34       0.211      0.0484\n",
            "\n",
            "     Epoch   gpu_mem       box       obj       cls     total   targets  img_size\n",
            "    41/199      1.8G   0.06873   0.06706   0.01618     0.152       179       416: 100% 84/84 [00:13<00:00,  6.02it/s]\n",
            "               Class      Images     Targets           P           R      mAP@.5  mAP@.5:.95: 100% 4/4 [00:01<00:00,  3.29it/s]\n",
            "                 all         127         909       0.332       0.292       0.219      0.0552\n",
            "\n",
            "     Epoch   gpu_mem       box       obj       cls     total   targets  img_size\n",
            "    42/199      1.8G   0.06838     0.065   0.01638    0.1498       264       416: 100% 84/84 [00:13<00:00,  6.01it/s]\n",
            "               Class      Images     Targets           P           R      mAP@.5  mAP@.5:.95: 100% 4/4 [00:01<00:00,  3.13it/s]\n",
            "                 all         127         909        0.43       0.278       0.264      0.0723\n",
            "\n",
            "     Epoch   gpu_mem       box       obj       cls     total   targets  img_size\n",
            "    43/199      1.8G   0.06817   0.06514   0.01613    0.1494       383       416: 100% 84/84 [00:13<00:00,  6.03it/s]\n",
            "               Class      Images     Targets           P           R      mAP@.5  mAP@.5:.95: 100% 4/4 [00:01<00:00,  3.39it/s]\n",
            "                 all         127         909       0.231       0.312       0.211      0.0499\n",
            "\n",
            "     Epoch   gpu_mem       box       obj       cls     total   targets  img_size\n",
            "    44/199      1.8G   0.06749   0.06538   0.01535    0.1482       230       416: 100% 84/84 [00:13<00:00,  6.02it/s]\n",
            "               Class      Images     Targets           P           R      mAP@.5  mAP@.5:.95: 100% 4/4 [00:01<00:00,  3.23it/s]\n",
            "                 all         127         909       0.328       0.305       0.217      0.0514\n",
            "\n",
            "     Epoch   gpu_mem       box       obj       cls     total   targets  img_size\n",
            "    45/199      1.8G   0.06811   0.06432    0.0153    0.1477       238       416: 100% 84/84 [00:13<00:00,  6.05it/s]\n",
            "               Class      Images     Targets           P           R      mAP@.5  mAP@.5:.95: 100% 4/4 [00:01<00:00,  3.24it/s]\n",
            "                 all         127         909       0.387       0.305       0.251      0.0613\n",
            "\n",
            "     Epoch   gpu_mem       box       obj       cls     total   targets  img_size\n",
            "    46/199      1.8G   0.06766   0.06341   0.01549    0.1466       307       416: 100% 84/84 [00:13<00:00,  6.01it/s]\n",
            "               Class      Images     Targets           P           R      mAP@.5  mAP@.5:.95: 100% 4/4 [00:01<00:00,  3.27it/s]\n",
            "                 all         127         909       0.405       0.257        0.25      0.0713\n",
            "\n",
            "     Epoch   gpu_mem       box       obj       cls     total   targets  img_size\n",
            "    47/199      1.8G   0.06671   0.06471   0.01448    0.1459       299       416: 100% 84/84 [00:14<00:00,  5.95it/s]\n",
            "               Class      Images     Targets           P           R      mAP@.5  mAP@.5:.95: 100% 4/4 [00:01<00:00,  3.32it/s]\n",
            "                 all         127         909       0.319        0.32       0.235      0.0564\n",
            "\n",
            "     Epoch   gpu_mem       box       obj       cls     total   targets  img_size\n",
            "    48/199      1.8G   0.06684   0.06458   0.01429    0.1457       224       416: 100% 84/84 [00:14<00:00,  5.98it/s]\n",
            "               Class      Images     Targets           P           R      mAP@.5  mAP@.5:.95: 100% 4/4 [00:01<00:00,  3.45it/s]\n",
            "                 all         127         909        0.34        0.33       0.258      0.0619\n",
            "\n",
            "     Epoch   gpu_mem       box       obj       cls     total   targets  img_size\n",
            "    49/199      1.8G   0.06693   0.06376   0.01407    0.1448       238       416: 100% 84/84 [00:13<00:00,  6.03it/s]\n",
            "               Class      Images     Targets           P           R      mAP@.5  mAP@.5:.95: 100% 4/4 [00:01<00:00,  3.35it/s]\n",
            "                 all         127         909       0.432       0.324       0.283      0.0613\n",
            "\n",
            "     Epoch   gpu_mem       box       obj       cls     total   targets  img_size\n",
            "    50/199      1.8G   0.06671   0.06405   0.01387    0.1446       251       416: 100% 84/84 [00:13<00:00,  6.04it/s]\n",
            "               Class      Images     Targets           P           R      mAP@.5  mAP@.5:.95: 100% 4/4 [00:01<00:00,  3.26it/s]\n",
            "                 all         127         909       0.394       0.354       0.291      0.0675\n",
            "\n",
            "     Epoch   gpu_mem       box       obj       cls     total   targets  img_size\n",
            "    51/199      1.8G   0.06589   0.06199   0.01329    0.1412       289       416: 100% 84/84 [00:13<00:00,  6.05it/s]\n",
            "               Class      Images     Targets           P           R      mAP@.5  mAP@.5:.95: 100% 4/4 [00:01<00:00,  3.36it/s]\n",
            "                 all         127         909       0.451        0.28       0.279      0.0727\n",
            "\n",
            "     Epoch   gpu_mem       box       obj       cls     total   targets  img_size\n",
            "    52/199      1.8G   0.06603   0.06318   0.01318    0.1424       266       416: 100% 84/84 [00:13<00:00,  6.00it/s]\n",
            "               Class      Images     Targets           P           R      mAP@.5  mAP@.5:.95: 100% 4/4 [00:01<00:00,  3.38it/s]\n",
            "                 all         127         909       0.436       0.309       0.278       0.063\n",
            "\n",
            "     Epoch   gpu_mem       box       obj       cls     total   targets  img_size\n",
            "    53/199      1.8G   0.06594   0.06323   0.01312    0.1423       330       416: 100% 84/84 [00:14<00:00,  5.97it/s]\n",
            "               Class      Images     Targets           P           R      mAP@.5  mAP@.5:.95: 100% 4/4 [00:01<00:00,  3.31it/s]\n",
            "                 all         127         909       0.456       0.329       0.298      0.0717\n",
            "\n",
            "     Epoch   gpu_mem       box       obj       cls     total   targets  img_size\n",
            "    54/199      1.8G   0.06577   0.06192   0.01348    0.1412       234       416: 100% 84/84 [00:14<00:00,  5.97it/s]\n",
            "               Class      Images     Targets           P           R      mAP@.5  mAP@.5:.95: 100% 4/4 [00:01<00:00,  3.32it/s]\n",
            "                 all         127         909       0.304       0.379       0.264      0.0587\n",
            "\n",
            "     Epoch   gpu_mem       box       obj       cls     total   targets  img_size\n",
            "    55/199      1.8G   0.06549   0.06426   0.01275    0.1425       293       416: 100% 84/84 [00:14<00:00,  5.96it/s]\n",
            "               Class      Images     Targets           P           R      mAP@.5  mAP@.5:.95: 100% 4/4 [00:01<00:00,  3.35it/s]\n",
            "                 all         127         909        0.38       0.375       0.307      0.0804\n",
            "\n",
            "     Epoch   gpu_mem       box       obj       cls     total   targets  img_size\n",
            "    56/199      1.8G    0.0655   0.06189   0.01298    0.1404       222       416: 100% 84/84 [00:14<00:00,  5.99it/s]\n",
            "               Class      Images     Targets           P           R      mAP@.5  mAP@.5:.95: 100% 4/4 [00:01<00:00,  3.40it/s]\n",
            "                 all         127         909        0.34       0.368       0.287      0.0757\n",
            "\n",
            "     Epoch   gpu_mem       box       obj       cls     total   targets  img_size\n",
            "    57/199      1.8G   0.06495   0.06104   0.01326    0.1392       229       416: 100% 84/84 [00:14<00:00,  5.99it/s]\n",
            "               Class      Images     Targets           P           R      mAP@.5  mAP@.5:.95: 100% 4/4 [00:01<00:00,  3.27it/s]\n",
            "                 all         127         909       0.501       0.379       0.346      0.0875\n",
            "\n",
            "     Epoch   gpu_mem       box       obj       cls     total   targets  img_size\n",
            "    58/199      1.8G   0.06514   0.06454   0.01257    0.1423       320       416: 100% 84/84 [00:14<00:00,  5.99it/s]\n",
            "               Class      Images     Targets           P           R      mAP@.5  mAP@.5:.95: 100% 4/4 [00:01<00:00,  3.40it/s]\n",
            "                 all         127         909       0.426       0.391       0.332      0.0843\n",
            "\n",
            "     Epoch   gpu_mem       box       obj       cls     total   targets  img_size\n",
            "    59/199      1.8G   0.06377   0.06157   0.01226    0.1376       151       416: 100% 84/84 [00:14<00:00,  5.95it/s]\n",
            "               Class      Images     Targets           P           R      mAP@.5  mAP@.5:.95: 100% 4/4 [00:01<00:00,  3.57it/s]\n",
            "                 all         127         909       0.429       0.351       0.306       0.075\n",
            "\n",
            "     Epoch   gpu_mem       box       obj       cls     total   targets  img_size\n",
            "    60/199      1.8G   0.06495   0.06331   0.01149    0.1397       306       416: 100% 84/84 [00:13<00:00,  6.04it/s]\n",
            "               Class      Images     Targets           P           R      mAP@.5  mAP@.5:.95: 100% 4/4 [00:01<00:00,  3.35it/s]\n",
            "                 all         127         909       0.494       0.404       0.375       0.107\n",
            "\n",
            "     Epoch   gpu_mem       box       obj       cls     total   targets  img_size\n",
            "    61/199      1.8G    0.0647   0.06164   0.01229    0.1386       196       416: 100% 84/84 [00:14<00:00,  5.96it/s]\n",
            "               Class      Images     Targets           P           R      mAP@.5  mAP@.5:.95: 100% 4/4 [00:01<00:00,  3.46it/s]\n",
            "                 all         127         909       0.503       0.358       0.348      0.0869\n",
            "\n",
            "     Epoch   gpu_mem       box       obj       cls     total   targets  img_size\n",
            "    62/199      1.8G   0.06424   0.06136   0.01194    0.1375       256       416: 100% 84/84 [00:13<00:00,  6.03it/s]\n",
            "               Class      Images     Targets           P           R      mAP@.5  mAP@.5:.95: 100% 4/4 [00:01<00:00,  3.50it/s]\n",
            "                 all         127         909       0.427       0.377        0.34      0.0805\n",
            "\n",
            "     Epoch   gpu_mem       box       obj       cls     total   targets  img_size\n",
            "    63/199      1.8G   0.06474   0.06177   0.01186    0.1384       234       416: 100% 84/84 [00:14<00:00,  5.98it/s]\n",
            "               Class      Images     Targets           P           R      mAP@.5  mAP@.5:.95: 100% 4/4 [00:01<00:00,  3.54it/s]\n",
            "                 all         127         909       0.489       0.309       0.316      0.0777\n",
            "\n",
            "     Epoch   gpu_mem       box       obj       cls     total   targets  img_size\n",
            "    64/199      1.8G   0.06376   0.06405   0.01125    0.1391       291       416: 100% 84/84 [00:13<00:00,  6.00it/s]\n",
            "               Class      Images     Targets           P           R      mAP@.5  mAP@.5:.95: 100% 4/4 [00:01<00:00,  3.41it/s]\n",
            "                 all         127         909       0.463       0.361       0.322      0.0779\n",
            "\n",
            "     Epoch   gpu_mem       box       obj       cls     total   targets  img_size\n",
            "    65/199      1.8G    0.0635   0.06133   0.01145    0.1363       275       416: 100% 84/84 [00:14<00:00,  5.99it/s]\n",
            "               Class      Images     Targets           P           R      mAP@.5  mAP@.5:.95: 100% 4/4 [00:01<00:00,  3.52it/s]\n",
            "                 all         127         909       0.427       0.397        0.34      0.0884\n",
            "\n",
            "     Epoch   gpu_mem       box       obj       cls     total   targets  img_size\n",
            "    66/199      1.8G   0.06328   0.05989   0.01051    0.1337       339       416: 100% 84/84 [00:13<00:00,  6.01it/s]\n",
            "               Class      Images     Targets           P           R      mAP@.5  mAP@.5:.95: 100% 4/4 [00:01<00:00,  3.52it/s]\n",
            "                 all         127         909       0.517       0.356       0.352      0.0858\n",
            "\n",
            "     Epoch   gpu_mem       box       obj       cls     total   targets  img_size\n",
            "    67/199      1.8G   0.06332   0.06144   0.01103    0.1358       213       416: 100% 84/84 [00:14<00:00,  5.99it/s]\n",
            "               Class      Images     Targets           P           R      mAP@.5  mAP@.5:.95: 100% 4/4 [00:01<00:00,  3.62it/s]\n",
            "                 all         127         909       0.401       0.362       0.311      0.0829\n",
            "\n",
            "     Epoch   gpu_mem       box       obj       cls     total   targets  img_size\n",
            "    68/199      1.8G   0.06316   0.06013   0.01061    0.1339       266       416: 100% 84/84 [00:13<00:00,  6.02it/s]\n",
            "               Class      Images     Targets           P           R      mAP@.5  mAP@.5:.95: 100% 4/4 [00:01<00:00,  3.50it/s]\n",
            "                 all         127         909       0.503       0.395       0.372      0.0884\n",
            "\n",
            "     Epoch   gpu_mem       box       obj       cls     total   targets  img_size\n",
            "    69/199      1.8G   0.06325   0.06192   0.01055    0.1357       216       416: 100% 84/84 [00:14<00:00,  5.99it/s]\n",
            "               Class      Images     Targets           P           R      mAP@.5  mAP@.5:.95: 100% 4/4 [00:01<00:00,  3.62it/s]\n",
            "                 all         127         909       0.501       0.367       0.342       0.088\n",
            "\n",
            "     Epoch   gpu_mem       box       obj       cls     total   targets  img_size\n",
            "    70/199      1.8G   0.06236    0.0589   0.01046    0.1317       205       416: 100% 84/84 [00:13<00:00,  6.03it/s]\n",
            "               Class      Images     Targets           P           R      mAP@.5  mAP@.5:.95: 100% 4/4 [00:01<00:00,  3.50it/s]\n",
            "                 all         127         909       0.526        0.41       0.386       0.103\n",
            "\n",
            "     Epoch   gpu_mem       box       obj       cls     total   targets  img_size\n",
            "    71/199      1.8G   0.06299   0.06068  0.009777    0.1334       261       416: 100% 84/84 [00:14<00:00,  5.99it/s]\n",
            "               Class      Images     Targets           P           R      mAP@.5  mAP@.5:.95: 100% 4/4 [00:01<00:00,  3.46it/s]\n",
            "                 all         127         909       0.617       0.356       0.386       0.096\n",
            "\n",
            "     Epoch   gpu_mem       box       obj       cls     total   targets  img_size\n",
            "    72/199      1.8G   0.06305   0.06199   0.01032    0.1354       226       416: 100% 84/84 [00:13<00:00,  6.00it/s]\n",
            "               Class      Images     Targets           P           R      mAP@.5  mAP@.5:.95: 100% 4/4 [00:01<00:00,  3.62it/s]\n",
            "                 all         127         909       0.522       0.406       0.366      0.0953\n",
            "\n",
            "     Epoch   gpu_mem       box       obj       cls     total   targets  img_size\n",
            "    73/199      1.8G   0.06219   0.06014  0.009935    0.1323       307       416: 100% 84/84 [00:13<00:00,  6.00it/s]\n",
            "               Class      Images     Targets           P           R      mAP@.5  mAP@.5:.95: 100% 4/4 [00:01<00:00,  3.58it/s]\n",
            "                 all         127         909        0.46       0.316       0.303      0.0698\n",
            "\n",
            "     Epoch   gpu_mem       box       obj       cls     total   targets  img_size\n",
            "    74/199      1.8G   0.06243   0.06059  0.009743    0.1328       217       416: 100% 84/84 [00:14<00:00,  5.92it/s]\n",
            "               Class      Images     Targets           P           R      mAP@.5  mAP@.5:.95: 100% 4/4 [00:01<00:00,  3.56it/s]\n",
            "                 all         127         909       0.489       0.429       0.394       0.109\n",
            "\n",
            "     Epoch   gpu_mem       box       obj       cls     total   targets  img_size\n",
            "    75/199      1.8G   0.06223   0.06035   0.00939     0.132       304       416: 100% 84/84 [00:14<00:00,  5.94it/s]\n",
            "               Class      Images     Targets           P           R      mAP@.5  mAP@.5:.95: 100% 4/4 [00:01<00:00,  3.54it/s]\n",
            "                 all         127         909       0.472       0.395       0.366      0.0909\n",
            "\n",
            "     Epoch   gpu_mem       box       obj       cls     total   targets  img_size\n",
            "    76/199      1.8G   0.06167   0.06012  0.009094    0.1309       258       416: 100% 84/84 [00:14<00:00,  5.97it/s]\n",
            "               Class      Images     Targets           P           R      mAP@.5  mAP@.5:.95: 100% 4/4 [00:01<00:00,  3.47it/s]\n",
            "                 all         127         909       0.588       0.386       0.395       0.104\n",
            "\n",
            "     Epoch   gpu_mem       box       obj       cls     total   targets  img_size\n",
            "    77/199      1.8G   0.06188   0.05909      0.01     0.131       172       416: 100% 84/84 [00:14<00:00,  5.99it/s]\n",
            "               Class      Images     Targets           P           R      mAP@.5  mAP@.5:.95: 100% 4/4 [00:01<00:00,  3.52it/s]\n",
            "                 all         127         909       0.523       0.371       0.363      0.0979\n",
            "\n",
            "     Epoch   gpu_mem       box       obj       cls     total   targets  img_size\n",
            "    78/199      1.8G   0.06208   0.06204  0.009439    0.1336       187       416: 100% 84/84 [00:14<00:00,  5.98it/s]\n",
            "               Class      Images     Targets           P           R      mAP@.5  mAP@.5:.95: 100% 4/4 [00:01<00:00,  3.60it/s]\n",
            "                 all         127         909       0.547       0.405       0.401       0.106\n",
            "\n",
            "     Epoch   gpu_mem       box       obj       cls     total   targets  img_size\n",
            "    79/199      1.8G   0.06223   0.05974  0.009039     0.131       198       416: 100% 84/84 [00:14<00:00,  5.97it/s]\n",
            "               Class      Images     Targets           P           R      mAP@.5  mAP@.5:.95: 100% 4/4 [00:01<00:00,  3.57it/s]\n",
            "                 all         127         909       0.467       0.383       0.339      0.0828\n",
            "\n",
            "     Epoch   gpu_mem       box       obj       cls     total   targets  img_size\n",
            "    80/199      1.8G   0.06091   0.05926  0.008922    0.1291       229       416: 100% 84/84 [00:14<00:00,  5.95it/s]\n",
            "               Class      Images     Targets           P           R      mAP@.5  mAP@.5:.95: 100% 4/4 [00:01<00:00,  3.59it/s]\n",
            "                 all         127         909       0.477       0.417       0.384      0.0961\n",
            "\n",
            "     Epoch   gpu_mem       box       obj       cls     total   targets  img_size\n",
            "    81/199      1.8G    0.0611   0.06021  0.009009    0.1303       233       416: 100% 84/84 [00:14<00:00,  5.99it/s]\n",
            "               Class      Images     Targets           P           R      mAP@.5  mAP@.5:.95: 100% 4/4 [00:01<00:00,  3.64it/s]\n",
            "                 all         127         909       0.515        0.38       0.347      0.0803\n",
            "\n",
            "     Epoch   gpu_mem       box       obj       cls     total   targets  img_size\n",
            "    82/199      1.8G   0.06091   0.05876  0.008661    0.1283       146       416: 100% 84/84 [00:14<00:00,  5.95it/s]\n",
            "               Class      Images     Targets           P           R      mAP@.5  mAP@.5:.95: 100% 4/4 [00:01<00:00,  3.63it/s]\n",
            "                 all         127         909       0.537        0.44       0.427       0.108\n",
            "\n",
            "     Epoch   gpu_mem       box       obj       cls     total   targets  img_size\n",
            "    83/199      1.8G   0.06072    0.0591  0.008424    0.1282       268       416: 100% 84/84 [00:13<00:00,  6.01it/s]\n",
            "               Class      Images     Targets           P           R      mAP@.5  mAP@.5:.95: 100% 4/4 [00:01<00:00,  3.52it/s]\n",
            "                 all         127         909        0.52       0.429       0.408       0.109\n",
            "\n",
            "     Epoch   gpu_mem       box       obj       cls     total   targets  img_size\n",
            "    84/199      1.8G   0.06053   0.05873   0.00845    0.1277       214       416: 100% 84/84 [00:14<00:00,  5.99it/s]\n",
            "               Class      Images     Targets           P           R      mAP@.5  mAP@.5:.95: 100% 4/4 [00:01<00:00,  3.63it/s]\n",
            "                 all         127         909        0.53       0.419       0.402       0.103\n",
            "\n",
            "     Epoch   gpu_mem       box       obj       cls     total   targets  img_size\n",
            "    85/199      1.8G   0.06091   0.05925  0.008837     0.129       237       416: 100% 84/84 [00:14<00:00,  5.94it/s]\n",
            "               Class      Images     Targets           P           R      mAP@.5  mAP@.5:.95: 100% 4/4 [00:01<00:00,  3.50it/s]\n",
            "                 all         127         909        0.54       0.383       0.376       0.101\n",
            "\n",
            "     Epoch   gpu_mem       box       obj       cls     total   targets  img_size\n",
            "    86/199      1.8G   0.05997   0.05955  0.008425    0.1279       241       416: 100% 84/84 [00:14<00:00,  5.95it/s]\n",
            "               Class      Images     Targets           P           R      mAP@.5  mAP@.5:.95: 100% 4/4 [00:01<00:00,  3.63it/s]\n",
            "                 all         127         909       0.614       0.424       0.439       0.119\n",
            "\n",
            "     Epoch   gpu_mem       box       obj       cls     total   targets  img_size\n",
            "    87/199      1.8G   0.06065   0.05997  0.007707    0.1283       224       416: 100% 84/84 [00:14<00:00,  5.99it/s]\n",
            "               Class      Images     Targets           P           R      mAP@.5  mAP@.5:.95: 100% 4/4 [00:01<00:00,  3.46it/s]\n",
            "                 all         127         909       0.499       0.444       0.395       0.107\n",
            "\n",
            "     Epoch   gpu_mem       box       obj       cls     total   targets  img_size\n",
            "    88/199      1.8G   0.05993   0.05993   0.00785    0.1277       205       416: 100% 84/84 [00:13<00:00,  6.01it/s]\n",
            "               Class      Images     Targets           P           R      mAP@.5  mAP@.5:.95: 100% 4/4 [00:01<00:00,  3.45it/s]\n",
            "                 all         127         909        0.53       0.387       0.375      0.0927\n",
            "\n",
            "     Epoch   gpu_mem       box       obj       cls     total   targets  img_size\n",
            "    89/199      1.8G    0.0597    0.0582   0.00757    0.1255       239       416: 100% 84/84 [00:14<00:00,  5.97it/s]\n",
            "               Class      Images     Targets           P           R      mAP@.5  mAP@.5:.95: 100% 4/4 [00:01<00:00,  3.59it/s]\n",
            "                 all         127         909       0.602       0.419       0.429       0.109\n",
            "\n",
            "     Epoch   gpu_mem       box       obj       cls     total   targets  img_size\n",
            "    90/199      1.8G    0.0599   0.05849  0.007918    0.1263       277       416: 100% 84/84 [00:14<00:00,  5.96it/s]\n",
            "               Class      Images     Targets           P           R      mAP@.5  mAP@.5:.95: 100% 4/4 [00:01<00:00,  3.50it/s]\n",
            "                 all         127         909       0.562       0.412       0.381      0.0941\n",
            "\n",
            "     Epoch   gpu_mem       box       obj       cls     total   targets  img_size\n",
            "    91/199      1.8G   0.05967   0.05664  0.008084    0.1244       310       416: 100% 84/84 [00:14<00:00,  6.00it/s]\n",
            "               Class      Images     Targets           P           R      mAP@.5  mAP@.5:.95: 100% 4/4 [00:01<00:00,  3.65it/s]\n",
            "                 all         127         909       0.531       0.436         0.4       0.098\n",
            "\n",
            "     Epoch   gpu_mem       box       obj       cls     total   targets  img_size\n",
            "    92/199      1.8G   0.06005   0.05836  0.007597     0.126       262       416: 100% 84/84 [00:14<00:00,  5.92it/s]\n",
            "               Class      Images     Targets           P           R      mAP@.5  mAP@.5:.95: 100% 4/4 [00:01<00:00,  3.51it/s]\n",
            "                 all         127         909       0.603       0.399       0.403       0.105\n",
            "\n",
            "     Epoch   gpu_mem       box       obj       cls     total   targets  img_size\n",
            "    93/199      1.8G   0.05948   0.05879  0.006898    0.1252       219       416: 100% 84/84 [00:14<00:00,  5.94it/s]\n",
            "               Class      Images     Targets           P           R      mAP@.5  mAP@.5:.95: 100% 4/4 [00:01<00:00,  3.63it/s]\n",
            "                 all         127         909       0.551       0.449       0.431       0.108\n",
            "\n",
            "     Epoch   gpu_mem       box       obj       cls     total   targets  img_size\n",
            "    94/199      1.8G   0.05911     0.058  0.007077    0.1242       215       416: 100% 84/84 [00:14<00:00,  5.99it/s]\n",
            "               Class      Images     Targets           P           R      mAP@.5  mAP@.5:.95: 100% 4/4 [00:01<00:00,  3.58it/s]\n",
            "                 all         127         909       0.557       0.472       0.446       0.131\n",
            "\n",
            "     Epoch   gpu_mem       box       obj       cls     total   targets  img_size\n",
            "    95/199      1.8G   0.05994   0.05904  0.007351    0.1263       207       416: 100% 84/84 [00:14<00:00,  5.97it/s]\n",
            "               Class      Images     Targets           P           R      mAP@.5  mAP@.5:.95: 100% 4/4 [00:01<00:00,  3.68it/s]\n",
            "                 all         127         909       0.514       0.455        0.41       0.124\n",
            "\n",
            "     Epoch   gpu_mem       box       obj       cls     total   targets  img_size\n",
            "    96/199      1.8G   0.05896   0.05667   0.00741     0.123       240       416: 100% 84/84 [00:14<00:00,  6.00it/s]\n",
            "               Class      Images     Targets           P           R      mAP@.5  mAP@.5:.95: 100% 4/4 [00:01<00:00,  3.54it/s]\n",
            "                 all         127         909       0.517       0.464       0.418       0.111\n",
            "\n",
            "     Epoch   gpu_mem       box       obj       cls     total   targets  img_size\n",
            "    97/199      1.8G    0.0588   0.05713  0.006977    0.1229       195       416: 100% 84/84 [00:14<00:00,  5.92it/s]\n",
            "               Class      Images     Targets           P           R      mAP@.5  mAP@.5:.95: 100% 4/4 [00:01<00:00,  3.67it/s]\n",
            "                 all         127         909       0.591       0.406       0.419       0.118\n",
            "\n",
            "     Epoch   gpu_mem       box       obj       cls     total   targets  img_size\n",
            "    98/199      1.8G   0.05869   0.05778  0.006684    0.1232       203       416: 100% 84/84 [00:14<00:00,  6.00it/s]\n",
            "               Class      Images     Targets           P           R      mAP@.5  mAP@.5:.95: 100% 4/4 [00:01<00:00,  3.68it/s]\n",
            "                 all         127         909       0.545       0.439       0.388       0.101\n",
            "\n",
            "     Epoch   gpu_mem       box       obj       cls     total   targets  img_size\n",
            "    99/199      1.8G   0.05835   0.05881  0.007129    0.1243       227       416: 100% 84/84 [00:14<00:00,  5.95it/s]\n",
            "               Class      Images     Targets           P           R      mAP@.5  mAP@.5:.95: 100% 4/4 [00:01<00:00,  3.58it/s]\n",
            "                 all         127         909       0.606       0.429        0.43       0.109\n",
            "\n",
            "     Epoch   gpu_mem       box       obj       cls     total   targets  img_size\n",
            "   100/199      1.8G   0.05838   0.05952  0.006852    0.1248       385       416: 100% 84/84 [00:13<00:00,  6.01it/s]\n",
            "               Class      Images     Targets           P           R      mAP@.5  mAP@.5:.95: 100% 4/4 [00:01<00:00,  3.54it/s]\n",
            "                 all         127         909       0.594       0.428       0.426       0.116\n",
            "\n",
            "     Epoch   gpu_mem       box       obj       cls     total   targets  img_size\n",
            "   101/199      1.8G   0.05803   0.05623  0.007141    0.1214       248       416: 100% 84/84 [00:14<00:00,  5.95it/s]\n",
            "               Class      Images     Targets           P           R      mAP@.5  mAP@.5:.95: 100% 4/4 [00:01<00:00,  3.66it/s]\n",
            "                 all         127         909       0.544       0.458       0.431       0.109\n",
            "\n",
            "     Epoch   gpu_mem       box       obj       cls     total   targets  img_size\n",
            "   102/199      1.8G   0.05792   0.05803  0.007147    0.1231       325       416: 100% 84/84 [00:13<00:00,  6.01it/s]\n",
            "               Class      Images     Targets           P           R      mAP@.5  mAP@.5:.95: 100% 4/4 [00:01<00:00,  3.61it/s]\n",
            "                 all         127         909       0.541       0.455       0.438       0.111\n",
            "\n",
            "     Epoch   gpu_mem       box       obj       cls     total   targets  img_size\n",
            "   103/199      1.8G   0.05769   0.05737  0.006872    0.1219       222       416: 100% 84/84 [00:14<00:00,  5.94it/s]\n",
            "               Class      Images     Targets           P           R      mAP@.5  mAP@.5:.95: 100% 4/4 [00:01<00:00,  3.58it/s]\n",
            "                 all         127         909       0.621       0.455       0.458       0.124\n",
            "\n",
            "     Epoch   gpu_mem       box       obj       cls     total   targets  img_size\n",
            "   104/199      1.8G   0.05775   0.05745  0.006826     0.122       159       416: 100% 84/84 [00:14<00:00,  5.98it/s]\n",
            "               Class      Images     Targets           P           R      mAP@.5  mAP@.5:.95: 100% 4/4 [00:01<00:00,  3.62it/s]\n",
            "                 all         127         909       0.518       0.456       0.423       0.109\n",
            "\n",
            "     Epoch   gpu_mem       box       obj       cls     total   targets  img_size\n",
            "   105/199      1.8G   0.05849   0.05687  0.006106    0.1215       273       416: 100% 84/84 [00:14<00:00,  5.91it/s]\n",
            "               Class      Images     Targets           P           R      mAP@.5  mAP@.5:.95: 100% 4/4 [00:01<00:00,  3.54it/s]\n",
            "                 all         127         909       0.517       0.443       0.403         0.1\n",
            "\n",
            "     Epoch   gpu_mem       box       obj       cls     total   targets  img_size\n",
            "   106/199      1.8G   0.05798   0.05549  0.006457    0.1199       179       416: 100% 84/84 [00:14<00:00,  5.97it/s]\n",
            "               Class      Images     Targets           P           R      mAP@.5  mAP@.5:.95: 100% 4/4 [00:01<00:00,  3.55it/s]\n",
            "                 all         127         909       0.584        0.47        0.46       0.146\n",
            "\n",
            "     Epoch   gpu_mem       box       obj       cls     total   targets  img_size\n",
            "   107/199      1.8G   0.05765   0.05722  0.006676    0.1216       222       416: 100% 84/84 [00:14<00:00,  5.90it/s]\n",
            "               Class      Images     Targets           P           R      mAP@.5  mAP@.5:.95: 100% 4/4 [00:01<00:00,  3.62it/s]\n",
            "                 all         127         909       0.609       0.462       0.442       0.114\n",
            "\n",
            "     Epoch   gpu_mem       box       obj       cls     total   targets  img_size\n",
            "   108/199      1.8G   0.05734   0.05557  0.006352    0.1193       172       416: 100% 84/84 [00:14<00:00,  5.92it/s]\n",
            "               Class      Images     Targets           P           R      mAP@.5  mAP@.5:.95: 100% 4/4 [00:01<00:00,  3.66it/s]\n",
            "                 all         127         909       0.552       0.456       0.433       0.114\n",
            "\n",
            "     Epoch   gpu_mem       box       obj       cls     total   targets  img_size\n",
            "   109/199      1.8G   0.05777   0.05684  0.006688    0.1213       260       416: 100% 84/84 [00:14<00:00,  5.94it/s]\n",
            "               Class      Images     Targets           P           R      mAP@.5  mAP@.5:.95: 100% 4/4 [00:01<00:00,  3.65it/s]\n",
            "                 all         127         909       0.591       0.419       0.427       0.109\n",
            "\n",
            "     Epoch   gpu_mem       box       obj       cls     total   targets  img_size\n",
            "   110/199      1.8G   0.05747   0.05587  0.006117    0.1195       349       416: 100% 84/84 [00:14<00:00,  5.97it/s]\n",
            "               Class      Images     Targets           P           R      mAP@.5  mAP@.5:.95: 100% 4/4 [00:01<00:00,  3.61it/s]\n",
            "                 all         127         909        0.59       0.455       0.466       0.131\n",
            "\n",
            "     Epoch   gpu_mem       box       obj       cls     total   targets  img_size\n",
            "   111/199      1.8G   0.05725   0.05614  0.006239    0.1196       212       416: 100% 84/84 [00:14<00:00,  5.95it/s]\n",
            "               Class      Images     Targets           P           R      mAP@.5  mAP@.5:.95: 100% 4/4 [00:01<00:00,  3.65it/s]\n",
            "                 all         127         909       0.553       0.439       0.431       0.116\n",
            "\n",
            "     Epoch   gpu_mem       box       obj       cls     total   targets  img_size\n",
            "   112/199      1.8G    0.0571   0.05496  0.006117    0.1182       172       416: 100% 84/84 [00:14<00:00,  5.88it/s]\n",
            "               Class      Images     Targets           P           R      mAP@.5  mAP@.5:.95: 100% 4/4 [00:01<00:00,  3.72it/s]\n",
            "                 all         127         909       0.541       0.427       0.404       0.102\n",
            "\n",
            "     Epoch   gpu_mem       box       obj       cls     total   targets  img_size\n",
            "   113/199      1.8G   0.05697   0.05768  0.006676    0.1213       312       416: 100% 84/84 [00:14<00:00,  5.92it/s]\n",
            "               Class      Images     Targets           P           R      mAP@.5  mAP@.5:.95: 100% 4/4 [00:01<00:00,  3.65it/s]\n",
            "                 all         127         909       0.539       0.445       0.438       0.114\n",
            "\n",
            "     Epoch   gpu_mem       box       obj       cls     total   targets  img_size\n",
            "   114/199      1.8G   0.05745   0.05512  0.006213    0.1188       157       416: 100% 84/84 [00:14<00:00,  5.94it/s]\n",
            "               Class      Images     Targets           P           R      mAP@.5  mAP@.5:.95: 100% 4/4 [00:01<00:00,  3.67it/s]\n",
            "                 all         127         909       0.528       0.425       0.404       0.111\n",
            "\n",
            "     Epoch   gpu_mem       box       obj       cls     total   targets  img_size\n",
            "   115/199      1.8G   0.05667   0.05567  0.005663     0.118       295       416: 100% 84/84 [00:14<00:00,  5.93it/s]\n",
            "               Class      Images     Targets           P           R      mAP@.5  mAP@.5:.95: 100% 4/4 [00:01<00:00,  3.70it/s]\n",
            "                 all         127         909       0.513       0.442       0.406       0.113\n",
            "\n",
            "     Epoch   gpu_mem       box       obj       cls     total   targets  img_size\n",
            "   116/199      1.8G   0.05645   0.05576  0.005836     0.118       248       416: 100% 84/84 [00:14<00:00,  5.89it/s]\n",
            "               Class      Images     Targets           P           R      mAP@.5  mAP@.5:.95: 100% 4/4 [00:01<00:00,  3.66it/s]\n",
            "                 all         127         909       0.577       0.459       0.443       0.117\n",
            "\n",
            "     Epoch   gpu_mem       box       obj       cls     total   targets  img_size\n",
            "   117/199      1.8G   0.05613   0.05479  0.005867    0.1168       152       416: 100% 84/84 [00:14<00:00,  5.95it/s]\n",
            "               Class      Images     Targets           P           R      mAP@.5  mAP@.5:.95: 100% 4/4 [00:01<00:00,  3.69it/s]\n",
            "                 all         127         909       0.534        0.46       0.424       0.112\n",
            "\n",
            "     Epoch   gpu_mem       box       obj       cls     total   targets  img_size\n",
            "   118/199      1.8G   0.05634   0.05555  0.005849    0.1177       192       416: 100% 84/84 [00:14<00:00,  5.91it/s]\n",
            "               Class      Images     Targets           P           R      mAP@.5  mAP@.5:.95: 100% 4/4 [00:01<00:00,  3.65it/s]\n",
            "                 all         127         909       0.513       0.492       0.423       0.112\n",
            "\n",
            "     Epoch   gpu_mem       box       obj       cls     total   targets  img_size\n",
            "   119/199      1.8G   0.05621   0.05574  0.005922    0.1179       233       416: 100% 84/84 [00:14<00:00,  5.93it/s]\n",
            "               Class      Images     Targets           P           R      mAP@.5  mAP@.5:.95: 100% 4/4 [00:01<00:00,  3.65it/s]\n",
            "                 all         127         909       0.571       0.461       0.451       0.125\n",
            "\n",
            "     Epoch   gpu_mem       box       obj       cls     total   targets  img_size\n",
            "   120/199      1.8G   0.05607   0.05508  0.005523    0.1167       303       416: 100% 84/84 [00:14<00:00,  5.91it/s]\n",
            "               Class      Images     Targets           P           R      mAP@.5  mAP@.5:.95: 100% 4/4 [00:01<00:00,  3.67it/s]\n",
            "                 all         127         909       0.567       0.477        0.47       0.136\n",
            "\n",
            "     Epoch   gpu_mem       box       obj       cls     total   targets  img_size\n",
            "   121/199      1.8G   0.05624    0.0539  0.006039    0.1162       237       416: 100% 84/84 [00:14<00:00,  5.93it/s]\n",
            "               Class      Images     Targets           P           R      mAP@.5  mAP@.5:.95: 100% 4/4 [00:01<00:00,  3.72it/s]\n",
            "                 all         127         909         0.6       0.429        0.43       0.109\n",
            "\n",
            "     Epoch   gpu_mem       box       obj       cls     total   targets  img_size\n",
            "   122/199      1.8G   0.05681   0.05613  0.005643    0.1186       266       416: 100% 84/84 [00:14<00:00,  5.91it/s]\n",
            "               Class      Images     Targets           P           R      mAP@.5  mAP@.5:.95: 100% 4/4 [00:01<00:00,  3.66it/s]\n",
            "                 all         127         909       0.586       0.398       0.404       0.105\n",
            "\n",
            "     Epoch   gpu_mem       box       obj       cls     total   targets  img_size\n",
            "   123/199      1.8G   0.05649   0.05546  0.005898    0.1178       309       416: 100% 84/84 [00:14<00:00,  5.91it/s]\n",
            "               Class      Images     Targets           P           R      mAP@.5  mAP@.5:.95: 100% 4/4 [00:01<00:00,  3.72it/s]\n",
            "                 all         127         909       0.567       0.448       0.431       0.112\n",
            "\n",
            "     Epoch   gpu_mem       box       obj       cls     total   targets  img_size\n",
            "   124/199      1.8G   0.05541   0.05476  0.005586    0.1158       165       416: 100% 84/84 [00:14<00:00,  5.92it/s]\n",
            "               Class      Images     Targets           P           R      mAP@.5  mAP@.5:.95: 100% 4/4 [00:01<00:00,  3.58it/s]\n",
            "                 all         127         909       0.604       0.408       0.428       0.121\n",
            "\n",
            "     Epoch   gpu_mem       box       obj       cls     total   targets  img_size\n",
            "   125/199      1.8G   0.05522   0.05501  0.005942    0.1162       237       416: 100% 84/84 [00:14<00:00,  5.97it/s]\n",
            "               Class      Images     Targets           P           R      mAP@.5  mAP@.5:.95: 100% 4/4 [00:01<00:00,  3.67it/s]\n",
            "                 all         127         909       0.584       0.469       0.439       0.119\n",
            "\n",
            "     Epoch   gpu_mem       box       obj       cls     total   targets  img_size\n",
            "   126/199      1.8G   0.05629   0.05488  0.005565    0.1167       183       416: 100% 84/84 [00:14<00:00,  5.92it/s]\n",
            "               Class      Images     Targets           P           R      mAP@.5  mAP@.5:.95: 100% 4/4 [00:01<00:00,  3.71it/s]\n",
            "                 all         127         909       0.612       0.436       0.423       0.108\n",
            "\n",
            "     Epoch   gpu_mem       box       obj       cls     total   targets  img_size\n",
            "   127/199      1.8G   0.05577   0.05396  0.005262     0.115       185       416: 100% 84/84 [00:14<00:00,  5.95it/s]\n",
            "               Class      Images     Targets           P           R      mAP@.5  mAP@.5:.95: 100% 4/4 [00:01<00:00,  3.76it/s]\n",
            "                 all         127         909       0.561       0.454       0.442       0.121\n",
            "\n",
            "     Epoch   gpu_mem       box       obj       cls     total   targets  img_size\n",
            "   128/199      1.8G   0.05561   0.05511  0.005226     0.116       176       416: 100% 84/84 [00:14<00:00,  5.93it/s]\n",
            "               Class      Images     Targets           P           R      mAP@.5  mAP@.5:.95: 100% 4/4 [00:01<00:00,  3.66it/s]\n",
            "                 all         127         909       0.597       0.475       0.479       0.133\n",
            "\n",
            "     Epoch   gpu_mem       box       obj       cls     total   targets  img_size\n",
            "   129/199      1.8G   0.05611   0.05506  0.005152    0.1163       322       416: 100% 84/84 [00:14<00:00,  5.95it/s]\n",
            "               Class      Images     Targets           P           R      mAP@.5  mAP@.5:.95: 100% 4/4 [00:01<00:00,  3.74it/s]\n",
            "                 all         127         909       0.613       0.441       0.449       0.124\n",
            "\n",
            "     Epoch   gpu_mem       box       obj       cls     total   targets  img_size\n",
            "   130/199      1.8G   0.05554   0.05517  0.005384    0.1161       357       416: 100% 84/84 [00:14<00:00,  5.93it/s]\n",
            "               Class      Images     Targets           P           R      mAP@.5  mAP@.5:.95: 100% 4/4 [00:01<00:00,  3.68it/s]\n",
            "                 all         127         909       0.629       0.445       0.449       0.118\n",
            "\n",
            "     Epoch   gpu_mem       box       obj       cls     total   targets  img_size\n",
            "   131/199      1.8G    0.0556    0.0553  0.005531    0.1164       284       416: 100% 84/84 [00:14<00:00,  5.98it/s]\n",
            "               Class      Images     Targets           P           R      mAP@.5  mAP@.5:.95: 100% 4/4 [00:01<00:00,  3.69it/s]\n",
            "                 all         127         909       0.606        0.47       0.464       0.125\n",
            "\n",
            "     Epoch   gpu_mem       box       obj       cls     total   targets  img_size\n",
            "   132/199      1.8G   0.05534   0.05538  0.005189    0.1159       196       416: 100% 84/84 [00:14<00:00,  5.96it/s]\n",
            "               Class      Images     Targets           P           R      mAP@.5  mAP@.5:.95: 100% 4/4 [00:01<00:00,  3.76it/s]\n",
            "                 all         127         909        0.64       0.441       0.462       0.133\n",
            "\n",
            "     Epoch   gpu_mem       box       obj       cls     total   targets  img_size\n",
            "   133/199      1.8G   0.05495   0.05435  0.005208    0.1145       241       416: 100% 84/84 [00:14<00:00,  5.96it/s]\n",
            "               Class      Images     Targets           P           R      mAP@.5  mAP@.5:.95: 100% 4/4 [00:01<00:00,  3.77it/s]\n",
            "                 all         127         909       0.657       0.447       0.481       0.136\n",
            "\n",
            "     Epoch   gpu_mem       box       obj       cls     total   targets  img_size\n",
            "   134/199      1.8G   0.05528   0.05382  0.005029    0.1141       242       416: 100% 84/84 [00:14<00:00,  5.95it/s]\n",
            "               Class      Images     Targets           P           R      mAP@.5  mAP@.5:.95: 100% 4/4 [00:01<00:00,  3.74it/s]\n",
            "                 all         127         909       0.563       0.512       0.484        0.14\n",
            "\n",
            "     Epoch   gpu_mem       box       obj       cls     total   targets  img_size\n",
            "   135/199      1.8G   0.05485    0.0535  0.005115    0.1135       226       416: 100% 84/84 [00:14<00:00,  5.98it/s]\n",
            "               Class      Images     Targets           P           R      mAP@.5  mAP@.5:.95: 100% 4/4 [00:01<00:00,  3.77it/s]\n",
            "                 all         127         909       0.568       0.529       0.476       0.128\n",
            "\n",
            "     Epoch   gpu_mem       box       obj       cls     total   targets  img_size\n",
            "   136/199      1.8G   0.05522    0.0537  0.004952    0.1139       151       416: 100% 84/84 [00:14<00:00,  5.98it/s]\n",
            "               Class      Images     Targets           P           R      mAP@.5  mAP@.5:.95: 100% 4/4 [00:01<00:00,  3.72it/s]\n",
            "                 all         127         909       0.627       0.459       0.454       0.134\n",
            "\n",
            "     Epoch   gpu_mem       box       obj       cls     total   targets  img_size\n",
            "   137/199      1.8G   0.05467   0.05355  0.005113    0.1133       207       416: 100% 84/84 [00:14<00:00,  5.93it/s]\n",
            "               Class      Images     Targets           P           R      mAP@.5  mAP@.5:.95: 100% 4/4 [00:01<00:00,  3.69it/s]\n",
            "                 all         127         909       0.614       0.438       0.462       0.131\n",
            "\n",
            "     Epoch   gpu_mem       box       obj       cls     total   targets  img_size\n",
            "   138/199      1.8G   0.05412   0.05313  0.004576    0.1118       249       416: 100% 84/84 [00:13<00:00,  6.00it/s]\n",
            "               Class      Images     Targets           P           R      mAP@.5  mAP@.5:.95: 100% 4/4 [00:01<00:00,  3.68it/s]\n",
            "                 all         127         909       0.571       0.466       0.446       0.123\n",
            "\n",
            "     Epoch   gpu_mem       box       obj       cls     total   targets  img_size\n",
            "   139/199      1.8G    0.0546   0.05312  0.004725    0.1125       316       416: 100% 84/84 [00:14<00:00,  5.95it/s]\n",
            "               Class      Images     Targets           P           R      mAP@.5  mAP@.5:.95: 100% 4/4 [00:01<00:00,  3.72it/s]\n",
            "                 all         127         909       0.577       0.487        0.46       0.122\n",
            "\n",
            "     Epoch   gpu_mem       box       obj       cls     total   targets  img_size\n",
            "   140/199      1.8G   0.05427   0.05423  0.004334    0.1128       212       416: 100% 84/84 [00:14<00:00,  5.95it/s]\n",
            "               Class      Images     Targets           P           R      mAP@.5  mAP@.5:.95: 100% 4/4 [00:01<00:00,  3.72it/s]\n",
            "                 all         127         909        0.63       0.481        0.48       0.131\n",
            "\n",
            "     Epoch   gpu_mem       box       obj       cls     total   targets  img_size\n",
            "   141/199      1.8G   0.05397   0.05427  0.004625    0.1129       217       416: 100% 84/84 [00:14<00:00,  5.91it/s]\n",
            "               Class      Images     Targets           P           R      mAP@.5  mAP@.5:.95: 100% 4/4 [00:01<00:00,  3.68it/s]\n",
            "                 all         127         909       0.577       0.475       0.456       0.125\n",
            "\n",
            "     Epoch   gpu_mem       box       obj       cls     total   targets  img_size\n",
            "   142/199      1.8G   0.05429   0.05454  0.004512    0.1133       238       416: 100% 84/84 [00:14<00:00,  5.91it/s]\n",
            "               Class      Images     Targets           P           R      mAP@.5  mAP@.5:.95: 100% 4/4 [00:01<00:00,  3.73it/s]\n",
            "                 all         127         909       0.599       0.471        0.47       0.138\n",
            "\n",
            "     Epoch   gpu_mem       box       obj       cls     total   targets  img_size\n",
            "   143/199      1.8G   0.05422   0.05349  0.004466    0.1122       309       416: 100% 84/84 [00:14<00:00,  5.86it/s]\n",
            "               Class      Images     Targets           P           R      mAP@.5  mAP@.5:.95: 100% 4/4 [00:01<00:00,  3.80it/s]\n",
            "                 all         127         909       0.571       0.477       0.456       0.123\n",
            "\n",
            "     Epoch   gpu_mem       box       obj       cls     total   targets  img_size\n",
            "   144/199      1.8G   0.05411   0.05196  0.004595    0.1107       280       416: 100% 84/84 [00:14<00:00,  5.93it/s]\n",
            "               Class      Images     Targets           P           R      mAP@.5  mAP@.5:.95: 100% 4/4 [00:01<00:00,  3.69it/s]\n",
            "                 all         127         909       0.525       0.506       0.454       0.133\n",
            "\n",
            "     Epoch   gpu_mem       box       obj       cls     total   targets  img_size\n",
            "   145/199      1.8G   0.05392   0.05354  0.004464    0.1119       157       416: 100% 84/84 [00:14<00:00,  5.84it/s]\n",
            "               Class      Images     Targets           P           R      mAP@.5  mAP@.5:.95: 100% 4/4 [00:01<00:00,  3.71it/s]\n",
            "                 all         127         909       0.575       0.493       0.478        0.14\n",
            "\n",
            "     Epoch   gpu_mem       box       obj       cls     total   targets  img_size\n",
            "   146/199      1.8G   0.05347    0.0529   0.00442    0.1108       286       416: 100% 84/84 [00:14<00:00,  5.67it/s]\n",
            "               Class      Images     Targets           P           R      mAP@.5  mAP@.5:.95: 100% 4/4 [00:01<00:00,  3.65it/s]\n",
            "                 all         127         909       0.578        0.49       0.487       0.136\n",
            "\n",
            "     Epoch   gpu_mem       box       obj       cls     total   targets  img_size\n",
            "   147/199      1.8G   0.05374    0.0545  0.004729     0.113       294       416: 100% 84/84 [00:14<00:00,  5.73it/s]\n",
            "               Class      Images     Targets           P           R      mAP@.5  mAP@.5:.95: 100% 4/4 [00:01<00:00,  3.60it/s]\n",
            "                 all         127         909       0.547       0.506       0.458       0.131\n",
            "\n",
            "     Epoch   gpu_mem       box       obj       cls     total   targets  img_size\n",
            "   148/199      1.8G   0.05383   0.05363  0.004679    0.1121       222       416: 100% 84/84 [00:14<00:00,  5.70it/s]\n",
            "               Class      Images     Targets           P           R      mAP@.5  mAP@.5:.95: 100% 4/4 [00:01<00:00,  3.60it/s]\n",
            "                 all         127         909       0.651       0.449       0.472        0.13\n",
            "\n",
            "     Epoch   gpu_mem       box       obj       cls     total   targets  img_size\n",
            "   149/199      1.8G   0.05426   0.05203  0.004544    0.1108       226       416: 100% 84/84 [00:14<00:00,  5.88it/s]\n",
            "               Class      Images     Targets           P           R      mAP@.5  mAP@.5:.95: 100% 4/4 [00:01<00:00,  3.69it/s]\n",
            "                 all         127         909       0.657       0.443       0.469       0.128\n",
            "\n",
            "     Epoch   gpu_mem       box       obj       cls     total   targets  img_size\n",
            "   150/199      1.8G   0.05325   0.05184  0.004766    0.1098       234       416: 100% 84/84 [00:14<00:00,  5.87it/s]\n",
            "               Class      Images     Targets           P           R      mAP@.5  mAP@.5:.95: 100% 4/4 [00:01<00:00,  3.62it/s]\n",
            "                 all         127         909       0.667       0.502       0.519       0.154\n",
            "\n",
            "     Epoch   gpu_mem       box       obj       cls     total   targets  img_size\n",
            "   151/199      1.8G   0.05335   0.05265  0.004368    0.1104       177       416: 100% 84/84 [00:14<00:00,  5.91it/s]\n",
            "               Class      Images     Targets           P           R      mAP@.5  mAP@.5:.95: 100% 4/4 [00:01<00:00,  3.76it/s]\n",
            "                 all         127         909       0.579       0.532       0.495       0.142\n",
            "\n",
            "     Epoch   gpu_mem       box       obj       cls     total   targets  img_size\n",
            "   152/199      1.8G   0.05384   0.05217  0.004305    0.1103       205       416: 100% 84/84 [00:14<00:00,  5.94it/s]\n",
            "               Class      Images     Targets           P           R      mAP@.5  mAP@.5:.95: 100% 4/4 [00:01<00:00,  3.69it/s]\n",
            "                 all         127         909       0.569         0.5       0.469       0.128\n",
            "\n",
            "     Epoch   gpu_mem       box       obj       cls     total   targets  img_size\n",
            "   153/199      1.8G   0.05362   0.05093  0.004237    0.1088       245       416: 100% 84/84 [00:14<00:00,  5.90it/s]\n",
            "               Class      Images     Targets           P           R      mAP@.5  mAP@.5:.95: 100% 4/4 [00:01<00:00,  3.69it/s]\n",
            "                 all         127         909       0.602       0.484       0.467       0.128\n",
            "\n",
            "     Epoch   gpu_mem       box       obj       cls     total   targets  img_size\n",
            "   154/199      1.8G   0.05315   0.05153  0.004396    0.1091       321       416: 100% 84/84 [00:14<00:00,  5.88it/s]\n",
            "               Class      Images     Targets           P           R      mAP@.5  mAP@.5:.95: 100% 4/4 [00:01<00:00,  3.68it/s]\n",
            "                 all         127         909        0.58       0.518       0.487       0.135\n",
            "\n",
            "     Epoch   gpu_mem       box       obj       cls     total   targets  img_size\n",
            "   155/199      1.8G   0.05328   0.05418  0.004116    0.1116       235       416: 100% 84/84 [00:14<00:00,  5.91it/s]\n",
            "               Class      Images     Targets           P           R      mAP@.5  mAP@.5:.95: 100% 4/4 [00:01<00:00,  3.74it/s]\n",
            "                 all         127         909       0.614        0.49       0.494       0.132\n",
            "\n",
            "     Epoch   gpu_mem       box       obj       cls     total   targets  img_size\n",
            "   156/199      1.8G    0.0528   0.05207  0.004103     0.109       250       416: 100% 84/84 [00:14<00:00,  5.89it/s]\n",
            "               Class      Images     Targets           P           R      mAP@.5  mAP@.5:.95: 100% 4/4 [00:01<00:00,  3.74it/s]\n",
            "                 all         127         909       0.606         0.5       0.486       0.137\n",
            "\n",
            "     Epoch   gpu_mem       box       obj       cls     total   targets  img_size\n",
            "   157/199      1.8G   0.05332   0.05393  0.004334    0.1116       345       416: 100% 84/84 [00:14<00:00,  5.94it/s]\n",
            "               Class      Images     Targets           P           R      mAP@.5  mAP@.5:.95: 100% 4/4 [00:01<00:00,  3.68it/s]\n",
            "                 all         127         909       0.625       0.458       0.483       0.142\n",
            "\n",
            "     Epoch   gpu_mem       box       obj       cls     total   targets  img_size\n",
            "   158/199      1.8G   0.05262   0.05121  0.004265    0.1081       190       416: 100% 84/84 [00:14<00:00,  5.87it/s]\n",
            "               Class      Images     Targets           P           R      mAP@.5  mAP@.5:.95: 100% 4/4 [00:01<00:00,  3.78it/s]\n",
            "                 all         127         909       0.584       0.508       0.463       0.128\n",
            "\n",
            "     Epoch   gpu_mem       box       obj       cls     total   targets  img_size\n",
            "   159/199      1.8G   0.05358   0.05347  0.003927     0.111       290       416: 100% 84/84 [00:14<00:00,  5.88it/s]\n",
            "               Class      Images     Targets           P           R      mAP@.5  mAP@.5:.95: 100% 4/4 [00:01<00:00,  3.73it/s]\n",
            "                 all         127         909       0.684       0.478       0.498       0.136\n",
            "\n",
            "     Epoch   gpu_mem       box       obj       cls     total   targets  img_size\n",
            "   160/199      1.8G   0.05243   0.05166  0.004386    0.1085       247       416: 100% 84/84 [00:14<00:00,  5.90it/s]\n",
            "               Class      Images     Targets           P           R      mAP@.5  mAP@.5:.95: 100% 4/4 [00:01<00:00,  3.69it/s]\n",
            "                 all         127         909       0.629        0.52       0.498       0.133\n",
            "\n",
            "     Epoch   gpu_mem       box       obj       cls     total   targets  img_size\n",
            "   161/199      1.8G   0.05281   0.05346  0.004079    0.1104       255       416: 100% 84/84 [00:14<00:00,  5.91it/s]\n",
            "               Class      Images     Targets           P           R      mAP@.5  mAP@.5:.95: 100% 4/4 [00:01<00:00,  3.74it/s]\n",
            "                 all         127         909       0.631       0.502       0.501       0.136\n",
            "\n",
            "     Epoch   gpu_mem       box       obj       cls     total   targets  img_size\n",
            "   162/199      1.8G    0.0527   0.05294  0.004228    0.1099       332       416: 100% 84/84 [00:14<00:00,  5.88it/s]\n",
            "               Class      Images     Targets           P           R      mAP@.5  mAP@.5:.95: 100% 4/4 [00:01<00:00,  3.74it/s]\n",
            "                 all         127         909        0.63       0.493       0.485       0.134\n",
            "\n",
            "     Epoch   gpu_mem       box       obj       cls     total   targets  img_size\n",
            "   163/199      1.8G   0.05225   0.05202  0.004162    0.1084       217       416: 100% 84/84 [00:14<00:00,  5.94it/s]\n",
            "               Class      Images     Targets           P           R      mAP@.5  mAP@.5:.95: 100% 4/4 [00:01<00:00,  3.77it/s]\n",
            "                 all         127         909       0.613       0.507       0.491        0.14\n",
            "\n",
            "     Epoch   gpu_mem       box       obj       cls     total   targets  img_size\n",
            "   164/199      1.8G    0.0524   0.05042  0.004142     0.107       168       416: 100% 84/84 [00:14<00:00,  5.89it/s]\n",
            "               Class      Images     Targets           P           R      mAP@.5  mAP@.5:.95: 100% 4/4 [00:01<00:00,  3.77it/s]\n",
            "                 all         127         909       0.589       0.468       0.463       0.129\n",
            "\n",
            "     Epoch   gpu_mem       box       obj       cls     total   targets  img_size\n",
            "   165/199      1.8G   0.05206   0.05195  0.004002     0.108       168       416: 100% 84/84 [00:14<00:00,  5.89it/s]\n",
            "               Class      Images     Targets           P           R      mAP@.5  mAP@.5:.95: 100% 4/4 [00:01<00:00,  3.81it/s]\n",
            "                 all         127         909       0.652       0.469       0.476       0.139\n",
            "\n",
            "     Epoch   gpu_mem       box       obj       cls     total   targets  img_size\n",
            "   166/199      1.8G   0.05222   0.05181  0.003758    0.1078       213       416: 100% 84/84 [00:14<00:00,  5.88it/s]\n",
            "               Class      Images     Targets           P           R      mAP@.5  mAP@.5:.95: 100% 4/4 [00:01<00:00,  3.67it/s]\n",
            "                 all         127         909       0.627       0.508        0.49       0.149\n",
            "\n",
            "     Epoch   gpu_mem       box       obj       cls     total   targets  img_size\n",
            "   167/199      1.8G   0.05178   0.05199  0.004055    0.1078       197       416: 100% 84/84 [00:14<00:00,  5.88it/s]\n",
            "               Class      Images     Targets           P           R      mAP@.5  mAP@.5:.95: 100% 4/4 [00:01<00:00,  3.69it/s]\n",
            "                 all         127         909       0.593       0.507       0.486       0.139\n",
            "\n",
            "     Epoch   gpu_mem       box       obj       cls     total   targets  img_size\n",
            "   168/199      1.8G   0.05165   0.05136  0.003938    0.1069       209       416: 100% 84/84 [00:14<00:00,  5.89it/s]\n",
            "               Class      Images     Targets           P           R      mAP@.5  mAP@.5:.95: 100% 4/4 [00:01<00:00,  3.69it/s]\n",
            "                 all         127         909       0.654       0.486       0.491       0.144\n",
            "\n",
            "     Epoch   gpu_mem       box       obj       cls     total   targets  img_size\n",
            "   169/199      1.8G   0.05228   0.05219  0.004036    0.1085       339       416: 100% 84/84 [00:14<00:00,  5.94it/s]\n",
            "               Class      Images     Targets           P           R      mAP@.5  mAP@.5:.95: 100% 4/4 [00:01<00:00,  3.74it/s]\n",
            "                 all         127         909        0.62        0.47       0.472       0.137\n",
            "\n",
            "     Epoch   gpu_mem       box       obj       cls     total   targets  img_size\n",
            "   170/199      1.8G   0.05194   0.05173  0.004199    0.1079       265       416: 100% 84/84 [00:14<00:00,  5.92it/s]\n",
            "               Class      Images     Targets           P           R      mAP@.5  mAP@.5:.95: 100% 4/4 [00:01<00:00,  3.73it/s]\n",
            "                 all         127         909       0.643       0.484       0.492       0.136\n",
            "\n",
            "     Epoch   gpu_mem       box       obj       cls     total   targets  img_size\n",
            "   171/199      1.8G   0.05226   0.05139  0.003846    0.1075       226       416: 100% 84/84 [00:14<00:00,  5.91it/s]\n",
            "               Class      Images     Targets           P           R      mAP@.5  mAP@.5:.95: 100% 4/4 [00:01<00:00,  3.71it/s]\n",
            "                 all         127         909       0.607       0.472       0.471       0.134\n",
            "\n",
            "     Epoch   gpu_mem       box       obj       cls     total   targets  img_size\n",
            "   172/199      1.8G   0.05166   0.05092  0.003924    0.1065       245       416: 100% 84/84 [00:14<00:00,  5.89it/s]\n",
            "               Class      Images     Targets           P           R      mAP@.5  mAP@.5:.95: 100% 4/4 [00:01<00:00,  3.72it/s]\n",
            "                 all         127         909       0.644       0.472        0.47       0.135\n",
            "\n",
            "     Epoch   gpu_mem       box       obj       cls     total   targets  img_size\n",
            "   173/199      1.8G   0.05186   0.05162  0.003963    0.1074       214       416: 100% 84/84 [00:14<00:00,  5.90it/s]\n",
            "               Class      Images     Targets           P           R      mAP@.5  mAP@.5:.95: 100% 4/4 [00:01<00:00,  3.76it/s]\n",
            "                 all         127         909       0.651       0.463       0.473       0.138\n",
            "\n",
            "     Epoch   gpu_mem       box       obj       cls     total   targets  img_size\n",
            "   174/199      1.8G   0.05151    0.0511  0.003727    0.1063       140       416: 100% 84/84 [00:14<00:00,  5.87it/s]\n",
            "               Class      Images     Targets           P           R      mAP@.5  mAP@.5:.95: 100% 4/4 [00:01<00:00,  3.73it/s]\n",
            "                 all         127         909        0.65       0.469       0.478       0.138\n",
            "\n",
            "     Epoch   gpu_mem       box       obj       cls     total   targets  img_size\n",
            "   175/199      1.8G   0.05197   0.05212  0.003854    0.1079       209       416: 100% 84/84 [00:14<00:00,  5.94it/s]\n",
            "               Class      Images     Targets           P           R      mAP@.5  mAP@.5:.95: 100% 4/4 [00:01<00:00,  3.76it/s]\n",
            "                 all         127         909       0.668       0.443        0.47       0.133\n",
            "\n",
            "     Epoch   gpu_mem       box       obj       cls     total   targets  img_size\n",
            "   176/199      1.8G   0.05176    0.0515  0.004049    0.1073       378       416: 100% 84/84 [00:14<00:00,  5.92it/s]\n",
            "               Class      Images     Targets           P           R      mAP@.5  mAP@.5:.95: 100% 4/4 [00:01<00:00,  3.70it/s]\n",
            "                 all         127         909       0.628       0.462       0.471       0.135\n",
            "\n",
            "     Epoch   gpu_mem       box       obj       cls     total   targets  img_size\n",
            "   177/199      1.8G    0.0518   0.05277  0.003642    0.1082       213       416: 100% 84/84 [00:14<00:00,  5.92it/s]\n",
            "               Class      Images     Targets           P           R      mAP@.5  mAP@.5:.95: 100% 4/4 [00:01<00:00,  3.68it/s]\n",
            "                 all         127         909       0.657       0.476       0.494       0.145\n",
            "\n",
            "     Epoch   gpu_mem       box       obj       cls     total   targets  img_size\n",
            "   178/199      1.8G   0.05147    0.0523  0.003457    0.1072       278       416: 100% 84/84 [00:14<00:00,  5.91it/s]\n",
            "               Class      Images     Targets           P           R      mAP@.5  mAP@.5:.95: 100% 4/4 [00:01<00:00,  3.78it/s]\n",
            "                 all         127         909       0.697       0.456       0.489       0.129\n",
            "\n",
            "     Epoch   gpu_mem       box       obj       cls     total   targets  img_size\n",
            "   179/199      1.8G   0.05211   0.05174  0.003982    0.1078       159       416: 100% 84/84 [00:14<00:00,  5.94it/s]\n",
            "               Class      Images     Targets           P           R      mAP@.5  mAP@.5:.95: 100% 4/4 [00:01<00:00,  3.67it/s]\n",
            "                 all         127         909        0.63       0.509       0.499       0.141\n",
            "\n",
            "     Epoch   gpu_mem       box       obj       cls     total   targets  img_size\n",
            "   180/199      1.8G   0.05142   0.05201  0.003928    0.1074       351       416: 100% 84/84 [00:14<00:00,  5.86it/s]\n",
            "               Class      Images     Targets           P           R      mAP@.5  mAP@.5:.95: 100% 4/4 [00:01<00:00,  3.69it/s]\n",
            "                 all         127         909       0.653       0.452       0.478       0.131\n",
            "\n",
            "     Epoch   gpu_mem       box       obj       cls     total   targets  img_size\n",
            "   181/199      1.8G   0.05122   0.05168  0.003565    0.1065       237       416: 100% 84/84 [00:14<00:00,  5.90it/s]\n",
            "               Class      Images     Targets           P           R      mAP@.5  mAP@.5:.95: 100% 4/4 [00:01<00:00,  3.76it/s]\n",
            "                 all         127         909       0.646       0.478       0.488       0.132\n",
            "\n",
            "     Epoch   gpu_mem       box       obj       cls     total   targets  img_size\n",
            "   182/199      1.8G   0.05209   0.05182  0.003698    0.1076       316       416: 100% 84/84 [00:14<00:00,  5.92it/s]\n",
            "               Class      Images     Targets           P           R      mAP@.5  mAP@.5:.95: 100% 4/4 [00:01<00:00,  3.78it/s]\n",
            "                 all         127         909       0.683       0.453       0.479       0.138\n",
            "\n",
            "     Epoch   gpu_mem       box       obj       cls     total   targets  img_size\n",
            "   183/199      1.8G   0.05157   0.05088  0.003667    0.1061       172       416: 100% 84/84 [00:14<00:00,  5.89it/s]\n",
            "               Class      Images     Targets           P           R      mAP@.5  mAP@.5:.95: 100% 4/4 [00:01<00:00,  3.85it/s]\n",
            "                 all         127         909       0.687       0.472         0.5       0.141\n",
            "\n",
            "     Epoch   gpu_mem       box       obj       cls     total   targets  img_size\n",
            "   184/199      1.8G   0.05074   0.05025  0.003896    0.1049       255       416: 100% 84/84 [00:14<00:00,  5.91it/s]\n",
            "               Class      Images     Targets           P           R      mAP@.5  mAP@.5:.95: 100% 4/4 [00:01<00:00,  3.80it/s]\n",
            "                 all         127         909       0.653       0.498       0.497        0.15\n",
            "\n",
            "     Epoch   gpu_mem       box       obj       cls     total   targets  img_size\n",
            "   185/199      1.8G   0.05138    0.0507  0.003836    0.1059       341       416: 100% 84/84 [00:14<00:00,  5.85it/s]\n",
            "               Class      Images     Targets           P           R      mAP@.5  mAP@.5:.95: 100% 4/4 [00:01<00:00,  3.73it/s]\n",
            "                 all         127         909       0.666        0.46       0.492       0.142\n",
            "\n",
            "     Epoch   gpu_mem       box       obj       cls     total   targets  img_size\n",
            "   186/199      1.8G    0.0519   0.05145  0.003813    0.1072       247       416: 100% 84/84 [00:14<00:00,  5.93it/s]\n",
            "               Class      Images     Targets           P           R      mAP@.5  mAP@.5:.95: 100% 4/4 [00:01<00:00,  3.84it/s]\n",
            "                 all         127         909       0.616       0.506       0.492       0.144\n",
            "\n",
            "     Epoch   gpu_mem       box       obj       cls     total   targets  img_size\n",
            "   187/199      1.8G   0.05079   0.05061  0.003466    0.1049       205       416: 100% 84/84 [00:14<00:00,  5.89it/s]\n",
            "               Class      Images     Targets           P           R      mAP@.5  mAP@.5:.95: 100% 4/4 [00:01<00:00,  3.78it/s]\n",
            "                 all         127         909       0.662       0.446       0.478       0.138\n",
            "\n",
            "     Epoch   gpu_mem       box       obj       cls     total   targets  img_size\n",
            "   188/199      1.8G   0.05096   0.04968  0.003482    0.1041       196       416: 100% 84/84 [00:14<00:00,  5.94it/s]\n",
            "               Class      Images     Targets           P           R      mAP@.5  mAP@.5:.95: 100% 4/4 [00:01<00:00,  3.76it/s]\n",
            "                 all         127         909       0.654        0.45        0.48       0.132\n",
            "\n",
            "     Epoch   gpu_mem       box       obj       cls     total   targets  img_size\n",
            "   189/199      1.8G    0.0514   0.05008  0.003667    0.1052       185       416: 100% 84/84 [00:14<00:00,  5.91it/s]\n",
            "               Class      Images     Targets           P           R      mAP@.5  mAP@.5:.95: 100% 4/4 [00:01<00:00,  3.72it/s]\n",
            "                 all         127         909       0.685       0.486       0.506       0.145\n",
            "\n",
            "     Epoch   gpu_mem       box       obj       cls     total   targets  img_size\n",
            "   190/199      1.8G   0.05113   0.05008  0.003788     0.105       144       416: 100% 84/84 [00:14<00:00,  5.96it/s]\n",
            "               Class      Images     Targets           P           R      mAP@.5  mAP@.5:.95: 100% 4/4 [00:01<00:00,  3.83it/s]\n",
            "                 all         127         909       0.668        0.48       0.497       0.146\n",
            "\n",
            "     Epoch   gpu_mem       box       obj       cls     total   targets  img_size\n",
            "   191/199      1.8G   0.05167   0.05157  0.003588    0.1068       223       416: 100% 84/84 [00:14<00:00,  5.94it/s]\n",
            "               Class      Images     Targets           P           R      mAP@.5  mAP@.5:.95: 100% 4/4 [00:01<00:00,  3.85it/s]\n",
            "                 all         127         909       0.684       0.475       0.489       0.138\n",
            "\n",
            "     Epoch   gpu_mem       box       obj       cls     total   targets  img_size\n",
            "   192/199      1.8G   0.05069   0.05125  0.003474    0.1054       162       416: 100% 84/84 [00:14<00:00,  5.91it/s]\n",
            "               Class      Images     Targets           P           R      mAP@.5  mAP@.5:.95: 100% 4/4 [00:01<00:00,  3.86it/s]\n",
            "                 all         127         909       0.671       0.484         0.5       0.144\n",
            "\n",
            "     Epoch   gpu_mem       box       obj       cls     total   targets  img_size\n",
            "   193/199      1.8G   0.05035   0.05022  0.003442     0.104       228       416: 100% 84/84 [00:14<00:00,  5.96it/s]\n",
            "               Class      Images     Targets           P           R      mAP@.5  mAP@.5:.95: 100% 4/4 [00:01<00:00,  3.70it/s]\n",
            "                 all         127         909       0.643       0.497       0.488       0.131\n",
            "\n",
            "     Epoch   gpu_mem       box       obj       cls     total   targets  img_size\n",
            "   194/199      1.8G   0.05076   0.04957  0.003334    0.1037       221       416: 100% 84/84 [00:14<00:00,  5.93it/s]\n",
            "               Class      Images     Targets           P           R      mAP@.5  mAP@.5:.95: 100% 4/4 [00:01<00:00,  3.96it/s]\n",
            "                 all         127         909       0.671       0.433       0.476       0.136\n",
            "\n",
            "     Epoch   gpu_mem       box       obj       cls     total   targets  img_size\n",
            "   195/199      1.8G   0.05034   0.04996  0.003452    0.1038       228       416: 100% 84/84 [00:14<00:00,  5.94it/s]\n",
            "               Class      Images     Targets           P           R      mAP@.5  mAP@.5:.95: 100% 4/4 [00:01<00:00,  3.71it/s]\n",
            "                 all         127         909       0.672       0.484       0.497       0.147\n",
            "\n",
            "     Epoch   gpu_mem       box       obj       cls     total   targets  img_size\n",
            "   196/199      1.8G   0.05135   0.05005  0.003542    0.1049       210       416: 100% 84/84 [00:14<00:00,  5.94it/s]\n",
            "               Class      Images     Targets           P           R      mAP@.5  mAP@.5:.95: 100% 4/4 [00:01<00:00,  3.83it/s]\n",
            "                 all         127         909       0.631       0.522       0.502       0.145\n",
            "\n",
            "     Epoch   gpu_mem       box       obj       cls     total   targets  img_size\n",
            "   197/199      1.8G   0.05073   0.05091  0.003568    0.1052       232       416: 100% 84/84 [00:14<00:00,  5.90it/s]\n",
            "               Class      Images     Targets           P           R      mAP@.5  mAP@.5:.95: 100% 4/4 [00:01<00:00,  3.77it/s]\n",
            "                 all         127         909       0.663       0.497       0.508       0.149\n",
            "\n",
            "     Epoch   gpu_mem       box       obj       cls     total   targets  img_size\n",
            "   198/199      1.8G   0.05069    0.0501  0.003416    0.1042       294       416: 100% 84/84 [00:14<00:00,  5.89it/s]\n",
            "               Class      Images     Targets           P           R      mAP@.5  mAP@.5:.95: 100% 4/4 [00:01<00:00,  3.74it/s]\n",
            "                 all         127         909       0.644       0.485       0.495        0.15\n",
            "\n",
            "     Epoch   gpu_mem       box       obj       cls     total   targets  img_size\n",
            "   199/199      1.8G   0.05053   0.05117  0.003133    0.1048       241       416: 100% 84/84 [00:14<00:00,  5.97it/s]\n",
            "               Class      Images     Targets           P           R      mAP@.5  mAP@.5:.95: 100% 4/4 [00:02<00:00,  1.41it/s]\n",
            "                 all         127         909       0.587       0.535        0.51       0.147\n",
            "                fish         127         459       0.603        0.51       0.489       0.129\n",
            "           jellyfish         127         155       0.622       0.787       0.766       0.263\n",
            "             penguin         127         104       0.429       0.519       0.455       0.103\n",
            "              puffin         127          74       0.488         0.4       0.327      0.0889\n",
            "               shark         127          57       0.659       0.543       0.512       0.151\n",
            "            starfish         127          27       0.636       0.481       0.468       0.155\n",
            "            stingray         127          33       0.675       0.503       0.553       0.141\n",
            "Optimizer stripped from runs/train/yolov5s_results/weights/last.pt, 14.8MB\n",
            "Optimizer stripped from runs/train/yolov5s_results/weights/best.pt, 14.8MB\n",
            "200 epochs completed in 0.884 hours.\n",
            "\n",
            "CPU times: user 44.7 s, sys: 6.34 s, total: 51 s\n",
            "Wall time: 53min 37s\n"
          ]
        }
      ]
    },
    {
      "cell_type": "markdown",
      "metadata": {
        "id": "kJVs_4zEeVbF"
      },
      "source": [
        "# Evaluate Custom YOLOv5 Detector Performance"
      ]
    },
    {
      "cell_type": "code",
      "metadata": {
        "id": "64hxpt4YHgQv"
      },
      "source": [
        "!nvcc --version"
      ],
      "execution_count": null,
      "outputs": []
    },
    {
      "cell_type": "markdown",
      "metadata": {
        "id": "7KN5ghjE6ZWh"
      },
      "source": [
        "Training losses and performance metrics are saved to Tensorboard and also to a logfile defined above with the **--name** flag when we train. In our case, we named this `yolov5s_results`. (If given no name, it defaults to `results.txt`.) The results file is plotted as a png after training completes.\n",
        "\n",
        "Note from Glenn: Partially completed `results.txt` files can be plotted with `from utils.utils import plot_results; plot_results()`."
      ]
    },
    {
      "cell_type": "code",
      "metadata": {
        "id": "bOy5KI2ncnWd"
      },
      "source": [
        "# Start tensorboard\n",
        "# Launch after you have started training\n",
        "# logs save in the folder \"runs\"\n",
        "%load_ext tensorboard\n",
        "%tensorboard --logdir runs"
      ],
      "execution_count": null,
      "outputs": []
    },
    {
      "cell_type": "code",
      "metadata": {
        "id": "C60XAsyv6OPe"
      },
      "source": [
        "# we can also output some older school graphs if the tensor board isn't working for whatever reason... \n",
        "from utils.plots import plot_results  # plot results.txt as results.png\n",
        "Image(filename='/content/yolov5/runs/train/yolov5s_results/results.png', width=1000)  # view results.png"
      ],
      "execution_count": null,
      "outputs": []
    },
    {
      "cell_type": "markdown",
      "metadata": {
        "id": "DLI1JmHU7B0l"
      },
      "source": [
        "### Curious? Visualize Our Training Data with Labels\n",
        "\n",
        "After training starts, view `train*.jpg` images to see training images, labels and augmentation effects.\n",
        "\n",
        "Note a mosaic dataloader is used for training (shown below), a new dataloading concept developed by Glenn Jocher and first featured in [YOLOv4](https://arxiv.org/abs/2004.10934)."
      ]
    },
    {
      "cell_type": "code",
      "metadata": {
        "id": "PF9MLHDb7tB6"
      },
      "source": [
        "# first, display our ground truth data\n",
        "print(\"GROUND TRUTH TRAINING DATA:\")\n",
        "Image(filename='/content/yolov5/runs/train/yolov5s_results/test_batch0_labels.jpg', width=900)"
      ],
      "execution_count": null,
      "outputs": []
    },
    {
      "cell_type": "code",
      "metadata": {
        "id": "W40tI99_7BcH"
      },
      "source": [
        "# print out an augmented training example\n",
        "print(\"GROUND TRUTH AUGMENTED TRAINING DATA:\")\n",
        "Image(filename='/content/yolov5/runs/train/yolov5s_results/train_batch0.jpg', width=900)"
      ],
      "execution_count": null,
      "outputs": []
    },
    {
      "cell_type": "markdown",
      "metadata": {
        "id": "N3qM6T0W53gh"
      },
      "source": [
        "#Run Inference  With Trained Weights\n",
        "Run inference with a pretrained checkpoint on contents of `test/images` folder downloaded from Roboflow."
      ]
    },
    {
      "cell_type": "code",
      "metadata": {
        "id": "yIEwt5YLeQ7P"
      },
      "source": [
        "# trained weights are saved by default in our weights folder\n",
        "%ls runs/"
      ],
      "execution_count": null,
      "outputs": []
    },
    {
      "cell_type": "code",
      "metadata": {
        "id": "4SyOWS80qR32"
      },
      "source": [
        "%ls runs/train/yolov5s_results/weights"
      ],
      "execution_count": null,
      "outputs": []
    },
    {
      "cell_type": "markdown",
      "metadata": {
        "id": "rRhZmqhMqQtQ"
      },
      "source": [
        ""
      ]
    },
    {
      "cell_type": "code",
      "metadata": {
        "id": "9nmZZnWOgJ2S"
      },
      "source": [
        "# when we ran this, we saw .007 second inference time. That is 140 FPS on a TESLA P100!\n",
        "# use the best weights!\n",
        "%cd /content/yolov5/\n",
        "!python detect.py --weights /content/yolov5/runs/train/yolov5s_results/weights/best.pt --img 416 --iou-thres 0.3 --conf 0.3 --source ../test/images"
      ],
      "execution_count": null,
      "outputs": []
    },
    {
      "cell_type": "code",
      "metadata": {
        "id": "MaP92VAckFST"
      },
      "source": [
        ""
      ],
      "execution_count": null,
      "outputs": []
    },
    {
      "cell_type": "code",
      "metadata": {
        "id": "odKEqYtTgbRc"
      },
      "source": [
        "#display inference on ALL test images\n",
        "#this looks much better with longer training above\n",
        "\n",
        "import glob\n",
        "from IPython.display import Image, display\n",
        "\n",
        "for imageName in glob.glob('/content/yolov5/runs/detect/exp/*.jpg'): #assuming JPG\n",
        "    display(Image(filename=imageName))\n",
        "    print(\"\\n\")"
      ],
      "execution_count": null,
      "outputs": []
    },
    {
      "cell_type": "markdown",
      "metadata": {
        "id": "_uPq9mVgiBql"
      },
      "source": [
        "# Export Trained Weights for Future Inference\n",
        "\n",
        "Now that you have trained your custom detector, you can export the trained weights you have made here for inference on your device elsewhere"
      ]
    },
    {
      "cell_type": "code",
      "metadata": {
        "id": "YH4CTzDRh00g"
      },
      "source": [
        "from google.colab import drive\n",
        "drive.mount('/content/gdrive')"
      ],
      "execution_count": null,
      "outputs": []
    },
    {
      "cell_type": "code",
      "metadata": {
        "id": "1x_wg3VeiXMW"
      },
      "source": [
        "%cp /content/yolov5/runs/train/yolov5s_results/weights/best.pt /content/gdrive/My\\ Drive"
      ],
      "execution_count": null,
      "outputs": []
    },
    {
      "cell_type": "markdown",
      "metadata": {
        "id": "LVpCFeU-K4gb"
      },
      "source": [
        "## Congrats!\n",
        "\n",
        "Hope you enjoyed this!\n",
        "\n"
      ]
    },
    {
      "cell_type": "code",
      "metadata": {
        "id": "319um5Ujef-b",
        "outputId": "bf12b67f-a1f4-4263-f444-fc40a56857ae",
        "colab": {
          "base_uri": "https://localhost:8080/"
        }
      },
      "source": [
        "!pwd"
      ],
      "execution_count": 17,
      "outputs": [
        {
          "output_type": "stream",
          "name": "stdout",
          "text": [
            "/content/yolov5\n"
          ]
        }
      ]
    },
    {
      "cell_type": "code",
      "metadata": {
        "id": "Gx43btfkeavT"
      },
      "source": [
        "!cp /content/drive/MyDrive/kosa-2021/*.mkv ./.."
      ],
      "execution_count": 19,
      "outputs": []
    },
    {
      "cell_type": "code",
      "metadata": {
        "id": "xT3sMMXNB4PP"
      },
      "source": [
        "!python detect.py --weights /content/yolov5/runs/train/yolov5s_results/weights/best.pt --img 416 --iou-thres 0.2 --conf 0.15 --source ../aquarium.mkv"
      ],
      "execution_count": null,
      "outputs": []
    },
    {
      "cell_type": "code",
      "metadata": {
        "id": "yWrTJM0ngemc"
      },
      "source": [
        "!cp /content/yolov5/runs/detect/exp4/aquarium.mkv /content/drive/MyDrive"
      ],
      "execution_count": 24,
      "outputs": []
    }
  ]
}