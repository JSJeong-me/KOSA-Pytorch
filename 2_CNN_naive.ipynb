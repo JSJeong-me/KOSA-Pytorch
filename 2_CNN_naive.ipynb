{
  "nbformat": 4,
  "nbformat_minor": 0,
  "metadata": {
    "kernelspec": {
      "name": "python3",
      "display_name": "Python 3"
    },
    "colab": {
      "name": "2_CNN_naive.ipynb",
      "provenance": [],
      "include_colab_link": true
    },
    "language_info": {
      "name": "python"
    },
    "accelerator": "GPU"
  },
  "cells": [
    {
      "cell_type": "markdown",
      "metadata": {
        "id": "view-in-github",
        "colab_type": "text"
      },
      "source": [
        "<a href=\"https://colab.research.google.com/github/JSJeong-me/KOSA-Pytorch/blob/main/2_CNN_naive.ipynb\" target=\"_parent\"><img src=\"https://colab.research.google.com/assets/colab-badge.svg\" alt=\"Open In Colab\"/></a>"
      ]
    },
    {
      "cell_type": "markdown",
      "metadata": {
        "id": "V-8Yjca8Z9_N"
      },
      "source": [
        "# Convolutional Neural Network\n",
        "- MNIST data\n",
        "- 3 convolutional layers\n",
        "- 2 fully connected layers"
      ]
    },
    {
      "cell_type": "markdown",
      "metadata": {
        "id": "o9UwjQW3Z9_P"
      },
      "source": [
        "## 1. Settings\n",
        "### 1) Import required libraries"
      ]
    },
    {
      "cell_type": "code",
      "metadata": {
        "tags": [],
        "id": "UJ6WZvoGZ9_Q"
      },
      "source": [
        "import numpy as np\n",
        "import torch\n",
        "import torch.nn as nn\n",
        "import torch.optim as optim\n",
        "import torch.nn.init as init\n",
        "import torchvision.datasets as dset\n",
        "import torchvision.transforms as transforms\n",
        "from torch.utils.data import DataLoader\n",
        "from torch.autograd import Variable\n"
      ],
      "execution_count": 2,
      "outputs": []
    },
    {
      "cell_type": "markdown",
      "metadata": {
        "id": "mr5ieg3SZ9_Q"
      },
      "source": [
        "### 3) Set hyperparameters"
      ]
    },
    {
      "cell_type": "code",
      "metadata": {
        "tags": [],
        "id": "FKiRVK0sZ9_Q"
      },
      "source": [
        "batch_size = 16\n",
        "learning_rate = 0.0002\n",
        "num_epoch = 10"
      ],
      "execution_count": 3,
      "outputs": []
    },
    {
      "cell_type": "markdown",
      "metadata": {
        "id": "JFvpHzmmZ9_R"
      },
      "source": [
        "## 3. Data Generation\n",
        "\n",
        "### 1) Download Data"
      ]
    },
    {
      "cell_type": "code",
      "metadata": {
        "tags": [],
        "id": "7g7eU-ghZ9_R"
      },
      "source": [
        "mnist_train = dset.MNIST(\"./\", train=True, transform=transforms.ToTensor(), target_transform=None, download=True)\n",
        "mnist_test = dset.MNIST(\"./\", train=False, transform=transforms.ToTensor(), target_transform=None, download=True)"
      ],
      "execution_count": null,
      "outputs": []
    },
    {
      "cell_type": "markdown",
      "metadata": {
        "id": "x-Cd1SqXZ9_R"
      },
      "source": [
        "### 2) Check Dataset"
      ]
    },
    {
      "cell_type": "code",
      "metadata": {
        "scrolled": true,
        "id": "25nJgY2kZ9_R"
      },
      "source": [
        "print(mnist_train.__getitem__(0), mnist_train.__len__())\n",
        "mnist_test.__getitem__(0), mnist_test.__len__()"
      ],
      "execution_count": null,
      "outputs": []
    },
    {
      "cell_type": "markdown",
      "metadata": {
        "id": "6r615Dy2Z9_R"
      },
      "source": [
        "### 3) Set DataLoader"
      ]
    },
    {
      "cell_type": "code",
      "metadata": {
        "tags": [],
        "id": "-5ADI8pvZ9_S"
      },
      "source": [
        "train_loader = torch.utils.data.DataLoader(mnist_train,batch_size=batch_size, shuffle=True,num_workers=2,drop_last=True)\n",
        "test_loader = torch.utils.data.DataLoader(mnist_test,batch_size=batch_size, shuffle=False,num_workers=2,drop_last=True)"
      ],
      "execution_count": 6,
      "outputs": []
    },
    {
      "cell_type": "markdown",
      "metadata": {
        "id": "pu3ppe7BZ9_S"
      },
      "source": [
        "## 4. Model & Optimizer\n",
        "\n",
        "### 1) CNN Model"
      ]
    },
    {
      "cell_type": "code",
      "metadata": {
        "tags": [],
        "id": "_rFOfmtxZ9_S"
      },
      "source": [
        "class CNN(nn.Module):\n",
        "    def __init__(self):\n",
        "        super(CNN,self).__init__()\n",
        "        self.layer_1 = nn.Conv2d(1,16,5)\n",
        "        self.act_1 = nn.ReLU()\n",
        "        \n",
        "        self.layer_2 = nn.Conv2d(16,32,5)\n",
        "        self.act_2 = nn.ReLU()\n",
        "        self.max_2 = nn.MaxPool2d(2,2)\n",
        "        \n",
        "        self.layer_3 = nn.Conv2d(32,64,5)\n",
        "        self.act_3 = nn.ReLU()\n",
        "        self.max_3 = nn.MaxPool2d(2,2)\n",
        "        \n",
        "        self.fc_layer_1 = nn.Linear(64*3*3,100)\n",
        "        self.act_4 = nn.ReLU()\n",
        "        self.fc_layer_2 = nn.Linear(100,10)\n",
        "    \n",
        "    def forward(self,x):\n",
        "        out = self.layer_1(x)\n",
        "        out = self.act_1(out)\n",
        "        for module in list(self.modules())[2:-3]:\n",
        "            out = module(out)\n",
        "        out = out.view(batch_size,-1)\n",
        "        for module in list(self.modules())[-3:]:\n",
        "            out = module(out)\n",
        "\n",
        "        return out\n",
        "\n",
        "model = CNN().cuda()"
      ],
      "execution_count": null,
      "outputs": []
    },
    {
      "cell_type": "markdown",
      "metadata": {
        "id": "dMEF_o2jZ9_S"
      },
      "source": [
        "### 2) Loss func & Optimizer"
      ]
    },
    {
      "cell_type": "code",
      "metadata": {
        "tags": [],
        "id": "mjjYmryRZ9_S"
      },
      "source": [
        "loss_func = nn.CrossEntropyLoss()\n",
        "optimizer = torch.optim.SGD(model.parameters(), lr=learning_rate)"
      ],
      "execution_count": 8,
      "outputs": []
    },
    {
      "cell_type": "markdown",
      "metadata": {
        "id": "PjT6yMC1Z9_T"
      },
      "source": [
        "## 5. Train "
      ]
    },
    {
      "cell_type": "code",
      "metadata": {
        "scrolled": true,
        "id": "6_odi73VZ9_T"
      },
      "source": [
        "for i in range(num_epoch):\n",
        "    for j,[image,label] in enumerate(train_loader):\n",
        "        x = Variable(image).cuda()\n",
        "        y_= Variable(label).cuda()\n",
        "        \n",
        "        optimizer.zero_grad()\n",
        "        output = model.forward(x)\n",
        "        loss = loss_func(output,y_)\n",
        "        loss.backward()\n",
        "        optimizer.step()\n",
        "        \n",
        "        if j % 1000 == 0:\n",
        "            print(loss)            "
      ],
      "execution_count": null,
      "outputs": []
    },
    {
      "cell_type": "code",
      "metadata": {
        "id": "6X6uHqzdZ9_T"
      },
      "source": [
        "param_list = list(model.parameters())\n",
        "#print(param_list)"
      ],
      "execution_count": 10,
      "outputs": []
    },
    {
      "cell_type": "markdown",
      "metadata": {
        "id": "9q_WqN-MZ9_T"
      },
      "source": [
        "## 6. Test"
      ]
    },
    {
      "cell_type": "code",
      "metadata": {
        "colab": {
          "base_uri": "https://localhost:8080/"
        },
        "id": "5_AaEy5zZ9_T",
        "outputId": "ef17e287-66d1-4492-fec0-854481ce3e2d"
      },
      "source": [
        "correct = 0\n",
        "total = 0\n",
        "\n",
        "for image,label in test_loader:\n",
        "    x = Variable(image,volatile=True).cuda()\n",
        "    y_= Variable(label).cuda()\n",
        "\n",
        "    output = model.forward(x)\n",
        "    _,output_index = torch.max(output,1)\n",
        "        \n",
        "    total += label.size(0)\n",
        "    correct += (output_index == y_).sum().float()\n",
        "    \n",
        "print(\"Accuracy of Test Data: {}\".format(100*correct/total))"
      ],
      "execution_count": 11,
      "outputs": [
        {
          "output_type": "stream",
          "text": [
            "/usr/local/lib/python3.7/dist-packages/ipykernel_launcher.py:5: UserWarning: volatile was removed and now has no effect. Use `with torch.no_grad():` instead.\n",
            "  \"\"\"\n"
          ],
          "name": "stderr"
        },
        {
          "output_type": "stream",
          "text": [
            "Accuracy of Test Data: 90.19999694824219\n"
          ],
          "name": "stdout"
        }
      ]
    },
    {
      "cell_type": "code",
      "metadata": {
        "id": "pQhy_70DZ9_U"
      },
      "source": [
        ""
      ],
      "execution_count": 11,
      "outputs": []
    }
  ]
}