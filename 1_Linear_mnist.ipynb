{
  "nbformat": 4,
  "nbformat_minor": 0,
  "metadata": {
    "kernelspec": {
      "display_name": "Python 3",
      "language": "python",
      "name": "python3"
    },
    "language_info": {
      "codemirror_mode": {
        "name": "ipython",
        "version": 3
      },
      "file_extension": ".py",
      "mimetype": "text/x-python",
      "name": "python",
      "nbconvert_exporter": "python",
      "pygments_lexer": "ipython3",
      "version": "3.8.3"
    },
    "colab": {
      "name": "1_Linear_mnist.ipynb",
      "provenance": [],
      "include_colab_link": true
    },
    "accelerator": "GPU"
  },
  "cells": [
    {
      "cell_type": "markdown",
      "metadata": {
        "id": "view-in-github",
        "colab_type": "text"
      },
      "source": [
        "<a href=\"https://colab.research.google.com/github/JSJeong-me/KOSA-Pytorch/blob/main/1_Linear_mnist.ipynb\" target=\"_parent\"><img src=\"https://colab.research.google.com/assets/colab-badge.svg\" alt=\"Open In Colab\"/></a>"
      ]
    },
    {
      "cell_type": "markdown",
      "metadata": {
        "id": "i9utEBM5iZ9k"
      },
      "source": [
        "# Convolutional Neural Network\n",
        "- MNIST data\n",
        "- only fully connected layers"
      ]
    },
    {
      "cell_type": "markdown",
      "metadata": {
        "id": "Qc8Pk41LiZ9k"
      },
      "source": [
        "## 1. Settings\n",
        "### 1) Import required libraries"
      ]
    },
    {
      "cell_type": "code",
      "metadata": {
        "jupyter": {
          "outputs_hidden": false
        },
        "id": "yc6IqK1giZ9l"
      },
      "source": [
        "import numpy as np\n",
        "import torch\n",
        "import torch.nn as nn\n",
        "import torch.optim as optim\n",
        "import torch.nn.init as init\n",
        "import torchvision.datasets as dset\n",
        "import torchvision.transforms as transforms\n",
        "from torch.utils.data import DataLoader\n",
        "from torch.autograd import Variable"
      ],
      "execution_count": 4,
      "outputs": []
    },
    {
      "cell_type": "markdown",
      "metadata": {
        "id": "hHhYt0lziZ9l"
      },
      "source": [
        "### 2) Set hyperparameters"
      ]
    },
    {
      "cell_type": "code",
      "metadata": {
        "tags": [],
        "id": "6mre4iaBiZ9m"
      },
      "source": [
        "batch_size = 16\n",
        "learning_rate = 0.0002\n",
        "num_epoch = 10"
      ],
      "execution_count": 1,
      "outputs": []
    },
    {
      "cell_type": "markdown",
      "metadata": {
        "id": "d3C5giUbiZ9m"
      },
      "source": [
        "## 3. Data Generation\n",
        "\n",
        "### 1) Download Data"
      ]
    },
    {
      "cell_type": "code",
      "metadata": {
        "jupyter": {
          "outputs_hidden": false
        },
        "id": "0tQ3GHUuiZ9m"
      },
      "source": [
        "mnist_train = dset.MNIST(\"./\", train=True, transform=transforms.ToTensor(), target_transform=None, download=True)\n",
        "mnist_test = dset.MNIST(\"./\", train=False, transform=transforms.ToTensor(), target_transform=None, download=True)"
      ],
      "execution_count": null,
      "outputs": []
    },
    {
      "cell_type": "markdown",
      "metadata": {
        "id": "_8-uwUeRiZ9m"
      },
      "source": [
        "### 2) Check Dataset"
      ]
    },
    {
      "cell_type": "code",
      "metadata": {
        "jupyter": {
          "outputs_hidden": false
        },
        "id": "WBzHlNmZiZ9m"
      },
      "source": [
        "print(mnist_train.__getitem__(0)[1], mnist_train.__len__())\n",
        "mnist_test.__getitem__(0)[1], mnist_test.__len__()"
      ],
      "execution_count": null,
      "outputs": []
    },
    {
      "cell_type": "markdown",
      "metadata": {
        "id": "jxR4BnHJiZ9n"
      },
      "source": [
        "### 3) Set DataLoader"
      ]
    },
    {
      "cell_type": "code",
      "metadata": {
        "tags": [],
        "id": "h3ZaPPY2iZ9n"
      },
      "source": [
        "train_loader = torch.utils.data.DataLoader(mnist_train,batch_size=batch_size, shuffle=True,num_workers=2,drop_last=True)\n",
        "test_loader = torch.utils.data.DataLoader(mnist_test,batch_size=batch_size, shuffle=False,num_workers=2,drop_last=True)"
      ],
      "execution_count": null,
      "outputs": []
    },
    {
      "cell_type": "markdown",
      "metadata": {
        "id": "ROdAibe9iZ9n"
      },
      "source": [
        "## 4. Model & Optimizer\n",
        "\n",
        "### 1) CNN Model"
      ]
    },
    {
      "cell_type": "code",
      "metadata": {
        "jupyter": {
          "outputs_hidden": false
        },
        "id": "a9bylK9piZ9n"
      },
      "source": [
        "class Linear(nn.Module):\n",
        "    def __init__(self):\n",
        "        super(Linear,self).__init__()\n",
        "        self.layer = nn.Sequential(\n",
        "            nn.Linear(784,300),\n",
        "            nn.ReLU(),\n",
        "            nn.Linear(300,100),\n",
        "            nn.ReLU(),\n",
        "            nn.Linear(100,10),\n",
        "            nn.ReLU()\n",
        "        )       \n",
        "        \n",
        "    def forward(self,x):\n",
        "        out = x.view(batch_size,-1)\n",
        "        out = self.layer(out)\n",
        "\n",
        "        return out\n",
        "\n",
        "model = Linear().cuda()"
      ],
      "execution_count": null,
      "outputs": []
    },
    {
      "cell_type": "markdown",
      "metadata": {
        "id": "ncVhU2CziZ9n"
      },
      "source": [
        "### 2) Loss func & Optimizer"
      ]
    },
    {
      "cell_type": "code",
      "metadata": {
        "jupyter": {
          "outputs_hidden": false
        },
        "id": "xw9o7DxCiZ9o"
      },
      "source": [
        "loss_func = nn.CrossEntropyLoss()\n",
        "optimizer = torch.optim.SGD(model.parameters(), lr=learning_rate)"
      ],
      "execution_count": null,
      "outputs": []
    },
    {
      "cell_type": "markdown",
      "metadata": {
        "id": "FP_W0QjYiZ9o"
      },
      "source": [
        "## 5. Train "
      ]
    },
    {
      "cell_type": "code",
      "metadata": {
        "jupyter": {
          "outputs_hidden": false
        },
        "id": "mhgV2evTiZ9o"
      },
      "source": [
        "for i in range(num_epoch):\n",
        "    for j,[image,label] in enumerate(train_loader):\n",
        "        x = Variable(image).cuda()\n",
        "        y_= Variable(label).cuda()\n",
        "        \n",
        "        optimizer.zero_grad()\n",
        "        output = model.forward(x)\n",
        "        loss = loss_func(output,y_)\n",
        "        loss.backward()\n",
        "        optimizer.step()\n",
        "        \n",
        "        if j % 1000 == 0:\n",
        "            print(loss)"
      ],
      "execution_count": null,
      "outputs": []
    },
    {
      "cell_type": "markdown",
      "metadata": {
        "id": "XXIwZxzRiZ9o"
      },
      "source": [
        "## 6. Test"
      ]
    },
    {
      "cell_type": "code",
      "metadata": {
        "jupyter": {
          "outputs_hidden": false
        },
        "id": "WhW35AkkiZ9o"
      },
      "source": [
        "correct = 0\n",
        "total = 0\n",
        "\n",
        "for image,label in test_loader:\n",
        "    x = Variable(image,volatile=True).cuda()\n",
        "    y_= Variable(label).cuda()\n",
        "\n",
        "    output = model.forward(x)\n",
        "    _,output_index = torch.max(output,1)\n",
        "        \n",
        "    total += label.size(0)\n",
        "    correct += (output_index == y_).sum().float()\n",
        "    \n",
        "print(\"Accuracy of Test Data: {}\".format(100*correct/total))"
      ],
      "execution_count": null,
      "outputs": []
    },
    {
      "cell_type": "code",
      "metadata": {
        "id": "wZWDNVQRiZ9p"
      },
      "source": [
        ""
      ],
      "execution_count": null,
      "outputs": []
    }
  ]
}