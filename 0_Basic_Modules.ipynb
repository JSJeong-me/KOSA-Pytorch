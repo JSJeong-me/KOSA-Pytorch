{
  "nbformat": 4,
  "nbformat_minor": 0,
  "metadata": {
    "kernelspec": {
      "display_name": "Python 3",
      "language": "python",
      "name": "python3"
    },
    "language_info": {
      "codemirror_mode": {
        "name": "ipython",
        "version": 3
      },
      "file_extension": ".py",
      "mimetype": "text/x-python",
      "name": "python",
      "nbconvert_exporter": "python",
      "pygments_lexer": "ipython3",
      "version": "3.8.3"
    },
    "colab": {
      "name": "0_Basic_Modules.ipynb",
      "provenance": [],
      "include_colab_link": true
    },
    "accelerator": "GPU"
  },
  "cells": [
    {
      "cell_type": "markdown",
      "metadata": {
        "id": "view-in-github",
        "colab_type": "text"
      },
      "source": [
        "<a href=\"https://colab.research.google.com/github/JSJeong-me/KOSA-Pytorch/blob/main/0_Basic_Modules.ipynb\" target=\"_parent\"><img src=\"https://colab.research.google.com/assets/colab-badge.svg\" alt=\"Open In Colab\"/></a>"
      ]
    },
    {
      "cell_type": "markdown",
      "metadata": {
        "id": "xH0f9SRWhnMt"
      },
      "source": [
        "# Convolutional Neural Network\n",
        "- MNIST data\n",
        "- Convolution Layer\n",
        "- Pooling Layer"
      ]
    },
    {
      "cell_type": "markdown",
      "metadata": {
        "id": "FTgpGGBghnMu"
      },
      "source": [
        "## 1. Settings\n",
        "### 1) Import required libraries"
      ]
    },
    {
      "cell_type": "code",
      "metadata": {
        "tags": [],
        "id": "PYfV3kZShnMv"
      },
      "source": [
        "import torch\n",
        "import torch.nn as nn\n",
        "import torchvision.datasets as dset\n",
        "import torchvision.transforms as transforms\n",
        "from torch.autograd import Variable\n",
        "from torch.utils.data import DataLoader\n",
        "import matplotlib.pyplot as plt\n",
        "%matplotlib inline"
      ],
      "execution_count": 1,
      "outputs": []
    },
    {
      "cell_type": "markdown",
      "metadata": {
        "id": "Yv6hKKGzhnMv"
      },
      "source": [
        "## 2. Data\n",
        "\n",
        "### 1) Download Data"
      ]
    },
    {
      "cell_type": "code",
      "metadata": {
        "tags": [],
        "id": "OQGR8TCihnMv"
      },
      "source": [
        "mnist_train = dset.MNIST(\"./\", train=True, transform=transforms.ToTensor(), target_transform=None, download=True)"
      ],
      "execution_count": null,
      "outputs": []
    },
    {
      "cell_type": "markdown",
      "metadata": {
        "id": "JOjlbow6hnMw"
      },
      "source": [
        "### 2) Item"
      ]
    },
    {
      "cell_type": "code",
      "metadata": {
        "id": "zcIddG4zhnMw"
      },
      "source": [
        "print(mnist_train)"
      ],
      "execution_count": null,
      "outputs": []
    },
    {
      "cell_type": "code",
      "metadata": {
        "colab": {
          "base_uri": "https://localhost:8080/"
        },
        "id": "x8EuQL9fhnMw",
        "outputId": "0acd49c2-2598-49c4-d82b-9337f9179935"
      },
      "source": [
        "# dataset.__getitem__(idx)\n",
        "image,label = mnist_train.__getitem__(0)\n",
        "print(image.size(),label)"
      ],
      "execution_count": 3,
      "outputs": [
        {
          "output_type": "stream",
          "text": [
            "torch.Size([1, 28, 28]) 5\n"
          ],
          "name": "stdout"
        }
      ]
    },
    {
      "cell_type": "code",
      "metadata": {
        "colab": {
          "base_uri": "https://localhost:8080/"
        },
        "id": "NDC4oslfhnMw",
        "outputId": "4b7dd415-1964-4155-8528-598d44a538eb"
      },
      "source": [
        "# dataset[idx]\n",
        "image,label = mnist_train[0]\n",
        "print(image.size(),label)"
      ],
      "execution_count": 4,
      "outputs": [
        {
          "output_type": "stream",
          "text": [
            "torch.Size([1, 28, 28]) 5\n"
          ],
          "name": "stdout"
        }
      ]
    },
    {
      "cell_type": "markdown",
      "metadata": {
        "id": "wPZEbRh8hnMw"
      },
      "source": [
        "### 3) Length"
      ]
    },
    {
      "cell_type": "code",
      "metadata": {
        "colab": {
          "base_uri": "https://localhost:8080/"
        },
        "id": "mi5yWHs0hnMx",
        "outputId": "82a0eb1f-af46-41cd-a9ec-f464ed3f7972"
      },
      "source": [
        "# dataset.__len__()\n",
        "print(mnist_train.__len__())\n",
        "\n",
        "# len(dataset)\n",
        "len(mnist_train)"
      ],
      "execution_count": 5,
      "outputs": [
        {
          "output_type": "stream",
          "text": [
            "60000\n"
          ],
          "name": "stdout"
        },
        {
          "output_type": "execute_result",
          "data": {
            "text/plain": [
              "60000"
            ]
          },
          "metadata": {
            "tags": []
          },
          "execution_count": 5
        }
      ]
    },
    {
      "cell_type": "markdown",
      "metadata": {
        "id": "6WFTl-KQhnMx"
      },
      "source": [
        "### 4) Show Image"
      ]
    },
    {
      "cell_type": "code",
      "metadata": {
        "id": "P3_7_oGbhnMx"
      },
      "source": [
        "for i in range(3):\n",
        "    img= mnist_train[i][0].numpy()\n",
        "    plt.imshow(img[0],cmap='gray')\n",
        "    plt.show()"
      ],
      "execution_count": null,
      "outputs": []
    },
    {
      "cell_type": "markdown",
      "metadata": {
        "id": "Z2PlZK4whnMx"
      },
      "source": [
        "## 3. Convolution Layer\n",
        "\n",
        "- torch.nn.Conv2d(in_channels, out_channels, kernel_size, stride=1, padding=0, dilation=1, groups=1, bias=True)\n",
        "- Channels\n",
        "- Kernel size\n",
        "- Stride\n",
        "- Padding\n",
        "- [Batch,Channel,Height,Width]\n",
        "\n",
        "\n",
        "### 1) Channels"
      ]
    },
    {
      "cell_type": "code",
      "metadata": {
        "id": "Vu3J5HlahnMx"
      },
      "source": [
        "image,label = mnist_train[0]\n",
        "image = image.view(-1,image.size()[0],image.size()[1],image.size()[2])\n",
        "\n",
        "conv_layer = nn.Conv2d(in_channels=1,out_channels=3,kernel_size=3)\n",
        "output = conv_layer(Variable(image))\n",
        "print(output.size())\n",
        "\n",
        "for i in range(3):\n",
        "    plt.imshow(output[0,i,:,:].data.numpy(),cmap='gray')\n",
        "    plt.show()"
      ],
      "execution_count": null,
      "outputs": []
    },
    {
      "cell_type": "markdown",
      "metadata": {
        "id": "fOeHIAJshnMy"
      },
      "source": [
        "### 2) Kernel Size"
      ]
    },
    {
      "cell_type": "code",
      "metadata": {
        "id": "caNoSICZhnMy"
      },
      "source": [
        "conv_layer = nn.Conv2d(in_channels=1,out_channels=3,kernel_size=1)\n",
        "output = conv_layer(Variable(image))\n",
        "plt.imshow(output[0,0,:,:].data.numpy(),cmap='gray')\n",
        "plt.show()\n",
        "print(output.size())"
      ],
      "execution_count": null,
      "outputs": []
    },
    {
      "cell_type": "code",
      "metadata": {
        "id": "YJd81_hihnMy"
      },
      "source": [
        "conv_layer = nn.Conv2d(in_channels=1,out_channels=3,kernel_size=3)\n",
        "output = conv_layer(Variable(image))\n",
        "plt.imshow(output[0,0,:,:].data.numpy(),cmap='gray')\n",
        "plt.show()\n",
        "print(output.size())"
      ],
      "execution_count": null,
      "outputs": []
    },
    {
      "cell_type": "code",
      "metadata": {
        "id": "gwvFoz6vhnMy"
      },
      "source": [
        "conv_layer = nn.Conv2d(in_channels=1,out_channels=3,kernel_size=5)\n",
        "output = conv_layer(Variable(image))\n",
        "plt.imshow(output[0,0,:,:].data.numpy(),cmap='gray')\n",
        "plt.show()\n",
        "print(output.size())"
      ],
      "execution_count": null,
      "outputs": []
    },
    {
      "cell_type": "markdown",
      "metadata": {
        "id": "CAypnCShhnMy"
      },
      "source": [
        "### 3) Stride"
      ]
    },
    {
      "cell_type": "code",
      "metadata": {
        "id": "-5UExLemhnMy"
      },
      "source": [
        "conv_layer = nn.Conv2d(in_channels=1,out_channels=3,kernel_size=1,stride=1)\n",
        "output = conv_layer(Variable(image))\n",
        "plt.imshow(output[0,0,:,:].data.numpy(),cmap='gray')\n",
        "plt.show()\n",
        "print(output.size())"
      ],
      "execution_count": null,
      "outputs": []
    },
    {
      "cell_type": "code",
      "metadata": {
        "id": "1zsH0zFghnMz"
      },
      "source": [
        "conv_layer = nn.Conv2d(in_channels=1,out_channels=3,kernel_size=3,stride=2)\n",
        "output = conv_layer(Variable(image))\n",
        "plt.imshow(output[0,0,:,:].data.numpy(),cmap='gray')\n",
        "plt.show()\n",
        "print(output.size())"
      ],
      "execution_count": null,
      "outputs": []
    },
    {
      "cell_type": "code",
      "metadata": {
        "id": "U4WPo4nvhnMz"
      },
      "source": [
        "conv_layer = nn.Conv2d(in_channels=1,out_channels=3,kernel_size=5,stride=3)\n",
        "output = conv_layer(Variable(image))\n",
        "plt.imshow(output[0,0,:,:].data.numpy(),cmap='gray')\n",
        "plt.show()\n",
        "print(output.size())"
      ],
      "execution_count": null,
      "outputs": []
    },
    {
      "cell_type": "markdown",
      "metadata": {
        "id": "bbwbleHNhnMz"
      },
      "source": [
        "### 4) Padding"
      ]
    },
    {
      "cell_type": "code",
      "metadata": {
        "id": "GrCDy-E-hnMz"
      },
      "source": [
        "conv_layer = nn.Conv2d(in_channels=1,out_channels=3,kernel_size=1,padding=1)\n",
        "output = conv_layer(Variable(image))\n",
        "plt.imshow(output[0,0,:,:].data.numpy(),cmap='gray')\n",
        "plt.show()\n",
        "print(output.size())"
      ],
      "execution_count": null,
      "outputs": []
    },
    {
      "cell_type": "code",
      "metadata": {
        "id": "EYFyJHK6hnMz"
      },
      "source": [
        "conv_layer = nn.Conv2d(in_channels=1,out_channels=3,kernel_size=3,padding=1)\n",
        "output = conv_layer(Variable(image))\n",
        "plt.imshow(output[0,0,:,:].data.numpy(),cmap='gray')\n",
        "plt.show()\n",
        "print(output.size())"
      ],
      "execution_count": null,
      "outputs": []
    },
    {
      "cell_type": "code",
      "metadata": {
        "id": "QoOg6h3EhnMz"
      },
      "source": [
        "conv_layer = nn.Conv2d(in_channels=1,out_channels=3,kernel_size=5,padding=1)\n",
        "output = conv_layer(Variable(image))\n",
        "plt.imshow(output[0,0,:,:].data.numpy(),cmap='gray')\n",
        "plt.show()\n",
        "print(output.size())"
      ],
      "execution_count": null,
      "outputs": []
    },
    {
      "cell_type": "code",
      "metadata": {
        "id": "5BLBY8t5hnM0"
      },
      "source": [
        ""
      ],
      "execution_count": null,
      "outputs": []
    }
  ]
}