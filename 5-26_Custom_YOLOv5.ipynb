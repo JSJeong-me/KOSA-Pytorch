{
  "nbformat": 4,
  "nbformat_minor": 0,
  "metadata": {
    "colab": {
      "name": "Roboflow-Custom-YOLOv5",
      "provenance": [],
      "collapsed_sections": [],
      "include_colab_link": true
    },
    "kernelspec": {
      "name": "python3",
      "display_name": "Python 3"
    },
    "accelerator": "GPU"
  },
  "cells": [
    {
      "cell_type": "markdown",
      "metadata": {
        "id": "view-in-github",
        "colab_type": "text"
      },
      "source": [
        "<a href=\"https://colab.research.google.com/github/JSJeong-me/KOSA-Pytorch/blob/main/5-26_Custom_YOLOv5.ipynb\" target=\"_parent\"><img src=\"https://colab.research.google.com/assets/colab-badge.svg\" alt=\"Open In Colab\"/></a>"
      ]
    },
    {
      "cell_type": "markdown",
      "metadata": {
        "id": "GD9gUQpaBxNa"
      },
      "source": [
        "# How to Train YOLOv5 on Custom Objects\n",
        "\n",
        "This tutorial is based on the [YOLOv5 repository](https://github.com/ultralytics/yolov5) by [Ultralytics](https://www.ultralytics.com/). This notebook shows training on **your own custom objects**. Many thanks to Ultralytics for putting this repository together - we hope that in combination with clean data management tools at Roboflow, this technologoy will become easily accessible to any developer wishing to use computer vision in their projects.\n",
        "\n",
        "### Accompanying Blog Post\n",
        "\n",
        "We recommend that you follow along in this notebook while reading the blog post on [how to train YOLOv5](https://blog.roboflow.ai/how-to-train-yolov5-on-a-custom-dataset/), concurrently.\n",
        "\n",
        "### Steps Covered in this Tutorial\n",
        "\n",
        "In this tutorial, we will walk through the steps required to train YOLOv5 on your custom objects. We use a [public blood cell detection dataset](https://public.roboflow.ai/object-detection/bccd), which is open source and free to use. You can also use this notebook on your own data.\n",
        "\n",
        "To train our detector we take the following steps:\n",
        "\n",
        "* Install YOLOv5 dependencies\n",
        "* Download custom YOLOv5 object detection data\n",
        "* Write our YOLOv5 Training configuration\n",
        "* Run YOLOv5 training\n",
        "* Evaluate YOLOv5 performance\n",
        "* Visualize YOLOv5 training data\n",
        "* Run YOLOv5 inference on test images\n",
        "* Export saved YOLOv5 weights for future inference\n",
        "\n",
        "\n",
        "\n",
        "### **About**\n",
        "\n",
        "[Roboflow](https://roboflow.com) enables teams to deploy custom computer vision models quickly and accurately. Convert data from to annotation format, assess dataset health, preprocess, augment, and more. It's free for your first 1000 source images.\n",
        "\n",
        "\n"
      ]
    },
    {
      "cell_type": "markdown",
      "metadata": {
        "id": "7mGmQbAO5pQb"
      },
      "source": [
        "#Install Dependencies\n",
        "\n",
        "_(Remember to choose GPU in Runtime if not already selected. Runtime --> Change Runtime Type --> Hardware accelerator --> GPU)_"
      ]
    },
    {
      "cell_type": "code",
      "metadata": {
        "id": "Ie5uLDH4uzAp",
        "outputId": "0e0b1e62-35bf-411e-ecd2-40992d56e75b",
        "colab": {
          "base_uri": "https://localhost:8080/"
        }
      },
      "source": [
        "# clone YOLOv5 repository\n",
        "!git clone https://github.com/ultralytics/yolov5  # clone repo\n",
        "%cd yolov5\n",
        "!git reset --hard 886f1c03d839575afecb059accf74296fad395b6"
      ],
      "execution_count": 1,
      "outputs": [
        {
          "output_type": "stream",
          "text": [
            "Cloning into 'yolov5'...\n",
            "remote: Enumerating objects: 6412, done.\u001b[K\n",
            "remote: Counting objects: 100% (131/131), done.\u001b[K\n",
            "remote: Compressing objects: 100% (102/102), done.\u001b[K\n",
            "remote: Total 6412 (delta 70), reused 68 (delta 29), pack-reused 6281\u001b[K\n",
            "Receiving objects: 100% (6412/6412), 8.58 MiB | 18.27 MiB/s, done.\n",
            "Resolving deltas: 100% (4375/4375), done.\n",
            "/content/yolov5\n",
            "HEAD is now at 886f1c0 DDP after autoanchor reorder (#2421)\n"
          ],
          "name": "stdout"
        }
      ]
    },
    {
      "cell_type": "code",
      "metadata": {
        "id": "wbvMlHd_QwMG",
        "outputId": "ddd0dba4-3dd0-40af-8fa6-2eac7333b835",
        "colab": {
          "base_uri": "https://localhost:8080/"
        }
      },
      "source": [
        "# install dependencies as necessary\n",
        "!pip install -qr requirements.txt  # install dependencies (ignore errors)\n",
        "import torch\n",
        "\n",
        "from IPython.display import Image, clear_output  # to display images\n",
        "from utils.google_utils import gdrive_download  # to download models/datasets\n",
        "\n",
        "# clear_output()\n",
        "print('Setup complete. Using torch %s %s' % (torch.__version__, torch.cuda.get_device_properties(0) if torch.cuda.is_available() else 'CPU'))"
      ],
      "execution_count": 2,
      "outputs": [
        {
          "output_type": "stream",
          "text": [
            "\u001b[?25l\r\u001b[K     |▌                               | 10kB 25.9MB/s eta 0:00:01\r\u001b[K     |█                               | 20kB 17.9MB/s eta 0:00:01\r\u001b[K     |█▌                              | 30kB 15.2MB/s eta 0:00:01\r\u001b[K     |██                              | 40kB 13.9MB/s eta 0:00:01\r\u001b[K     |██▋                             | 51kB 7.7MB/s eta 0:00:01\r\u001b[K     |███                             | 61kB 7.4MB/s eta 0:00:01\r\u001b[K     |███▋                            | 71kB 8.4MB/s eta 0:00:01\r\u001b[K     |████▏                           | 81kB 8.8MB/s eta 0:00:01\r\u001b[K     |████▋                           | 92kB 9.1MB/s eta 0:00:01\r\u001b[K     |█████▏                          | 102kB 7.3MB/s eta 0:00:01\r\u001b[K     |█████▋                          | 112kB 7.3MB/s eta 0:00:01\r\u001b[K     |██████▏                         | 122kB 7.3MB/s eta 0:00:01\r\u001b[K     |██████▊                         | 133kB 7.3MB/s eta 0:00:01\r\u001b[K     |███████▏                        | 143kB 7.3MB/s eta 0:00:01\r\u001b[K     |███████▊                        | 153kB 7.3MB/s eta 0:00:01\r\u001b[K     |████████▎                       | 163kB 7.3MB/s eta 0:00:01\r\u001b[K     |████████▊                       | 174kB 7.3MB/s eta 0:00:01\r\u001b[K     |█████████▎                      | 184kB 7.3MB/s eta 0:00:01\r\u001b[K     |█████████▉                      | 194kB 7.3MB/s eta 0:00:01\r\u001b[K     |██████████▎                     | 204kB 7.3MB/s eta 0:00:01\r\u001b[K     |██████████▉                     | 215kB 7.3MB/s eta 0:00:01\r\u001b[K     |███████████▎                    | 225kB 7.3MB/s eta 0:00:01\r\u001b[K     |███████████▉                    | 235kB 7.3MB/s eta 0:00:01\r\u001b[K     |████████████▍                   | 245kB 7.3MB/s eta 0:00:01\r\u001b[K     |████████████▉                   | 256kB 7.3MB/s eta 0:00:01\r\u001b[K     |█████████████▍                  | 266kB 7.3MB/s eta 0:00:01\r\u001b[K     |██████████████                  | 276kB 7.3MB/s eta 0:00:01\r\u001b[K     |██████████████▍                 | 286kB 7.3MB/s eta 0:00:01\r\u001b[K     |███████████████                 | 296kB 7.3MB/s eta 0:00:01\r\u001b[K     |███████████████▍                | 307kB 7.3MB/s eta 0:00:01\r\u001b[K     |████████████████                | 317kB 7.3MB/s eta 0:00:01\r\u001b[K     |████████████████▌               | 327kB 7.3MB/s eta 0:00:01\r\u001b[K     |█████████████████               | 337kB 7.3MB/s eta 0:00:01\r\u001b[K     |█████████████████▌              | 348kB 7.3MB/s eta 0:00:01\r\u001b[K     |██████████████████              | 358kB 7.3MB/s eta 0:00:01\r\u001b[K     |██████████████████▌             | 368kB 7.3MB/s eta 0:00:01\r\u001b[K     |███████████████████             | 378kB 7.3MB/s eta 0:00:01\r\u001b[K     |███████████████████▋            | 389kB 7.3MB/s eta 0:00:01\r\u001b[K     |████████████████████            | 399kB 7.3MB/s eta 0:00:01\r\u001b[K     |████████████████████▋           | 409kB 7.3MB/s eta 0:00:01\r\u001b[K     |█████████████████████           | 419kB 7.3MB/s eta 0:00:01\r\u001b[K     |█████████████████████▋          | 430kB 7.3MB/s eta 0:00:01\r\u001b[K     |██████████████████████▏         | 440kB 7.3MB/s eta 0:00:01\r\u001b[K     |██████████████████████▋         | 450kB 7.3MB/s eta 0:00:01\r\u001b[K     |███████████████████████▏        | 460kB 7.3MB/s eta 0:00:01\r\u001b[K     |███████████████████████▊        | 471kB 7.3MB/s eta 0:00:01\r\u001b[K     |████████████████████████▏       | 481kB 7.3MB/s eta 0:00:01\r\u001b[K     |████████████████████████▊       | 491kB 7.3MB/s eta 0:00:01\r\u001b[K     |█████████████████████████▏      | 501kB 7.3MB/s eta 0:00:01\r\u001b[K     |█████████████████████████▊      | 512kB 7.3MB/s eta 0:00:01\r\u001b[K     |██████████████████████████▎     | 522kB 7.3MB/s eta 0:00:01\r\u001b[K     |██████████████████████████▊     | 532kB 7.3MB/s eta 0:00:01\r\u001b[K     |███████████████████████████▎    | 542kB 7.3MB/s eta 0:00:01\r\u001b[K     |███████████████████████████▉    | 552kB 7.3MB/s eta 0:00:01\r\u001b[K     |████████████████████████████▎   | 563kB 7.3MB/s eta 0:00:01\r\u001b[K     |████████████████████████████▉   | 573kB 7.3MB/s eta 0:00:01\r\u001b[K     |█████████████████████████████▍  | 583kB 7.3MB/s eta 0:00:01\r\u001b[K     |█████████████████████████████▉  | 593kB 7.3MB/s eta 0:00:01\r\u001b[K     |██████████████████████████████▍ | 604kB 7.3MB/s eta 0:00:01\r\u001b[K     |██████████████████████████████▉ | 614kB 7.3MB/s eta 0:00:01\r\u001b[K     |███████████████████████████████▍| 624kB 7.3MB/s eta 0:00:01\r\u001b[K     |████████████████████████████████| 634kB 7.3MB/s eta 0:00:01\r\u001b[K     |████████████████████████████████| 645kB 7.3MB/s \n",
            "\u001b[?25hSetup complete. Using torch 1.8.1+cu101 _CudaDeviceProperties(name='Tesla T4', major=7, minor=5, total_memory=15109MB, multi_processor_count=40)\n"
          ],
          "name": "stdout"
        }
      ]
    },
    {
      "cell_type": "markdown",
      "metadata": {
        "id": "SDIhrBF0sPaM"
      },
      "source": [
        "# Download Correctly Formatted Custom Dataset \n",
        "\n",
        "We'll download our dataset from Roboflow. Use the \"**YOLOv5 PyTorch**\" export format. Note that the Ultralytics implementation calls for a YAML file defining where your training and test data is. The Roboflow export also writes this format for us.\n",
        "\n",
        "To get your data into Roboflow, follow the [Getting Started Guide](https://blog.roboflow.ai/getting-started-with-roboflow/)."
      ]
    },
    {
      "cell_type": "markdown",
      "metadata": {
        "id": "vDeebwqS9JbZ"
      },
      "source": [
        "\n",
        "\n"
      ]
    },
    {
      "cell_type": "code",
      "metadata": {
        "id": "AcXLYczMqViO"
      },
      "source": [
        ""
      ],
      "execution_count": null,
      "outputs": []
    },
    {
      "cell_type": "code",
      "metadata": {
        "id": "Knxi2ncxWffW"
      },
      "source": [
        ""
      ],
      "execution_count": null,
      "outputs": []
    },
    {
      "cell_type": "code",
      "metadata": {
        "id": "DQ3hkPrCqlIu",
        "colab": {
          "base_uri": "https://localhost:8080/"
        },
        "outputId": "802c49b5-16d5-4693-9ca1-45b53846e20f"
      },
      "source": [
        "!pwd"
      ],
      "execution_count": 3,
      "outputs": [
        {
          "output_type": "stream",
          "text": [
            "/content/yolov5\n"
          ],
          "name": "stdout"
        }
      ]
    },
    {
      "cell_type": "code",
      "metadata": {
        "id": "hE0uOBHKqgn1"
      },
      "source": [
        ""
      ],
      "execution_count": null,
      "outputs": []
    },
    {
      "cell_type": "code",
      "metadata": {
        "id": "pFGehDrrlEQH",
        "outputId": "71574a81-123d-4364-9085-fd6946d415ec",
        "colab": {
          "base_uri": "https://localhost:8080/"
        }
      },
      "source": [
        "%cd .."
      ],
      "execution_count": 4,
      "outputs": [
        {
          "output_type": "stream",
          "text": [
            "/content\n"
          ],
          "name": "stdout"
        }
      ]
    },
    {
      "cell_type": "code",
      "metadata": {
        "id": "P9dW3pzTlJvP",
        "outputId": "98f9687a-e76f-414e-8c66-4fd0603bba4a",
        "colab": {
          "base_uri": "https://localhost:8080/"
        }
      },
      "source": [
        "!ls -l"
      ],
      "execution_count": 5,
      "outputs": [
        {
          "output_type": "stream",
          "text": [
            "total 11760\n",
            "-rw-r--r-- 1 root root 12033124 May 26 04:35 kangaroo.v1i.yolov5pytorch.zip\n",
            "drwxr-xr-x 1 root root     4096 May  6 13:44 sample_data\n",
            "drwxr-xr-x 8 root root     4096 May 26 04:34 yolov5\n"
          ],
          "name": "stdout"
        }
      ]
    },
    {
      "cell_type": "code",
      "metadata": {
        "id": "dXkRKGVq9jVk"
      },
      "source": [
        "!unzip ./kangaroo.v1i.yolov5pytorch.zip"
      ],
      "execution_count": null,
      "outputs": []
    },
    {
      "cell_type": "code",
      "metadata": {
        "id": "ZZ3DmmGQztJj",
        "outputId": "fdffc0db-fbc6-43ec-bb38-be7cdf28e083",
        "colab": {
          "base_uri": "https://localhost:8080/"
        }
      },
      "source": [
        "# this is the YAML file Roboflow wrote for us that we're loading into this notebook with our data\n",
        "%cat data.yaml"
      ],
      "execution_count": 7,
      "outputs": [
        {
          "output_type": "stream",
          "text": [
            "train: ../train/images\n",
            "val: ../valid/images\n",
            "\n",
            "nc: 1\n",
            "names: ['kangaroo']"
          ],
          "name": "stdout"
        }
      ]
    },
    {
      "cell_type": "markdown",
      "metadata": {
        "id": "UwJx-2NHsYxT"
      },
      "source": [
        "# Define Model Configuration and Architecture\n",
        "\n",
        "We will write a yaml script that defines the parameters for our model like the number of classes, anchors, and each layer.\n",
        "\n",
        "You do not need to edit these cells, but you may."
      ]
    },
    {
      "cell_type": "code",
      "metadata": {
        "id": "dOPn9wjOAwwK"
      },
      "source": [
        "# define number of classes based on YAML\n",
        "import yaml\n",
        "with open(\"data.yaml\", 'r') as stream:\n",
        "    num_classes = str(yaml.safe_load(stream)['nc'])"
      ],
      "execution_count": 8,
      "outputs": []
    },
    {
      "cell_type": "code",
      "metadata": {
        "id": "1Rvt5wilnDyX",
        "outputId": "c4fc3588-aaaa-4310-e442-ac420ce189f4",
        "colab": {
          "base_uri": "https://localhost:8080/"
        }
      },
      "source": [
        "#this is the model configuration we will use for our tutorial \n",
        "%cat /content/yolov5/models/yolov5s.yaml"
      ],
      "execution_count": 9,
      "outputs": [
        {
          "output_type": "stream",
          "text": [
            "# parameters\n",
            "nc: 80  # number of classes\n",
            "depth_multiple: 0.33  # model depth multiple\n",
            "width_multiple: 0.50  # layer channel multiple\n",
            "\n",
            "# anchors\n",
            "anchors:\n",
            "  - [10,13, 16,30, 33,23]  # P3/8\n",
            "  - [30,61, 62,45, 59,119]  # P4/16\n",
            "  - [116,90, 156,198, 373,326]  # P5/32\n",
            "\n",
            "# YOLOv5 backbone\n",
            "backbone:\n",
            "  # [from, number, module, args]\n",
            "  [[-1, 1, Focus, [64, 3]],  # 0-P1/2\n",
            "   [-1, 1, Conv, [128, 3, 2]],  # 1-P2/4\n",
            "   [-1, 3, C3, [128]],\n",
            "   [-1, 1, Conv, [256, 3, 2]],  # 3-P3/8\n",
            "   [-1, 9, C3, [256]],\n",
            "   [-1, 1, Conv, [512, 3, 2]],  # 5-P4/16\n",
            "   [-1, 9, C3, [512]],\n",
            "   [-1, 1, Conv, [1024, 3, 2]],  # 7-P5/32\n",
            "   [-1, 1, SPP, [1024, [5, 9, 13]]],\n",
            "   [-1, 3, C3, [1024, False]],  # 9\n",
            "  ]\n",
            "\n",
            "# YOLOv5 head\n",
            "head:\n",
            "  [[-1, 1, Conv, [512, 1, 1]],\n",
            "   [-1, 1, nn.Upsample, [None, 2, 'nearest']],\n",
            "   [[-1, 6], 1, Concat, [1]],  # cat backbone P4\n",
            "   [-1, 3, C3, [512, False]],  # 13\n",
            "\n",
            "   [-1, 1, Conv, [256, 1, 1]],\n",
            "   [-1, 1, nn.Upsample, [None, 2, 'nearest']],\n",
            "   [[-1, 4], 1, Concat, [1]],  # cat backbone P3\n",
            "   [-1, 3, C3, [256, False]],  # 17 (P3/8-small)\n",
            "\n",
            "   [-1, 1, Conv, [256, 3, 2]],\n",
            "   [[-1, 14], 1, Concat, [1]],  # cat head P4\n",
            "   [-1, 3, C3, [512, False]],  # 20 (P4/16-medium)\n",
            "\n",
            "   [-1, 1, Conv, [512, 3, 2]],\n",
            "   [[-1, 10], 1, Concat, [1]],  # cat head P5\n",
            "   [-1, 3, C3, [1024, False]],  # 23 (P5/32-large)\n",
            "\n",
            "   [[17, 20, 23], 1, Detect, [nc, anchors]],  # Detect(P3, P4, P5)\n",
            "  ]\n"
          ],
          "name": "stdout"
        }
      ]
    },
    {
      "cell_type": "code",
      "metadata": {
        "id": "t14hhyqdmw6O"
      },
      "source": [
        "#customize iPython writefile so we can write variables\n",
        "from IPython.core.magic import register_line_cell_magic\n",
        "\n",
        "@register_line_cell_magic\n",
        "def writetemplate(line, cell):\n",
        "    with open(line, 'w') as f:\n",
        "        f.write(cell.format(**globals()))"
      ],
      "execution_count": 10,
      "outputs": []
    },
    {
      "cell_type": "code",
      "metadata": {
        "id": "uDxebz13RdRA"
      },
      "source": [
        "%%writetemplate /content/yolov5/models/custom_yolov5s.yaml\n",
        "\n",
        "# parameters\n",
        "nc: {num_classes}  # number of classes\n",
        "depth_multiple: 0.33  # model depth multiple\n",
        "width_multiple: 0.50  # layer channel multiple\n",
        "\n",
        "# anchors\n",
        "anchors:\n",
        "  - [10,13, 16,30, 33,23]  # P3/8\n",
        "  - [30,61, 62,45, 59,119]  # P4/16\n",
        "  - [116,90, 156,198, 373,326]  # P5/32\n",
        "\n",
        "# YOLOv5 backbone\n",
        "backbone:\n",
        "  # [from, number, module, args]\n",
        "  [[-1, 1, Focus, [64, 3]],  # 0-P1/2\n",
        "   [-1, 1, Conv, [128, 3, 2]],  # 1-P2/4\n",
        "   [-1, 3, BottleneckCSP, [128]],\n",
        "   [-1, 1, Conv, [256, 3, 2]],  # 3-P3/8\n",
        "   [-1, 9, BottleneckCSP, [256]],\n",
        "   [-1, 1, Conv, [512, 3, 2]],  # 5-P4/16\n",
        "   [-1, 9, BottleneckCSP, [512]],\n",
        "   [-1, 1, Conv, [1024, 3, 2]],  # 7-P5/32\n",
        "   [-1, 1, SPP, [1024, [5, 9, 13]]],\n",
        "   [-1, 3, BottleneckCSP, [1024, False]],  # 9\n",
        "  ]\n",
        "\n",
        "# YOLOv5 head\n",
        "head:\n",
        "  [[-1, 1, Conv, [512, 1, 1]],\n",
        "   [-1, 1, nn.Upsample, [None, 2, 'nearest']],\n",
        "   [[-1, 6], 1, Concat, [1]],  # cat backbone P4\n",
        "   [-1, 3, BottleneckCSP, [512, False]],  # 13\n",
        "\n",
        "   [-1, 1, Conv, [256, 1, 1]],\n",
        "   [-1, 1, nn.Upsample, [None, 2, 'nearest']],\n",
        "   [[-1, 4], 1, Concat, [1]],  # cat backbone P3\n",
        "   [-1, 3, BottleneckCSP, [256, False]],  # 17 (P3/8-small)\n",
        "\n",
        "   [-1, 1, Conv, [256, 3, 2]],\n",
        "   [[-1, 14], 1, Concat, [1]],  # cat head P4\n",
        "   [-1, 3, BottleneckCSP, [512, False]],  # 20 (P4/16-medium)\n",
        "\n",
        "   [-1, 1, Conv, [512, 3, 2]],\n",
        "   [[-1, 10], 1, Concat, [1]],  # cat head P5\n",
        "   [-1, 3, BottleneckCSP, [1024, False]],  # 23 (P5/32-large)\n",
        "\n",
        "   [[17, 20, 23], 1, Detect, [nc, anchors]],  # Detect(P3, P4, P5)\n",
        "  ]"
      ],
      "execution_count": 11,
      "outputs": []
    },
    {
      "cell_type": "markdown",
      "metadata": {
        "id": "VUOiNLtMP5aG"
      },
      "source": [
        "# Train Custom YOLOv5 Detector\n",
        "\n",
        "### Next, we'll fire off training!\n",
        "\n",
        "\n",
        "Here, we are able to pass a number of arguments:\n",
        "- **img:** define input image size\n",
        "- **batch:** determine batch size\n",
        "- **epochs:** define the number of training epochs. (Note: often, 3000+ are common here!)\n",
        "- **data:** set the path to our yaml file\n",
        "- **cfg:** specify our model configuration\n",
        "- **weights:** specify a custom path to weights. (Note: you can download weights from the Ultralytics Google Drive [folder](https://drive.google.com/open?id=1Drs_Aiu7xx6S-ix95f9kNsA6ueKRpN2J))\n",
        "- **name:** result names\n",
        "- **nosave:** only save the final checkpoint\n",
        "- **cache:** cache images for faster training"
      ]
    },
    {
      "cell_type": "code",
      "metadata": {
        "id": "1NcFxRcFdJ_O",
        "outputId": "ee0ff4b4-edf7-4843-b837-f1a89def887b",
        "colab": {
          "base_uri": "https://localhost:8080/"
        }
      },
      "source": [
        "# train yolov5s on custom data for 100 epochs\n",
        "# time its performance\n",
        "%%time\n",
        "%cd /content/yolov5/\n",
        "!python train.py --img 416 --batch 16 --epochs 150 --data '../data.yaml' --cfg ./models/custom_yolov5s.yaml --weights '' --name yolov5s_results  --cache"
      ],
      "execution_count": 26,
      "outputs": [
        {
          "output_type": "stream",
          "text": [
            "/content/yolov5\n",
            "\u001b[34m\u001b[1mgithub: \u001b[0m⚠️ WARNING: code is out of date by 186 commits. Use 'git pull' to update or 'git clone https://github.com/ultralytics/yolov5' to download latest.\n",
            "YOLOv5 v4.0-126-g886f1c0 torch 1.8.1+cu101 CUDA:0 (Tesla T4, 15109.75MB)\n",
            "\n",
            "Namespace(adam=False, batch_size=16, bucket='', cache_images=True, cfg='./models/custom_yolov5s.yaml', data='../data.yaml', device='', entity=None, epochs=150, evolve=False, exist_ok=False, global_rank=-1, hyp='data/hyp.scratch.yaml', image_weights=False, img_size=[416, 416], linear_lr=False, local_rank=-1, log_artifacts=False, log_imgs=16, multi_scale=False, name='yolov5s_results', noautoanchor=False, nosave=False, notest=False, project='runs/train', quad=False, rect=False, resume=False, save_dir='runs/train/yolov5s_results4', single_cls=False, sync_bn=False, total_batch_size=16, weights='', workers=8, world_size=1)\n",
            "\u001b[34m\u001b[1mwandb: \u001b[0mInstall Weights & Biases for YOLOv5 logging with 'pip install wandb' (recommended)\n",
            "Start Tensorboard with \"tensorboard --logdir runs/train\", view at http://localhost:6006/\n",
            "2021-05-26 05:30:14.387434: I tensorflow/stream_executor/platform/default/dso_loader.cc:53] Successfully opened dynamic library libcudart.so.11.0\n",
            "\u001b[34m\u001b[1mhyperparameters: \u001b[0mlr0=0.01, lrf=0.2, momentum=0.937, weight_decay=0.0005, warmup_epochs=3.0, warmup_momentum=0.8, warmup_bias_lr=0.1, box=0.05, cls=0.5, cls_pw=1.0, obj=1.0, obj_pw=1.0, iou_t=0.2, anchor_t=4.0, fl_gamma=0.0, hsv_h=0.015, hsv_s=0.7, hsv_v=0.4, degrees=0.0, translate=0.1, scale=0.5, shear=0.0, perspective=0.0, flipud=0.0, fliplr=0.5, mosaic=1.0, mixup=0.0\n",
            "\n",
            "                 from  n    params  module                                  arguments                     \n",
            "  0                -1  1      3520  models.common.Focus                     [3, 32, 3]                    \n",
            "  1                -1  1     18560  models.common.Conv                      [32, 64, 3, 2]                \n",
            "  2                -1  1     19904  models.common.BottleneckCSP             [64, 64, 1]                   \n",
            "  3                -1  1     73984  models.common.Conv                      [64, 128, 3, 2]               \n",
            "  4                -1  1    161152  models.common.BottleneckCSP             [128, 128, 3]                 \n",
            "  5                -1  1    295424  models.common.Conv                      [128, 256, 3, 2]              \n",
            "  6                -1  1    641792  models.common.BottleneckCSP             [256, 256, 3]                 \n",
            "  7                -1  1   1180672  models.common.Conv                      [256, 512, 3, 2]              \n",
            "  8                -1  1    656896  models.common.SPP                       [512, 512, [5, 9, 13]]        \n",
            "  9                -1  1   1248768  models.common.BottleneckCSP             [512, 512, 1, False]          \n",
            " 10                -1  1    131584  models.common.Conv                      [512, 256, 1, 1]              \n",
            " 11                -1  1         0  torch.nn.modules.upsampling.Upsample    [None, 2, 'nearest']          \n",
            " 12           [-1, 6]  1         0  models.common.Concat                    [1]                           \n",
            " 13                -1  1    378624  models.common.BottleneckCSP             [512, 256, 1, False]          \n",
            " 14                -1  1     33024  models.common.Conv                      [256, 128, 1, 1]              \n",
            " 15                -1  1         0  torch.nn.modules.upsampling.Upsample    [None, 2, 'nearest']          \n",
            " 16           [-1, 4]  1         0  models.common.Concat                    [1]                           \n",
            " 17                -1  1     95104  models.common.BottleneckCSP             [256, 128, 1, False]          \n",
            " 18                -1  1    147712  models.common.Conv                      [128, 128, 3, 2]              \n",
            " 19          [-1, 14]  1         0  models.common.Concat                    [1]                           \n",
            " 20                -1  1    313088  models.common.BottleneckCSP             [256, 256, 1, False]          \n",
            " 21                -1  1    590336  models.common.Conv                      [256, 256, 3, 2]              \n",
            " 22          [-1, 10]  1         0  models.common.Concat                    [1]                           \n",
            " 23                -1  1   1248768  models.common.BottleneckCSP             [512, 512, 1, False]          \n",
            " 24      [17, 20, 23]  1     16182  models.yolo.Detect                      [1, [[10, 13, 16, 30, 33, 23], [30, 61, 62, 45, 59, 119], [116, 90, 156, 198, 373, 326]], [128, 256, 512]]\n",
            "Model Summary: 283 layers, 7255094 parameters, 7255094 gradients, 16.8 GFLOPS\n",
            "\n",
            "Scaled weight_decay = 0.0005\n",
            "Optimizer groups: 62 .bias, 70 conv.weight, 59 other\n",
            "\u001b[34m\u001b[1mtrain: \u001b[0mScanning '../train/labels.cache' for images and labels... 414 found, 0 missing, 0 empty, 1 corrupted: 100% 414/414 [00:00<00:00, 3671124.43it/s]\n",
            "\u001b[34m\u001b[1mtrain: \u001b[0mCaching images (0.1GB): 100% 413/413 [00:00<00:00, 683.05it/s]\n",
            "\u001b[34m\u001b[1mval: \u001b[0mScanning '../valid/labels.cache' for images and labels... 16 found, 0 missing, 0 empty, 0 corrupted: 100% 16/16 [00:00<00:00, 118566.90it/s]\n",
            "\u001b[34m\u001b[1mval: \u001b[0mCaching images (0.0GB): 100% 16/16 [00:00<00:00, 64902.19it/s]\n",
            "Plotting labels... \n",
            "\n",
            "\u001b[34m\u001b[1mautoanchor: \u001b[0mAnalyzing anchors... anchors/target = 4.35, Best Possible Recall (BPR) = 1.0000\n",
            "Image sizes 416 train, 416 test\n",
            "Using 2 dataloader workers\n",
            "Logging results to runs/train/yolov5s_results4\n",
            "Starting training for 150 epochs...\n",
            "\n",
            "     Epoch   gpu_mem       box       obj       cls     total   targets  img_size\n",
            "     0/149     1.41G    0.1026   0.03026         0    0.1329        49       416: 100% 26/26 [00:05<00:00,  4.43it/s]\n",
            "               Class      Images     Targets           P           R      mAP@.5  mAP@.5:.95: 100% 1/1 [00:00<00:00,  2.40it/s]\n",
            "                 all          16          29      0.0098       0.759      0.0151     0.00216\n",
            "\n",
            "     Epoch   gpu_mem       box       obj       cls     total   targets  img_size\n",
            "     1/149     1.39G   0.08853   0.03606         0    0.1246        58       416: 100% 26/26 [00:03<00:00,  6.74it/s]\n",
            "               Class      Images     Targets           P           R      mAP@.5  mAP@.5:.95: 100% 1/1 [00:00<00:00,  7.74it/s]\n",
            "                 all          16          29      0.0171       0.724      0.0175     0.00223\n",
            "\n",
            "     Epoch   gpu_mem       box       obj       cls     total   targets  img_size\n",
            "     2/149     1.39G   0.08372   0.03562         0    0.1193        46       416: 100% 26/26 [00:03<00:00,  6.71it/s]\n",
            "               Class      Images     Targets           P           R      mAP@.5  mAP@.5:.95: 100% 1/1 [00:00<00:00, 11.44it/s]\n",
            "                 all          16          29      0.0191       0.724      0.0248     0.00289\n",
            "\n",
            "     Epoch   gpu_mem       box       obj       cls     total   targets  img_size\n",
            "     3/149     1.39G   0.08492   0.03491         0    0.1198        61       416: 100% 26/26 [00:03<00:00,  6.56it/s]\n",
            "               Class      Images     Targets           P           R      mAP@.5  mAP@.5:.95: 100% 1/1 [00:00<00:00, 10.44it/s]\n",
            "                 all          16          29      0.0227       0.724      0.0329     0.00437\n",
            "\n",
            "     Epoch   gpu_mem       box       obj       cls     total   targets  img_size\n",
            "     4/149     1.39G   0.08296   0.03574         0    0.1187        49       416: 100% 26/26 [00:03<00:00,  6.62it/s]\n",
            "               Class      Images     Targets           P           R      mAP@.5  mAP@.5:.95: 100% 1/1 [00:00<00:00, 11.67it/s]\n",
            "                 all          16          29      0.0236       0.552      0.0385      0.0048\n",
            "\n",
            "     Epoch   gpu_mem       box       obj       cls     total   targets  img_size\n",
            "     5/149     1.39G   0.08148   0.03522         0    0.1167        53       416: 100% 26/26 [00:03<00:00,  6.67it/s]\n",
            "               Class      Images     Targets           P           R      mAP@.5  mAP@.5:.95: 100% 1/1 [00:00<00:00, 11.99it/s]\n",
            "                 all          16          29      0.0246       0.103      0.0163     0.00235\n",
            "\n",
            "     Epoch   gpu_mem       box       obj       cls     total   targets  img_size\n",
            "     6/149     1.39G   0.08187   0.03453         0    0.1164        48       416: 100% 26/26 [00:03<00:00,  7.09it/s]\n",
            "               Class      Images     Targets           P           R      mAP@.5  mAP@.5:.95: 100% 1/1 [00:00<00:00, 10.11it/s]\n",
            "                 all          16          29      0.0382       0.069      0.0206     0.00303\n",
            "\n",
            "     Epoch   gpu_mem       box       obj       cls     total   targets  img_size\n",
            "     7/149     1.39G   0.08122   0.03509         0    0.1163        52       416: 100% 26/26 [00:03<00:00,  7.34it/s]\n",
            "               Class      Images     Targets           P           R      mAP@.5  mAP@.5:.95: 100% 1/1 [00:00<00:00,  8.77it/s]\n",
            "                 all          16          29      0.0908       0.103      0.0213     0.00351\n",
            "\n",
            "     Epoch   gpu_mem       box       obj       cls     total   targets  img_size\n",
            "     8/149     1.39G   0.07987   0.03588         0    0.1157        63       416: 100% 26/26 [00:03<00:00,  7.24it/s]\n",
            "               Class      Images     Targets           P           R      mAP@.5  mAP@.5:.95: 100% 1/1 [00:00<00:00, 11.10it/s]\n",
            "                 all          16          29      0.0274       0.138      0.0221     0.00275\n",
            "\n",
            "     Epoch   gpu_mem       box       obj       cls     total   targets  img_size\n",
            "     9/149     1.39G   0.08025   0.03546         0    0.1157        50       416: 100% 26/26 [00:03<00:00,  7.22it/s]\n",
            "               Class      Images     Targets           P           R      mAP@.5  mAP@.5:.95: 100% 1/1 [00:00<00:00, 10.10it/s]\n",
            "                 all          16          29      0.0526       0.103      0.0303     0.00565\n",
            "\n",
            "     Epoch   gpu_mem       box       obj       cls     total   targets  img_size\n",
            "    10/149     1.39G   0.07815   0.03596         0    0.1141        45       416: 100% 26/26 [00:03<00:00,  7.10it/s]\n",
            "               Class      Images     Targets           P           R      mAP@.5  mAP@.5:.95: 100% 1/1 [00:00<00:00, 10.38it/s]\n",
            "                 all          16          29       0.496      0.0345      0.0394     0.00488\n",
            "\n",
            "     Epoch   gpu_mem       box       obj       cls     total   targets  img_size\n",
            "    11/149     1.39G   0.07876   0.03605         0    0.1148        34       416: 100% 26/26 [00:03<00:00,  7.16it/s]\n",
            "               Class      Images     Targets           P           R      mAP@.5  mAP@.5:.95: 100% 1/1 [00:00<00:00,  9.86it/s]\n",
            "                 all          16          29      0.0424       0.207      0.0269     0.00439\n",
            "\n",
            "     Epoch   gpu_mem       box       obj       cls     total   targets  img_size\n",
            "    12/149     1.39G   0.08002   0.03546         0    0.1155        38       416: 100% 26/26 [00:03<00:00,  7.09it/s]\n",
            "               Class      Images     Targets           P           R      mAP@.5  mAP@.5:.95: 100% 1/1 [00:00<00:00,  9.58it/s]\n",
            "                 all          16          29      0.0369       0.138       0.022     0.00286\n",
            "\n",
            "     Epoch   gpu_mem       box       obj       cls     total   targets  img_size\n",
            "    13/149     1.39G   0.07955   0.03608         0    0.1156        38       416: 100% 26/26 [00:03<00:00,  7.08it/s]\n",
            "               Class      Images     Targets           P           R      mAP@.5  mAP@.5:.95: 100% 1/1 [00:00<00:00,  9.38it/s]\n",
            "                 all          16          29      0.0979       0.103      0.0331     0.00673\n",
            "\n",
            "     Epoch   gpu_mem       box       obj       cls     total   targets  img_size\n",
            "    14/149     1.39G   0.07951   0.03595         0    0.1155        47       416: 100% 26/26 [00:03<00:00,  7.02it/s]\n",
            "               Class      Images     Targets           P           R      mAP@.5  mAP@.5:.95: 100% 1/1 [00:00<00:00, 10.76it/s]\n",
            "                 all          16          29       0.107       0.103      0.0329     0.00458\n",
            "\n",
            "     Epoch   gpu_mem       box       obj       cls     total   targets  img_size\n",
            "    15/149     1.39G   0.07849   0.03562         0    0.1141        53       416: 100% 26/26 [00:03<00:00,  7.19it/s]\n",
            "               Class      Images     Targets           P           R      mAP@.5  mAP@.5:.95: 100% 1/1 [00:00<00:00, 10.58it/s]\n",
            "                 all          16          29       0.102      0.0345      0.0153     0.00371\n",
            "\n",
            "     Epoch   gpu_mem       box       obj       cls     total   targets  img_size\n",
            "    16/149     1.39G   0.07704   0.03711         0    0.1142        58       416: 100% 26/26 [00:03<00:00,  7.22it/s]\n",
            "               Class      Images     Targets           P           R      mAP@.5  mAP@.5:.95: 100% 1/1 [00:00<00:00,  9.15it/s]\n",
            "                 all          16          29      0.0474       0.138       0.023     0.00276\n",
            "\n",
            "     Epoch   gpu_mem       box       obj       cls     total   targets  img_size\n",
            "    17/149     1.39G   0.07626   0.03609         0    0.1123        58       416: 100% 26/26 [00:03<00:00,  7.09it/s]\n",
            "               Class      Images     Targets           P           R      mAP@.5  mAP@.5:.95: 100% 1/1 [00:00<00:00, 10.82it/s]\n",
            "                 all          16          29      0.0564       0.138      0.0256     0.00416\n",
            "\n",
            "     Epoch   gpu_mem       box       obj       cls     total   targets  img_size\n",
            "    18/149     1.39G   0.07642   0.03645         0    0.1129        36       416: 100% 26/26 [00:03<00:00,  7.12it/s]\n",
            "               Class      Images     Targets           P           R      mAP@.5  mAP@.5:.95: 100% 1/1 [00:00<00:00,  9.05it/s]\n",
            "                 all          16          29      0.0494       0.138      0.0252     0.00382\n",
            "\n",
            "     Epoch   gpu_mem       box       obj       cls     total   targets  img_size\n",
            "    19/149     1.39G   0.07579   0.03619         0     0.112        49       416: 100% 26/26 [00:03<00:00,  7.24it/s]\n",
            "               Class      Images     Targets           P           R      mAP@.5  mAP@.5:.95: 100% 1/1 [00:00<00:00, 12.25it/s]\n",
            "                 all          16          29      0.0572       0.276      0.0458      0.0062\n",
            "\n",
            "     Epoch   gpu_mem       box       obj       cls     total   targets  img_size\n",
            "    20/149     1.39G   0.07494   0.03668         0    0.1116        50       416: 100% 26/26 [00:03<00:00,  7.30it/s]\n",
            "               Class      Images     Targets           P           R      mAP@.5  mAP@.5:.95: 100% 1/1 [00:00<00:00,  9.21it/s]\n",
            "                 all          16          29       0.125       0.103      0.0544     0.00777\n",
            "\n",
            "     Epoch   gpu_mem       box       obj       cls     total   targets  img_size\n",
            "    21/149     1.39G   0.07375   0.03771         0    0.1115        66       416: 100% 26/26 [00:03<00:00,  7.22it/s]\n",
            "               Class      Images     Targets           P           R      mAP@.5  mAP@.5:.95: 100% 1/1 [00:00<00:00, 10.97it/s]\n",
            "                 all          16          29      0.0494       0.276       0.031     0.00375\n",
            "\n",
            "     Epoch   gpu_mem       box       obj       cls     total   targets  img_size\n",
            "    22/149     1.39G   0.07371   0.03645         0    0.1102        46       416: 100% 26/26 [00:03<00:00,  7.27it/s]\n",
            "               Class      Images     Targets           P           R      mAP@.5  mAP@.5:.95: 100% 1/1 [00:00<00:00, 12.56it/s]\n",
            "                 all          16          29      0.0627       0.276      0.0387       0.007\n",
            "\n",
            "     Epoch   gpu_mem       box       obj       cls     total   targets  img_size\n",
            "    23/149     1.39G   0.07096   0.03633         0    0.1073        39       416: 100% 26/26 [00:03<00:00,  7.41it/s]\n",
            "               Class      Images     Targets           P           R      mAP@.5  mAP@.5:.95: 100% 1/1 [00:00<00:00, 10.05it/s]\n",
            "                 all          16          29       0.101       0.138      0.0442     0.00751\n",
            "\n",
            "     Epoch   gpu_mem       box       obj       cls     total   targets  img_size\n",
            "    24/149     1.39G   0.07253   0.03752         0      0.11        55       416: 100% 26/26 [00:03<00:00,  7.34it/s]\n",
            "               Class      Images     Targets           P           R      mAP@.5  mAP@.5:.95: 100% 1/1 [00:00<00:00, 10.15it/s]\n",
            "                 all          16          29       0.108       0.103      0.0399     0.00598\n",
            "\n",
            "     Epoch   gpu_mem       box       obj       cls     total   targets  img_size\n",
            "    25/149     1.39G   0.07117   0.03649         0    0.1077        41       416: 100% 26/26 [00:03<00:00,  7.29it/s]\n",
            "               Class      Images     Targets           P           R      mAP@.5  mAP@.5:.95: 100% 1/1 [00:00<00:00, 12.19it/s]\n",
            "                 all          16          29      0.0552       0.345      0.0298     0.00588\n",
            "\n",
            "     Epoch   gpu_mem       box       obj       cls     total   targets  img_size\n",
            "    26/149     1.39G   0.07036   0.03841         0    0.1088        38       416: 100% 26/26 [00:03<00:00,  7.32it/s]\n",
            "               Class      Images     Targets           P           R      mAP@.5  mAP@.5:.95: 100% 1/1 [00:00<00:00,  9.68it/s]\n",
            "                 all          16          29      0.0729       0.138      0.0402     0.00543\n",
            "\n",
            "     Epoch   gpu_mem       box       obj       cls     total   targets  img_size\n",
            "    27/149     1.39G   0.06876   0.03851         0    0.1073        35       416: 100% 26/26 [00:03<00:00,  7.34it/s]\n",
            "               Class      Images     Targets           P           R      mAP@.5  mAP@.5:.95: 100% 1/1 [00:00<00:00,  9.92it/s]\n",
            "                 all          16          29       0.148       0.138      0.0543      0.0122\n",
            "\n",
            "     Epoch   gpu_mem       box       obj       cls     total   targets  img_size\n",
            "    28/149     1.39G   0.06582   0.03755         0    0.1034        36       416: 100% 26/26 [00:03<00:00,  7.43it/s]\n",
            "               Class      Images     Targets           P           R      mAP@.5  mAP@.5:.95: 100% 1/1 [00:00<00:00, 12.09it/s]\n",
            "                 all          16          29       0.126       0.414      0.0831      0.0143\n",
            "\n",
            "     Epoch   gpu_mem       box       obj       cls     total   targets  img_size\n",
            "    29/149     1.39G   0.06702   0.03711         0    0.1041        49       416: 100% 26/26 [00:03<00:00,  7.31it/s]\n",
            "               Class      Images     Targets           P           R      mAP@.5  mAP@.5:.95: 100% 1/1 [00:00<00:00, 11.50it/s]\n",
            "                 all          16          29       0.155       0.414      0.0887      0.0129\n",
            "\n",
            "     Epoch   gpu_mem       box       obj       cls     total   targets  img_size\n",
            "    30/149     1.39G   0.06587   0.03746         0    0.1033        43       416: 100% 26/26 [00:03<00:00,  7.25it/s]\n",
            "               Class      Images     Targets           P           R      mAP@.5  mAP@.5:.95: 100% 1/1 [00:00<00:00, 11.02it/s]\n",
            "                 all          16          29       0.205       0.374       0.153      0.0224\n",
            "\n",
            "     Epoch   gpu_mem       box       obj       cls     total   targets  img_size\n",
            "    31/149     1.39G   0.06432   0.03846         0    0.1028        48       416: 100% 26/26 [00:03<00:00,  7.14it/s]\n",
            "               Class      Images     Targets           P           R      mAP@.5  mAP@.5:.95: 100% 1/1 [00:00<00:00, 12.29it/s]\n",
            "                 all          16          29        0.16       0.276      0.0825      0.0153\n",
            "\n",
            "     Epoch   gpu_mem       box       obj       cls     total   targets  img_size\n",
            "    32/149     1.39G    0.0641   0.03743         0    0.1015        55       416: 100% 26/26 [00:03<00:00,  7.53it/s]\n",
            "               Class      Images     Targets           P           R      mAP@.5  mAP@.5:.95: 100% 1/1 [00:00<00:00, 11.74it/s]\n",
            "                 all          16          29        0.25       0.207         0.1      0.0234\n",
            "\n",
            "     Epoch   gpu_mem       box       obj       cls     total   targets  img_size\n",
            "    33/149     1.39G   0.06357    0.0379         0    0.1015        46       416: 100% 26/26 [00:03<00:00,  7.51it/s]\n",
            "               Class      Images     Targets           P           R      mAP@.5  mAP@.5:.95: 100% 1/1 [00:00<00:00, 10.54it/s]\n",
            "                 all          16          29       0.124       0.448      0.0875      0.0224\n",
            "\n",
            "     Epoch   gpu_mem       box       obj       cls     total   targets  img_size\n",
            "    34/149     1.39G    0.0638   0.03657         0    0.1004        42       416: 100% 26/26 [00:03<00:00,  7.57it/s]\n",
            "               Class      Images     Targets           P           R      mAP@.5  mAP@.5:.95: 100% 1/1 [00:00<00:00,  9.61it/s]\n",
            "                 all          16          29       0.291       0.241       0.148      0.0281\n",
            "\n",
            "     Epoch   gpu_mem       box       obj       cls     total   targets  img_size\n",
            "    35/149     1.39G   0.06208   0.03519         0   0.09727        48       416: 100% 26/26 [00:03<00:00,  7.24it/s]\n",
            "               Class      Images     Targets           P           R      mAP@.5  mAP@.5:.95: 100% 1/1 [00:00<00:00, 10.06it/s]\n",
            "                 all          16          29        0.21       0.379        0.18      0.0446\n",
            "\n",
            "     Epoch   gpu_mem       box       obj       cls     total   targets  img_size\n",
            "    36/149     1.39G   0.06184   0.03466         0    0.0965        34       416: 100% 26/26 [00:03<00:00,  7.29it/s]\n",
            "               Class      Images     Targets           P           R      mAP@.5  mAP@.5:.95: 100% 1/1 [00:00<00:00,  9.76it/s]\n",
            "                 all          16          29       0.131       0.172      0.0509     0.00773\n",
            "\n",
            "     Epoch   gpu_mem       box       obj       cls     total   targets  img_size\n",
            "    37/149     1.39G   0.06224   0.03763         0   0.09987        70       416: 100% 26/26 [00:03<00:00,  7.50it/s]\n",
            "               Class      Images     Targets           P           R      mAP@.5  mAP@.5:.95: 100% 1/1 [00:00<00:00, 11.73it/s]\n",
            "                 all          16          29       0.283       0.345       0.184      0.0402\n",
            "\n",
            "     Epoch   gpu_mem       box       obj       cls     total   targets  img_size\n",
            "    38/149     1.39G    0.0615   0.03657         0   0.09806        45       416: 100% 26/26 [00:03<00:00,  7.35it/s]\n",
            "               Class      Images     Targets           P           R      mAP@.5  mAP@.5:.95: 100% 1/1 [00:00<00:00, 10.08it/s]\n",
            "                 all          16          29        0.28       0.517       0.212      0.0365\n",
            "\n",
            "     Epoch   gpu_mem       box       obj       cls     total   targets  img_size\n",
            "    39/149     1.39G   0.05991   0.03732         0   0.09723        49       416: 100% 26/26 [00:03<00:00,  7.26it/s]\n",
            "               Class      Images     Targets           P           R      mAP@.5  mAP@.5:.95: 100% 1/1 [00:00<00:00, 10.99it/s]\n",
            "                 all          16          29       0.136       0.103      0.0613      0.0116\n",
            "\n",
            "     Epoch   gpu_mem       box       obj       cls     total   targets  img_size\n",
            "    40/149     1.39G   0.06088   0.03515         0   0.09602        49       416: 100% 26/26 [00:03<00:00,  7.45it/s]\n",
            "               Class      Images     Targets           P           R      mAP@.5  mAP@.5:.95: 100% 1/1 [00:00<00:00, 10.11it/s]\n",
            "                 all          16          29       0.578       0.379       0.401      0.0799\n",
            "\n",
            "     Epoch   gpu_mem       box       obj       cls     total   targets  img_size\n",
            "    41/149     1.39G   0.05989   0.03549         0   0.09538        50       416: 100% 26/26 [00:03<00:00,  7.45it/s]\n",
            "               Class      Images     Targets           P           R      mAP@.5  mAP@.5:.95: 100% 1/1 [00:00<00:00, 11.18it/s]\n",
            "                 all          16          29       0.496       0.345       0.282      0.0625\n",
            "\n",
            "     Epoch   gpu_mem       box       obj       cls     total   targets  img_size\n",
            "    42/149     1.39G   0.06012   0.03393         0   0.09405        45       416: 100% 26/26 [00:03<00:00,  7.37it/s]\n",
            "               Class      Images     Targets           P           R      mAP@.5  mAP@.5:.95: 100% 1/1 [00:00<00:00,  9.35it/s]\n",
            "                 all          16          29       0.372       0.551       0.288      0.0702\n",
            "\n",
            "     Epoch   gpu_mem       box       obj       cls     total   targets  img_size\n",
            "    43/149     1.39G   0.05943   0.03514         0   0.09457        53       416: 100% 26/26 [00:03<00:00,  7.52it/s]\n",
            "               Class      Images     Targets           P           R      mAP@.5  mAP@.5:.95: 100% 1/1 [00:00<00:00, 10.83it/s]\n",
            "                 all          16          29       0.289       0.379         0.2       0.042\n",
            "\n",
            "     Epoch   gpu_mem       box       obj       cls     total   targets  img_size\n",
            "    44/149     1.39G   0.05846    0.0347         0   0.09315        44       416: 100% 26/26 [00:03<00:00,  7.40it/s]\n",
            "               Class      Images     Targets           P           R      mAP@.5  mAP@.5:.95: 100% 1/1 [00:00<00:00,  9.33it/s]\n",
            "                 all          16          29       0.202       0.414       0.175      0.0485\n",
            "\n",
            "     Epoch   gpu_mem       box       obj       cls     total   targets  img_size\n",
            "    45/149     1.39G   0.05822   0.03454         0   0.09276        41       416: 100% 26/26 [00:03<00:00,  7.57it/s]\n",
            "               Class      Images     Targets           P           R      mAP@.5  mAP@.5:.95: 100% 1/1 [00:00<00:00,  9.72it/s]\n",
            "                 all          16          29       0.476       0.345       0.326      0.0748\n",
            "\n",
            "     Epoch   gpu_mem       box       obj       cls     total   targets  img_size\n",
            "    46/149     1.39G    0.0566    0.0351         0   0.09169        48       416: 100% 26/26 [00:03<00:00,  7.37it/s]\n",
            "               Class      Images     Targets           P           R      mAP@.5  mAP@.5:.95: 100% 1/1 [00:00<00:00,  9.73it/s]\n",
            "                 all          16          29       0.113       0.172      0.0484     0.00777\n",
            "\n",
            "     Epoch   gpu_mem       box       obj       cls     total   targets  img_size\n",
            "    47/149     1.39G   0.05672   0.03341         0   0.09012        45       416: 100% 26/26 [00:03<00:00,  7.37it/s]\n",
            "               Class      Images     Targets           P           R      mAP@.5  mAP@.5:.95: 100% 1/1 [00:00<00:00,  8.39it/s]\n",
            "                 all          16          29       0.462       0.448       0.336      0.0885\n",
            "\n",
            "     Epoch   gpu_mem       box       obj       cls     total   targets  img_size\n",
            "    48/149     1.39G   0.05571    0.0357         0   0.09141        50       416: 100% 26/26 [00:03<00:00,  7.32it/s]\n",
            "               Class      Images     Targets           P           R      mAP@.5  mAP@.5:.95: 100% 1/1 [00:00<00:00, 11.37it/s]\n",
            "                 all          16          29        0.54       0.448       0.291      0.0795\n",
            "\n",
            "     Epoch   gpu_mem       box       obj       cls     total   targets  img_size\n",
            "    49/149     1.39G   0.05316   0.03403         0    0.0872        47       416: 100% 26/26 [00:03<00:00,  7.43it/s]\n",
            "               Class      Images     Targets           P           R      mAP@.5  mAP@.5:.95: 100% 1/1 [00:00<00:00,  9.48it/s]\n",
            "                 all          16          29       0.484       0.552       0.441      0.0924\n",
            "\n",
            "     Epoch   gpu_mem       box       obj       cls     total   targets  img_size\n",
            "    50/149     1.39G   0.05482   0.03379         0   0.08861        43       416: 100% 26/26 [00:03<00:00,  7.41it/s]\n",
            "               Class      Images     Targets           P           R      mAP@.5  mAP@.5:.95: 100% 1/1 [00:00<00:00,  9.90it/s]\n",
            "                 all          16          29       0.548       0.586       0.531       0.114\n",
            "\n",
            "     Epoch   gpu_mem       box       obj       cls     total   targets  img_size\n",
            "    51/149     1.39G   0.05438   0.03474         0   0.08913        46       416: 100% 26/26 [00:03<00:00,  7.40it/s]\n",
            "               Class      Images     Targets           P           R      mAP@.5  mAP@.5:.95: 100% 1/1 [00:00<00:00, 12.12it/s]\n",
            "                 all          16          29       0.612       0.655       0.561       0.111\n",
            "\n",
            "     Epoch   gpu_mem       box       obj       cls     total   targets  img_size\n",
            "    52/149     1.39G   0.05249   0.03389         0   0.08639        55       416: 100% 26/26 [00:03<00:00,  7.31it/s]\n",
            "               Class      Images     Targets           P           R      mAP@.5  mAP@.5:.95: 100% 1/1 [00:00<00:00, 10.33it/s]\n",
            "                 all          16          29        0.47       0.552        0.37       0.094\n",
            "\n",
            "     Epoch   gpu_mem       box       obj       cls     total   targets  img_size\n",
            "    53/149     1.39G    0.0525   0.03349         0   0.08599        47       416: 100% 26/26 [00:03<00:00,  7.45it/s]\n",
            "               Class      Images     Targets           P           R      mAP@.5  mAP@.5:.95: 100% 1/1 [00:00<00:00, 10.49it/s]\n",
            "                 all          16          29       0.575       0.655       0.562       0.125\n",
            "\n",
            "     Epoch   gpu_mem       box       obj       cls     total   targets  img_size\n",
            "    54/149     1.39G     0.053   0.03336         0   0.08636        53       416: 100% 26/26 [00:03<00:00,  7.23it/s]\n",
            "               Class      Images     Targets           P           R      mAP@.5  mAP@.5:.95: 100% 1/1 [00:00<00:00,  9.76it/s]\n",
            "                 all          16          29       0.413       0.517       0.318      0.0676\n",
            "\n",
            "     Epoch   gpu_mem       box       obj       cls     total   targets  img_size\n",
            "    55/149     1.39G    0.0532   0.03347         0   0.08667        61       416: 100% 26/26 [00:03<00:00,  7.41it/s]\n",
            "               Class      Images     Targets           P           R      mAP@.5  mAP@.5:.95: 100% 1/1 [00:00<00:00,  9.30it/s]\n",
            "                 all          16          29       0.604       0.483       0.476       0.122\n",
            "\n",
            "     Epoch   gpu_mem       box       obj       cls     total   targets  img_size\n",
            "    56/149     1.39G   0.05092   0.03256         0   0.08348        44       416: 100% 26/26 [00:03<00:00,  7.29it/s]\n",
            "               Class      Images     Targets           P           R      mAP@.5  mAP@.5:.95: 100% 1/1 [00:00<00:00,  9.89it/s]\n",
            "                 all          16          29       0.483       0.552       0.378       0.114\n",
            "\n",
            "     Epoch   gpu_mem       box       obj       cls     total   targets  img_size\n",
            "    57/149     1.39G   0.05122   0.03368         0    0.0849        48       416: 100% 26/26 [00:03<00:00,  7.38it/s]\n",
            "               Class      Images     Targets           P           R      mAP@.5  mAP@.5:.95: 100% 1/1 [00:00<00:00, 11.98it/s]\n",
            "                 all          16          29       0.589       0.448       0.402       0.102\n",
            "\n",
            "     Epoch   gpu_mem       box       obj       cls     total   targets  img_size\n",
            "    58/149     1.39G   0.05079   0.03222         0   0.08301        46       416: 100% 26/26 [00:03<00:00,  7.37it/s]\n",
            "               Class      Images     Targets           P           R      mAP@.5  mAP@.5:.95: 100% 1/1 [00:00<00:00, 11.48it/s]\n",
            "                 all          16          29       0.773       0.586       0.629       0.125\n",
            "\n",
            "     Epoch   gpu_mem       box       obj       cls     total   targets  img_size\n",
            "    59/149     1.39G    0.0508   0.03277         0   0.08357        49       416: 100% 26/26 [00:03<00:00,  7.36it/s]\n",
            "               Class      Images     Targets           P           R      mAP@.5  mAP@.5:.95: 100% 1/1 [00:00<00:00, 10.34it/s]\n",
            "                 all          16          29       0.757       0.759       0.712       0.146\n",
            "\n",
            "     Epoch   gpu_mem       box       obj       cls     total   targets  img_size\n",
            "    60/149     1.39G   0.05063   0.03227         0   0.08291        38       416: 100% 26/26 [00:03<00:00,  7.29it/s]\n",
            "               Class      Images     Targets           P           R      mAP@.5  mAP@.5:.95: 100% 1/1 [00:00<00:00,  9.69it/s]\n",
            "                 all          16          29         0.5       0.517       0.435        0.12\n",
            "\n",
            "     Epoch   gpu_mem       box       obj       cls     total   targets  img_size\n",
            "    61/149     1.39G   0.04891   0.03258         0   0.08149        39       416: 100% 26/26 [00:03<00:00,  7.37it/s]\n",
            "               Class      Images     Targets           P           R      mAP@.5  mAP@.5:.95: 100% 1/1 [00:00<00:00,  9.79it/s]\n",
            "                 all          16          29       0.612       0.654       0.559       0.138\n",
            "\n",
            "     Epoch   gpu_mem       box       obj       cls     total   targets  img_size\n",
            "    62/149     1.39G   0.04918   0.03271         0   0.08189        48       416: 100% 26/26 [00:03<00:00,  7.31it/s]\n",
            "               Class      Images     Targets           P           R      mAP@.5  mAP@.5:.95: 100% 1/1 [00:00<00:00, 10.77it/s]\n",
            "                 all          16          29        0.59       0.448       0.399       0.101\n",
            "\n",
            "     Epoch   gpu_mem       box       obj       cls     total   targets  img_size\n",
            "    63/149     1.39G   0.04872    0.0318         0   0.08051        70       416: 100% 26/26 [00:03<00:00,  7.06it/s]\n",
            "               Class      Images     Targets           P           R      mAP@.5  mAP@.5:.95: 100% 1/1 [00:00<00:00, 12.39it/s]\n",
            "                 all          16          29       0.599       0.619       0.619       0.161\n",
            "\n",
            "     Epoch   gpu_mem       box       obj       cls     total   targets  img_size\n",
            "    64/149     1.39G   0.04899   0.03152         0    0.0805        67       416: 100% 26/26 [00:03<00:00,  7.34it/s]\n",
            "               Class      Images     Targets           P           R      mAP@.5  mAP@.5:.95: 100% 1/1 [00:00<00:00, 10.69it/s]\n",
            "                 all          16          29        0.68       0.585       0.565       0.131\n",
            "\n",
            "     Epoch   gpu_mem       box       obj       cls     total   targets  img_size\n",
            "    65/149     1.39G   0.04826   0.03163         0   0.07989        44       416: 100% 26/26 [00:03<00:00,  7.34it/s]\n",
            "               Class      Images     Targets           P           R      mAP@.5  mAP@.5:.95: 100% 1/1 [00:00<00:00,  8.78it/s]\n",
            "                 all          16          29       0.586       0.586        0.58       0.148\n",
            "\n",
            "     Epoch   gpu_mem       box       obj       cls     total   targets  img_size\n",
            "    66/149     1.39G   0.04631    0.0323         0   0.07861        45       416: 100% 26/26 [00:03<00:00,  7.33it/s]\n",
            "               Class      Images     Targets           P           R      mAP@.5  mAP@.5:.95: 100% 1/1 [00:00<00:00, 10.34it/s]\n",
            "                 all          16          29       0.737       0.483       0.537       0.131\n",
            "\n",
            "     Epoch   gpu_mem       box       obj       cls     total   targets  img_size\n",
            "    67/149     1.39G   0.04639   0.03181         0    0.0782        47       416: 100% 26/26 [00:03<00:00,  7.55it/s]\n",
            "               Class      Images     Targets           P           R      mAP@.5  mAP@.5:.95: 100% 1/1 [00:00<00:00, 11.84it/s]\n",
            "                 all          16          29       0.614       0.552       0.587        0.13\n",
            "\n",
            "     Epoch   gpu_mem       box       obj       cls     total   targets  img_size\n",
            "    68/149     1.39G   0.04665   0.03095         0    0.0776        49       416: 100% 26/26 [00:03<00:00,  7.37it/s]\n",
            "               Class      Images     Targets           P           R      mAP@.5  mAP@.5:.95: 100% 1/1 [00:00<00:00, 10.18it/s]\n",
            "                 all          16          29       0.692        0.62       0.645       0.148\n",
            "\n",
            "     Epoch   gpu_mem       box       obj       cls     total   targets  img_size\n",
            "    69/149     1.39G   0.04589   0.03215         0   0.07804        41       416: 100% 26/26 [00:03<00:00,  7.32it/s]\n",
            "               Class      Images     Targets           P           R      mAP@.5  mAP@.5:.95: 100% 1/1 [00:00<00:00, 12.83it/s]\n",
            "                 all          16          29       0.617       0.722       0.613        0.16\n",
            "\n",
            "     Epoch   gpu_mem       box       obj       cls     total   targets  img_size\n",
            "    70/149     1.39G   0.04619   0.03102         0   0.07722        43       416: 100% 26/26 [00:03<00:00,  6.99it/s]\n",
            "               Class      Images     Targets           P           R      mAP@.5  mAP@.5:.95: 100% 1/1 [00:00<00:00,  9.82it/s]\n",
            "                 all          16          29       0.608       0.483       0.454      0.0835\n",
            "\n",
            "     Epoch   gpu_mem       box       obj       cls     total   targets  img_size\n",
            "    71/149     1.39G   0.04524   0.03106         0   0.07629        41       416: 100% 26/26 [00:03<00:00,  7.37it/s]\n",
            "               Class      Images     Targets           P           R      mAP@.5  mAP@.5:.95: 100% 1/1 [00:00<00:00,  9.95it/s]\n",
            "                 all          16          29       0.651       0.517        0.53       0.131\n",
            "\n",
            "     Epoch   gpu_mem       box       obj       cls     total   targets  img_size\n",
            "    72/149     1.39G   0.04466   0.03062         0   0.07529        50       416: 100% 26/26 [00:03<00:00,  7.32it/s]\n",
            "               Class      Images     Targets           P           R      mAP@.5  mAP@.5:.95: 100% 1/1 [00:00<00:00,  9.50it/s]\n",
            "                 all          16          29       0.799       0.552       0.584       0.155\n",
            "\n",
            "     Epoch   gpu_mem       box       obj       cls     total   targets  img_size\n",
            "    73/149     1.39G   0.04356   0.02889         0   0.07244        54       416: 100% 26/26 [00:03<00:00,  7.25it/s]\n",
            "               Class      Images     Targets           P           R      mAP@.5  mAP@.5:.95: 100% 1/1 [00:00<00:00, 11.46it/s]\n",
            "                 all          16          29       0.714        0.69       0.714       0.163\n",
            "\n",
            "     Epoch   gpu_mem       box       obj       cls     total   targets  img_size\n",
            "    74/149     1.39G   0.04359   0.02966         0   0.07326        42       416: 100% 26/26 [00:03<00:00,  7.04it/s]\n",
            "               Class      Images     Targets           P           R      mAP@.5  mAP@.5:.95: 100% 1/1 [00:00<00:00, 10.42it/s]\n",
            "                 all          16          29       0.822       0.483       0.533       0.135\n",
            "\n",
            "     Epoch   gpu_mem       box       obj       cls     total   targets  img_size\n",
            "    75/149     1.39G   0.04347   0.03073         0    0.0742        44       416: 100% 26/26 [00:03<00:00,  7.18it/s]\n",
            "               Class      Images     Targets           P           R      mAP@.5  mAP@.5:.95: 100% 1/1 [00:00<00:00, 11.33it/s]\n",
            "                 all          16          29         0.6       0.621       0.529       0.167\n",
            "\n",
            "     Epoch   gpu_mem       box       obj       cls     total   targets  img_size\n",
            "    76/149     1.39G   0.04399   0.02976         0   0.07375        54       416: 100% 26/26 [00:03<00:00,  7.18it/s]\n",
            "               Class      Images     Targets           P           R      mAP@.5  mAP@.5:.95: 100% 1/1 [00:00<00:00,  9.51it/s]\n",
            "                 all          16          29       0.736       0.483       0.574       0.139\n",
            "\n",
            "     Epoch   gpu_mem       box       obj       cls     total   targets  img_size\n",
            "    77/149     1.39G   0.04313   0.02909         0   0.07223        45       416: 100% 26/26 [00:03<00:00,  7.02it/s]\n",
            "               Class      Images     Targets           P           R      mAP@.5  mAP@.5:.95: 100% 1/1 [00:00<00:00,  9.47it/s]\n",
            "                 all          16          29       0.666       0.483       0.496       0.127\n",
            "\n",
            "     Epoch   gpu_mem       box       obj       cls     total   targets  img_size\n",
            "    78/149     1.39G   0.04324   0.02948         0   0.07272        48       416: 100% 26/26 [00:03<00:00,  7.16it/s]\n",
            "               Class      Images     Targets           P           R      mAP@.5  mAP@.5:.95: 100% 1/1 [00:00<00:00,  9.83it/s]\n",
            "                 all          16          29         0.7       0.483       0.539       0.161\n",
            "\n",
            "     Epoch   gpu_mem       box       obj       cls     total   targets  img_size\n",
            "    79/149     1.39G   0.04213   0.02869         0   0.07082        54       416: 100% 26/26 [00:03<00:00,  7.19it/s]\n",
            "               Class      Images     Targets           P           R      mAP@.5  mAP@.5:.95: 100% 1/1 [00:00<00:00, 11.39it/s]\n",
            "                 all          16          29       0.652       0.516       0.537       0.126\n",
            "\n",
            "     Epoch   gpu_mem       box       obj       cls     total   targets  img_size\n",
            "    80/149     1.39G   0.04283   0.02843         0   0.07126        62       416: 100% 26/26 [00:03<00:00,  7.22it/s]\n",
            "               Class      Images     Targets           P           R      mAP@.5  mAP@.5:.95: 100% 1/1 [00:00<00:00, 10.64it/s]\n",
            "                 all          16          29       0.724       0.724       0.696       0.206\n",
            "\n",
            "     Epoch   gpu_mem       box       obj       cls     total   targets  img_size\n",
            "    81/149     1.39G   0.04185   0.02824         0   0.07009        54       416: 100% 26/26 [00:03<00:00,  7.29it/s]\n",
            "               Class      Images     Targets           P           R      mAP@.5  mAP@.5:.95: 100% 1/1 [00:00<00:00,  9.57it/s]\n",
            "                 all          16          29        0.76       0.654       0.602       0.153\n",
            "\n",
            "     Epoch   gpu_mem       box       obj       cls     total   targets  img_size\n",
            "    82/149     1.39G   0.04113   0.02729         0   0.06843        48       416: 100% 26/26 [00:03<00:00,  7.35it/s]\n",
            "               Class      Images     Targets           P           R      mAP@.5  mAP@.5:.95: 100% 1/1 [00:00<00:00, 11.62it/s]\n",
            "                 all          16          29       0.529       0.621       0.549       0.148\n",
            "\n",
            "     Epoch   gpu_mem       box       obj       cls     total   targets  img_size\n",
            "    83/149     1.39G   0.04222   0.02905         0   0.07128        50       416: 100% 26/26 [00:03<00:00,  7.41it/s]\n",
            "               Class      Images     Targets           P           R      mAP@.5  mAP@.5:.95: 100% 1/1 [00:00<00:00, 11.19it/s]\n",
            "                 all          16          29       0.666       0.621       0.582       0.143\n",
            "\n",
            "     Epoch   gpu_mem       box       obj       cls     total   targets  img_size\n",
            "    84/149     1.39G   0.04102   0.02811         0   0.06913        60       416: 100% 26/26 [00:03<00:00,  7.41it/s]\n",
            "               Class      Images     Targets           P           R      mAP@.5  mAP@.5:.95: 100% 1/1 [00:00<00:00, 10.52it/s]\n",
            "                 all          16          29       0.665       0.552       0.521       0.151\n",
            "\n",
            "     Epoch   gpu_mem       box       obj       cls     total   targets  img_size\n",
            "    85/149     1.39G   0.04101   0.02822         0   0.06923        50       416: 100% 26/26 [00:03<00:00,  7.40it/s]\n",
            "               Class      Images     Targets           P           R      mAP@.5  mAP@.5:.95: 100% 1/1 [00:00<00:00, 12.43it/s]\n",
            "                 all          16          29       0.831       0.517       0.598       0.202\n",
            "\n",
            "     Epoch   gpu_mem       box       obj       cls     total   targets  img_size\n",
            "    86/149     1.39G   0.04095   0.02873         0   0.06969        63       416: 100% 26/26 [00:03<00:00,  7.30it/s]\n",
            "               Class      Images     Targets           P           R      mAP@.5  mAP@.5:.95: 100% 1/1 [00:00<00:00, 12.19it/s]\n",
            "                 all          16          29       0.708       0.586       0.541       0.152\n",
            "\n",
            "     Epoch   gpu_mem       box       obj       cls     total   targets  img_size\n",
            "    87/149     1.39G   0.03971    0.0276         0   0.06732        49       416: 100% 26/26 [00:03<00:00,  7.33it/s]\n",
            "               Class      Images     Targets           P           R      mAP@.5  mAP@.5:.95: 100% 1/1 [00:00<00:00, 11.04it/s]\n",
            "                 all          16          29       0.799        0.69       0.678       0.215\n",
            "\n",
            "     Epoch   gpu_mem       box       obj       cls     total   targets  img_size\n",
            "    88/149     1.39G   0.04048   0.02855         0   0.06903        47       416: 100% 26/26 [00:03<00:00,  7.10it/s]\n",
            "               Class      Images     Targets           P           R      mAP@.5  mAP@.5:.95: 100% 1/1 [00:00<00:00,  8.56it/s]\n",
            "                 all          16          29       0.575       0.655       0.509       0.144\n",
            "\n",
            "     Epoch   gpu_mem       box       obj       cls     total   targets  img_size\n",
            "    89/149     1.39G   0.04013   0.02722         0   0.06735        42       416: 100% 26/26 [00:03<00:00,  7.43it/s]\n",
            "               Class      Images     Targets           P           R      mAP@.5  mAP@.5:.95: 100% 1/1 [00:00<00:00, 12.32it/s]\n",
            "                 all          16          29       0.708       0.586       0.541       0.176\n",
            "\n",
            "     Epoch   gpu_mem       box       obj       cls     total   targets  img_size\n",
            "    90/149     1.39G   0.04054   0.02871         0   0.06925        44       416: 100% 26/26 [00:03<00:00,  7.34it/s]\n",
            "               Class      Images     Targets           P           R      mAP@.5  mAP@.5:.95: 100% 1/1 [00:00<00:00, 10.00it/s]\n",
            "                 all          16          29        0.76       0.655       0.612       0.171\n",
            "\n",
            "     Epoch   gpu_mem       box       obj       cls     total   targets  img_size\n",
            "    91/149     1.39G   0.03888   0.02766         0   0.06654        52       416: 100% 26/26 [00:03<00:00,  7.45it/s]\n",
            "               Class      Images     Targets           P           R      mAP@.5  mAP@.5:.95: 100% 1/1 [00:00<00:00, 11.78it/s]\n",
            "                 all          16          29       0.695       0.552       0.486       0.131\n",
            "\n",
            "     Epoch   gpu_mem       box       obj       cls     total   targets  img_size\n",
            "    92/149     1.39G   0.03937   0.02651         0   0.06588        50       416: 100% 26/26 [00:03<00:00,  7.20it/s]\n",
            "               Class      Images     Targets           P           R      mAP@.5  mAP@.5:.95: 100% 1/1 [00:00<00:00, 11.31it/s]\n",
            "                 all          16          29       0.818       0.621         0.7       0.203\n",
            "\n",
            "     Epoch   gpu_mem       box       obj       cls     total   targets  img_size\n",
            "    93/149     1.39G   0.03857   0.02686         0   0.06542        47       416: 100% 26/26 [00:03<00:00,  7.37it/s]\n",
            "               Class      Images     Targets           P           R      mAP@.5  mAP@.5:.95: 100% 1/1 [00:00<00:00,  9.97it/s]\n",
            "                 all          16          29       0.483       0.483       0.438       0.141\n",
            "\n",
            "     Epoch   gpu_mem       box       obj       cls     total   targets  img_size\n",
            "    94/149     1.39G   0.03887    0.0265         0   0.06537        55       416: 100% 26/26 [00:03<00:00,  7.32it/s]\n",
            "               Class      Images     Targets           P           R      mAP@.5  mAP@.5:.95: 100% 1/1 [00:00<00:00, 10.14it/s]\n",
            "                 all          16          29       0.692       0.621       0.623       0.152\n",
            "\n",
            "     Epoch   gpu_mem       box       obj       cls     total   targets  img_size\n",
            "    95/149     1.39G   0.03826   0.02761         0   0.06586        45       416: 100% 26/26 [00:03<00:00,  7.34it/s]\n",
            "               Class      Images     Targets           P           R      mAP@.5  mAP@.5:.95: 100% 1/1 [00:00<00:00, 11.61it/s]\n",
            "                 all          16          29       0.645       0.689       0.645       0.181\n",
            "\n",
            "     Epoch   gpu_mem       box       obj       cls     total   targets  img_size\n",
            "    96/149     1.39G   0.03876   0.02733         0   0.06609        42       416: 100% 26/26 [00:03<00:00,  7.36it/s]\n",
            "               Class      Images     Targets           P           R      mAP@.5  mAP@.5:.95: 100% 1/1 [00:00<00:00, 12.21it/s]\n",
            "                 all          16          29       0.799       0.552       0.587       0.141\n",
            "\n",
            "     Epoch   gpu_mem       box       obj       cls     total   targets  img_size\n",
            "    97/149     1.39G   0.03793   0.02693         0   0.06486        41       416: 100% 26/26 [00:03<00:00,  7.44it/s]\n",
            "               Class      Images     Targets           P           R      mAP@.5  mAP@.5:.95: 100% 1/1 [00:00<00:00, 10.38it/s]\n",
            "                 all          16          29       0.809       0.585       0.671       0.183\n",
            "\n",
            "     Epoch   gpu_mem       box       obj       cls     total   targets  img_size\n",
            "    98/149     1.39G   0.03715   0.02543         0   0.06257        49       416: 100% 26/26 [00:03<00:00,  7.36it/s]\n",
            "               Class      Images     Targets           P           R      mAP@.5  mAP@.5:.95: 100% 1/1 [00:00<00:00,  8.60it/s]\n",
            "                 all          16          29       0.731       0.655         0.7       0.176\n",
            "\n",
            "     Epoch   gpu_mem       box       obj       cls     total   targets  img_size\n",
            "    99/149     1.39G   0.03753   0.02685         0   0.06438        33       416: 100% 26/26 [00:03<00:00,  7.40it/s]\n",
            "               Class      Images     Targets           P           R      mAP@.5  mAP@.5:.95: 100% 1/1 [00:00<00:00, 10.53it/s]\n",
            "                 all          16          29       0.703       0.655       0.633       0.258\n",
            "\n",
            "     Epoch   gpu_mem       box       obj       cls     total   targets  img_size\n",
            "   100/149     1.39G   0.03721   0.02737         0   0.06458        50       416: 100% 26/26 [00:03<00:00,  7.17it/s]\n",
            "               Class      Images     Targets           P           R      mAP@.5  mAP@.5:.95: 100% 1/1 [00:00<00:00, 11.77it/s]\n",
            "                 all          16          29       0.588        0.69       0.617       0.169\n",
            "\n",
            "     Epoch   gpu_mem       box       obj       cls     total   targets  img_size\n",
            "   101/149     1.39G   0.03765   0.02531         0   0.06297        39       416: 100% 26/26 [00:03<00:00,  7.39it/s]\n",
            "               Class      Images     Targets           P           R      mAP@.5  mAP@.5:.95: 100% 1/1 [00:00<00:00, 12.42it/s]\n",
            "                 all          16          29       0.833        0.69       0.743       0.235\n",
            "\n",
            "     Epoch   gpu_mem       box       obj       cls     total   targets  img_size\n",
            "   102/149     1.39G   0.03687   0.02549         0   0.06236        44       416: 100% 26/26 [00:03<00:00,  7.33it/s]\n",
            "               Class      Images     Targets           P           R      mAP@.5  mAP@.5:.95: 100% 1/1 [00:00<00:00, 11.68it/s]\n",
            "                 all          16          29       0.798       0.552       0.678       0.193\n",
            "\n",
            "     Epoch   gpu_mem       box       obj       cls     total   targets  img_size\n",
            "   103/149     1.39G   0.03643   0.02655         0   0.06298        40       416: 100% 26/26 [00:03<00:00,  7.43it/s]\n",
            "               Class      Images     Targets           P           R      mAP@.5  mAP@.5:.95: 100% 1/1 [00:00<00:00, 10.85it/s]\n",
            "                 all          16          29       0.656       0.724       0.675       0.216\n",
            "\n",
            "     Epoch   gpu_mem       box       obj       cls     total   targets  img_size\n",
            "   104/149     1.39G   0.03714   0.02594         0   0.06308        48       416: 100% 26/26 [00:03<00:00,  7.36it/s]\n",
            "               Class      Images     Targets           P           R      mAP@.5  mAP@.5:.95: 100% 1/1 [00:00<00:00,  9.36it/s]\n",
            "                 all          16          29       0.825       0.655       0.697       0.218\n",
            "\n",
            "     Epoch   gpu_mem       box       obj       cls     total   targets  img_size\n",
            "   105/149     1.39G   0.03616   0.02589         0   0.06205        41       416: 100% 26/26 [00:03<00:00,  7.33it/s]\n",
            "               Class      Images     Targets           P           R      mAP@.5  mAP@.5:.95: 100% 1/1 [00:00<00:00, 10.86it/s]\n",
            "                 all          16          29       0.729       0.655       0.646       0.156\n",
            "\n",
            "     Epoch   gpu_mem       box       obj       cls     total   targets  img_size\n",
            "   106/149     1.39G   0.03588   0.02588         0   0.06176        34       416: 100% 26/26 [00:03<00:00,  7.39it/s]\n",
            "               Class      Images     Targets           P           R      mAP@.5  mAP@.5:.95: 100% 1/1 [00:00<00:00, 10.93it/s]\n",
            "                 all          16          29       0.531       0.586       0.548        0.14\n",
            "\n",
            "     Epoch   gpu_mem       box       obj       cls     total   targets  img_size\n",
            "   107/149     1.39G   0.03737   0.02561         0   0.06298        43       416: 100% 26/26 [00:03<00:00,  7.35it/s]\n",
            "               Class      Images     Targets           P           R      mAP@.5  mAP@.5:.95: 100% 1/1 [00:00<00:00, 11.80it/s]\n",
            "                 all          16          29       0.772       0.585       0.619       0.174\n",
            "\n",
            "     Epoch   gpu_mem       box       obj       cls     total   targets  img_size\n",
            "   108/149     1.39G   0.03671   0.02506         0   0.06178        47       416: 100% 26/26 [00:03<00:00,  7.36it/s]\n",
            "               Class      Images     Targets           P           R      mAP@.5  mAP@.5:.95: 100% 1/1 [00:00<00:00, 10.70it/s]\n",
            "                 all          16          29       0.625        0.69       0.604       0.184\n",
            "\n",
            "     Epoch   gpu_mem       box       obj       cls     total   targets  img_size\n",
            "   109/149     1.39G   0.03603   0.02603         0   0.06207        45       416: 100% 26/26 [00:03<00:00,  7.37it/s]\n",
            "               Class      Images     Targets           P           R      mAP@.5  mAP@.5:.95: 100% 1/1 [00:00<00:00, 12.81it/s]\n",
            "                 all          16          29       0.731       0.655       0.686       0.195\n",
            "\n",
            "     Epoch   gpu_mem       box       obj       cls     total   targets  img_size\n",
            "   110/149     1.39G   0.03658   0.02549         0   0.06207        52       416: 100% 26/26 [00:03<00:00,  7.35it/s]\n",
            "               Class      Images     Targets           P           R      mAP@.5  mAP@.5:.95: 100% 1/1 [00:00<00:00, 11.10it/s]\n",
            "                 all          16          29       0.548       0.586       0.513       0.158\n",
            "\n",
            "     Epoch   gpu_mem       box       obj       cls     total   targets  img_size\n",
            "   111/149     1.39G   0.03424   0.02479         0   0.05902        42       416: 100% 26/26 [00:03<00:00,  7.44it/s]\n",
            "               Class      Images     Targets           P           R      mAP@.5  mAP@.5:.95: 100% 1/1 [00:00<00:00,  9.95it/s]\n",
            "                 all          16          29       0.778       0.482       0.481       0.151\n",
            "\n",
            "     Epoch   gpu_mem       box       obj       cls     total   targets  img_size\n",
            "   112/149     1.39G   0.03564   0.02571         0   0.06135        45       416: 100% 26/26 [00:03<00:00,  7.43it/s]\n",
            "               Class      Images     Targets           P           R      mAP@.5  mAP@.5:.95: 100% 1/1 [00:00<00:00,  9.57it/s]\n",
            "                 all          16          29       0.619       0.621       0.596       0.145\n",
            "\n",
            "     Epoch   gpu_mem       box       obj       cls     total   targets  img_size\n",
            "   113/149     1.39G   0.03443    0.0247         0   0.05913        39       416: 100% 26/26 [00:03<00:00,  7.32it/s]\n",
            "               Class      Images     Targets           P           R      mAP@.5  mAP@.5:.95: 100% 1/1 [00:00<00:00, 12.24it/s]\n",
            "                 all          16          29       0.808       0.586       0.561       0.142\n",
            "\n",
            "     Epoch   gpu_mem       box       obj       cls     total   targets  img_size\n",
            "   114/149     1.39G   0.03498   0.02485         0   0.05983        41       416: 100% 26/26 [00:03<00:00,  7.37it/s]\n",
            "               Class      Images     Targets           P           R      mAP@.5  mAP@.5:.95: 100% 1/1 [00:00<00:00, 11.12it/s]\n",
            "                 all          16          29       0.841       0.552       0.641        0.15\n",
            "\n",
            "     Epoch   gpu_mem       box       obj       cls     total   targets  img_size\n",
            "   115/149     1.39G   0.03479   0.02544         0   0.06023        39       416: 100% 26/26 [00:03<00:00,  7.39it/s]\n",
            "               Class      Images     Targets           P           R      mAP@.5  mAP@.5:.95: 100% 1/1 [00:00<00:00, 11.13it/s]\n",
            "                 all          16          29       0.882       0.517       0.635       0.197\n",
            "\n",
            "     Epoch   gpu_mem       box       obj       cls     total   targets  img_size\n",
            "   116/149     1.39G   0.03365   0.02356         0   0.05721        43       416: 100% 26/26 [00:03<00:00,  7.28it/s]\n",
            "               Class      Images     Targets           P           R      mAP@.5  mAP@.5:.95: 100% 1/1 [00:00<00:00, 10.57it/s]\n",
            "                 all          16          29       0.789       0.517        0.56       0.182\n",
            "\n",
            "     Epoch   gpu_mem       box       obj       cls     total   targets  img_size\n",
            "   117/149     1.39G   0.03562   0.02511         0   0.06073        54       416: 100% 26/26 [00:03<00:00,  7.41it/s]\n",
            "               Class      Images     Targets           P           R      mAP@.5  mAP@.5:.95: 100% 1/1 [00:00<00:00, 10.29it/s]\n",
            "                 all          16          29       0.586       0.586       0.524       0.194\n",
            "\n",
            "     Epoch   gpu_mem       box       obj       cls     total   targets  img_size\n",
            "   118/149     1.39G   0.03364   0.02488         0   0.05852        52       416: 100% 26/26 [00:03<00:00,  7.46it/s]\n",
            "               Class      Images     Targets           P           R      mAP@.5  mAP@.5:.95: 100% 1/1 [00:00<00:00, 10.21it/s]\n",
            "                 all          16          29       0.777       0.483       0.567       0.176\n",
            "\n",
            "     Epoch   gpu_mem       box       obj       cls     total   targets  img_size\n",
            "   119/149     1.39G   0.03375    0.0239         0   0.05766        50       416: 100% 26/26 [00:03<00:00,  7.42it/s]\n",
            "               Class      Images     Targets           P           R      mAP@.5  mAP@.5:.95: 100% 1/1 [00:00<00:00, 11.14it/s]\n",
            "                 all          16          29        0.63       0.586       0.583       0.167\n",
            "\n",
            "     Epoch   gpu_mem       box       obj       cls     total   targets  img_size\n",
            "   120/149     1.39G   0.03438   0.02449         0   0.05888        57       416: 100% 26/26 [00:03<00:00,  7.27it/s]\n",
            "               Class      Images     Targets           P           R      mAP@.5  mAP@.5:.95: 100% 1/1 [00:00<00:00, 11.71it/s]\n",
            "                 all          16          29       0.727       0.551       0.533       0.175\n",
            "\n",
            "     Epoch   gpu_mem       box       obj       cls     total   targets  img_size\n",
            "   121/149     1.39G   0.03432   0.02413         0   0.05845        42       416: 100% 26/26 [00:03<00:00,  7.26it/s]\n",
            "               Class      Images     Targets           P           R      mAP@.5  mAP@.5:.95: 100% 1/1 [00:00<00:00, 11.49it/s]\n",
            "                 all          16          29       0.654       0.586       0.571       0.187\n",
            "\n",
            "     Epoch   gpu_mem       box       obj       cls     total   targets  img_size\n",
            "   122/149     1.39G   0.03302   0.02522         0   0.05824        43       416: 100% 26/26 [00:03<00:00,  7.28it/s]\n",
            "               Class      Images     Targets           P           R      mAP@.5  mAP@.5:.95: 100% 1/1 [00:00<00:00, 12.00it/s]\n",
            "                 all          16          29       0.736       0.483       0.484       0.148\n",
            "\n",
            "     Epoch   gpu_mem       box       obj       cls     total   targets  img_size\n",
            "   123/149     1.39G   0.03333   0.02299         0   0.05633        40       416: 100% 26/26 [00:03<00:00,  7.47it/s]\n",
            "               Class      Images     Targets           P           R      mAP@.5  mAP@.5:.95: 100% 1/1 [00:00<00:00,  8.91it/s]\n",
            "                 all          16          29       0.655       0.655       0.619       0.164\n",
            "\n",
            "     Epoch   gpu_mem       box       obj       cls     total   targets  img_size\n",
            "   124/149     1.39G   0.03366   0.02345         0   0.05711        44       416: 100% 26/26 [00:03<00:00,  7.41it/s]\n",
            "               Class      Images     Targets           P           R      mAP@.5  mAP@.5:.95: 100% 1/1 [00:00<00:00, 11.33it/s]\n",
            "                 all          16          29       0.667       0.483       0.469       0.125\n",
            "\n",
            "     Epoch   gpu_mem       box       obj       cls     total   targets  img_size\n",
            "   125/149     1.39G    0.0338   0.02368         0   0.05749        43       416: 100% 26/26 [00:03<00:00,  7.38it/s]\n",
            "               Class      Images     Targets           P           R      mAP@.5  mAP@.5:.95: 100% 1/1 [00:00<00:00, 10.65it/s]\n",
            "                 all          16          29       0.629       0.586       0.514       0.139\n",
            "\n",
            "     Epoch   gpu_mem       box       obj       cls     total   targets  img_size\n",
            "   126/149     1.39G   0.03487   0.02375         0   0.05863        33       416: 100% 26/26 [00:03<00:00,  7.27it/s]\n",
            "               Class      Images     Targets           P           R      mAP@.5  mAP@.5:.95: 100% 1/1 [00:00<00:00, 10.53it/s]\n",
            "                 all          16          29       0.606        0.69       0.553        0.15\n",
            "\n",
            "     Epoch   gpu_mem       box       obj       cls     total   targets  img_size\n",
            "   127/149     1.39G   0.03313   0.02323         0   0.05636        51       416: 100% 26/26 [00:03<00:00,  7.27it/s]\n",
            "               Class      Images     Targets           P           R      mAP@.5  mAP@.5:.95: 100% 1/1 [00:00<00:00, 11.51it/s]\n",
            "                 all          16          29       0.738       0.586       0.637        0.17\n",
            "\n",
            "     Epoch   gpu_mem       box       obj       cls     total   targets  img_size\n",
            "   128/149     1.39G    0.0327    0.0237         0    0.0564        42       416: 100% 26/26 [00:03<00:00,  7.31it/s]\n",
            "               Class      Images     Targets           P           R      mAP@.5  mAP@.5:.95: 100% 1/1 [00:00<00:00, 11.47it/s]\n",
            "                 all          16          29       0.761       0.552       0.629       0.165\n",
            "\n",
            "     Epoch   gpu_mem       box       obj       cls     total   targets  img_size\n",
            "   129/149     1.39G   0.03318   0.02382         0     0.057        40       416: 100% 26/26 [00:03<00:00,  7.45it/s]\n",
            "               Class      Images     Targets           P           R      mAP@.5  mAP@.5:.95: 100% 1/1 [00:00<00:00,  7.10it/s]\n",
            "                 all          16          29        0.75       0.517       0.573       0.176\n",
            "\n",
            "     Epoch   gpu_mem       box       obj       cls     total   targets  img_size\n",
            "   130/149     1.39G   0.03334   0.02374         0   0.05709        43       416: 100% 26/26 [00:03<00:00,  7.23it/s]\n",
            "               Class      Images     Targets           P           R      mAP@.5  mAP@.5:.95: 100% 1/1 [00:00<00:00, 12.06it/s]\n",
            "                 all          16          29        0.75       0.621       0.614       0.194\n",
            "\n",
            "     Epoch   gpu_mem       box       obj       cls     total   targets  img_size\n",
            "   131/149     1.39G   0.03242   0.02381         0   0.05624        45       416: 100% 26/26 [00:03<00:00,  7.24it/s]\n",
            "               Class      Images     Targets           P           R      mAP@.5  mAP@.5:.95: 100% 1/1 [00:00<00:00,  9.94it/s]\n",
            "                 all          16          29       0.881       0.517       0.592       0.174\n",
            "\n",
            "     Epoch   gpu_mem       box       obj       cls     total   targets  img_size\n",
            "   132/149     1.39G    0.0322   0.02403         0   0.05622        45       416: 100% 26/26 [00:03<00:00,  7.42it/s]\n",
            "               Class      Images     Targets           P           R      mAP@.5  mAP@.5:.95: 100% 1/1 [00:00<00:00, 10.91it/s]\n",
            "                 all          16          29        0.58       0.621       0.551       0.156\n",
            "\n",
            "     Epoch   gpu_mem       box       obj       cls     total   targets  img_size\n",
            "   133/149     1.39G   0.03184   0.02325         0   0.05509        45       416: 100% 26/26 [00:03<00:00,  7.29it/s]\n",
            "               Class      Images     Targets           P           R      mAP@.5  mAP@.5:.95: 100% 1/1 [00:00<00:00,  9.97it/s]\n",
            "                 all          16          29       0.875       0.483       0.609       0.162\n",
            "\n",
            "     Epoch   gpu_mem       box       obj       cls     total   targets  img_size\n",
            "   134/149     1.39G   0.03158   0.02396         0   0.05554        38       416: 100% 26/26 [00:03<00:00,  7.28it/s]\n",
            "               Class      Images     Targets           P           R      mAP@.5  mAP@.5:.95: 100% 1/1 [00:00<00:00, 10.64it/s]\n",
            "                 all          16          29       0.823       0.483       0.577       0.162\n",
            "\n",
            "     Epoch   gpu_mem       box       obj       cls     total   targets  img_size\n",
            "   135/149     1.39G   0.03149   0.02364         0   0.05513        63       416: 100% 26/26 [00:03<00:00,  7.26it/s]\n",
            "               Class      Images     Targets           P           R      mAP@.5  mAP@.5:.95: 100% 1/1 [00:00<00:00, 10.22it/s]\n",
            "                 all          16          29       0.555       0.517       0.485       0.128\n",
            "\n",
            "     Epoch   gpu_mem       box       obj       cls     total   targets  img_size\n",
            "   136/149     1.39G   0.03178    0.0246         0   0.05638        62       416: 100% 26/26 [00:03<00:00,  7.20it/s]\n",
            "               Class      Images     Targets           P           R      mAP@.5  mAP@.5:.95: 100% 1/1 [00:00<00:00, 11.62it/s]\n",
            "                 all          16          29       0.737       0.483       0.507        0.14\n",
            "\n",
            "     Epoch   gpu_mem       box       obj       cls     total   targets  img_size\n",
            "   137/149     1.39G   0.03167   0.02368         0   0.05535        53       416: 100% 26/26 [00:03<00:00,  7.38it/s]\n",
            "               Class      Images     Targets           P           R      mAP@.5  mAP@.5:.95: 100% 1/1 [00:00<00:00, 10.05it/s]\n",
            "                 all          16          29        0.63       0.586       0.552       0.146\n",
            "\n",
            "     Epoch   gpu_mem       box       obj       cls     total   targets  img_size\n",
            "   138/149     1.39G    0.0319   0.02354         0   0.05544        49       416: 100% 26/26 [00:03<00:00,  7.27it/s]\n",
            "               Class      Images     Targets           P           R      mAP@.5  mAP@.5:.95: 100% 1/1 [00:00<00:00, 12.41it/s]\n",
            "                 all          16          29        0.94       0.552       0.673        0.19\n",
            "\n",
            "     Epoch   gpu_mem       box       obj       cls     total   targets  img_size\n",
            "   139/149     1.39G   0.03237   0.02354         0   0.05591        42       416: 100% 26/26 [00:03<00:00,  7.31it/s]\n",
            "               Class      Images     Targets           P           R      mAP@.5  mAP@.5:.95: 100% 1/1 [00:00<00:00, 10.10it/s]\n",
            "                 all          16          29       0.826       0.655       0.682       0.181\n",
            "\n",
            "     Epoch   gpu_mem       box       obj       cls     total   targets  img_size\n",
            "   140/149     1.39G   0.03192   0.02225         0   0.05416        51       416: 100% 26/26 [00:03<00:00,  7.21it/s]\n",
            "               Class      Images     Targets           P           R      mAP@.5  mAP@.5:.95: 100% 1/1 [00:00<00:00, 10.41it/s]\n",
            "                 all          16          29       0.735       0.517        0.58       0.198\n",
            "\n",
            "     Epoch   gpu_mem       box       obj       cls     total   targets  img_size\n",
            "   141/149     1.39G   0.03169   0.02287         0   0.05455        53       416: 100% 26/26 [00:03<00:00,  7.42it/s]\n",
            "               Class      Images     Targets           P           R      mAP@.5  mAP@.5:.95: 100% 1/1 [00:00<00:00,  8.95it/s]\n",
            "                 all          16          29       0.849       0.586       0.626        0.18\n",
            "\n",
            "     Epoch   gpu_mem       box       obj       cls     total   targets  img_size\n",
            "   142/149     1.39G   0.03212   0.02332         0   0.05544        47       416: 100% 26/26 [00:03<00:00,  7.41it/s]\n",
            "               Class      Images     Targets           P           R      mAP@.5  mAP@.5:.95: 100% 1/1 [00:00<00:00, 11.14it/s]\n",
            "                 all          16          29       0.577       0.517        0.48       0.142\n",
            "\n",
            "     Epoch   gpu_mem       box       obj       cls     total   targets  img_size\n",
            "   143/149     1.39G   0.03054   0.02247         0   0.05301        51       416: 100% 26/26 [00:03<00:00,  7.48it/s]\n",
            "               Class      Images     Targets           P           R      mAP@.5  mAP@.5:.95: 100% 1/1 [00:00<00:00, 11.36it/s]\n",
            "                 all          16          29       0.667       0.552       0.464       0.126\n",
            "\n",
            "     Epoch   gpu_mem       box       obj       cls     total   targets  img_size\n",
            "   144/149     1.39G   0.03167   0.02325         0   0.05491        51       416: 100% 26/26 [00:03<00:00,  7.35it/s]\n",
            "               Class      Images     Targets           P           R      mAP@.5  mAP@.5:.95: 100% 1/1 [00:00<00:00, 10.01it/s]\n",
            "                 all          16          29       0.777       0.483       0.496       0.147\n",
            "\n",
            "     Epoch   gpu_mem       box       obj       cls     total   targets  img_size\n",
            "   145/149     1.39G   0.03121    0.0226         0    0.0538        49       416: 100% 26/26 [00:03<00:00,  7.41it/s]\n",
            "               Class      Images     Targets           P           R      mAP@.5  mAP@.5:.95: 100% 1/1 [00:00<00:00, 10.07it/s]\n",
            "                 all          16          29       0.925       0.448       0.546       0.172\n",
            "\n",
            "     Epoch   gpu_mem       box       obj       cls     total   targets  img_size\n",
            "   146/149     1.39G   0.03101   0.02249         0    0.0535        40       416: 100% 26/26 [00:03<00:00,  7.39it/s]\n",
            "               Class      Images     Targets           P           R      mAP@.5  mAP@.5:.95: 100% 1/1 [00:00<00:00, 12.70it/s]\n",
            "                 all          16          29         0.8       0.551       0.603       0.173\n",
            "\n",
            "     Epoch   gpu_mem       box       obj       cls     total   targets  img_size\n",
            "   147/149     1.39G   0.02998   0.02231         0   0.05229        49       416: 100% 26/26 [00:03<00:00,  7.40it/s]\n",
            "               Class      Images     Targets           P           R      mAP@.5  mAP@.5:.95: 100% 1/1 [00:00<00:00, 12.38it/s]\n",
            "                 all          16          29       0.947       0.621       0.687        0.16\n",
            "\n",
            "     Epoch   gpu_mem       box       obj       cls     total   targets  img_size\n",
            "   148/149     1.39G    0.0313   0.02281         0   0.05411        51       416: 100% 26/26 [00:03<00:00,  7.47it/s]\n",
            "               Class      Images     Targets           P           R      mAP@.5  mAP@.5:.95: 100% 1/1 [00:00<00:00,  9.28it/s]\n",
            "                 all          16          29       0.714       0.517        0.53        0.16\n",
            "\n",
            "     Epoch   gpu_mem       box       obj       cls     total   targets  img_size\n",
            "   149/149     1.39G   0.03159   0.02222         0   0.05381        53       416: 100% 26/26 [00:03<00:00,  7.40it/s]\n",
            "               Class      Images     Targets           P           R      mAP@.5  mAP@.5:.95: 100% 1/1 [00:00<00:00,  6.66it/s]\n",
            "                 all          16          29       0.866       0.448       0.542       0.167\n",
            "Optimizer stripped from runs/train/yolov5s_results4/weights/last.pt, 14.7MB\n",
            "Optimizer stripped from runs/train/yolov5s_results4/weights/best.pt, 14.7MB\n",
            "150 epochs completed in 0.170 hours.\n",
            "\n",
            "CPU times: user 8.11 s, sys: 1.05 s, total: 9.16 s\n",
            "Wall time: 10min 23s\n"
          ],
          "name": "stdout"
        }
      ]
    },
    {
      "cell_type": "markdown",
      "metadata": {
        "id": "kJVs_4zEeVbF"
      },
      "source": [
        "# Evaluate Custom YOLOv5 Detector Performance"
      ]
    },
    {
      "cell_type": "markdown",
      "metadata": {
        "id": "7KN5ghjE6ZWh"
      },
      "source": [
        "Training losses and performance metrics are saved to Tensorboard and also to a logfile defined above with the **--name** flag when we train. In our case, we named this `yolov5s_results`. (If given no name, it defaults to `results.txt`.) The results file is plotted as a png after training completes.\n",
        "\n",
        "Note from Glenn: Partially completed `results.txt` files can be plotted with `from utils.utils import plot_results; plot_results()`."
      ]
    },
    {
      "cell_type": "code",
      "metadata": {
        "id": "bOy5KI2ncnWd"
      },
      "source": [
        "# Start tensorboard\n",
        "# Launch after you have started training\n",
        "# logs save in the folder \"runs\"\n",
        "%load_ext tensorboard\n",
        "%tensorboard --logdir runs"
      ],
      "execution_count": null,
      "outputs": []
    },
    {
      "cell_type": "code",
      "metadata": {
        "id": "C60XAsyv6OPe"
      },
      "source": [
        "# we can also output some older school graphs if the tensor board isn't working for whatever reason... \n",
        "from utils.plots import plot_results  # plot results.txt as results.png\n",
        "Image(filename='/content/yolov5/runs/train/yolov5s_results/results.png', width=1000)  # view results.png"
      ],
      "execution_count": null,
      "outputs": []
    },
    {
      "cell_type": "markdown",
      "metadata": {
        "id": "DLI1JmHU7B0l"
      },
      "source": [
        "### Curious? Visualize Our Training Data with Labels\n",
        "\n",
        "After training starts, view `train*.jpg` images to see training images, labels and augmentation effects.\n",
        "\n",
        "Note a mosaic dataloader is used for training (shown below), a new dataloading concept developed by Glenn Jocher and first featured in [YOLOv4](https://arxiv.org/abs/2004.10934)."
      ]
    },
    {
      "cell_type": "code",
      "metadata": {
        "id": "PF9MLHDb7tB6"
      },
      "source": [
        "# first, display our ground truth data\n",
        "print(\"GROUND TRUTH TRAINING DATA:\")\n",
        "Image(filename='/content/yolov5/runs/train/yolov5s_results/test_batch0_labels.jpg', width=900)"
      ],
      "execution_count": null,
      "outputs": []
    },
    {
      "cell_type": "code",
      "metadata": {
        "id": "W40tI99_7BcH"
      },
      "source": [
        "# print out an augmented training example\n",
        "print(\"GROUND TRUTH AUGMENTED TRAINING DATA:\")\n",
        "Image(filename='/content/yolov5/runs/train/yolov5s_results/train_batch0.jpg', width=900)"
      ],
      "execution_count": null,
      "outputs": []
    },
    {
      "cell_type": "markdown",
      "metadata": {
        "id": "N3qM6T0W53gh"
      },
      "source": [
        "#Run Inference  With Trained Weights\n",
        "Run inference with a pretrained checkpoint on contents of `test/images` folder downloaded from Roboflow."
      ]
    },
    {
      "cell_type": "code",
      "metadata": {
        "id": "yIEwt5YLeQ7P",
        "colab": {
          "base_uri": "https://localhost:8080/"
        },
        "outputId": "fe03a62a-004f-41c8-8643-e7dedef77c7b"
      },
      "source": [
        "# trained weights are saved by default in our weights folder\n",
        "%ls runs/"
      ],
      "execution_count": 28,
      "outputs": [
        {
          "output_type": "stream",
          "text": [
            "\u001b[0m\u001b[01;34mdetect\u001b[0m/  \u001b[01;34mtrain\u001b[0m/\n"
          ],
          "name": "stdout"
        }
      ]
    },
    {
      "cell_type": "code",
      "metadata": {
        "id": "4SyOWS80qR32",
        "outputId": "19cff7ca-2897-4006-928e-dbaf5edd95d5",
        "colab": {
          "base_uri": "https://localhost:8080/"
        }
      },
      "source": [
        "%ls runs/train/yolov5s_results/weights"
      ],
      "execution_count": 29,
      "outputs": [
        {
          "output_type": "stream",
          "text": [
            "best.pt  last.pt\n"
          ],
          "name": "stdout"
        }
      ]
    },
    {
      "cell_type": "markdown",
      "metadata": {
        "id": "rRhZmqhMqQtQ"
      },
      "source": [
        ""
      ]
    },
    {
      "cell_type": "code",
      "metadata": {
        "id": "9nmZZnWOgJ2S",
        "outputId": "c78376e6-a604-4740-a1e4-61775b69a11c",
        "colab": {
          "base_uri": "https://localhost:8080/"
        }
      },
      "source": [
        "# when we ran this, we saw .007 second inference time. That is 140 FPS on a TESLA P100!\n",
        "# use the best weights!\n",
        "%cd /content/yolov5/\n",
        "!python detect.py --weights /content/yolov5/runs/train/yolov5s_results4/weights/best.pt --img 416 --iou-thres 0.3 --conf 0.3 --source ../test/images"
      ],
      "execution_count": 30,
      "outputs": [
        {
          "output_type": "stream",
          "text": [
            "/content/yolov5\n",
            "Namespace(agnostic_nms=False, augment=False, classes=None, conf_thres=0.3, device='', exist_ok=False, img_size=416, iou_thres=0.3, name='exp', project='runs/detect', save_conf=False, save_txt=False, source='../test/images', update=False, view_img=False, weights=['/content/yolov5/runs/train/yolov5s_results4/weights/best.pt'])\n",
            "YOLOv5 v4.0-126-g886f1c0 torch 1.8.1+cu101 CUDA:0 (Tesla T4, 15109.75MB)\n",
            "\n",
            "Fusing layers... \n",
            "Model Summary: 232 layers, 7246518 parameters, 0 gradients, 16.8 GFLOPS\n",
            "image 1/8 /content/yolov5/../test/images/00016_jpg.rf.1eea546b918c4ad3445038517765a4db.jpg: 320x416 Done. (0.009s)\n",
            "image 2/8 /content/yolov5/../test/images/00065_jpg.rf.408ff83df84297e5b279e99d8c377b4a.jpg: 416x288 Done. (0.009s)\n",
            "image 3/8 /content/yolov5/../test/images/00071_jpg.rf.602ee8e774b8f45158af31d8f5762754.jpg: 256x416 1 kangaroo, Done. (0.009s)\n",
            "image 4/8 /content/yolov5/../test/images/00079_jpg.rf.2c9a8f2c9426883b43550b02f70fbfa8.jpg: 288x416 1 kangaroo, Done. (0.009s)\n",
            "image 5/8 /content/yolov5/../test/images/00086_jpg.rf.3101b6f4ea4f6cfacdbac2384c8d6c0d.jpg: 256x416 Done. (0.008s)\n",
            "image 6/8 /content/yolov5/../test/images/00140_jpg.rf.48b3a7480151e8a7a6c1c8d5efab7e3b.jpg: 320x416 1 kangaroo, Done. (0.009s)\n",
            "image 7/8 /content/yolov5/../test/images/00141_jpg.rf.58f773a315014f3eadaf89ed5b57f975.jpg: 320x416 2 kangaroos, Done. (0.008s)\n",
            "image 8/8 /content/yolov5/../test/images/00172_jpg.rf.acea8549c53920e4893e2c14cb999919.jpg: 256x416 Done. (0.008s)\n",
            "Results saved to runs/detect/exp4\n",
            "Done. (0.109s)\n"
          ],
          "name": "stdout"
        }
      ]
    },
    {
      "cell_type": "code",
      "metadata": {
        "id": "odKEqYtTgbRc"
      },
      "source": [
        "#display inference on ALL test images\n",
        "#this looks much better with longer training above\n",
        "\n",
        "import glob\n",
        "from IPython.display import Image, display\n",
        "\n",
        "for imageName in glob.glob('/content/yolov5/runs/detect/exp/*.jpg'): #assuming JPG\n",
        "    display(Image(filename=imageName))\n",
        "    print(\"\\n\")"
      ],
      "execution_count": null,
      "outputs": []
    },
    {
      "cell_type": "markdown",
      "metadata": {
        "id": "_uPq9mVgiBql"
      },
      "source": [
        "# Export Trained Weights for Future Inference\n",
        "\n",
        "Now that you have trained your custom detector, you can export the trained weights you have made here for inference on your device elsewhere"
      ]
    },
    {
      "cell_type": "code",
      "metadata": {
        "id": "YH4CTzDRh00g",
        "colab": {
          "base_uri": "https://localhost:8080/"
        },
        "outputId": "dcac05aa-7bb2-40bb-d1ba-cf8b2d30a4f2"
      },
      "source": [
        "from google.colab import drive\n",
        "drive.mount('/content/gdrive')"
      ],
      "execution_count": null,
      "outputs": [
        {
          "output_type": "stream",
          "text": [
            "Mounted at /content/gdrive\n"
          ],
          "name": "stdout"
        }
      ]
    },
    {
      "cell_type": "code",
      "metadata": {
        "id": "1x_wg3VeiXMW"
      },
      "source": [
        "%cp /content/yolov5/runs/train/yolov5s_results/weights/best.pt /content/gdrive/My\\ Drive"
      ],
      "execution_count": null,
      "outputs": []
    },
    {
      "cell_type": "markdown",
      "metadata": {
        "id": "LVpCFeU-K4gb"
      },
      "source": [
        "## Congrats!\n",
        "\n",
        "Hope you enjoyed this!\n",
        "\n",
        "--Team [Roboflow](https://roboflow.ai)"
      ]
    }
  ]
}