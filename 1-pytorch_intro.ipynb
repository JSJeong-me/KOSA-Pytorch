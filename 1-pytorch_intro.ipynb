{
 "cells": [
  {
   "cell_type": "markdown",
   "metadata": {
    "id": "f9Xx-jP92OgP"
   },
   "source": [
    "# 파이토치(PyTorch)\n",
    "\n",
    "<img src=\"https://img1.daumcdn.net/thumb/R800x0/?scode=mtistory2&fname=https%3A%2F%2Fblog.kakaocdn.net%2Fdn%2FbuUgoV%2FbtqwWZvcHHX%2Fd6XzIFBEfiuFb0UvyV4A50%2Fimg.jpg\" width=\"300\">\n",
    "\n",
    "- 코드 출처: https://pytorch.org/tutorials/"
   ]
  },
  {
   "cell_type": "markdown",
   "metadata": {
    "id": "3cxreguz2sL0"
   },
   "source": [
    "## 파이토치의 구성요소\n",
    "\n",
    "- `torch`: 텐서를 생성하는 라이브러리\n",
    "\n",
    "- `torch.autograd`: 자동미분 기능을 제공하는 라이브러리\n",
    "\n",
    "- `torch.nn`: 신경망을 생성하는 라이브러리\n",
    "\n",
    "- `torch.multiprocessing`: 병럴처리 기능을 제공하는 라이브러리\n",
    "\n",
    "- `torch.utils`: 데이터 조작 등 유틸리티 기능 제공\n",
    "\n",
    "- `torch.legacy`(./nn/.optim): Torch로부터 포팅해온 코드\n",
    "\n",
    "- `torch.onnx`: ONNX(Open Neural Network Exchange)\n",
    "\n",
    "  - 서로 다른 프레임워크 간의 모델을 공유할 때 사용"
   ]
  },
  {
   "cell_type": "markdown",
   "metadata": {
    "id": "gb5O_aSvtHvb"
   },
   "source": [
    "## 텐서(Tensors)\n",
    "- 넘파이(NumPy)의 ndarray와 유사\n",
    "\n",
    "- GPU를 사용한 연산 가속도 가능"
   ]
  },
  {
   "cell_type": "code",
   "execution_count": null,
   "metadata": {
    "id": "CmKIvnx0s8G6"
   },
   "outputs": [],
   "source": []
  },
  {
   "cell_type": "code",
   "execution_count": null,
   "metadata": {
    "id": "49IHV-qJE5FI"
   },
   "outputs": [],
   "source": []
  },
  {
   "cell_type": "markdown",
   "metadata": {
    "id": "isUHVy-gtZeT"
   },
   "source": [
    "### 초기화 되지 않은 행렬 "
   ]
  },
  {
   "cell_type": "code",
   "execution_count": null,
   "metadata": {
    "id": "3PqY3cZatU0D"
   },
   "outputs": [],
   "source": []
  },
  {
   "cell_type": "markdown",
   "metadata": {
    "id": "zPCIJ2pNteZv"
   },
   "source": [
    "### 무작위로 초기화된 행렬"
   ]
  },
  {
   "cell_type": "code",
   "execution_count": null,
   "metadata": {
    "id": "h6oPj2Q9tdYx"
   },
   "outputs": [],
   "source": []
  },
  {
   "cell_type": "markdown",
   "metadata": {
    "id": "A5aHphIHtiJk"
   },
   "source": [
    "### dtype이 long, 0으로 채워진 텐서"
   ]
  },
  {
   "cell_type": "code",
   "execution_count": null,
   "metadata": {
    "id": "4zykN8aMthXk"
   },
   "outputs": [],
   "source": []
  },
  {
   "cell_type": "code",
   "execution_count": null,
   "metadata": {
    "id": "W4VL8C_ctu8b"
   },
   "outputs": [],
   "source": []
  },
  {
   "cell_type": "code",
   "execution_count": null,
   "metadata": {
    "id": "4RmVBVtIt46M"
   },
   "outputs": [],
   "source": []
  },
  {
   "cell_type": "code",
   "execution_count": null,
   "metadata": {
    "id": "xxskTUfGuPUe"
   },
   "outputs": [],
   "source": []
  },
  {
   "cell_type": "markdown",
   "metadata": {
    "id": "7j5sGxGvucpH"
   },
   "source": [
    "### 텐서의 크기"
   ]
  },
  {
   "cell_type": "code",
   "execution_count": null,
   "metadata": {
    "id": "yy-JbqKEuYIR"
   },
   "outputs": [],
   "source": []
  },
  {
   "cell_type": "markdown",
   "metadata": {
    "id": "ehOg0eDwufru"
   },
   "source": [
    "## 텐서의 연산(operations)"
   ]
  },
  {
   "cell_type": "markdown",
   "metadata": {
    "id": "j8Doc_37uh3G"
   },
   "source": [
    "### 덧셈 1"
   ]
  },
  {
   "cell_type": "code",
   "execution_count": null,
   "metadata": {
    "id": "Rw4JCYkYuef9"
   },
   "outputs": [],
   "source": []
  },
  {
   "cell_type": "code",
   "execution_count": null,
   "metadata": {
    "id": "Wa44ur1Nuj5U"
   },
   "outputs": [],
   "source": []
  },
  {
   "cell_type": "markdown",
   "metadata": {
    "id": "E5gcOo-Ouo9B"
   },
   "source": [
    "### 덧셈2"
   ]
  },
  {
   "cell_type": "code",
   "execution_count": null,
   "metadata": {
    "id": "Qx-NzJhhumZx"
   },
   "outputs": [],
   "source": []
  },
  {
   "cell_type": "markdown",
   "metadata": {
    "id": "RlvrQhLuuuIr"
   },
   "source": [
    "### 덧셈3\n",
    "- 결과 텐서를 인자로 제공"
   ]
  },
  {
   "cell_type": "code",
   "execution_count": null,
   "metadata": {
    "id": "lUsLAOTcur1-"
   },
   "outputs": [],
   "source": []
  },
  {
   "cell_type": "markdown",
   "metadata": {
    "id": "V6BdyZFSu2Ei"
   },
   "source": [
    "### 덧셈4\n",
    "- `in-place` 방식\n",
    "\n",
    "- (참고) in-place 방식\n",
    "  - in-place방식으로 텐서의 값을 변경하는 연산 뒤에는 _''가 붙음\n",
    "  - `x.copy_(y), x.t_()`"
   ]
  },
  {
   "cell_type": "code",
   "execution_count": null,
   "metadata": {
    "id": "lu8rR4WVu0wQ"
   },
   "outputs": [],
   "source": []
  },
  {
   "cell_type": "markdown",
   "metadata": {
    "id": "Uo8nsrGjOw6W"
   },
   "source": [
    "### 그 외의 연산\n",
    "- `torch.sub` : 뺄셈\n",
    "\n",
    "- `torch.mul` : 곱셉\n",
    "\n",
    "- `torch.div` : 나눗셈\n",
    "\n",
    "- `torch.mm` : 내적(dot product)"
   ]
  },
  {
   "cell_type": "code",
   "execution_count": null,
   "metadata": {
    "id": "S51kxzPTO1ER"
   },
   "outputs": [],
   "source": []
  },
  {
   "cell_type": "code",
   "execution_count": null,
   "metadata": {
    "id": "ou0dY8mkPR24"
   },
   "outputs": [],
   "source": []
  },
  {
   "cell_type": "code",
   "execution_count": null,
   "metadata": {
    "id": "6RlZZBp3PbE4"
   },
   "outputs": [],
   "source": []
  },
  {
   "cell_type": "code",
   "execution_count": null,
   "metadata": {
    "id": "7MR-ofE5P7VC"
   },
   "outputs": [],
   "source": []
  },
  {
   "cell_type": "markdown",
   "metadata": {
    "id": "8URGwHE_NjDi"
   },
   "source": [
    "## 텐서의 조작(manipulations)"
   ]
  },
  {
   "cell_type": "markdown",
   "metadata": {
    "id": "uCsdZIPTvG53"
   },
   "source": [
    "### 인덱싱\n",
    "- 넘파이처럼 인덱싱 사용가능"
   ]
  },
  {
   "cell_type": "code",
   "execution_count": null,
   "metadata": {
    "id": "jF2DE8kzvOs3"
   },
   "outputs": [],
   "source": []
  },
  {
   "cell_type": "code",
   "execution_count": null,
   "metadata": {
    "id": "GQtBH3r3u7c3"
   },
   "outputs": [],
   "source": []
  },
  {
   "cell_type": "markdown",
   "metadata": {
    "id": "jEscXddKvQ5l"
   },
   "source": [
    "### view\n",
    "- 텐서의 크기(size)나 모양(shape)을 변경"
   ]
  },
  {
   "cell_type": "code",
   "execution_count": null,
   "metadata": {
    "id": "xwhWeqhLvKKj"
   },
   "outputs": [],
   "source": []
  },
  {
   "cell_type": "markdown",
   "metadata": {
    "id": "iBY_wuIRvf5j"
   },
   "source": [
    "### item\n",
    "- 텐서에 값이 단 하나라도 존재하면 숫자값을 얻을 수 있음\n"
   ]
  },
  {
   "cell_type": "code",
   "execution_count": null,
   "metadata": {
    "id": "E0W24QqpvcmV"
   },
   "outputs": [],
   "source": []
  },
  {
   "cell_type": "markdown",
   "metadata": {
    "id": "V1sCUVwC3Nua"
   },
   "source": [
    "- 스칼라값 하나만 존재해야함"
   ]
  },
  {
   "cell_type": "code",
   "execution_count": null,
   "metadata": {
    "id": "jl4_FAgd3Lt9"
   },
   "outputs": [],
   "source": []
  },
  {
   "cell_type": "markdown",
   "metadata": {
    "id": "uThndsy5M6wM"
   },
   "source": [
    "### squeeze \n",
    "- 차원을 축소(제거)"
   ]
  },
  {
   "cell_type": "code",
   "execution_count": null,
   "metadata": {
    "id": "OF3rOavnRxgM"
   },
   "outputs": [],
   "source": []
  },
  {
   "cell_type": "code",
   "execution_count": null,
   "metadata": {
    "id": "Y2jq0jHJR5Jw"
   },
   "outputs": [],
   "source": []
  },
  {
   "cell_type": "markdown",
   "metadata": {
    "id": "COv-dnTYNJ8Z"
   },
   "source": [
    "### unsqueeze\n",
    "- 차원을 증가(생성)"
   ]
  },
  {
   "cell_type": "code",
   "execution_count": null,
   "metadata": {
    "id": "PFxaHGY1NOBo"
   },
   "outputs": [],
   "source": []
  },
  {
   "cell_type": "code",
   "execution_count": null,
   "metadata": {
    "id": "b6sa4tJ7SA8G"
   },
   "outputs": [],
   "source": []
  },
  {
   "cell_type": "markdown",
   "metadata": {
    "id": "_C_oa9JANOa6"
   },
   "source": [
    "### stack\n",
    "- 텐서간 결합"
   ]
  },
  {
   "cell_type": "code",
   "execution_count": null,
   "metadata": {
    "id": "f3x_XaUYNOuc"
   },
   "outputs": [],
   "source": []
  },
  {
   "cell_type": "markdown",
   "metadata": {
    "id": "XmJscbfg35-c"
   },
   "source": [
    "### cat\n",
    "- 텐서를 결합하는 메소드(concatenate)\n",
    "\n",
    "- 넘파이의 `stack`과 유사하지만, 쌓을 dim이 존재해야함\n",
    "  - 예를 들어, 해당 차원을 늘려준 후 결합\n"
   ]
  },
  {
   "cell_type": "code",
   "execution_count": null,
   "metadata": {
    "id": "Mv3zlaNm37P1"
   },
   "outputs": [],
   "source": []
  },
  {
   "cell_type": "code",
   "execution_count": null,
   "metadata": {
    "id": "69M5jY60S7Mi"
   },
   "outputs": [],
   "source": []
  },
  {
   "cell_type": "markdown",
   "metadata": {
    "id": "7gGXnOAqQTmG"
   },
   "source": [
    "### chuck\n",
    "- 텐서를 여러 개로 나눌 때 사용\n",
    "\n",
    "- 몇 개의 텐서로 나눌 것이냐"
   ]
  },
  {
   "cell_type": "code",
   "execution_count": null,
   "metadata": {
    "id": "pNV80VzPQZgG"
   },
   "outputs": [],
   "source": []
  },
  {
   "cell_type": "markdown",
   "metadata": {
    "id": "7U0Qb0jWQgm-"
   },
   "source": [
    "### split\n",
    "- `chunck`와 동일한 기능이지만 조금 다름\n",
    "\n",
    "- 하나의 텐서당 크기가 얼마이냐"
   ]
  },
  {
   "cell_type": "code",
   "execution_count": null,
   "metadata": {
    "id": "1V6DDnLVQqxz"
   },
   "outputs": [],
   "source": []
  },
  {
   "cell_type": "markdown",
   "metadata": {
    "id": "estSwhCgvta6"
   },
   "source": [
    "### torch ↔ numpy\n",
    "- Torch Tensor(텐서)를 Numpy array(배열)로 변환 가능\n",
    "\n",
    "  - `numpy()`\n",
    "  - `from_numpy()`\n",
    "\n",
    "- (참고)\n",
    "  - Tensor가 CPU상에 있다면 Numpy 배열은 메모리 공간을 공유하므로 하나가 변하면, 다른 하나도 변함"
   ]
  },
  {
   "cell_type": "code",
   "execution_count": null,
   "metadata": {
    "id": "VxHI7c_yvmAT"
   },
   "outputs": [],
   "source": []
  },
  {
   "cell_type": "code",
   "execution_count": null,
   "metadata": {
    "id": "whbrhokHwJ3A"
   },
   "outputs": [],
   "source": []
  },
  {
   "cell_type": "code",
   "execution_count": null,
   "metadata": {
    "id": "5StIhUWDwQjA"
   },
   "outputs": [],
   "source": []
  },
  {
   "cell_type": "code",
   "execution_count": null,
   "metadata": {
    "id": "3RNS5-cRwTt8"
   },
   "outputs": [],
   "source": []
  },
  {
   "cell_type": "markdown",
   "metadata": {
    "id": "v-ZaxSvLxEej"
   },
   "source": [
    "## CUDA Tensors\n",
    "- `.to` 메소드를 사용하여 텐서를 어떠한 장치로도 옮길 수 있음\n",
    "  - 예) cpu, gpu"
   ]
  },
  {
   "cell_type": "code",
   "execution_count": null,
   "metadata": {
    "id": "xkaQznCRxpUj"
   },
   "outputs": [],
   "source": []
  },
  {
   "cell_type": "code",
   "execution_count": null,
   "metadata": {
    "id": "SCnC0x2Rxpbk"
   },
   "outputs": [],
   "source": []
  },
  {
   "cell_type": "code",
   "execution_count": null,
   "metadata": {
    "id": "GcSsFLkDw-nI"
   },
   "outputs": [],
   "source": []
  },
  {
   "cell_type": "markdown",
   "metadata": {
    "id": "NKqiGvLWx2nk"
   },
   "source": [
    "## AUTOGRAD (자동미분)\n",
    "- autograd 패키지는 Tensor의 모든 연산에 대해 **자동 미분** 제공\n",
    "\n",
    "- 이는 코드를 어떻게 작성하여 실행하느냐에 따라 역전파가 정의된다는 뜻\n",
    "\n",
    "- backprop를 위한 미분값을 자동으로 계산"
   ]
  },
  {
   "cell_type": "markdown",
   "metadata": {
    "id": "0zH41l-MyMHi"
   },
   "source": [
    "### Tensor\n",
    "\n",
    "- data: tensor형태의 데이터\n",
    "\n",
    "- grad: data가 겨쳐온 layer에 대한 미분값 저장\n",
    "\n",
    "- grad_fn: 미분값을 계산한 함수에 대한 정보 저장 (어떤 함수에 대해서 backprop 했는지)\n",
    "\n",
    "- `requires_grad` 속성을 `True`로 설정하면, 해당 텐서에서 이루어지는 모든 연산들을 추적하기 시작\n",
    "\n",
    "- 계산이 완료된 후, `.backward()`를 호출하면 자동으로 `gradient`를 계산할 수 있으며, `.grad` 속성에 누적됨\n",
    "\n",
    "- 기록을 추적하는 것을 중단하게 하려면, `.detach()`를 호출하여 연산기록으로부터 분리\n",
    "\n",
    "- 기록을 추적하는 것을 방지하기 위해 코드 블럭을 `with torch.no_grad():`로 감싸면 `gradient`는 필요없지만, `requires_grad=True`로 설정되어 학습 가능한 매개변수를 갖는 모델을 평가(evaluate)할 때 유용\n",
    "\n",
    "- Autograd 구현에서 매우 중요한 클래스 : `Function` 클래스"
   ]
  },
  {
   "cell_type": "code",
   "execution_count": null,
   "metadata": {
    "id": "ipdk_1jfx47I"
   },
   "outputs": [],
   "source": []
  },
  {
   "cell_type": "code",
   "execution_count": null,
   "metadata": {
    "id": "ljNU-r9p0Rpo"
   },
   "outputs": [],
   "source": []
  },
  {
   "cell_type": "code",
   "execution_count": null,
   "metadata": {
    "id": "or6sQ4EB0UYz"
   },
   "outputs": [],
   "source": []
  },
  {
   "cell_type": "code",
   "execution_count": null,
   "metadata": {
    "id": "PuQ7xDmu0Wpj"
   },
   "outputs": [],
   "source": []
  },
  {
   "cell_type": "code",
   "execution_count": null,
   "metadata": {
    "id": "6_2iM-Zq0ZdG"
   },
   "outputs": [],
   "source": []
  },
  {
   "cell_type": "markdown",
   "metadata": {
    "id": "2aZ8SWn_0nqt"
   },
   "source": [
    "- `requires_grad_(...)`는 기존 텐서의 `requires_grad`값을 바꿔치기(`in-place`)하여 변경"
   ]
  },
  {
   "cell_type": "code",
   "execution_count": null,
   "metadata": {
    "id": "mHGROgrM0ebO"
   },
   "outputs": [],
   "source": []
  },
  {
   "cell_type": "markdown",
   "metadata": {
    "id": "KiEn_stZ1VgU"
   },
   "source": [
    "### 기울기(Gradient)\n",
    "- 역전파: `.backward()`를 통해 역전파 계산 가능"
   ]
  },
  {
   "cell_type": "code",
   "execution_count": null,
   "metadata": {
    "id": "1tdoN9p-1kn4"
   },
   "outputs": [],
   "source": []
  },
  {
   "cell_type": "code",
   "execution_count": null,
   "metadata": {
    "id": "CixGTXbV1B9p"
   },
   "outputs": [],
   "source": []
  },
  {
   "cell_type": "code",
   "execution_count": null,
   "metadata": {
    "id": "SY63Mcc-1iNI"
   },
   "outputs": [],
   "source": []
  },
  {
   "cell_type": "code",
   "execution_count": null,
   "metadata": {
    "id": "YPaVAbIT3gx_"
   },
   "outputs": [],
   "source": []
  },
  {
   "cell_type": "markdown",
   "metadata": {
    "id": "0b9amArPXtcX"
   },
   "source": [
    "- `with torch.no_grad()`를 사용하여 gradient의 업데이트를 하지 않음"
   ]
  },
  {
   "cell_type": "code",
   "execution_count": null,
   "metadata": {
    "id": "weeIe5_Z3jVe"
   },
   "outputs": [],
   "source": []
  },
  {
   "cell_type": "markdown",
   "metadata": {
    "id": "bLcTLVRSmCdH"
   },
   "source": [
    "- `detach()`: 내용물(content)은 같지만 require_grad가 다른 새로운 Tensor를 가져올 때"
   ]
  },
  {
   "cell_type": "code",
   "execution_count": null,
   "metadata": {
    "id": "ALcth7Ew3l7H"
   },
   "outputs": [],
   "source": []
  },
  {
   "cell_type": "markdown",
   "metadata": {
    "id": "NSarysrqBh9D"
   },
   "source": [
    "### 자동 미분 흐름 다시 보기(1)\n",
    "- 계산 흐름  \n",
    "  $a \\rightarrow b  \\rightarrow c  \\rightarrow out $\n",
    "\n",
    "<br>\n",
    "\n",
    "## $\\quad \\frac{\\partial out}{\\partial a} = ?$\n",
    "- `backward()`를 통해  \n",
    "  $a \\leftarrow b  \\leftarrow c  \\leftarrow out $을 계산하면  \n",
    "    $\\frac{\\partial out}{\\partial a}$값이 `a.grad`에 채워짐\n"
   ]
  },
  {
   "cell_type": "code",
   "execution_count": null,
   "metadata": {
    "id": "NUAc1etP3oBc"
   },
   "outputs": [],
   "source": []
  },
  {
   "cell_type": "code",
   "execution_count": null,
   "metadata": {
    "id": "tCW7dq9uB89T"
   },
   "outputs": [],
   "source": []
  },
  {
   "cell_type": "code",
   "execution_count": null,
   "metadata": {
    "id": "-AyyGy49FLz9"
   },
   "outputs": [],
   "source": []
  },
  {
   "cell_type": "code",
   "execution_count": null,
   "metadata": {
    "id": "SmmJa-hvFPGH"
   },
   "outputs": [],
   "source": []
  },
  {
   "cell_type": "markdown",
   "metadata": {
    "id": "BCwhTsiHGCmG"
   },
   "source": [
    "- $b = a + 2$"
   ]
  },
  {
   "cell_type": "code",
   "execution_count": null,
   "metadata": {
    "id": "iUPt042iF9V1"
   },
   "outputs": [],
   "source": []
  },
  {
   "cell_type": "markdown",
   "metadata": {
    "id": "6cw2zoq9GHLF"
   },
   "source": [
    "- $c = b^2$ "
   ]
  },
  {
   "cell_type": "code",
   "execution_count": null,
   "metadata": {
    "id": "FRDS6gP0GFZG"
   },
   "outputs": [],
   "source": []
  },
  {
   "cell_type": "code",
   "execution_count": null,
   "metadata": {
    "id": "VynoiUywGSwh"
   },
   "outputs": [],
   "source": []
  },
  {
   "cell_type": "code",
   "execution_count": null,
   "metadata": {
    "id": "v3ryJon9GeMn"
   },
   "outputs": [],
   "source": []
  },
  {
   "cell_type": "markdown",
   "metadata": {
    "id": "f0aoNsPDHsoG"
   },
   "source": [
    "- a의 `grad_fn`이 None인 이유  \n",
    "  직접적으로 계산한 부분이 없었기 때문"
   ]
  },
  {
   "cell_type": "code",
   "execution_count": null,
   "metadata": {
    "id": "bccI4vIWGgqj"
   },
   "outputs": [],
   "source": []
  },
  {
   "cell_type": "code",
   "execution_count": null,
   "metadata": {
    "id": "oka1mkadHq-N"
   },
   "outputs": [],
   "source": []
  },
  {
   "cell_type": "code",
   "execution_count": null,
   "metadata": {
    "id": "ZiYNajdLccUF"
   },
   "outputs": [],
   "source": []
  },
  {
   "cell_type": "code",
   "execution_count": null,
   "metadata": {
    "id": "BcLoMYite0vU"
   },
   "outputs": [],
   "source": []
  },
  {
   "cell_type": "markdown",
   "metadata": {
    "id": "qZXgwviHfovj"
   },
   "source": [
    "### 자동 미분 흐름 다시 보기(2)\n",
    "- `grad`값을 넣어서 `backward`\n",
    "\n",
    "- 아래의 코드에서 `.grad`값이 None은 gradient값이 필요하지 않기 때문"
   ]
  },
  {
   "cell_type": "code",
   "execution_count": null,
   "metadata": {
    "id": "bB6DCYXRfcI_"
   },
   "outputs": [],
   "source": []
  },
  {
   "cell_type": "code",
   "execution_count": null,
   "metadata": {
    "id": "AVo-glm8fvFv"
   },
   "outputs": [],
   "source": []
  },
  {
   "cell_type": "code",
   "execution_count": null,
   "metadata": {
    "id": "tdBklrepf2qq"
   },
   "outputs": [],
   "source": []
  },
  {
   "cell_type": "code",
   "execution_count": null,
   "metadata": {
    "id": "HQvUGlfRf7jU"
   },
   "outputs": [],
   "source": []
  },
  {
   "cell_type": "code",
   "execution_count": null,
   "metadata": {
    "id": "h7TFHdMfgxvW"
   },
   "outputs": [],
   "source": []
  },
  {
   "cell_type": "markdown",
   "metadata": {
    "id": "DKv-osmNmWiA"
   },
   "source": [
    "## nn & nn.functional\n",
    "\n",
    "- 두 패키지가 같은 기능이지만 방식이 조금 다름\n",
    "\n",
    "- 위의 `autograd` 관련 작업들을 두 패키지를 통해 진행할 수 있음\n",
    "\n",
    "- 텐서를 직접 다룰 때 `requires_grad`와 같은 방식으로 진행할 수 있음\n",
    "\n",
    "- 결론적으로, `torch.nn`은 attribute를 활용해 state를 저장하고 활용하고,  \n",
    "  `torch.nn.functional`로 구현한 함수의 경우에는 인스턴스화 시킬 필요 없이 사용이 가능\n",
    " \n"
   ]
  },
  {
   "cell_type": "markdown",
   "metadata": {
    "id": "jk8fkKq3nWP1"
   },
   "source": [
    "### nn 패키지\n",
    "\n",
    "- 주로 가중치(weights), 편향(bias)값들이 내부에서 자동으로 생성되는 레이어들을 사용할 때  \n",
    "  - 따라서, `weight`값들을 직접 선언 안함\n",
    "\n",
    "- 예시\n",
    "  - Containers\n",
    "\n",
    "  - Convolution Layers\n",
    "\n",
    "  - Pooling layers\n",
    "\n",
    "  - Padding Layers\n",
    "\n",
    "  - Non-linear Activations (weighted sum, nonlinearity)\n",
    "\n",
    "  - Non-linear Activations (other)\n",
    "\n",
    "  - Normalization Layers\n",
    "\n",
    "  - Recurrent Layers\n",
    "\n",
    "  - Transformer Layers\n",
    "\n",
    "  - Linear Layers\n",
    "\n",
    "  - Dropout Layers\n",
    "\n",
    "  - Sparse Layers\n",
    "\n",
    "  - Distance Functions\n",
    "\n",
    "  - Loss Functions\n",
    "\n",
    "  - ..\n",
    "- https://pytorch.org/docs/stable/nn.html\n",
    "\n"
   ]
  },
  {
   "cell_type": "code",
   "execution_count": null,
   "metadata": {
    "id": "8tEtWHAsmZMy"
   },
   "outputs": [],
   "source": []
  },
  {
   "cell_type": "markdown",
   "metadata": {
    "id": "NcjCbeEQqPSI"
   },
   "source": [
    "- Convolution Layer 예시 (1)\n"
   ]
  },
  {
   "cell_type": "code",
   "execution_count": null,
   "metadata": {
    "id": "NQ7Y0tCOpkhM"
   },
   "outputs": [],
   "source": []
  },
  {
   "cell_type": "code",
   "execution_count": null,
   "metadata": {
    "id": "RLqGbclbp3_N"
   },
   "outputs": [],
   "source": []
  },
  {
   "cell_type": "markdown",
   "metadata": {
    "id": "CYeGAJEuneqW"
   },
   "source": [
    "### nn.functional 패키지\n",
    "\n",
    "- 가중치를 직접 선언하여 인자로 넣어줘야함\n",
    "\n",
    "- 예시)\n",
    "  - Convolution functions\n",
    "\n",
    "  - Pooling functions\n",
    "  \n",
    "  - Non-linear activation functions\n",
    "\n",
    "  - Normalization functions\n",
    "\n",
    "  - Linear functions\n",
    "\n",
    "  - Dropout functions\n",
    "  \n",
    "  - Sparse functions\n",
    "  \n",
    "  - Distance functions\n",
    "\n",
    "  - Loss functions\n",
    "  - ..\n",
    "\n",
    "- https://pytorch.org/docs/stable/nn.functional.html"
   ]
  },
  {
   "cell_type": "code",
   "execution_count": null,
   "metadata": {
    "id": "NpwbO9Dhpflm"
   },
   "outputs": [],
   "source": []
  },
  {
   "cell_type": "markdown",
   "metadata": {
    "id": "fUYaJ5aLqKed"
   },
   "source": [
    "- Convolution Layer 예시 (2)"
   ]
  },
  {
   "cell_type": "code",
   "execution_count": null,
   "metadata": {
    "id": "GAWLQE2GouHP"
   },
   "outputs": [],
   "source": []
  },
  {
   "cell_type": "code",
   "execution_count": null,
   "metadata": {
    "id": "lWmSlFBrpms1"
   },
   "outputs": [],
   "source": []
  },
  {
   "cell_type": "markdown",
   "metadata": {
    "id": "Wah4RsmgrRDP"
   },
   "source": [
    "## Torchvision\n",
    "\n",
    "- `transforms`: 전처리할 때 사용하는 메소드\n",
    "\n",
    "- `transforms`에서 제공하는 클래스 이외에  \n",
    "  일반적으로 클래스를 따로 만들어 전처리 단계를 진행\n",
    "  \n",
    "  - 아래의 코드에서 다양한 전처리 기술 확인  \n",
    "    https://pytorch.org/docs/stable/torchvision/transforms.html\n"
   ]
  },
  {
   "cell_type": "code",
   "execution_count": null,
   "metadata": {
    "id": "akvq4QWmqSil"
   },
   "outputs": [],
   "source": []
  },
  {
   "cell_type": "markdown",
   "metadata": {
    "id": "PKu5mzyTs-Qj"
   },
   "source": [
    "- 예시)\n",
    "  - `DataLoader`의 인자로 들어갈 `transform`을 미리 정의할 수 있음\n",
    "\n",
    "  - `Compose`를 통해 리스트 안에 순서대로 전처리 진행\n",
    "\n",
    "  - 대표적인 예로, `ToTensor`()를 하는 이유는  \n",
    "   <u>torchvision이 PIL Image형태로만 입력을 받기 때문에</u> 데이터 처리를 위해서 Tensor형으로 변환해야함"
   ]
  },
  {
   "cell_type": "code",
   "execution_count": null,
   "metadata": {
    "id": "y6K7FH-Rs9my"
   },
   "outputs": [],
   "source": []
  },
  {
   "cell_type": "markdown",
   "metadata": {
    "id": "I4l1GvIlslKa"
   },
   "source": [
    "## utils.data\n",
    "\n",
    "- `Dataset`에는 다양한 데이터셋이 존재  \n",
    "  - MNIST, CIFAR10, ...\n",
    "\n",
    "- `DataLoader`, `Dataset`을 통해  \n",
    "  `batch_size`, `train`여부, `transform`등을 인자로 넣어 데이터를 어떻게 load할 것인지 정해줄 수 있음"
   ]
  },
  {
   "cell_type": "code",
   "execution_count": null,
   "metadata": {
    "id": "1wsZKY7-s2Vv"
   },
   "outputs": [],
   "source": []
  },
  {
   "cell_type": "code",
   "execution_count": null,
   "metadata": {
    "id": "lldpI2lquBu3"
   },
   "outputs": [],
   "source": []
  },
  {
   "cell_type": "code",
   "execution_count": null,
   "metadata": {
    "id": "fKddZnT1uQmT"
   },
   "outputs": [],
   "source": []
  },
  {
   "cell_type": "markdown",
   "metadata": {
    "id": "zrxymquLxeo8"
   },
   "source": [
    "- `batch_size`만큼 데이터를 하나씩 가져옴"
   ]
  },
  {
   "cell_type": "code",
   "execution_count": null,
   "metadata": {
    "id": "hvgMIyF6uUuU"
   },
   "outputs": [],
   "source": []
  },
  {
   "cell_type": "markdown",
   "metadata": {
    "id": "YPUC0a0aw6OM"
   },
   "source": [
    "<u>**(중요) torch에서는 channel(채널)이 앞에 옴**</u>\n",
    "\n",
    "- `channel first`\n",
    "\n",
    "- tensorflow, keras 등에서는 channel이 뒤에 옴(`channel last`)"
   ]
  },
  {
   "cell_type": "markdown",
   "metadata": {
    "id": "wuhylD3iyFYr"
   },
   "source": [
    "### 데이터 확인"
   ]
  },
  {
   "cell_type": "code",
   "execution_count": null,
   "metadata": {
    "id": "C9hAQmQlul8P"
   },
   "outputs": [],
   "source": []
  },
  {
   "cell_type": "code",
   "execution_count": null,
   "metadata": {
    "id": "zDcUY6o4xUQp"
   },
   "outputs": [],
   "source": []
  },
  {
   "cell_type": "code",
   "execution_count": null,
   "metadata": {
    "id": "MZmPWiGbxoiW"
   },
   "outputs": [],
   "source": []
  },
  {
   "cell_type": "code",
   "execution_count": null,
   "metadata": {
    "id": "AUOdd4UaxaXO"
   },
   "outputs": [],
   "source": []
  },
  {
   "cell_type": "code",
   "execution_count": null,
   "metadata": {
    "id": "PDQfjw4wxr1z"
   },
   "outputs": [],
   "source": []
  },
  {
   "cell_type": "code",
   "execution_count": null,
   "metadata": {
    "id": "JDCVw59ax3-A"
   },
   "outputs": [],
   "source": []
  },
  {
   "cell_type": "markdown",
   "metadata": {
    "id": "JVcWQlxzihtS"
   },
   "source": [
    "## 각 Layer 설명"
   ]
  },
  {
   "cell_type": "code",
   "execution_count": null,
   "metadata": {
    "id": "IGXn1_weif5H"
   },
   "outputs": [],
   "source": []
  },
  {
   "cell_type": "markdown",
   "metadata": {
    "id": "73kJ3heBi26y"
   },
   "source": [
    "### nn.Conv2d\n",
    "\n",
    "- `in_channels`: channel의 갯수\n",
    "\n",
    "- `out_channels`: 출력 채널의 갯수\n",
    "\n",
    "- `kernel_size`: 커널(필터) 사이즈\n",
    "\n",
    "- 텐서플로우, 케라스와 다르게 레이어의 `input`인자에도 값을 집어 넣어줘야함"
   ]
  },
  {
   "cell_type": "code",
   "execution_count": null,
   "metadata": {
    "id": "RcHJguyFipTl"
   },
   "outputs": [],
   "source": []
  },
  {
   "cell_type": "code",
   "execution_count": null,
   "metadata": {
    "id": "iWiJbViHjFG0"
   },
   "outputs": [],
   "source": []
  },
  {
   "cell_type": "markdown",
   "metadata": {
    "id": "GxWYFm2xjUeN"
   },
   "source": [
    "- `wegiht`확인"
   ]
  },
  {
   "cell_type": "code",
   "execution_count": null,
   "metadata": {
    "id": "za0enRbyjPzV"
   },
   "outputs": [],
   "source": []
  },
  {
   "cell_type": "markdown",
   "metadata": {
    "id": "MAZcTU2gjiCX"
   },
   "source": [
    "- `weight`는 `detach()`를 통해 꺼내줘야 `numpy()`변환이 가능"
   ]
  },
  {
   "cell_type": "code",
   "execution_count": null,
   "metadata": {
    "id": "9eN_oUBkjT85"
   },
   "outputs": [],
   "source": []
  },
  {
   "cell_type": "code",
   "execution_count": null,
   "metadata": {
    "id": "kwso9tsijmz8"
   },
   "outputs": [],
   "source": []
  },
  {
   "cell_type": "code",
   "execution_count": null,
   "metadata": {
    "id": "mUegf6HPjdPl"
   },
   "outputs": [],
   "source": []
  },
  {
   "cell_type": "code",
   "execution_count": null,
   "metadata": {
    "id": "DMeTOqVmcdWa"
   },
   "outputs": [],
   "source": []
  },
  {
   "cell_type": "code",
   "execution_count": null,
   "metadata": {
    "id": "cvolnNsscdHs"
   },
   "outputs": [],
   "source": []
  },
  {
   "cell_type": "code",
   "execution_count": null,
   "metadata": {
    "id": "NLOAfD5mjup1"
   },
   "outputs": [],
   "source": []
  },
  {
   "cell_type": "code",
   "execution_count": null,
   "metadata": {
    "id": "r50wFkl6j1sY"
   },
   "outputs": [],
   "source": []
  },
  {
   "cell_type": "code",
   "execution_count": null,
   "metadata": {
    "id": "ZiIp-frJj2Hl"
   },
   "outputs": [],
   "source": []
  },
  {
   "cell_type": "code",
   "execution_count": null,
   "metadata": {
    "id": "uOHMu-UQkW3a"
   },
   "outputs": [],
   "source": []
  },
  {
   "cell_type": "markdown",
   "metadata": {
    "id": "6sCqGmH_kwHm"
   },
   "source": [
    "### Pooling\n",
    "- `F.max_pool2d` \n",
    "  - `stride`\n",
    "\n",
    "  - `kernel_size`\n",
    "\n",
    "- `torch.nn.MaxPool2d` 도 많이 사용"
   ]
  },
  {
   "cell_type": "code",
   "execution_count": null,
   "metadata": {
    "id": "AYqPrLH1kxQl"
   },
   "outputs": [],
   "source": []
  },
  {
   "cell_type": "code",
   "execution_count": null,
   "metadata": {
    "id": "tvI8W_8Yk81S"
   },
   "outputs": [],
   "source": []
  },
  {
   "cell_type": "markdown",
   "metadata": {
    "id": "aV3HK4FulCaJ"
   },
   "source": [
    "- MaxPool Layer는 weight가 없기 때문에 바로 `numpy()`변환 가능"
   ]
  },
  {
   "cell_type": "code",
   "execution_count": null,
   "metadata": {
    "id": "fseB_qlflBta"
   },
   "outputs": [],
   "source": []
  },
  {
   "cell_type": "code",
   "execution_count": null,
   "metadata": {
    "id": "6w8DQnNtlNCq"
   },
   "outputs": [],
   "source": []
  },
  {
   "cell_type": "markdown",
   "metadata": {
    "id": "q7RVioKwlbH1"
   },
   "source": [
    "### Linear\n",
    "- 1d만 가능 `.view()`를 통해 1D로 펼쳐줘야함"
   ]
  },
  {
   "cell_type": "code",
   "execution_count": null,
   "metadata": {
    "id": "Kwcedadrlcbl"
   },
   "outputs": [],
   "source": []
  },
  {
   "cell_type": "code",
   "execution_count": null,
   "metadata": {
    "id": "_mYQy4I3lmAm"
   },
   "outputs": [],
   "source": []
  },
  {
   "cell_type": "code",
   "execution_count": null,
   "metadata": {
    "id": "6wgSmY0Zlofk"
   },
   "outputs": [],
   "source": []
  },
  {
   "cell_type": "code",
   "execution_count": null,
   "metadata": {
    "id": "LcJFqf0alsxr"
   },
   "outputs": [],
   "source": []
  },
  {
   "cell_type": "code",
   "execution_count": null,
   "metadata": {
    "id": "ewEpebSVluHz"
   },
   "outputs": [],
   "source": []
  },
  {
   "cell_type": "markdown",
   "metadata": {
    "id": "0IjPKDKRl3CV"
   },
   "source": [
    "### Softmax"
   ]
  },
  {
   "cell_type": "code",
   "execution_count": null,
   "metadata": {
    "id": "obhBb3O-lzbs"
   },
   "outputs": [],
   "source": []
  },
  {
   "cell_type": "code",
   "execution_count": null,
   "metadata": {
    "id": "ljgOEyNMmBEE"
   },
   "outputs": [],
   "source": []
  },
  {
   "cell_type": "code",
   "execution_count": null,
   "metadata": {
    "id": "18ymFSRAmBo7"
   },
   "outputs": [],
   "source": []
  },
  {
   "cell_type": "markdown",
   "metadata": {
    "id": "bYh13Bnj5wEN"
   },
   "source": [
    "### F.relu\n",
    "\n",
    "- ReLU 함수를 적용하는 레이어\n",
    "\n",
    "- `nn.ReLU`로도 사용 가능"
   ]
  },
  {
   "cell_type": "code",
   "execution_count": null,
   "metadata": {
    "id": "D4VFePpR9_Ak"
   },
   "outputs": [],
   "source": []
  },
  {
   "cell_type": "code",
   "execution_count": null,
   "metadata": {
    "id": "1lKlSiaY5wZW"
   },
   "outputs": [],
   "source": []
  },
  {
   "cell_type": "markdown",
   "metadata": {
    "id": "0yuABl4h-yye"
   },
   "source": []
  },
  {
   "cell_type": "markdown",
   "metadata": {
    "id": "0yuABl4h-yye"
   },
   "source": [
    "## Optimizer\n",
    "\n",
    "- `import torch.optim as optim`\n",
    "\n",
    "- `model`의 파라미터를 업데이트\n",
    "\n",
    "- 예시)\n",
    "  ```python\n",
    "  optimizer = torch.optim.Adam(model.parameters(), lr=1e-4, weight_decay=1e-5)\n",
    "  optimizer = optim.SGD(model.parameters(), lr=0.001)\n",
    "  ```\n",
    "\n",
    "- `.zero_grad()`로 초기화\n",
    "- `.step()`으로 업데이트"
   ]
  },
  {
   "cell_type": "code",
   "execution_count": 1,
   "metadata": {
    "id": "0yuABl4h-yye"
   },
   "outputs": [],
   "source": []
  },
  {
   "cell_type": "code",
   "execution_count": 1,
   "metadata": {
    "id": "0yuABl4h-yye"
   },
   "outputs": [],
   "source": [
    "import torch"
   ]
  },
  {
   "cell_type": "code",
   "execution_count": 2,
   "metadata": {
    "id": "0yuABl4h-yye"
   },
   "outputs": [
    {
     "name": "stdout",
     "output_type": "stream",
     "text": [
      "Using cuda device\n"
     ]
    }
   ],
   "source": [
    "# Get cpu or gpu device for training.\n",
    "device = \"cuda\" if torch.cuda.is_available() else \"cpu\"\n",
    "print(\"Using {} device\".format(device))"
   ]
  },
  {
   "cell_type": "code",
   "execution_count": 3,
   "metadata": {},
   "outputs": [],
   "source": [
    "from torch import nn\n",
    "\n",
    "# Define model\n",
    "class NeuralNetwork(nn.Module):\n",
    "    def __init__(self):\n",
    "        super(NeuralNetwork, self).__init__()\n",
    "        self.flatten = nn.Flatten()\n",
    "        self.linear_relu_stack = nn.Sequential(\n",
    "            nn.Linear(28*28, 512),\n",
    "            nn.ReLU(),\n",
    "            nn.Linear(512, 512),\n",
    "            nn.ReLU(),\n",
    "            nn.Linear(512, 10),\n",
    "            nn.ReLU()\n",
    "        )\n",
    "\n",
    "    def forward(self, x):\n",
    "        x = self.flatten(x)\n",
    "        logits = self.linear_relu_stack(x)\n",
    "        return logits\n",
    "\n",
    "model = NeuralNetwork().to(device)"
   ]
  },
  {
   "cell_type": "code",
   "execution_count": 4,
   "metadata": {},
   "outputs": [
    {
     "name": "stdout",
     "output_type": "stream",
     "text": [
      "NeuralNetwork(\n",
      "  (flatten): Flatten(start_dim=1, end_dim=-1)\n",
      "  (linear_relu_stack): Sequential(\n",
      "    (0): Linear(in_features=784, out_features=512, bias=True)\n",
      "    (1): ReLU()\n",
      "    (2): Linear(in_features=512, out_features=512, bias=True)\n",
      "    (3): ReLU()\n",
      "    (4): Linear(in_features=512, out_features=10, bias=True)\n",
      "    (5): ReLU()\n",
      "  )\n",
      ")\n"
     ]
    }
   ],
   "source": [
    "print(model)"
   ]
  },
  {
   "cell_type": "code",
   "execution_count": 5,
   "metadata": {},
   "outputs": [],
   "source": [
    "from torchvision import datasets\n",
    "from torchvision.transforms import ToTensor, Lambda, Compose"
   ]
  },
  {
   "cell_type": "code",
   "execution_count": 6,
   "metadata": {},
   "outputs": [
    {
     "name": "stdout",
     "output_type": "stream",
     "text": [
      "Downloading http://fashion-mnist.s3-website.eu-central-1.amazonaws.com/train-images-idx3-ubyte.gz\n",
      "Downloading http://fashion-mnist.s3-website.eu-central-1.amazonaws.com/train-images-idx3-ubyte.gz to data\\FashionMNIST\\raw\\train-images-idx3-ubyte.gz\n"
     ]
    },
    {
     "data": {
      "application/vnd.jupyter.widget-view+json": {
       "model_id": "72b889f574084178ae77c8cf73705164",
       "version_major": 2,
       "version_minor": 0
      },
      "text/plain": [
       "  0%|          | 0/26421880 [00:00<?, ?it/s]"
      ]
     },
     "metadata": {},
     "output_type": "display_data"
    },
    {
     "name": "stdout",
     "output_type": "stream",
     "text": [
      "Extracting data\\FashionMNIST\\raw\\train-images-idx3-ubyte.gz to data\\FashionMNIST\\raw\n",
      "\n",
      "Downloading http://fashion-mnist.s3-website.eu-central-1.amazonaws.com/train-labels-idx1-ubyte.gz\n",
      "Downloading http://fashion-mnist.s3-website.eu-central-1.amazonaws.com/train-labels-idx1-ubyte.gz to data\\FashionMNIST\\raw\\train-labels-idx1-ubyte.gz\n"
     ]
    },
    {
     "data": {
      "application/vnd.jupyter.widget-view+json": {
       "model_id": "fe2c2e8206084d81a688d311470f3a87",
       "version_major": 2,
       "version_minor": 0
      },
      "text/plain": [
       "  0%|          | 0/29515 [00:00<?, ?it/s]"
      ]
     },
     "metadata": {},
     "output_type": "display_data"
    },
    {
     "name": "stdout",
     "output_type": "stream",
     "text": [
      "Extracting data\\FashionMNIST\\raw\\train-labels-idx1-ubyte.gz to data\\FashionMNIST\\raw\n",
      "\n",
      "Downloading http://fashion-mnist.s3-website.eu-central-1.amazonaws.com/t10k-images-idx3-ubyte.gz\n",
      "Downloading http://fashion-mnist.s3-website.eu-central-1.amazonaws.com/t10k-images-idx3-ubyte.gz to data\\FashionMNIST\\raw\\t10k-images-idx3-ubyte.gz\n"
     ]
    },
    {
     "data": {
      "application/vnd.jupyter.widget-view+json": {
       "model_id": "900317f4729f42238a3b62b052298a79",
       "version_major": 2,
       "version_minor": 0
      },
      "text/plain": [
       "  0%|          | 0/4422102 [00:00<?, ?it/s]"
      ]
     },
     "metadata": {},
     "output_type": "display_data"
    },
    {
     "name": "stdout",
     "output_type": "stream",
     "text": [
      "Extracting data\\FashionMNIST\\raw\\t10k-images-idx3-ubyte.gz to data\\FashionMNIST\\raw\n",
      "\n",
      "Downloading http://fashion-mnist.s3-website.eu-central-1.amazonaws.com/t10k-labels-idx1-ubyte.gz\n",
      "Downloading http://fashion-mnist.s3-website.eu-central-1.amazonaws.com/t10k-labels-idx1-ubyte.gz to data\\FashionMNIST\\raw\\t10k-labels-idx1-ubyte.gz\n"
     ]
    },
    {
     "data": {
      "application/vnd.jupyter.widget-view+json": {
       "model_id": "352e1f4e0e224ad087f9549f1c995c06",
       "version_major": 2,
       "version_minor": 0
      },
      "text/plain": [
       "  0%|          | 0/5148 [00:00<?, ?it/s]"
      ]
     },
     "metadata": {},
     "output_type": "display_data"
    },
    {
     "name": "stdout",
     "output_type": "stream",
     "text": [
      "Extracting data\\FashionMNIST\\raw\\t10k-labels-idx1-ubyte.gz to data\\FashionMNIST\\raw\n",
      "\n",
      "Processing...\n",
      "Done!\n"
     ]
    },
    {
     "name": "stderr",
     "output_type": "stream",
     "text": [
      "C:\\Users\\user\\anaconda3\\envs\\sdf\\lib\\site-packages\\torchvision\\datasets\\mnist.py:502: UserWarning: The given NumPy array is not writeable, and PyTorch does not support non-writeable tensors. This means you can write to the underlying (supposedly non-writeable) NumPy array using the tensor. You may want to copy the array to protect its data or make it writeable before converting it to a tensor. This type of warning will be suppressed for the rest of this program. (Triggered internally at  ..\\torch\\csrc\\utils\\tensor_numpy.cpp:143.)\n",
      "  return torch.from_numpy(parsed.astype(m[2], copy=False)).view(*s)\n"
     ]
    }
   ],
   "source": [
    "# Download training data from open datasets.\n",
    "training_data = datasets.FashionMNIST(\n",
    "    root=\"data\",\n",
    "    train=True,\n",
    "    download=True,\n",
    "    transform=ToTensor(),\n",
    ")\n",
    "\n",
    "# Download test data from open datasets.\n",
    "test_data = datasets.FashionMNIST(\n",
    "    root=\"data\",\n",
    "    train=False,\n",
    "    download=True,\n",
    "    transform=ToTensor(),\n",
    ")"
   ]
  },
  {
   "cell_type": "code",
   "execution_count": 8,
   "metadata": {},
   "outputs": [],
   "source": [
    "from torch.utils.data import DataLoader"
   ]
  },
  {
   "cell_type": "code",
   "execution_count": 9,
   "metadata": {},
   "outputs": [
    {
     "name": "stdout",
     "output_type": "stream",
     "text": [
      "Shape of X [N, C, H, W]:  torch.Size([64, 1, 28, 28])\n",
      "Shape of y:  torch.Size([64]) torch.int64\n"
     ]
    }
   ],
   "source": [
    "batch_size = 64\n",
    "\n",
    "# Create data loaders.\n",
    "train_dataloader = DataLoader(training_data, batch_size=batch_size)\n",
    "test_dataloader = DataLoader(test_data, batch_size=batch_size)\n",
    "\n",
    "for X, y in test_dataloader:\n",
    "    print(\"Shape of X [N, C, H, W]: \", X.shape)\n",
    "    print(\"Shape of y: \", y.shape, y.dtype)\n",
    "    break"
   ]
  },
  {
   "cell_type": "code",
   "execution_count": 10,
   "metadata": {},
   "outputs": [],
   "source": [
    "loss_fn = nn.CrossEntropyLoss()\n",
    "optimizer = torch.optim.SGD(model.parameters(), lr=1e-3)"
   ]
  },
  {
   "cell_type": "code",
   "execution_count": 11,
   "metadata": {},
   "outputs": [],
   "source": [
    "def train(dataloader, model, loss_fn, optimizer):\n",
    "    size = len(dataloader.dataset)\n",
    "    for batch, (X, y) in enumerate(dataloader):\n",
    "        X, y = X.to(device), y.to(device)\n",
    "\n",
    "        # Compute prediction error\n",
    "        pred = model(X)\n",
    "        loss = loss_fn(pred, y)\n",
    "\n",
    "        # Backpropagation\n",
    "        optimizer.zero_grad()\n",
    "        loss.backward()\n",
    "        optimizer.step()\n",
    "\n",
    "        if batch % 100 == 0:\n",
    "            loss, current = loss.item(), batch * len(X)\n",
    "            print(f\"loss: {loss:>7f}  [{current:>5d}/{size:>5d}]\")"
   ]
  },
  {
   "cell_type": "code",
   "execution_count": 12,
   "metadata": {},
   "outputs": [],
   "source": [
    "def test(dataloader, model):\n",
    "    size = len(dataloader.dataset)\n",
    "    model.eval()\n",
    "    test_loss, correct = 0, 0\n",
    "    with torch.no_grad():\n",
    "        for X, y in dataloader:\n",
    "            X, y = X.to(device), y.to(device)\n",
    "            pred = model(X)\n",
    "            test_loss += loss_fn(pred, y).item()\n",
    "            correct += (pred.argmax(1) == y).type(torch.float).sum().item()\n",
    "    test_loss /= size\n",
    "    correct /= size\n",
    "    print(f\"Test Error: \\n Accuracy: {(100*correct):>0.1f}%, Avg loss: {test_loss:>8f} \\n\")"
   ]
  },
  {
   "cell_type": "code",
   "execution_count": 13,
   "metadata": {},
   "outputs": [
    {
     "name": "stdout",
     "output_type": "stream",
     "text": [
      "Epoch 1\n",
      "-------------------------------\n",
      "loss: 2.303969  [    0/60000]\n",
      "loss: 2.297092  [ 6400/60000]\n",
      "loss: 2.285332  [12800/60000]\n",
      "loss: 2.284514  [19200/60000]\n",
      "loss: 2.290201  [25600/60000]\n",
      "loss: 2.270783  [32000/60000]\n",
      "loss: 2.286351  [38400/60000]\n",
      "loss: 2.267086  [44800/60000]\n",
      "loss: 2.258157  [51200/60000]\n",
      "loss: 2.259153  [57600/60000]\n",
      "Test Error: \n",
      " Accuracy: 27.1%, Avg loss: 0.035334 \n",
      "\n",
      "Epoch 2\n",
      "-------------------------------\n",
      "loss: 2.245902  [    0/60000]\n",
      "loss: 2.256990  [ 6400/60000]\n",
      "loss: 2.218011  [12800/60000]\n",
      "loss: 2.234897  [19200/60000]\n",
      "loss: 2.262643  [25600/60000]\n",
      "loss: 2.201985  [32000/60000]\n",
      "loss: 2.254837  [38400/60000]\n",
      "loss: 2.212985  [44800/60000]\n",
      "loss: 2.195665  [51200/60000]\n",
      "loss: 2.206259  [57600/60000]\n",
      "Test Error: \n",
      " Accuracy: 31.5%, Avg loss: 0.034351 \n",
      "\n",
      "Epoch 3\n",
      "-------------------------------\n",
      "loss: 2.175491  [    0/60000]\n",
      "loss: 2.199519  [ 6400/60000]\n",
      "loss: 2.124646  [12800/60000]\n",
      "loss: 2.164126  [19200/60000]\n",
      "loss: 2.222564  [25600/60000]\n",
      "loss: 2.113143  [32000/60000]\n",
      "loss: 2.208539  [38400/60000]\n",
      "loss: 2.136916  [44800/60000]\n",
      "loss: 2.108701  [51200/60000]\n",
      "loss: 2.139293  [57600/60000]\n",
      "Test Error: \n",
      " Accuracy: 34.9%, Avg loss: 0.033014 \n",
      "\n",
      "Epoch 4\n",
      "-------------------------------\n",
      "loss: 2.077893  [    0/60000]\n",
      "loss: 2.115825  [ 6400/60000]\n",
      "loss: 1.994781  [12800/60000]\n",
      "loss: 2.071220  [19200/60000]\n",
      "loss: 2.170933  [25600/60000]\n",
      "loss: 2.006439  [32000/60000]\n",
      "loss: 2.152670  [38400/60000]\n",
      "loss: 2.046335  [44800/60000]\n",
      "loss: 2.011296  [51200/60000]\n",
      "loss: 2.070756  [57600/60000]\n",
      "Test Error: \n",
      " Accuracy: 36.2%, Avg loss: 0.031570 \n",
      "\n",
      "Epoch 5\n",
      "-------------------------------\n",
      "loss: 1.971094  [    0/60000]\n",
      "loss: 2.025563  [ 6400/60000]\n",
      "loss: 1.860991  [12800/60000]\n",
      "loss: 1.977681  [19200/60000]\n",
      "loss: 2.117827  [25600/60000]\n",
      "loss: 1.911290  [32000/60000]\n",
      "loss: 2.101847  [38400/60000]\n",
      "loss: 1.972337  [44800/60000]\n",
      "loss: 1.932668  [51200/60000]\n",
      "loss: 2.011948  [57600/60000]\n",
      "Test Error: \n",
      " Accuracy: 37.8%, Avg loss: 0.030362 \n",
      "\n",
      "Done!\n"
     ]
    }
   ],
   "source": [
    "epochs = 5\n",
    "for t in range(epochs):\n",
    "    print(f\"Epoch {t+1}\\n-------------------------------\")\n",
    "    train(train_dataloader, model, loss_fn, optimizer)\n",
    "    test(test_dataloader, model)\n",
    "print(\"Done!\")"
   ]
  },
  {
   "cell_type": "code",
   "execution_count": 14,
   "metadata": {},
   "outputs": [
    {
     "name": "stdout",
     "output_type": "stream",
     "text": [
      "Saved PyTorch Model State to model.pth\n"
     ]
    }
   ],
   "source": [
    "torch.save(model.state_dict(), \"model.pth\")\n",
    "print(\"Saved PyTorch Model State to model.pth\")"
   ]
  },
  {
   "cell_type": "code",
   "execution_count": 15,
   "metadata": {},
   "outputs": [
    {
     "data": {
      "text/plain": [
       "<All keys matched successfully>"
      ]
     },
     "execution_count": 15,
     "metadata": {},
     "output_type": "execute_result"
    }
   ],
   "source": [
    "model = NeuralNetwork()\n",
    "model.load_state_dict(torch.load(\"model.pth\"))"
   ]
  },
  {
   "cell_type": "code",
   "execution_count": 16,
   "metadata": {},
   "outputs": [
    {
     "name": "stdout",
     "output_type": "stream",
     "text": [
      "Predicted: \"Bag\", Actual: \"Ankle boot\"\n"
     ]
    }
   ],
   "source": [
    "classes = [\n",
    "    \"T-shirt/top\",\n",
    "    \"Trouser\",\n",
    "    \"Pullover\",\n",
    "    \"Dress\",\n",
    "    \"Coat\",\n",
    "    \"Sandal\",\n",
    "    \"Shirt\",\n",
    "    \"Sneaker\",\n",
    "    \"Bag\",\n",
    "    \"Ankle boot\",\n",
    "]\n",
    "\n",
    "model.eval()\n",
    "x, y = test_data[0][0], test_data[0][1]\n",
    "with torch.no_grad():\n",
    "    pred = model(x)\n",
    "    predicted, actual = classes[pred[0].argmax(0)], classes[y]\n",
    "    print(f'Predicted: \"{predicted}\", Actual: \"{actual}\"')"
   ]
  },
  {
   "cell_type": "code",
   "execution_count": null,
   "metadata": {},
   "outputs": [],
   "source": []
  }
 ],
 "metadata": {
  "accelerator": "GPU",
  "colab": {
   "collapsed_sections": [],
   "name": "PyTorch.ipynb의 사본",
   "provenance": [
    {
     "file_id": "1sq0lNJ5evuSkbcTy-qgBlFJm3c_DSsUy",
     "timestamp": 1620611157820
    },
    {
     "file_id": "1yURN8yVBax7qoHttCZoDkD93TxWdaZK_",
     "timestamp": 1620611121146
    }
   ]
  },
  "kernelspec": {
   "display_name": "Python SDF",
   "language": "python",
   "name": "sdf"
  },
  "language_info": {
   "codemirror_mode": {
    "name": "ipython",
    "version": 3
   },
   "file_extension": ".py",
   "mimetype": "text/x-python",
   "name": "python",
   "nbconvert_exporter": "python",
   "pygments_lexer": "ipython3",
   "version": "3.8.3"
  }
 },
 "nbformat": 4,
 "nbformat_minor": 4
}
