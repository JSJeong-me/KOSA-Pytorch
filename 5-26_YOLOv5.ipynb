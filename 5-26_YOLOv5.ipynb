{
  "nbformat": 4,
  "nbformat_minor": 0,
  "metadata": {
    "colab": {
      "name": "Roboflow-Custom-YOLOv5",
      "provenance": [],
      "collapsed_sections": [],
      "toc_visible": true,
      "include_colab_link": true
    },
    "kernelspec": {
      "name": "python3",
      "display_name": "Python 3"
    },
    "accelerator": "GPU"
  },
  "cells": [
    {
      "cell_type": "markdown",
      "metadata": {
        "id": "view-in-github",
        "colab_type": "text"
      },
      "source": [
        "<a href=\"https://colab.research.google.com/github/JSJeong-me/KOSA-Pytorch/blob/main/5-26_YOLOv5.ipynb\" target=\"_parent\"><img src=\"https://colab.research.google.com/assets/colab-badge.svg\" alt=\"Open In Colab\"/></a>"
      ]
    },
    {
      "cell_type": "markdown",
      "metadata": {
        "id": "GD9gUQpaBxNa"
      },
      "source": [
        "# How to Train YOLOv5 on Custom Objects\n",
        "\n",
        "This tutorial is based on the [YOLOv5 repository](https://github.com/ultralytics/yolov5) by [Ultralytics](https://www.ultralytics.com/). This notebook shows training on **your own custom objects**. Many thanks to Ultralytics for putting this repository together - we hope that in combination with clean data management tools at Roboflow, this technologoy will become easily accessible to any developer wishing to use computer vision in their projects.\n",
        "\n",
        "### Accompanying Blog Post\n",
        "\n",
        "We recommend that you follow along in this notebook while reading the blog post on [how to train YOLOv5](https://blog.roboflow.ai/how-to-train-yolov5-on-a-custom-dataset/), concurrently.\n",
        "\n",
        "### Steps Covered in this Tutorial\n",
        "\n",
        "In this tutorial, we will walk through the steps required to train YOLOv5 on your custom objects. We use a [public blood cell detection dataset](https://public.roboflow.ai/object-detection/bccd), which is open source and free to use. You can also use this notebook on your own data.\n",
        "\n",
        "To train our detector we take the following steps:\n",
        "\n",
        "* Install YOLOv5 dependencies\n",
        "* Download custom YOLOv5 object detection data\n",
        "* Write our YOLOv5 Training configuration\n",
        "* Run YOLOv5 training\n",
        "* Evaluate YOLOv5 performance\n",
        "* Visualize YOLOv5 training data\n",
        "* Run YOLOv5 inference on test images\n",
        "* Export saved YOLOv5 weights for future inference\n",
        "\n",
        "\n",
        "\n",
        "### **About**\n",
        "\n",
        "[Roboflow](https://roboflow.com) enables teams to deploy custom computer vision models quickly and accurately. Convert data from to annotation format, assess dataset health, preprocess, augment, and more. It's free for your first 1000 source images.\n",
        "\n",
        "\n"
      ]
    },
    {
      "cell_type": "markdown",
      "metadata": {
        "id": "7mGmQbAO5pQb"
      },
      "source": [
        "#Install Dependencies\n",
        "\n",
        "_(Remember to choose GPU in Runtime if not already selected. Runtime --> Change Runtime Type --> Hardware accelerator --> GPU)_"
      ]
    },
    {
      "cell_type": "code",
      "metadata": {
        "id": "Ie5uLDH4uzAp"
      },
      "source": [
        "# clone YOLOv5 repository\n",
        "!git clone https://github.com/ultralytics/yolov5  # clone repo\n",
        "%cd yolov5\n",
        "!git reset --hard 886f1c03d839575afecb059accf74296fad395b6"
      ],
      "execution_count": null,
      "outputs": []
    },
    {
      "cell_type": "code",
      "metadata": {
        "id": "wbvMlHd_QwMG"
      },
      "source": [
        "# install dependencies as necessary\n",
        "!pip install -qr requirements.txt  # install dependencies (ignore errors)\n",
        "import torch\n",
        "\n",
        "from IPython.display import Image, clear_output  # to display images\n",
        "from utils.google_utils import gdrive_download  # to download models/datasets\n",
        "\n",
        "# clear_output()\n",
        "print('Setup complete. Using torch %s %s' % (torch.__version__, torch.cuda.get_device_properties(0) if torch.cuda.is_available() else 'CPU'))"
      ],
      "execution_count": null,
      "outputs": []
    },
    {
      "cell_type": "markdown",
      "metadata": {
        "id": "SDIhrBF0sPaM"
      },
      "source": [
        "# Download Correctly Formatted Custom Dataset \n",
        "\n",
        "We'll download our dataset from Roboflow. Use the \"**YOLOv5 PyTorch**\" export format. Note that the Ultralytics implementation calls for a YAML file defining where your training and test data is. The Roboflow export also writes this format for us.\n",
        "\n",
        "To get your data into Roboflow, follow the [Getting Started Guide](https://blog.roboflow.ai/getting-started-with-roboflow/)."
      ]
    },
    {
      "cell_type": "markdown",
      "metadata": {
        "id": "vDeebwqS9JbZ"
      },
      "source": [
        "\n",
        "\n"
      ]
    },
    {
      "cell_type": "code",
      "metadata": {
        "id": "AcXLYczMqViO"
      },
      "source": [
        ""
      ],
      "execution_count": null,
      "outputs": []
    },
    {
      "cell_type": "code",
      "metadata": {
        "id": "Knxi2ncxWffW"
      },
      "source": [
        "# Export code snippet and paste here\n",
        "%cd /content\n",
        "!curl -L \"https://public.roboflow.com/ds/BSHA6lU6X1?key=YBmylWsLBQ\" > tmp.zip"
      ],
      "execution_count": null,
      "outputs": []
    },
    {
      "cell_type": "code",
      "metadata": {
        "id": "DQ3hkPrCqlIu",
        "outputId": "44131659-0168-435c-ad5a-2e0794a39064",
        "colab": {
          "base_uri": "https://localhost:8080/"
        }
      },
      "source": [
        ""
      ],
      "execution_count": 33,
      "outputs": [
        {
          "output_type": "stream",
          "text": [
            "/content/export\n"
          ],
          "name": "stdout"
        }
      ]
    },
    {
      "cell_type": "code",
      "metadata": {
        "id": "hE0uOBHKqgn1"
      },
      "source": [
        "!unzip /tmp.zip"
      ],
      "execution_count": null,
      "outputs": []
    },
    {
      "cell_type": "code",
      "metadata": {
        "id": "pFGehDrrlEQH",
        "outputId": "fbaa516f-0ef3-4d6d-ca40-bed47fa2d696",
        "colab": {
          "base_uri": "https://localhost:8080/"
        }
      },
      "source": [
        "%cd .."
      ],
      "execution_count": 11,
      "outputs": [
        {
          "output_type": "stream",
          "text": [
            "/content\n"
          ],
          "name": "stdout"
        }
      ]
    },
    {
      "cell_type": "code",
      "metadata": {
        "id": "P9dW3pzTlJvP"
      },
      "source": [
        ""
      ],
      "execution_count": null,
      "outputs": []
    },
    {
      "cell_type": "code",
      "metadata": {
        "id": "ZZ3DmmGQztJj"
      },
      "source": [
        "# this is the YAML file Roboflow wrote for us that we're loading into this notebook with our data\n",
        "%cat data.yaml"
      ],
      "execution_count": null,
      "outputs": []
    },
    {
      "cell_type": "markdown",
      "metadata": {
        "id": "UwJx-2NHsYxT"
      },
      "source": [
        "# Define Model Configuration and Architecture\n",
        "\n",
        "We will write a yaml script that defines the parameters for our model like the number of classes, anchors, and each layer.\n",
        "\n",
        "You do not need to edit these cells, but you may."
      ]
    },
    {
      "cell_type": "code",
      "metadata": {
        "id": "dOPn9wjOAwwK"
      },
      "source": [
        "# define number of classes based on YAML\n",
        "import yaml\n",
        "with open(\"data.yaml\", 'r') as stream:\n",
        "    num_classes = str(yaml.safe_load(stream)['nc'])"
      ],
      "execution_count": 15,
      "outputs": []
    },
    {
      "cell_type": "code",
      "metadata": {
        "id": "1Rvt5wilnDyX",
        "colab": {
          "base_uri": "https://localhost:8080/"
        },
        "outputId": "52666e92-9ede-4bca-b847-0fe94b756d13"
      },
      "source": [
        "#this is the model configuration we will use for our tutorial \n",
        "%cat /content/yolov5/models/yolov5s.yaml"
      ],
      "execution_count": 16,
      "outputs": [
        {
          "output_type": "stream",
          "text": [
            "# parameters\n",
            "nc: 80  # number of classes\n",
            "depth_multiple: 0.33  # model depth multiple\n",
            "width_multiple: 0.50  # layer channel multiple\n",
            "\n",
            "# anchors\n",
            "anchors:\n",
            "  - [10,13, 16,30, 33,23]  # P3/8\n",
            "  - [30,61, 62,45, 59,119]  # P4/16\n",
            "  - [116,90, 156,198, 373,326]  # P5/32\n",
            "\n",
            "# YOLOv5 backbone\n",
            "backbone:\n",
            "  # [from, number, module, args]\n",
            "  [[-1, 1, Focus, [64, 3]],  # 0-P1/2\n",
            "   [-1, 1, Conv, [128, 3, 2]],  # 1-P2/4\n",
            "   [-1, 3, C3, [128]],\n",
            "   [-1, 1, Conv, [256, 3, 2]],  # 3-P3/8\n",
            "   [-1, 9, C3, [256]],\n",
            "   [-1, 1, Conv, [512, 3, 2]],  # 5-P4/16\n",
            "   [-1, 9, C3, [512]],\n",
            "   [-1, 1, Conv, [1024, 3, 2]],  # 7-P5/32\n",
            "   [-1, 1, SPP, [1024, [5, 9, 13]]],\n",
            "   [-1, 3, C3, [1024, False]],  # 9\n",
            "  ]\n",
            "\n",
            "# YOLOv5 head\n",
            "head:\n",
            "  [[-1, 1, Conv, [512, 1, 1]],\n",
            "   [-1, 1, nn.Upsample, [None, 2, 'nearest']],\n",
            "   [[-1, 6], 1, Concat, [1]],  # cat backbone P4\n",
            "   [-1, 3, C3, [512, False]],  # 13\n",
            "\n",
            "   [-1, 1, Conv, [256, 1, 1]],\n",
            "   [-1, 1, nn.Upsample, [None, 2, 'nearest']],\n",
            "   [[-1, 4], 1, Concat, [1]],  # cat backbone P3\n",
            "   [-1, 3, C3, [256, False]],  # 17 (P3/8-small)\n",
            "\n",
            "   [-1, 1, Conv, [256, 3, 2]],\n",
            "   [[-1, 14], 1, Concat, [1]],  # cat head P4\n",
            "   [-1, 3, C3, [512, False]],  # 20 (P4/16-medium)\n",
            "\n",
            "   [-1, 1, Conv, [512, 3, 2]],\n",
            "   [[-1, 10], 1, Concat, [1]],  # cat head P5\n",
            "   [-1, 3, C3, [1024, False]],  # 23 (P5/32-large)\n",
            "\n",
            "   [[17, 20, 23], 1, Detect, [nc, anchors]],  # Detect(P3, P4, P5)\n",
            "  ]\n"
          ],
          "name": "stdout"
        }
      ]
    },
    {
      "cell_type": "code",
      "metadata": {
        "id": "t14hhyqdmw6O"
      },
      "source": [
        "#customize iPython writefile so we can write variables\n",
        "from IPython.core.magic import register_line_cell_magic\n",
        "\n",
        "@register_line_cell_magic\n",
        "def writetemplate(line, cell):\n",
        "    with open(line, 'w') as f:\n",
        "        f.write(cell.format(**globals()))"
      ],
      "execution_count": 17,
      "outputs": []
    },
    {
      "cell_type": "code",
      "metadata": {
        "id": "uDxebz13RdRA"
      },
      "source": [
        "%%writetemplate /content/yolov5/models/custom_yolov5s.yaml\n",
        "\n",
        "# parameters\n",
        "nc: {num_classes}  # number of classes\n",
        "depth_multiple: 0.33  # model depth multiple\n",
        "width_multiple: 0.50  # layer channel multiple\n",
        "\n",
        "# anchors\n",
        "anchors:\n",
        "  - [10,13, 16,30, 33,23]  # P3/8\n",
        "  - [30,61, 62,45, 59,119]  # P4/16\n",
        "  - [116,90, 156,198, 373,326]  # P5/32\n",
        "\n",
        "# YOLOv5 backbone\n",
        "backbone:\n",
        "  # [from, number, module, args]\n",
        "  [[-1, 1, Focus, [64, 3]],  # 0-P1/2\n",
        "   [-1, 1, Conv, [128, 3, 2]],  # 1-P2/4\n",
        "   [-1, 3, BottleneckCSP, [128]],\n",
        "   [-1, 1, Conv, [256, 3, 2]],  # 3-P3/8\n",
        "   [-1, 9, BottleneckCSP, [256]],\n",
        "   [-1, 1, Conv, [512, 3, 2]],  # 5-P4/16\n",
        "   [-1, 9, BottleneckCSP, [512]],\n",
        "   [-1, 1, Conv, [1024, 3, 2]],  # 7-P5/32\n",
        "   [-1, 1, SPP, [1024, [5, 9, 13]]],\n",
        "   [-1, 3, BottleneckCSP, [1024, False]],  # 9\n",
        "  ]\n",
        "\n",
        "# YOLOv5 head\n",
        "head:\n",
        "  [[-1, 1, Conv, [512, 1, 1]],\n",
        "   [-1, 1, nn.Upsample, [None, 2, 'nearest']],\n",
        "   [[-1, 6], 1, Concat, [1]],  # cat backbone P4\n",
        "   [-1, 3, BottleneckCSP, [512, False]],  # 13\n",
        "\n",
        "   [-1, 1, Conv, [256, 1, 1]],\n",
        "   [-1, 1, nn.Upsample, [None, 2, 'nearest']],\n",
        "   [[-1, 4], 1, Concat, [1]],  # cat backbone P3\n",
        "   [-1, 3, BottleneckCSP, [256, False]],  # 17 (P3/8-small)\n",
        "\n",
        "   [-1, 1, Conv, [256, 3, 2]],\n",
        "   [[-1, 14], 1, Concat, [1]],  # cat head P4\n",
        "   [-1, 3, BottleneckCSP, [512, False]],  # 20 (P4/16-medium)\n",
        "\n",
        "   [-1, 1, Conv, [512, 3, 2]],\n",
        "   [[-1, 10], 1, Concat, [1]],  # cat head P5\n",
        "   [-1, 3, BottleneckCSP, [1024, False]],  # 23 (P5/32-large)\n",
        "\n",
        "   [[17, 20, 23], 1, Detect, [nc, anchors]],  # Detect(P3, P4, P5)\n",
        "  ]"
      ],
      "execution_count": 18,
      "outputs": []
    },
    {
      "cell_type": "markdown",
      "metadata": {
        "id": "VUOiNLtMP5aG"
      },
      "source": [
        "# Train Custom YOLOv5 Detector\n",
        "\n",
        "### Next, we'll fire off training!\n",
        "\n",
        "\n",
        "Here, we are able to pass a number of arguments:\n",
        "- **img:** define input image size\n",
        "- **batch:** determine batch size\n",
        "- **epochs:** define the number of training epochs. (Note: often, 3000+ are common here!)\n",
        "- **data:** set the path to our yaml file\n",
        "- **cfg:** specify our model configuration\n",
        "- **weights:** specify a custom path to weights. (Note: you can download weights from the Ultralytics Google Drive [folder](https://drive.google.com/open?id=1Drs_Aiu7xx6S-ix95f9kNsA6ueKRpN2J))\n",
        "- **name:** result names\n",
        "- **nosave:** only save the final checkpoint\n",
        "- **cache:** cache images for faster training"
      ]
    },
    {
      "cell_type": "code",
      "metadata": {
        "id": "1NcFxRcFdJ_O",
        "colab": {
          "base_uri": "https://localhost:8080/"
        },
        "outputId": "1d00cadc-9499-4658-9652-ff9c0cd0a57d"
      },
      "source": [
        "# train yolov5s on custom data for 100 epochs\n",
        "# time its performance\n",
        "%%time\n",
        "%cd /content/yolov5/\n",
        "!python train.py --img 416 --batch 16 --epochs 100 --data '../data.yaml' --cfg ./models/custom_yolov5s.yaml --weights '' --name yolov5s_results  --cache"
      ],
      "execution_count": 19,
      "outputs": [
        {
          "output_type": "stream",
          "text": [
            "/content/yolov5\n",
            "\u001b[34m\u001b[1mgithub: \u001b[0m⚠️ WARNING: code is out of date by 186 commits. Use 'git pull' to update or 'git clone https://github.com/ultralytics/yolov5' to download latest.\n",
            "YOLOv5 v4.0-126-g886f1c0 torch 1.8.1+cu101 CUDA:0 (Tesla T4, 15109.75MB)\n",
            "\n",
            "Namespace(adam=False, batch_size=16, bucket='', cache_images=True, cfg='./models/custom_yolov5s.yaml', data='../data.yaml', device='', entity=None, epochs=100, evolve=False, exist_ok=False, global_rank=-1, hyp='data/hyp.scratch.yaml', image_weights=False, img_size=[416, 416], linear_lr=False, local_rank=-1, log_artifacts=False, log_imgs=16, multi_scale=False, name='yolov5s_results', noautoanchor=False, nosave=False, notest=False, project='runs/train', quad=False, rect=False, resume=False, save_dir='runs/train/yolov5s_results2', single_cls=False, sync_bn=False, total_batch_size=16, weights='', workers=8, world_size=1)\n",
            "\u001b[34m\u001b[1mwandb: \u001b[0mInstall Weights & Biases for YOLOv5 logging with 'pip install wandb' (recommended)\n",
            "Start Tensorboard with \"tensorboard --logdir runs/train\", view at http://localhost:6006/\n",
            "2021-05-26 02:55:38.763208: I tensorflow/stream_executor/platform/default/dso_loader.cc:53] Successfully opened dynamic library libcudart.so.11.0\n",
            "\u001b[34m\u001b[1mhyperparameters: \u001b[0mlr0=0.01, lrf=0.2, momentum=0.937, weight_decay=0.0005, warmup_epochs=3.0, warmup_momentum=0.8, warmup_bias_lr=0.1, box=0.05, cls=0.5, cls_pw=1.0, obj=1.0, obj_pw=1.0, iou_t=0.2, anchor_t=4.0, fl_gamma=0.0, hsv_h=0.015, hsv_s=0.7, hsv_v=0.4, degrees=0.0, translate=0.1, scale=0.5, shear=0.0, perspective=0.0, flipud=0.0, fliplr=0.5, mosaic=1.0, mixup=0.0\n",
            "\n",
            "                 from  n    params  module                                  arguments                     \n",
            "  0                -1  1      3520  models.common.Focus                     [3, 32, 3]                    \n",
            "  1                -1  1     18560  models.common.Conv                      [32, 64, 3, 2]                \n",
            "  2                -1  1     19904  models.common.BottleneckCSP             [64, 64, 1]                   \n",
            "  3                -1  1     73984  models.common.Conv                      [64, 128, 3, 2]               \n",
            "  4                -1  1    161152  models.common.BottleneckCSP             [128, 128, 3]                 \n",
            "  5                -1  1    295424  models.common.Conv                      [128, 256, 3, 2]              \n",
            "  6                -1  1    641792  models.common.BottleneckCSP             [256, 256, 3]                 \n",
            "  7                -1  1   1180672  models.common.Conv                      [256, 512, 3, 2]              \n",
            "  8                -1  1    656896  models.common.SPP                       [512, 512, [5, 9, 13]]        \n",
            "  9                -1  1   1248768  models.common.BottleneckCSP             [512, 512, 1, False]          \n",
            " 10                -1  1    131584  models.common.Conv                      [512, 256, 1, 1]              \n",
            " 11                -1  1         0  torch.nn.modules.upsampling.Upsample    [None, 2, 'nearest']          \n",
            " 12           [-1, 6]  1         0  models.common.Concat                    [1]                           \n",
            " 13                -1  1    378624  models.common.BottleneckCSP             [512, 256, 1, False]          \n",
            " 14                -1  1     33024  models.common.Conv                      [256, 128, 1, 1]              \n",
            " 15                -1  1         0  torch.nn.modules.upsampling.Upsample    [None, 2, 'nearest']          \n",
            " 16           [-1, 4]  1         0  models.common.Concat                    [1]                           \n",
            " 17                -1  1     95104  models.common.BottleneckCSP             [256, 128, 1, False]          \n",
            " 18                -1  1    147712  models.common.Conv                      [128, 128, 3, 2]              \n",
            " 19          [-1, 14]  1         0  models.common.Concat                    [1]                           \n",
            " 20                -1  1    313088  models.common.BottleneckCSP             [256, 256, 1, False]          \n",
            " 21                -1  1    590336  models.common.Conv                      [256, 256, 3, 2]              \n",
            " 22          [-1, 10]  1         0  models.common.Concat                    [1]                           \n",
            " 23                -1  1   1248768  models.common.BottleneckCSP             [512, 512, 1, False]          \n",
            " 24      [17, 20, 23]  1     21576  models.yolo.Detect                      [3, [[10, 13, 16, 30, 33, 23], [30, 61, 62, 45, 59, 119], [116, 90, 156, 198, 373, 326]], [128, 256, 512]]\n",
            "Model Summary: 283 layers, 7260488 parameters, 7260488 gradients, 16.8 GFLOPS\n",
            "\n",
            "Scaled weight_decay = 0.0005\n",
            "Optimizer groups: 62 .bias, 70 conv.weight, 59 other\n",
            "\u001b[34m\u001b[1mtrain: \u001b[0mScanning '../train/labels' for images and labels... 765 found, 0 missing, 0 empty, 0 corrupted: 100% 765/765 [00:00<00:00, 2829.15it/s]\n",
            "\u001b[34m\u001b[1mtrain: \u001b[0mNew cache created: ../train/labels.cache\n",
            "\u001b[34m\u001b[1mtrain: \u001b[0mCaching images (0.4GB): 100% 765/765 [00:01<00:00, 591.21it/s]\n",
            "\u001b[34m\u001b[1mval: \u001b[0mScanning '../valid/labels' for images and labels... 73 found, 0 missing, 0 empty, 0 corrupted: 100% 73/73 [00:00<00:00, 2010.16it/s]\n",
            "\u001b[34m\u001b[1mval: \u001b[0mNew cache created: ../valid/labels.cache\n",
            "\u001b[34m\u001b[1mval: \u001b[0mCaching images (0.0GB): 100% 73/73 [00:00<00:00, 658.36it/s]\n",
            "Plotting labels... \n",
            "\n",
            "\u001b[34m\u001b[1mautoanchor: \u001b[0mAnalyzing anchors... anchors/target = 5.83, Best Possible Recall (BPR) = 0.9993\n",
            "Image sizes 416 train, 416 test\n",
            "Using 2 dataloader workers\n",
            "Logging results to runs/train/yolov5s_results2\n",
            "Starting training for 100 epochs...\n",
            "\n",
            "     Epoch   gpu_mem       box       obj       cls     total   targets  img_size\n",
            "      0/99     1.37G   0.09473    0.1562   0.03442    0.2853       219       416: 100% 48/48 [00:09<00:00,  5.33it/s]\n",
            "               Class      Images     Targets           P           R      mAP@.5  mAP@.5:.95: 100% 3/3 [00:01<00:00,  1.69it/s]\n",
            "                 all          73         967       0.353       0.322      0.0234     0.00514\n",
            "\n",
            "     Epoch   gpu_mem       box       obj       cls     total   targets  img_size\n",
            "      1/99     1.39G   0.08778    0.1592   0.02793    0.2749       285       416: 100% 48/48 [00:06<00:00,  6.89it/s]\n",
            "               Class      Images     Targets           P           R      mAP@.5  mAP@.5:.95: 100% 3/3 [00:02<00:00,  1.43it/s]\n",
            "                 all          73         967       0.354       0.319       0.025     0.00555\n",
            "\n",
            "     Epoch   gpu_mem       box       obj       cls     total   targets  img_size\n",
            "      2/99     1.39G    0.0858    0.1549   0.02416    0.2648       276       416: 100% 48/48 [00:06<00:00,  6.89it/s]\n",
            "               Class      Images     Targets           P           R      mAP@.5  mAP@.5:.95: 100% 3/3 [00:02<00:00,  1.07it/s]\n",
            "                 all          73         967      0.0238       0.289      0.0243     0.00505\n",
            "\n",
            "     Epoch   gpu_mem       box       obj       cls     total   targets  img_size\n",
            "      3/99     1.39G   0.08501    0.1608   0.02128    0.2671       187       416: 100% 48/48 [00:06<00:00,  7.16it/s]\n",
            "               Class      Images     Targets           P           R      mAP@.5  mAP@.5:.95: 100% 3/3 [00:02<00:00,  1.00it/s]\n",
            "                 all          73         967      0.0602        0.42       0.044     0.00872\n",
            "\n",
            "     Epoch   gpu_mem       box       obj       cls     total   targets  img_size\n",
            "      4/99     1.39G   0.08371    0.1616   0.01917    0.2645       236       416: 100% 48/48 [00:06<00:00,  7.32it/s]\n",
            "               Class      Images     Targets           P           R      mAP@.5  mAP@.5:.95: 100% 3/3 [00:02<00:00,  1.04it/s]\n",
            "                 all          73         967      0.0625       0.451      0.0555      0.0103\n",
            "\n",
            "     Epoch   gpu_mem       box       obj       cls     total   targets  img_size\n",
            "      5/99     1.39G   0.08271    0.1621   0.01767    0.2625       254       416: 100% 48/48 [00:06<00:00,  7.32it/s]\n",
            "               Class      Images     Targets           P           R      mAP@.5  mAP@.5:.95: 100% 3/3 [00:02<00:00,  1.06it/s]\n",
            "                 all          73         967       0.095       0.371      0.0725      0.0129\n",
            "\n",
            "     Epoch   gpu_mem       box       obj       cls     total   targets  img_size\n",
            "      6/99     1.39G   0.08088    0.1612   0.01621    0.2583       262       416: 100% 48/48 [00:06<00:00,  7.29it/s]\n",
            "               Class      Images     Targets           P           R      mAP@.5  mAP@.5:.95: 100% 3/3 [00:01<00:00,  1.91it/s]\n",
            "                 all          73         967        0.16       0.299       0.128      0.0249\n",
            "\n",
            "     Epoch   gpu_mem       box       obj       cls     total   targets  img_size\n",
            "      7/99     1.39G   0.07709    0.1596   0.01411    0.2508       254       416: 100% 48/48 [00:06<00:00,  7.18it/s]\n",
            "               Class      Images     Targets           P           R      mAP@.5  mAP@.5:.95: 100% 3/3 [00:01<00:00,  2.18it/s]\n",
            "                 all          73         967       0.489       0.137      0.0791      0.0159\n",
            "\n",
            "     Epoch   gpu_mem       box       obj       cls     total   targets  img_size\n",
            "      8/99     1.39G   0.07256    0.1536   0.01171    0.2379       265       416: 100% 48/48 [00:06<00:00,  7.34it/s]\n",
            "               Class      Images     Targets           P           R      mAP@.5  mAP@.5:.95: 100% 3/3 [00:01<00:00,  2.18it/s]\n",
            "                 all          73         967       0.783       0.167       0.111      0.0208\n",
            "\n",
            "     Epoch   gpu_mem       box       obj       cls     total   targets  img_size\n",
            "      9/99     1.39G   0.06961    0.1542   0.01009    0.2339       285       416: 100% 48/48 [00:06<00:00,  7.41it/s]\n",
            "               Class      Images     Targets           P           R      mAP@.5  mAP@.5:.95: 100% 3/3 [00:02<00:00,  1.48it/s]\n",
            "                 all          73         967       0.805       0.216       0.154      0.0434\n",
            "\n",
            "     Epoch   gpu_mem       box       obj       cls     total   targets  img_size\n",
            "     10/99     1.39G   0.06554    0.1511  0.008525    0.2252       296       416: 100% 48/48 [00:06<00:00,  7.38it/s]\n",
            "               Class      Images     Targets           P           R      mAP@.5  mAP@.5:.95: 100% 3/3 [00:01<00:00,  1.96it/s]\n",
            "                 all          73         967       0.251       0.694       0.382      0.0907\n",
            "\n",
            "     Epoch   gpu_mem       box       obj       cls     total   targets  img_size\n",
            "     11/99     1.39G   0.06137    0.1476  0.006992     0.216       269       416: 100% 48/48 [00:06<00:00,  7.49it/s]\n",
            "               Class      Images     Targets           P           R      mAP@.5  mAP@.5:.95: 100% 3/3 [00:01<00:00,  2.07it/s]\n",
            "                 all          73         967       0.272       0.533       0.235      0.0554\n",
            "\n",
            "     Epoch   gpu_mem       box       obj       cls     total   targets  img_size\n",
            "     12/99     1.39G   0.05877    0.1392  0.006181    0.2041       271       416: 100% 48/48 [00:06<00:00,  7.50it/s]\n",
            "               Class      Images     Targets           P           R      mAP@.5  mAP@.5:.95: 100% 3/3 [00:01<00:00,  2.72it/s]\n",
            "                 all          73         967       0.511       0.676       0.575       0.202\n",
            "\n",
            "     Epoch   gpu_mem       box       obj       cls     total   targets  img_size\n",
            "     13/99     1.39G   0.05764    0.1341  0.005455    0.1971       323       416: 100% 48/48 [00:06<00:00,  7.43it/s]\n",
            "               Class      Images     Targets           P           R      mAP@.5  mAP@.5:.95: 100% 3/3 [00:03<00:00,  1.23s/it]\n",
            "                 all          73         967        0.85       0.176       0.189       0.043\n",
            "\n",
            "     Epoch   gpu_mem       box       obj       cls     total   targets  img_size\n",
            "     14/99     1.39G   0.05567    0.1391  0.005013    0.1998       314       416: 100% 48/48 [00:06<00:00,  7.53it/s]\n",
            "               Class      Images     Targets           P           R      mAP@.5  mAP@.5:.95: 100% 3/3 [00:01<00:00,  2.66it/s]\n",
            "                 all          73         967        0.42       0.531       0.396       0.125\n",
            "\n",
            "     Epoch   gpu_mem       box       obj       cls     total   targets  img_size\n",
            "     15/99     1.39G   0.05365    0.1339  0.004408    0.1919       370       416: 100% 48/48 [00:06<00:00,  7.57it/s]\n",
            "               Class      Images     Targets           P           R      mAP@.5  mAP@.5:.95: 100% 3/3 [00:00<00:00,  4.10it/s]\n",
            "                 all          73         967       0.473       0.525       0.489       0.164\n",
            "\n",
            "     Epoch   gpu_mem       box       obj       cls     total   targets  img_size\n",
            "     16/99     1.39G   0.05247    0.1306  0.003952    0.1871       284       416: 100% 48/48 [00:06<00:00,  7.55it/s]\n",
            "               Class      Images     Targets           P           R      mAP@.5  mAP@.5:.95: 100% 3/3 [00:00<00:00,  3.76it/s]\n",
            "                 all          73         967        0.64       0.757       0.697       0.293\n",
            "\n",
            "     Epoch   gpu_mem       box       obj       cls     total   targets  img_size\n",
            "     17/99     1.39G   0.05277    0.1293  0.003934     0.186       255       416: 100% 48/48 [00:06<00:00,  7.56it/s]\n",
            "               Class      Images     Targets           P           R      mAP@.5  mAP@.5:.95: 100% 3/3 [00:00<00:00,  3.74it/s]\n",
            "                 all          73         967       0.625       0.754       0.709       0.235\n",
            "\n",
            "     Epoch   gpu_mem       box       obj       cls     total   targets  img_size\n",
            "     18/99     1.39G   0.05445    0.1352  0.004189    0.1938       265       416: 100% 48/48 [00:06<00:00,  7.61it/s]\n",
            "               Class      Images     Targets           P           R      mAP@.5  mAP@.5:.95: 100% 3/3 [00:00<00:00,  3.37it/s]\n",
            "                 all          73         967       0.604       0.817       0.714       0.304\n",
            "\n",
            "     Epoch   gpu_mem       box       obj       cls     total   targets  img_size\n",
            "     19/99     1.39G   0.05111    0.1297  0.003526    0.1843       347       416: 100% 48/48 [00:06<00:00,  7.51it/s]\n",
            "               Class      Images     Targets           P           R      mAP@.5  mAP@.5:.95: 100% 3/3 [00:00<00:00,  3.33it/s]\n",
            "                 all          73         967       0.617       0.782       0.764       0.375\n",
            "\n",
            "     Epoch   gpu_mem       box       obj       cls     total   targets  img_size\n",
            "     20/99     1.39G   0.04855     0.133  0.003335    0.1849       266       416: 100% 48/48 [00:06<00:00,  7.44it/s]\n",
            "               Class      Images     Targets           P           R      mAP@.5  mAP@.5:.95: 100% 3/3 [00:00<00:00,  4.13it/s]\n",
            "                 all          73         967       0.542       0.877       0.755       0.344\n",
            "\n",
            "     Epoch   gpu_mem       box       obj       cls     total   targets  img_size\n",
            "     21/99     1.39G   0.04792    0.1277  0.003133    0.1788       228       416: 100% 48/48 [00:06<00:00,  7.57it/s]\n",
            "               Class      Images     Targets           P           R      mAP@.5  mAP@.5:.95: 100% 3/3 [00:00<00:00,  3.95it/s]\n",
            "                 all          73         967       0.634       0.821       0.759       0.348\n",
            "\n",
            "     Epoch   gpu_mem       box       obj       cls     total   targets  img_size\n",
            "     22/99     1.39G   0.04582     0.126  0.003105     0.175       356       416: 100% 48/48 [00:06<00:00,  7.58it/s]\n",
            "               Class      Images     Targets           P           R      mAP@.5  mAP@.5:.95: 100% 3/3 [00:00<00:00,  4.15it/s]\n",
            "                 all          73         967       0.718       0.873       0.804       0.368\n",
            "\n",
            "     Epoch   gpu_mem       box       obj       cls     total   targets  img_size\n",
            "     23/99     1.39G   0.04444    0.1272  0.002738    0.1744       245       416: 100% 48/48 [00:06<00:00,  7.56it/s]\n",
            "               Class      Images     Targets           P           R      mAP@.5  mAP@.5:.95: 100% 3/3 [00:00<00:00,  4.03it/s]\n",
            "                 all          73         967        0.61       0.696        0.65       0.298\n",
            "\n",
            "     Epoch   gpu_mem       box       obj       cls     total   targets  img_size\n",
            "     24/99     1.39G   0.04416     0.131  0.002599    0.1777       249       416: 100% 48/48 [00:06<00:00,  7.61it/s]\n",
            "               Class      Images     Targets           P           R      mAP@.5  mAP@.5:.95: 100% 3/3 [00:00<00:00,  4.32it/s]\n",
            "                 all          73         967       0.797       0.852       0.875       0.485\n",
            "\n",
            "     Epoch   gpu_mem       box       obj       cls     total   targets  img_size\n",
            "     25/99     1.39G   0.04347    0.1269  0.002495    0.1729       274       416: 100% 48/48 [00:06<00:00,  7.46it/s]\n",
            "               Class      Images     Targets           P           R      mAP@.5  mAP@.5:.95: 100% 3/3 [00:00<00:00,  4.35it/s]\n",
            "                 all          73         967        0.76       0.892       0.865       0.439\n",
            "\n",
            "     Epoch   gpu_mem       box       obj       cls     total   targets  img_size\n",
            "     26/99     1.39G   0.04271     0.128  0.002431    0.1732       304       416: 100% 48/48 [00:06<00:00,  7.55it/s]\n",
            "               Class      Images     Targets           P           R      mAP@.5  mAP@.5:.95: 100% 3/3 [00:00<00:00,  4.36it/s]\n",
            "                 all          73         967       0.806       0.873       0.889       0.455\n",
            "\n",
            "     Epoch   gpu_mem       box       obj       cls     total   targets  img_size\n",
            "     27/99     1.39G   0.04224    0.1271   0.00222    0.1716       337       416: 100% 48/48 [00:06<00:00,  7.50it/s]\n",
            "               Class      Images     Targets           P           R      mAP@.5  mAP@.5:.95: 100% 3/3 [00:00<00:00,  4.51it/s]\n",
            "                 all          73         967       0.775       0.941        0.89       0.484\n",
            "\n",
            "     Epoch   gpu_mem       box       obj       cls     total   targets  img_size\n",
            "     28/99     1.39G   0.04152    0.1257  0.002266    0.1695       334       416: 100% 48/48 [00:06<00:00,  7.49it/s]\n",
            "               Class      Images     Targets           P           R      mAP@.5  mAP@.5:.95: 100% 3/3 [00:00<00:00,  4.39it/s]\n",
            "                 all          73         967       0.851         0.9       0.901       0.525\n",
            "\n",
            "     Epoch   gpu_mem       box       obj       cls     total   targets  img_size\n",
            "     29/99     1.39G   0.04178    0.1258  0.002099    0.1697       299       416: 100% 48/48 [00:06<00:00,  7.52it/s]\n",
            "               Class      Images     Targets           P           R      mAP@.5  mAP@.5:.95: 100% 3/3 [00:00<00:00,  4.42it/s]\n",
            "                 all          73         967       0.761        0.92       0.871       0.388\n",
            "\n",
            "     Epoch   gpu_mem       box       obj       cls     total   targets  img_size\n",
            "     30/99     1.39G   0.04077    0.1246  0.002025    0.1674       279       416: 100% 48/48 [00:06<00:00,  7.56it/s]\n",
            "               Class      Images     Targets           P           R      mAP@.5  mAP@.5:.95: 100% 3/3 [00:00<00:00,  4.46it/s]\n",
            "                 all          73         967       0.784       0.872       0.873       0.478\n",
            "\n",
            "     Epoch   gpu_mem       box       obj       cls     total   targets  img_size\n",
            "     31/99     1.39G    0.0412    0.1241  0.001915    0.1672       243       416: 100% 48/48 [00:06<00:00,  7.54it/s]\n",
            "               Class      Images     Targets           P           R      mAP@.5  mAP@.5:.95: 100% 3/3 [00:00<00:00,  4.32it/s]\n",
            "                 all          73         967       0.845       0.908       0.912        0.52\n",
            "\n",
            "     Epoch   gpu_mem       box       obj       cls     total   targets  img_size\n",
            "     32/99     1.39G   0.03967    0.1209  0.001925    0.1625       275       416: 100% 48/48 [00:06<00:00,  7.54it/s]\n",
            "               Class      Images     Targets           P           R      mAP@.5  mAP@.5:.95: 100% 3/3 [00:00<00:00,  4.46it/s]\n",
            "                 all          73         967       0.775       0.894       0.908       0.478\n",
            "\n",
            "     Epoch   gpu_mem       box       obj       cls     total   targets  img_size\n",
            "     33/99     1.39G    0.0383    0.1259  0.001816     0.166       264       416: 100% 48/48 [00:06<00:00,  7.48it/s]\n",
            "               Class      Images     Targets           P           R      mAP@.5  mAP@.5:.95: 100% 3/3 [00:00<00:00,  4.42it/s]\n",
            "                 all          73         967       0.815       0.858       0.899        0.52\n",
            "\n",
            "     Epoch   gpu_mem       box       obj       cls     total   targets  img_size\n",
            "     34/99     1.39G   0.03903    0.1239  0.001706    0.1647       273       416: 100% 48/48 [00:06<00:00,  7.55it/s]\n",
            "               Class      Images     Targets           P           R      mAP@.5  mAP@.5:.95: 100% 3/3 [00:00<00:00,  4.46it/s]\n",
            "                 all          73         967       0.841       0.917       0.911       0.531\n",
            "\n",
            "     Epoch   gpu_mem       box       obj       cls     total   targets  img_size\n",
            "     35/99     1.39G   0.03792      0.12  0.001686    0.1596       184       416: 100% 48/48 [00:06<00:00,  7.53it/s]\n",
            "               Class      Images     Targets           P           R      mAP@.5  mAP@.5:.95: 100% 3/3 [00:00<00:00,  4.53it/s]\n",
            "                 all          73         967        0.83       0.909        0.91       0.549\n",
            "\n",
            "     Epoch   gpu_mem       box       obj       cls     total   targets  img_size\n",
            "     36/99     1.39G     0.038    0.1229  0.001689    0.1626       257       416: 100% 48/48 [00:06<00:00,  7.52it/s]\n",
            "               Class      Images     Targets           P           R      mAP@.5  mAP@.5:.95: 100% 3/3 [00:00<00:00,  4.55it/s]\n",
            "                 all          73         967       0.834       0.894       0.901       0.529\n",
            "\n",
            "     Epoch   gpu_mem       box       obj       cls     total   targets  img_size\n",
            "     37/99     1.39G   0.03705    0.1184  0.001605    0.1571       237       416: 100% 48/48 [00:06<00:00,  7.52it/s]\n",
            "               Class      Images     Targets           P           R      mAP@.5  mAP@.5:.95: 100% 3/3 [00:00<00:00,  4.48it/s]\n",
            "                 all          73         967       0.847        0.88       0.909       0.556\n",
            "\n",
            "     Epoch   gpu_mem       box       obj       cls     total   targets  img_size\n",
            "     38/99     1.39G   0.03804    0.1245   0.00152     0.164       289       416: 100% 48/48 [00:06<00:00,  7.52it/s]\n",
            "               Class      Images     Targets           P           R      mAP@.5  mAP@.5:.95: 100% 3/3 [00:00<00:00,  4.53it/s]\n",
            "                 all          73         967       0.826       0.925       0.909        0.56\n",
            "\n",
            "     Epoch   gpu_mem       box       obj       cls     total   targets  img_size\n",
            "     39/99     1.39G   0.03747     0.122  0.001631    0.1611       260       416: 100% 48/48 [00:06<00:00,  7.49it/s]\n",
            "               Class      Images     Targets           P           R      mAP@.5  mAP@.5:.95: 100% 3/3 [00:00<00:00,  4.44it/s]\n",
            "                 all          73         967       0.846       0.913       0.903       0.555\n",
            "\n",
            "     Epoch   gpu_mem       box       obj       cls     total   targets  img_size\n",
            "     40/99     1.39G    0.0369    0.1233   0.00148    0.1617       234       416: 100% 48/48 [00:06<00:00,  7.53it/s]\n",
            "               Class      Images     Targets           P           R      mAP@.5  mAP@.5:.95: 100% 3/3 [00:00<00:00,  4.59it/s]\n",
            "                 all          73         967       0.839       0.918        0.91       0.539\n",
            "\n",
            "     Epoch   gpu_mem       box       obj       cls     total   targets  img_size\n",
            "     41/99     1.39G   0.03701    0.1209  0.001445    0.1593       226       416: 100% 48/48 [00:06<00:00,  7.62it/s]\n",
            "               Class      Images     Targets           P           R      mAP@.5  mAP@.5:.95: 100% 3/3 [00:00<00:00,  4.52it/s]\n",
            "                 all          73         967       0.831       0.918       0.906       0.536\n",
            "\n",
            "     Epoch   gpu_mem       box       obj       cls     total   targets  img_size\n",
            "     42/99     1.39G   0.03635     0.121  0.001389    0.1588       337       416: 100% 48/48 [00:06<00:00,  7.46it/s]\n",
            "               Class      Images     Targets           P           R      mAP@.5  mAP@.5:.95: 100% 3/3 [00:00<00:00,  4.72it/s]\n",
            "                 all          73         967       0.835       0.917       0.905       0.544\n",
            "\n",
            "     Epoch   gpu_mem       box       obj       cls     total   targets  img_size\n",
            "     43/99     1.39G   0.03637    0.1174  0.001434    0.1552       321       416: 100% 48/48 [00:06<00:00,  7.48it/s]\n",
            "               Class      Images     Targets           P           R      mAP@.5  mAP@.5:.95: 100% 3/3 [00:00<00:00,  4.67it/s]\n",
            "                 all          73         967       0.851        0.92       0.915       0.551\n",
            "\n",
            "     Epoch   gpu_mem       box       obj       cls     total   targets  img_size\n",
            "     44/99     1.39G   0.03594    0.1193  0.001406    0.1566       278       416: 100% 48/48 [00:06<00:00,  7.52it/s]\n",
            "               Class      Images     Targets           P           R      mAP@.5  mAP@.5:.95: 100% 3/3 [00:00<00:00,  4.73it/s]\n",
            "                 all          73         967       0.821       0.923       0.903       0.576\n",
            "\n",
            "     Epoch   gpu_mem       box       obj       cls     total   targets  img_size\n",
            "     45/99     1.39G   0.03623     0.117  0.001322    0.1545       270       416: 100% 48/48 [00:06<00:00,  7.49it/s]\n",
            "               Class      Images     Targets           P           R      mAP@.5  mAP@.5:.95: 100% 3/3 [00:00<00:00,  4.79it/s]\n",
            "                 all          73         967       0.855        0.89        0.91       0.574\n",
            "\n",
            "     Epoch   gpu_mem       box       obj       cls     total   targets  img_size\n",
            "     46/99     1.39G   0.03597    0.1235   0.00134    0.1608       329       416: 100% 48/48 [00:06<00:00,  7.57it/s]\n",
            "               Class      Images     Targets           P           R      mAP@.5  mAP@.5:.95: 100% 3/3 [00:00<00:00,  4.65it/s]\n",
            "                 all          73         967       0.858       0.897       0.908       0.584\n",
            "\n",
            "     Epoch   gpu_mem       box       obj       cls     total   targets  img_size\n",
            "     47/99     1.39G   0.03561    0.1205  0.001352    0.1575       340       416: 100% 48/48 [00:06<00:00,  7.42it/s]\n",
            "               Class      Images     Targets           P           R      mAP@.5  mAP@.5:.95: 100% 3/3 [00:00<00:00,  4.64it/s]\n",
            "                 all          73         967       0.844       0.919        0.92       0.561\n",
            "\n",
            "     Epoch   gpu_mem       box       obj       cls     total   targets  img_size\n",
            "     48/99     1.39G   0.03569    0.1158   0.00132    0.1528       207       416: 100% 48/48 [00:06<00:00,  7.52it/s]\n",
            "               Class      Images     Targets           P           R      mAP@.5  mAP@.5:.95: 100% 3/3 [00:00<00:00,  4.88it/s]\n",
            "                 all          73         967       0.817       0.909       0.899       0.563\n",
            "\n",
            "     Epoch   gpu_mem       box       obj       cls     total   targets  img_size\n",
            "     49/99     1.39G   0.03494    0.1192  0.001335    0.1555       291       416: 100% 48/48 [00:06<00:00,  7.47it/s]\n",
            "               Class      Images     Targets           P           R      mAP@.5  mAP@.5:.95: 100% 3/3 [00:00<00:00,  4.65it/s]\n",
            "                 all          73         967       0.832       0.896       0.901       0.562\n",
            "\n",
            "     Epoch   gpu_mem       box       obj       cls     total   targets  img_size\n",
            "     50/99     1.39G   0.03472    0.1149  0.001265    0.1509       229       416: 100% 48/48 [00:06<00:00,  7.45it/s]\n",
            "               Class      Images     Targets           P           R      mAP@.5  mAP@.5:.95: 100% 3/3 [00:00<00:00,  4.58it/s]\n",
            "                 all          73         967       0.866       0.887        0.91       0.574\n",
            "\n",
            "     Epoch   gpu_mem       box       obj       cls     total   targets  img_size\n",
            "     51/99     1.39G   0.03541    0.1197  0.001269    0.1564       301       416: 100% 48/48 [00:06<00:00,  7.48it/s]\n",
            "               Class      Images     Targets           P           R      mAP@.5  mAP@.5:.95: 100% 3/3 [00:00<00:00,  4.60it/s]\n",
            "                 all          73         967       0.817       0.915         0.9       0.553\n",
            "\n",
            "     Epoch   gpu_mem       box       obj       cls     total   targets  img_size\n",
            "     52/99     1.39G   0.03471    0.1199  0.001284    0.1559       388       416: 100% 48/48 [00:06<00:00,  7.53it/s]\n",
            "               Class      Images     Targets           P           R      mAP@.5  mAP@.5:.95: 100% 3/3 [00:00<00:00,  4.73it/s]\n",
            "                 all          73         967       0.868       0.901       0.917       0.568\n",
            "\n",
            "     Epoch   gpu_mem       box       obj       cls     total   targets  img_size\n",
            "     53/99     1.39G   0.03541    0.1206  0.001277    0.1572       250       416: 100% 48/48 [00:06<00:00,  7.47it/s]\n",
            "               Class      Images     Targets           P           R      mAP@.5  mAP@.5:.95: 100% 3/3 [00:00<00:00,  4.65it/s]\n",
            "                 all          73         967       0.831       0.925       0.908       0.573\n",
            "\n",
            "     Epoch   gpu_mem       box       obj       cls     total   targets  img_size\n",
            "     54/99     1.39G   0.03496    0.1182  0.001188    0.1544       265       416: 100% 48/48 [00:06<00:00,  7.47it/s]\n",
            "               Class      Images     Targets           P           R      mAP@.5  mAP@.5:.95: 100% 3/3 [00:00<00:00,  4.75it/s]\n",
            "                 all          73         967       0.852       0.912       0.913       0.569\n",
            "\n",
            "     Epoch   gpu_mem       box       obj       cls     total   targets  img_size\n",
            "     55/99     1.39G   0.03402     0.116  0.001227    0.1513       283       416: 100% 48/48 [00:06<00:00,  7.46it/s]\n",
            "               Class      Images     Targets           P           R      mAP@.5  mAP@.5:.95: 100% 3/3 [00:00<00:00,  4.69it/s]\n",
            "                 all          73         967       0.819       0.907       0.901       0.565\n",
            "\n",
            "     Epoch   gpu_mem       box       obj       cls     total   targets  img_size\n",
            "     56/99     1.39G   0.03455    0.1202  0.001193    0.1559       264       416: 100% 48/48 [00:06<00:00,  7.54it/s]\n",
            "               Class      Images     Targets           P           R      mAP@.5  mAP@.5:.95: 100% 3/3 [00:00<00:00,  4.74it/s]\n",
            "                 all          73         967       0.875       0.889       0.917       0.594\n",
            "\n",
            "     Epoch   gpu_mem       box       obj       cls     total   targets  img_size\n",
            "     57/99     1.39G    0.0336    0.1134  0.001141    0.1481       253       416: 100% 48/48 [00:06<00:00,  7.36it/s]\n",
            "               Class      Images     Targets           P           R      mAP@.5  mAP@.5:.95: 100% 3/3 [00:00<00:00,  4.79it/s]\n",
            "                 all          73         967       0.852       0.912       0.913       0.591\n",
            "\n",
            "     Epoch   gpu_mem       box       obj       cls     total   targets  img_size\n",
            "     58/99     1.39G   0.03324    0.1165  0.001108    0.1509       351       416: 100% 48/48 [00:06<00:00,  7.51it/s]\n",
            "               Class      Images     Targets           P           R      mAP@.5  mAP@.5:.95: 100% 3/3 [00:00<00:00,  4.71it/s]\n",
            "                 all          73         967       0.878       0.878       0.913       0.588\n",
            "\n",
            "     Epoch   gpu_mem       box       obj       cls     total   targets  img_size\n",
            "     59/99     1.39G   0.03304    0.1167  0.001108    0.1508       291       416: 100% 48/48 [00:06<00:00,  7.53it/s]\n",
            "               Class      Images     Targets           P           R      mAP@.5  mAP@.5:.95: 100% 3/3 [00:00<00:00,  4.65it/s]\n",
            "                 all          73         967       0.827        0.91       0.916       0.571\n",
            "\n",
            "     Epoch   gpu_mem       box       obj       cls     total   targets  img_size\n",
            "     60/99     1.39G   0.03346    0.1163   0.00111    0.1508       241       416: 100% 48/48 [00:06<00:00,  7.43it/s]\n",
            "               Class      Images     Targets           P           R      mAP@.5  mAP@.5:.95: 100% 3/3 [00:00<00:00,  4.70it/s]\n",
            "                 all          73         967        0.83       0.942        0.92       0.587\n",
            "\n",
            "     Epoch   gpu_mem       box       obj       cls     total   targets  img_size\n",
            "     61/99     1.39G   0.03359    0.1158  0.001066    0.1505       213       416: 100% 48/48 [00:06<00:00,  7.48it/s]\n",
            "               Class      Images     Targets           P           R      mAP@.5  mAP@.5:.95: 100% 3/3 [00:00<00:00,  4.82it/s]\n",
            "                 all          73         967       0.818       0.942       0.916       0.588\n",
            "\n",
            "     Epoch   gpu_mem       box       obj       cls     total   targets  img_size\n",
            "     62/99     1.39G   0.03374    0.1177 0.0009995    0.1525       302       416: 100% 48/48 [00:06<00:00,  7.48it/s]\n",
            "               Class      Images     Targets           P           R      mAP@.5  mAP@.5:.95: 100% 3/3 [00:00<00:00,  4.80it/s]\n",
            "                 all          73         967       0.857       0.907       0.918       0.597\n",
            "\n",
            "     Epoch   gpu_mem       box       obj       cls     total   targets  img_size\n",
            "     63/99     1.39G   0.03317    0.1158  0.001076      0.15       242       416: 100% 48/48 [00:06<00:00,  7.40it/s]\n",
            "               Class      Images     Targets           P           R      mAP@.5  mAP@.5:.95: 100% 3/3 [00:00<00:00,  4.68it/s]\n",
            "                 all          73         967       0.833       0.909       0.916       0.608\n",
            "\n",
            "     Epoch   gpu_mem       box       obj       cls     total   targets  img_size\n",
            "     64/99     1.39G   0.03293    0.1127  0.000958    0.1466       306       416: 100% 48/48 [00:06<00:00,  7.45it/s]\n",
            "               Class      Images     Targets           P           R      mAP@.5  mAP@.5:.95: 100% 3/3 [00:00<00:00,  4.91it/s]\n",
            "                 all          73         967       0.836       0.909       0.914       0.591\n",
            "\n",
            "     Epoch   gpu_mem       box       obj       cls     total   targets  img_size\n",
            "     65/99     1.39G   0.03247     0.112 0.0009411    0.1455       234       416: 100% 48/48 [00:06<00:00,  7.49it/s]\n",
            "               Class      Images     Targets           P           R      mAP@.5  mAP@.5:.95: 100% 3/3 [00:00<00:00,  4.79it/s]\n",
            "                 all          73         967       0.849         0.9       0.911       0.587\n",
            "\n",
            "     Epoch   gpu_mem       box       obj       cls     total   targets  img_size\n",
            "     66/99     1.39G   0.03332    0.1159 0.0009451    0.1502       234       416: 100% 48/48 [00:06<00:00,  7.58it/s]\n",
            "               Class      Images     Targets           P           R      mAP@.5  mAP@.5:.95: 100% 3/3 [00:00<00:00,  4.70it/s]\n",
            "                 all          73         967       0.849       0.911       0.915       0.583\n",
            "\n",
            "     Epoch   gpu_mem       box       obj       cls     total   targets  img_size\n",
            "     67/99     1.39G    0.0329    0.1148 0.0009491    0.1486       283       416: 100% 48/48 [00:06<00:00,  7.51it/s]\n",
            "               Class      Images     Targets           P           R      mAP@.5  mAP@.5:.95: 100% 3/3 [00:00<00:00,  4.85it/s]\n",
            "                 all          73         967       0.822       0.931       0.915       0.585\n",
            "\n",
            "     Epoch   gpu_mem       box       obj       cls     total   targets  img_size\n",
            "     68/99     1.39G   0.03295    0.1146 0.0009734    0.1486       262       416: 100% 48/48 [00:06<00:00,  7.46it/s]\n",
            "               Class      Images     Targets           P           R      mAP@.5  mAP@.5:.95: 100% 3/3 [00:00<00:00,  4.79it/s]\n",
            "                 all          73         967       0.838        0.93        0.92       0.605\n",
            "\n",
            "     Epoch   gpu_mem       box       obj       cls     total   targets  img_size\n",
            "     69/99     1.39G   0.03284    0.1152 0.0009467     0.149       307       416: 100% 48/48 [00:06<00:00,  7.41it/s]\n",
            "               Class      Images     Targets           P           R      mAP@.5  mAP@.5:.95: 100% 3/3 [00:00<00:00,  4.76it/s]\n",
            "                 all          73         967       0.839       0.926       0.925       0.609\n",
            "\n",
            "     Epoch   gpu_mem       box       obj       cls     total   targets  img_size\n",
            "     70/99     1.39G   0.03259    0.1148 0.0009339    0.1484       308       416: 100% 48/48 [00:06<00:00,  7.46it/s]\n",
            "               Class      Images     Targets           P           R      mAP@.5  mAP@.5:.95: 100% 3/3 [00:00<00:00,  4.60it/s]\n",
            "                 all          73         967       0.856       0.914        0.92       0.602\n",
            "\n",
            "     Epoch   gpu_mem       box       obj       cls     total   targets  img_size\n",
            "     71/99     1.39G   0.03252    0.1116 0.0009721    0.1451       286       416: 100% 48/48 [00:06<00:00,  7.45it/s]\n",
            "               Class      Images     Targets           P           R      mAP@.5  mAP@.5:.95: 100% 3/3 [00:00<00:00,  4.80it/s]\n",
            "                 all          73         967       0.829       0.934       0.915       0.599\n",
            "\n",
            "     Epoch   gpu_mem       box       obj       cls     total   targets  img_size\n",
            "     72/99     1.39G    0.0322    0.1114 0.0009501    0.1445       262       416: 100% 48/48 [00:06<00:00,  7.43it/s]\n",
            "               Class      Images     Targets           P           R      mAP@.5  mAP@.5:.95: 100% 3/3 [00:00<00:00,  5.12it/s]\n",
            "                 all          73         967       0.842       0.928       0.918       0.599\n",
            "\n",
            "     Epoch   gpu_mem       box       obj       cls     total   targets  img_size\n",
            "     73/99     1.39G   0.03189      0.11 0.0009346    0.1429       293       416: 100% 48/48 [00:06<00:00,  7.44it/s]\n",
            "               Class      Images     Targets           P           R      mAP@.5  mAP@.5:.95: 100% 3/3 [00:00<00:00,  4.80it/s]\n",
            "                 all          73         967       0.853       0.902        0.91        0.59\n",
            "\n",
            "     Epoch   gpu_mem       box       obj       cls     total   targets  img_size\n",
            "     74/99     1.39G   0.03203    0.1139 0.0009849    0.1469       283       416: 100% 48/48 [00:06<00:00,  7.54it/s]\n",
            "               Class      Images     Targets           P           R      mAP@.5  mAP@.5:.95: 100% 3/3 [00:00<00:00,  4.86it/s]\n",
            "                 all          73         967       0.848       0.916       0.915       0.604\n",
            "\n",
            "     Epoch   gpu_mem       box       obj       cls     total   targets  img_size\n",
            "     75/99     1.39G   0.03219    0.1137 0.0008606    0.1468       359       416: 100% 48/48 [00:06<00:00,  7.47it/s]\n",
            "               Class      Images     Targets           P           R      mAP@.5  mAP@.5:.95: 100% 3/3 [00:00<00:00,  4.85it/s]\n",
            "                 all          73         967       0.864       0.872       0.911       0.588\n",
            "\n",
            "     Epoch   gpu_mem       box       obj       cls     total   targets  img_size\n",
            "     76/99     1.39G   0.03227    0.1157 0.0009528    0.1489       388       416: 100% 48/48 [00:06<00:00,  7.44it/s]\n",
            "               Class      Images     Targets           P           R      mAP@.5  mAP@.5:.95: 100% 3/3 [00:00<00:00,  4.70it/s]\n",
            "                 all          73         967       0.836       0.908       0.911       0.585\n",
            "\n",
            "     Epoch   gpu_mem       box       obj       cls     total   targets  img_size\n",
            "     77/99     1.39G   0.03177     0.115 0.0008553    0.1476       384       416: 100% 48/48 [00:06<00:00,  7.45it/s]\n",
            "               Class      Images     Targets           P           R      mAP@.5  mAP@.5:.95: 100% 3/3 [00:00<00:00,  4.85it/s]\n",
            "                 all          73         967       0.853       0.893       0.913       0.605\n",
            "\n",
            "     Epoch   gpu_mem       box       obj       cls     total   targets  img_size\n",
            "     78/99     1.39G   0.03182    0.1149 0.0008552    0.1476       313       416: 100% 48/48 [00:06<00:00,  7.46it/s]\n",
            "               Class      Images     Targets           P           R      mAP@.5  mAP@.5:.95: 100% 3/3 [00:00<00:00,  5.08it/s]\n",
            "                 all          73         967       0.842       0.912       0.914       0.597\n",
            "\n",
            "     Epoch   gpu_mem       box       obj       cls     total   targets  img_size\n",
            "     79/99     1.39G   0.03225    0.1149 0.0009771    0.1482       316       416: 100% 48/48 [00:06<00:00,  7.37it/s]\n",
            "               Class      Images     Targets           P           R      mAP@.5  mAP@.5:.95: 100% 3/3 [00:00<00:00,  4.89it/s]\n",
            "                 all          73         967       0.853       0.905        0.91       0.602\n",
            "\n",
            "     Epoch   gpu_mem       box       obj       cls     total   targets  img_size\n",
            "     80/99     1.39G   0.03174    0.1111 0.0009276    0.1438       273       416: 100% 48/48 [00:06<00:00,  7.40it/s]\n",
            "               Class      Images     Targets           P           R      mAP@.5  mAP@.5:.95: 100% 3/3 [00:00<00:00,  4.77it/s]\n",
            "                 all          73         967        0.85       0.909       0.911       0.613\n",
            "\n",
            "     Epoch   gpu_mem       box       obj       cls     total   targets  img_size\n",
            "     81/99     1.39G   0.03172    0.1147 0.0008413    0.1473       326       416: 100% 48/48 [00:06<00:00,  7.36it/s]\n",
            "               Class      Images     Targets           P           R      mAP@.5  mAP@.5:.95: 100% 3/3 [00:00<00:00,  4.88it/s]\n",
            "                 all          73         967       0.854       0.896       0.913       0.603\n",
            "\n",
            "     Epoch   gpu_mem       box       obj       cls     total   targets  img_size\n",
            "     82/99     1.39G   0.03146    0.1117 0.0008757     0.144       258       416: 100% 48/48 [00:06<00:00,  7.34it/s]\n",
            "               Class      Images     Targets           P           R      mAP@.5  mAP@.5:.95: 100% 3/3 [00:00<00:00,  4.79it/s]\n",
            "                 all          73         967       0.847       0.922       0.914       0.604\n",
            "\n",
            "     Epoch   gpu_mem       box       obj       cls     total   targets  img_size\n",
            "     83/99     1.39G   0.03176    0.1113 0.0008653     0.144       316       416: 100% 48/48 [00:06<00:00,  7.36it/s]\n",
            "               Class      Images     Targets           P           R      mAP@.5  mAP@.5:.95: 100% 3/3 [00:00<00:00,  4.75it/s]\n",
            "                 all          73         967       0.834       0.928       0.916        0.59\n",
            "\n",
            "     Epoch   gpu_mem       box       obj       cls     total   targets  img_size\n",
            "     84/99     1.39G   0.03193    0.1115  0.000872    0.1443       321       416: 100% 48/48 [00:06<00:00,  7.45it/s]\n",
            "               Class      Images     Targets           P           R      mAP@.5  mAP@.5:.95: 100% 3/3 [00:00<00:00,  4.90it/s]\n",
            "                 all          73         967       0.857       0.904       0.915        0.61\n",
            "\n",
            "     Epoch   gpu_mem       box       obj       cls     total   targets  img_size\n",
            "     85/99     1.39G   0.03182    0.1133 0.0008397    0.1459       244       416: 100% 48/48 [00:06<00:00,  7.44it/s]\n",
            "               Class      Images     Targets           P           R      mAP@.5  mAP@.5:.95: 100% 3/3 [00:00<00:00,  5.01it/s]\n",
            "                 all          73         967       0.868       0.879       0.918       0.602\n",
            "\n",
            "     Epoch   gpu_mem       box       obj       cls     total   targets  img_size\n",
            "     86/99     1.39G   0.03124    0.1125 0.0008403    0.1446       341       416: 100% 48/48 [00:06<00:00,  7.39it/s]\n",
            "               Class      Images     Targets           P           R      mAP@.5  mAP@.5:.95: 100% 3/3 [00:00<00:00,  4.93it/s]\n",
            "                 all          73         967       0.857       0.905       0.924       0.616\n",
            "\n",
            "     Epoch   gpu_mem       box       obj       cls     total   targets  img_size\n",
            "     87/99     1.39G   0.03147    0.1107 0.0008018     0.143       272       416: 100% 48/48 [00:06<00:00,  7.35it/s]\n",
            "               Class      Images     Targets           P           R      mAP@.5  mAP@.5:.95: 100% 3/3 [00:00<00:00,  4.86it/s]\n",
            "                 all          73         967        0.82        0.93       0.917       0.611\n",
            "\n",
            "     Epoch   gpu_mem       box       obj       cls     total   targets  img_size\n",
            "     88/99     1.39G   0.03134    0.1107 0.0008168    0.1429       207       416: 100% 48/48 [00:06<00:00,  7.40it/s]\n",
            "               Class      Images     Targets           P           R      mAP@.5  mAP@.5:.95: 100% 3/3 [00:00<00:00,  4.96it/s]\n",
            "                 all          73         967       0.838       0.925       0.912        0.61\n",
            "\n",
            "     Epoch   gpu_mem       box       obj       cls     total   targets  img_size\n",
            "     89/99     1.39G   0.03168    0.1148 0.0008462    0.1473       264       416: 100% 48/48 [00:06<00:00,  7.35it/s]\n",
            "               Class      Images     Targets           P           R      mAP@.5  mAP@.5:.95: 100% 3/3 [00:00<00:00,  4.68it/s]\n",
            "                 all          73         967       0.865       0.887       0.918       0.602\n",
            "\n",
            "     Epoch   gpu_mem       box       obj       cls     total   targets  img_size\n",
            "     90/99     1.39G   0.03154    0.1137 0.0008027     0.146       312       416: 100% 48/48 [00:06<00:00,  7.37it/s]\n",
            "               Class      Images     Targets           P           R      mAP@.5  mAP@.5:.95: 100% 3/3 [00:00<00:00,  4.83it/s]\n",
            "                 all          73         967        0.86       0.895       0.912       0.601\n",
            "\n",
            "     Epoch   gpu_mem       box       obj       cls     total   targets  img_size\n",
            "     91/99     1.39G    0.0313    0.1094 0.0008999    0.1416       253       416: 100% 48/48 [00:06<00:00,  7.37it/s]\n",
            "               Class      Images     Targets           P           R      mAP@.5  mAP@.5:.95: 100% 3/3 [00:00<00:00,  4.69it/s]\n",
            "                 all          73         967       0.867       0.891       0.908       0.617\n",
            "\n",
            "     Epoch   gpu_mem       box       obj       cls     total   targets  img_size\n",
            "     92/99     1.39G   0.03085    0.1097 0.0007944    0.1413       269       416: 100% 48/48 [00:06<00:00,  7.23it/s]\n",
            "               Class      Images     Targets           P           R      mAP@.5  mAP@.5:.95: 100% 3/3 [00:00<00:00,  4.83it/s]\n",
            "                 all          73         967       0.849       0.908       0.904       0.598\n",
            "\n",
            "     Epoch   gpu_mem       box       obj       cls     total   targets  img_size\n",
            "     93/99     1.39G   0.03112    0.1086 0.0007877    0.1405       219       416: 100% 48/48 [00:06<00:00,  7.33it/s]\n",
            "               Class      Images     Targets           P           R      mAP@.5  mAP@.5:.95: 100% 3/3 [00:00<00:00,  4.99it/s]\n",
            "                 all          73         967        0.85       0.902       0.911       0.598\n",
            "\n",
            "     Epoch   gpu_mem       box       obj       cls     total   targets  img_size\n",
            "     94/99     1.39G   0.03098    0.1094 0.0008579    0.1412       231       416: 100% 48/48 [00:06<00:00,  7.45it/s]\n",
            "               Class      Images     Targets           P           R      mAP@.5  mAP@.5:.95: 100% 3/3 [00:00<00:00,  5.10it/s]\n",
            "                 all          73         967       0.836        0.92       0.915       0.601\n",
            "\n",
            "     Epoch   gpu_mem       box       obj       cls     total   targets  img_size\n",
            "     95/99     1.39G   0.03147    0.1114 0.0008092    0.1437       246       416: 100% 48/48 [00:06<00:00,  7.37it/s]\n",
            "               Class      Images     Targets           P           R      mAP@.5  mAP@.5:.95: 100% 3/3 [00:00<00:00,  4.90it/s]\n",
            "                 all          73         967        0.86       0.897       0.916       0.609\n",
            "\n",
            "     Epoch   gpu_mem       box       obj       cls     total   targets  img_size\n",
            "     96/99     1.39G   0.03086    0.1057 0.0008132    0.1374       274       416: 100% 48/48 [00:06<00:00,  7.35it/s]\n",
            "               Class      Images     Targets           P           R      mAP@.5  mAP@.5:.95: 100% 3/3 [00:00<00:00,  4.76it/s]\n",
            "                 all          73         967       0.845       0.899       0.909       0.602\n",
            "\n",
            "     Epoch   gpu_mem       box       obj       cls     total   targets  img_size\n",
            "     97/99     1.39G     0.031    0.1097 0.0008211    0.1415       312       416: 100% 48/48 [00:06<00:00,  7.39it/s]\n",
            "               Class      Images     Targets           P           R      mAP@.5  mAP@.5:.95: 100% 3/3 [00:00<00:00,  4.98it/s]\n",
            "                 all          73         967       0.832       0.933       0.915       0.613\n",
            "\n",
            "     Epoch   gpu_mem       box       obj       cls     total   targets  img_size\n",
            "     98/99     1.39G   0.03089    0.1109 0.0007429    0.1425       290       416: 100% 48/48 [00:06<00:00,  7.35it/s]\n",
            "               Class      Images     Targets           P           R      mAP@.5  mAP@.5:.95: 100% 3/3 [00:00<00:00,  4.73it/s]\n",
            "                 all          73         967        0.85       0.919       0.916        0.61\n",
            "\n",
            "     Epoch   gpu_mem       box       obj       cls     total   targets  img_size\n",
            "     99/99     1.39G   0.03118    0.1082  0.000765    0.1402       291       416: 100% 48/48 [00:06<00:00,  7.42it/s]\n",
            "               Class      Images     Targets           P           R      mAP@.5  mAP@.5:.95: 100% 3/3 [00:01<00:00,  1.69it/s]\n",
            "                 all          73         967       0.829       0.917       0.907        0.61\n",
            "           Platelets          73          76       0.739       0.947       0.878       0.469\n",
            "                 RBC          73         819       0.783       0.804        0.87       0.596\n",
            "                 WBC          73          72       0.964           1       0.972       0.766\n",
            "Optimizer stripped from runs/train/yolov5s_results2/weights/last.pt, 14.8MB\n",
            "Optimizer stripped from runs/train/yolov5s_results2/weights/best.pt, 14.8MB\n",
            "100 epochs completed in 0.216 hours.\n",
            "\n",
            "CPU times: user 9.67 s, sys: 1.14 s, total: 10.8 s\n",
            "Wall time: 13min 19s\n"
          ],
          "name": "stdout"
        }
      ]
    },
    {
      "cell_type": "markdown",
      "metadata": {
        "id": "kJVs_4zEeVbF"
      },
      "source": [
        "# Evaluate Custom YOLOv5 Detector Performance"
      ]
    },
    {
      "cell_type": "markdown",
      "metadata": {
        "id": "7KN5ghjE6ZWh"
      },
      "source": [
        "Training losses and performance metrics are saved to Tensorboard and also to a logfile defined above with the **--name** flag when we train. In our case, we named this `yolov5s_results`. (If given no name, it defaults to `results.txt`.) The results file is plotted as a png after training completes.\n",
        "\n",
        "Note from Glenn: Partially completed `results.txt` files can be plotted with `from utils.utils import plot_results; plot_results()`."
      ]
    },
    {
      "cell_type": "code",
      "metadata": {
        "id": "bOy5KI2ncnWd"
      },
      "source": [
        "# Start tensorboard\n",
        "# Launch after you have started training\n",
        "# logs save in the folder \"runs\"\n",
        "%load_ext tensorboard\n",
        "%tensorboard --logdir runs"
      ],
      "execution_count": null,
      "outputs": []
    },
    {
      "cell_type": "code",
      "metadata": {
        "id": "C60XAsyv6OPe"
      },
      "source": [
        "# we can also output some older school graphs if the tensor board isn't working for whatever reason... \n",
        "from utils.plots import plot_results  # plot results.txt as results.png\n",
        "Image(filename='/content/yolov5/runs/train/yolov5s_results/results.png', width=1000)  # view results.png"
      ],
      "execution_count": null,
      "outputs": []
    },
    {
      "cell_type": "markdown",
      "metadata": {
        "id": "DLI1JmHU7B0l"
      },
      "source": [
        "### Curious? Visualize Our Training Data with Labels\n",
        "\n",
        "After training starts, view `train*.jpg` images to see training images, labels and augmentation effects.\n",
        "\n",
        "Note a mosaic dataloader is used for training (shown below), a new dataloading concept developed by Glenn Jocher and first featured in [YOLOv4](https://arxiv.org/abs/2004.10934)."
      ]
    },
    {
      "cell_type": "code",
      "metadata": {
        "id": "PF9MLHDb7tB6"
      },
      "source": [
        "# first, display our ground truth data\n",
        "print(\"GROUND TRUTH TRAINING DATA:\")\n",
        "Image(filename='/content/yolov5/runs/train/yolov5s_results/test_batch0_labels.jpg', width=900)"
      ],
      "execution_count": null,
      "outputs": []
    },
    {
      "cell_type": "code",
      "metadata": {
        "id": "W40tI99_7BcH"
      },
      "source": [
        "# print out an augmented training example\n",
        "print(\"GROUND TRUTH AUGMENTED TRAINING DATA:\")\n",
        "Image(filename='/content/yolov5/runs/train/yolov5s_results/train_batch0.jpg', width=900)"
      ],
      "execution_count": null,
      "outputs": []
    },
    {
      "cell_type": "markdown",
      "metadata": {
        "id": "N3qM6T0W53gh"
      },
      "source": [
        "#Run Inference  With Trained Weights\n",
        "Run inference with a pretrained checkpoint on contents of `test/images` folder downloaded from Roboflow."
      ]
    },
    {
      "cell_type": "code",
      "metadata": {
        "id": "yIEwt5YLeQ7P",
        "colab": {
          "base_uri": "https://localhost:8080/"
        },
        "outputId": "d574d9b1-ada9-431f-d57a-454d4d891a37"
      },
      "source": [
        "# trained weights are saved by default in our weights folder\n",
        "%ls runs/"
      ],
      "execution_count": 23,
      "outputs": [
        {
          "output_type": "stream",
          "text": [
            "\u001b[0m\u001b[01;34mtrain\u001b[0m/\n"
          ],
          "name": "stdout"
        }
      ]
    },
    {
      "cell_type": "code",
      "metadata": {
        "id": "4SyOWS80qR32"
      },
      "source": [
        "%ls runs/train/yolov5s_results/weights"
      ],
      "execution_count": 24,
      "outputs": []
    },
    {
      "cell_type": "markdown",
      "metadata": {
        "id": "rRhZmqhMqQtQ"
      },
      "source": [
        ""
      ]
    },
    {
      "cell_type": "code",
      "metadata": {
        "id": "9nmZZnWOgJ2S"
      },
      "source": [
        "# when we ran this, we saw .007 second inference time. That is 140 FPS on a TESLA P100!\n",
        "# use the best weights!\n",
        "%cd /content/yolov5/\n",
        "!python detect.py --weights runs/train/yolov5s_results/weights/best.pt --img 416 --conf 0.4 --source ../test/images"
      ],
      "execution_count": null,
      "outputs": []
    },
    {
      "cell_type": "code",
      "metadata": {
        "id": "odKEqYtTgbRc"
      },
      "source": [
        "#display inference on ALL test images\n",
        "#this looks much better with longer training above\n",
        "\n",
        "import glob\n",
        "from IPython.display import Image, display\n",
        "\n",
        "for imageName in glob.glob('/content/yolov5/runs/detect/exp/*.jpg'): #assuming JPG\n",
        "    display(Image(filename=imageName))\n",
        "    print(\"\\n\")"
      ],
      "execution_count": null,
      "outputs": []
    },
    {
      "cell_type": "markdown",
      "metadata": {
        "id": "_uPq9mVgiBql"
      },
      "source": [
        "# Export Trained Weights for Future Inference\n",
        "\n",
        "Now that you have trained your custom detector, you can export the trained weights you have made here for inference on your device elsewhere"
      ]
    },
    {
      "cell_type": "code",
      "metadata": {
        "id": "YH4CTzDRh00g",
        "colab": {
          "base_uri": "https://localhost:8080/"
        },
        "outputId": "dcac05aa-7bb2-40bb-d1ba-cf8b2d30a4f2"
      },
      "source": [
        "from google.colab import drive\n",
        "drive.mount('/content/gdrive')"
      ],
      "execution_count": null,
      "outputs": [
        {
          "output_type": "stream",
          "text": [
            "Mounted at /content/gdrive\n"
          ],
          "name": "stdout"
        }
      ]
    },
    {
      "cell_type": "code",
      "metadata": {
        "id": "1x_wg3VeiXMW"
      },
      "source": [
        "%cp /content/yolov5/runs/train/yolov5s_results/weights/best.pt /content/gdrive/My\\ Drive"
      ],
      "execution_count": null,
      "outputs": []
    },
    {
      "cell_type": "markdown",
      "metadata": {
        "id": "LVpCFeU-K4gb"
      },
      "source": [
        "## Congrats!\n",
        "\n",
        "Hope you enjoyed this!\n",
        "\n",
        "--Team [Roboflow](https://roboflow.ai)"
      ]
    }
  ]
}