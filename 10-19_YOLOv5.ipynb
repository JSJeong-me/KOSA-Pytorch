{
  "nbformat": 4,
  "nbformat_minor": 0,
  "metadata": {
    "colab": {
      "name": "Roboflow-Custom-YOLOv5",
      "provenance": [],
      "collapsed_sections": [],
      "machine_shape": "hm",
      "include_colab_link": true
    },
    "kernelspec": {
      "name": "python3",
      "display_name": "Python 3"
    },
    "accelerator": "GPU"
  },
  "cells": [
    {
      "cell_type": "markdown",
      "metadata": {
        "id": "view-in-github",
        "colab_type": "text"
      },
      "source": [
        "<a href=\"https://colab.research.google.com/github/JSJeong-me/KOSA-Pytorch/blob/main/10-19_YOLOv5.ipynb\" target=\"_parent\"><img src=\"https://colab.research.google.com/assets/colab-badge.svg\" alt=\"Open In Colab\"/></a>"
      ]
    },
    {
      "cell_type": "markdown",
      "metadata": {
        "id": "GD9gUQpaBxNa"
      },
      "source": [
        "# How to Train YOLOv5 on Custom Objects\n",
        "\n",
        "This tutorial is based on the [YOLOv5 repository](https://github.com/ultralytics/yolov5) by [Ultralytics](https://www.ultralytics.com/). This notebook shows training on **your own custom objects**. Many thanks to Ultralytics for putting this repository together - we hope that in combination with clean data management tools at Roboflow, this technologoy will become easily accessible to any developer wishing to use computer vision in their projects.\n",
        "\n",
        "### Accompanying Blog Post\n",
        "\n",
        "We recommend that you follow along in this notebook while reading the blog post on [how to train YOLOv5](https://blog.roboflow.ai/how-to-train-yolov5-on-a-custom-dataset/), concurrently.\n",
        "\n",
        "### Steps Covered in this Tutorial\n",
        "\n",
        "In this tutorial, we will walk through the steps required to train YOLOv5 on your custom objects. We use a [public blood cell detection dataset](https://public.roboflow.ai/object-detection/bccd), which is open source and free to use. You can also use this notebook on your own data.\n",
        "\n",
        "To train our detector we take the following steps:\n",
        "\n",
        "* Install YOLOv5 dependencies\n",
        "* Download custom YOLOv5 object detection data\n",
        "* Write our YOLOv5 Training configuration\n",
        "* Run YOLOv5 training\n",
        "* Evaluate YOLOv5 performance\n",
        "* Visualize YOLOv5 training data\n",
        "* Run YOLOv5 inference on test images\n",
        "* Export saved YOLOv5 weights for future inference\n",
        "\n",
        "\n",
        "\n",
        "### **About**\n",
        "\n",
        "[Roboflow](https://roboflow.com) enables teams to deploy custom computer vision models quickly and accurately. Convert data from to annotation format, assess dataset health, preprocess, augment, and more. It's free for your first 1000 source images.\n",
        "\n",
        "\n"
      ]
    },
    {
      "cell_type": "code",
      "metadata": {
        "id": "-896WEvaLw-H"
      },
      "source": [
        ""
      ],
      "execution_count": null,
      "outputs": []
    },
    {
      "cell_type": "markdown",
      "metadata": {
        "id": "7mGmQbAO5pQb"
      },
      "source": [
        "#Install Dependencies\n",
        "\n",
        "_(Remember to choose GPU in Runtime if not already selected. Runtime --> Change Runtime Type --> Hardware accelerator --> GPU)_"
      ]
    },
    {
      "cell_type": "code",
      "metadata": {
        "id": "Ie5uLDH4uzAp"
      },
      "source": [
        "# clone YOLOv5 repository\n",
        "!git clone https://github.com/ultralytics/yolov5  # clone repo\n",
        "%cd yolov5\n",
        "!git reset --hard 886f1c03d839575afecb059accf74296fad395b6"
      ],
      "execution_count": null,
      "outputs": []
    },
    {
      "cell_type": "code",
      "metadata": {
        "colab": {
          "base_uri": "https://localhost:8080/"
        },
        "id": "VYiumkPDNJ2O",
        "outputId": "bad95d54-16b4-4fd6-8ab5-c6c1dd22299a"
      },
      "source": [
        "%cd /content/"
      ],
      "execution_count": 3,
      "outputs": [
        {
          "output_type": "stream",
          "name": "stdout",
          "text": [
            "/content\n"
          ]
        }
      ]
    },
    {
      "cell_type": "code",
      "metadata": {
        "colab": {
          "base_uri": "https://localhost:8080/"
        },
        "id": "7LQ2JqohNU32",
        "outputId": "1e839cfa-b459-49a1-a0ec-86052e793518"
      },
      "source": [
        "%cd yolov5"
      ],
      "execution_count": 4,
      "outputs": [
        {
          "output_type": "stream",
          "name": "stdout",
          "text": [
            "/content/yolov5\n"
          ]
        }
      ]
    },
    {
      "cell_type": "code",
      "metadata": {
        "id": "wbvMlHd_QwMG",
        "colab": {
          "base_uri": "https://localhost:8080/"
        },
        "outputId": "e76caa29-ef8c-4cf0-b0bf-47c53a57a1b3"
      },
      "source": [
        "# install dependencies as necessary\n",
        "!pip install -qr requirements.txt  # install dependencies (ignore errors)\n",
        "import torch\n",
        "\n",
        "from IPython.display import Image, clear_output  # to display images\n",
        "from utils.google_utils import gdrive_download  # to download models/datasets\n",
        "\n",
        "# clear_output()\n",
        "print('Setup complete. Using torch %s %s' % (torch.__version__, torch.cuda.get_device_properties(0) if torch.cuda.is_available() else 'CPU'))"
      ],
      "execution_count": 2,
      "outputs": [
        {
          "output_type": "stream",
          "name": "stdout",
          "text": [
            "\u001b[?25l\r\u001b[K     |▌                               | 10 kB 25.3 MB/s eta 0:00:01\r\u001b[K     |█                               | 20 kB 30.3 MB/s eta 0:00:01\r\u001b[K     |█▋                              | 30 kB 20.0 MB/s eta 0:00:01\r\u001b[K     |██▏                             | 40 kB 15.9 MB/s eta 0:00:01\r\u001b[K     |██▊                             | 51 kB 9.9 MB/s eta 0:00:01\r\u001b[K     |███▎                            | 61 kB 9.5 MB/s eta 0:00:01\r\u001b[K     |███▉                            | 71 kB 9.5 MB/s eta 0:00:01\r\u001b[K     |████▍                           | 81 kB 10.4 MB/s eta 0:00:01\r\u001b[K     |█████                           | 92 kB 8.5 MB/s eta 0:00:01\r\u001b[K     |█████▌                          | 102 kB 9.2 MB/s eta 0:00:01\r\u001b[K     |██████                          | 112 kB 9.2 MB/s eta 0:00:01\r\u001b[K     |██████▋                         | 122 kB 9.2 MB/s eta 0:00:01\r\u001b[K     |███████▏                        | 133 kB 9.2 MB/s eta 0:00:01\r\u001b[K     |███████▊                        | 143 kB 9.2 MB/s eta 0:00:01\r\u001b[K     |████████▎                       | 153 kB 9.2 MB/s eta 0:00:01\r\u001b[K     |████████▉                       | 163 kB 9.2 MB/s eta 0:00:01\r\u001b[K     |█████████▍                      | 174 kB 9.2 MB/s eta 0:00:01\r\u001b[K     |██████████                      | 184 kB 9.2 MB/s eta 0:00:01\r\u001b[K     |██████████▍                     | 194 kB 9.2 MB/s eta 0:00:01\r\u001b[K     |███████████                     | 204 kB 9.2 MB/s eta 0:00:01\r\u001b[K     |███████████▌                    | 215 kB 9.2 MB/s eta 0:00:01\r\u001b[K     |████████████                    | 225 kB 9.2 MB/s eta 0:00:01\r\u001b[K     |████████████▋                   | 235 kB 9.2 MB/s eta 0:00:01\r\u001b[K     |█████████████▏                  | 245 kB 9.2 MB/s eta 0:00:01\r\u001b[K     |█████████████▊                  | 256 kB 9.2 MB/s eta 0:00:01\r\u001b[K     |██████████████▎                 | 266 kB 9.2 MB/s eta 0:00:01\r\u001b[K     |██████████████▉                 | 276 kB 9.2 MB/s eta 0:00:01\r\u001b[K     |███████████████▍                | 286 kB 9.2 MB/s eta 0:00:01\r\u001b[K     |████████████████                | 296 kB 9.2 MB/s eta 0:00:01\r\u001b[K     |████████████████▌               | 307 kB 9.2 MB/s eta 0:00:01\r\u001b[K     |█████████████████               | 317 kB 9.2 MB/s eta 0:00:01\r\u001b[K     |█████████████████▋              | 327 kB 9.2 MB/s eta 0:00:01\r\u001b[K     |██████████████████▏             | 337 kB 9.2 MB/s eta 0:00:01\r\u001b[K     |██████████████████▊             | 348 kB 9.2 MB/s eta 0:00:01\r\u001b[K     |███████████████████▎            | 358 kB 9.2 MB/s eta 0:00:01\r\u001b[K     |███████████████████▉            | 368 kB 9.2 MB/s eta 0:00:01\r\u001b[K     |████████████████████▍           | 378 kB 9.2 MB/s eta 0:00:01\r\u001b[K     |████████████████████▉           | 389 kB 9.2 MB/s eta 0:00:01\r\u001b[K     |█████████████████████▍          | 399 kB 9.2 MB/s eta 0:00:01\r\u001b[K     |██████████████████████          | 409 kB 9.2 MB/s eta 0:00:01\r\u001b[K     |██████████████████████▌         | 419 kB 9.2 MB/s eta 0:00:01\r\u001b[K     |███████████████████████         | 430 kB 9.2 MB/s eta 0:00:01\r\u001b[K     |███████████████████████▋        | 440 kB 9.2 MB/s eta 0:00:01\r\u001b[K     |████████████████████████▏       | 450 kB 9.2 MB/s eta 0:00:01\r\u001b[K     |████████████████████████▊       | 460 kB 9.2 MB/s eta 0:00:01\r\u001b[K     |█████████████████████████▎      | 471 kB 9.2 MB/s eta 0:00:01\r\u001b[K     |█████████████████████████▉      | 481 kB 9.2 MB/s eta 0:00:01\r\u001b[K     |██████████████████████████▍     | 491 kB 9.2 MB/s eta 0:00:01\r\u001b[K     |███████████████████████████     | 501 kB 9.2 MB/s eta 0:00:01\r\u001b[K     |███████████████████████████▌    | 512 kB 9.2 MB/s eta 0:00:01\r\u001b[K     |████████████████████████████    | 522 kB 9.2 MB/s eta 0:00:01\r\u001b[K     |████████████████████████████▋   | 532 kB 9.2 MB/s eta 0:00:01\r\u001b[K     |█████████████████████████████▏  | 542 kB 9.2 MB/s eta 0:00:01\r\u001b[K     |█████████████████████████████▊  | 552 kB 9.2 MB/s eta 0:00:01\r\u001b[K     |██████████████████████████████▎ | 563 kB 9.2 MB/s eta 0:00:01\r\u001b[K     |██████████████████████████████▊ | 573 kB 9.2 MB/s eta 0:00:01\r\u001b[K     |███████████████████████████████▎| 583 kB 9.2 MB/s eta 0:00:01\r\u001b[K     |███████████████████████████████▉| 593 kB 9.2 MB/s eta 0:00:01\r\u001b[K     |████████████████████████████████| 596 kB 9.2 MB/s \n",
            "\u001b[?25hSetup complete. Using torch 1.9.0+cu111 _CudaDeviceProperties(name='Tesla P100-PCIE-16GB', major=6, minor=0, total_memory=16280MB, multi_processor_count=56)\n"
          ]
        }
      ]
    },
    {
      "cell_type": "code",
      "metadata": {
        "id": "SB7weNlrQpl3",
        "colab": {
          "base_uri": "https://localhost:8080/"
        },
        "outputId": "22d84cd5-4ff0-45e8-f588-e8e24e79c27a"
      },
      "source": [
        "from google.colab import drive\n",
        "drive.mount('/content/drive')"
      ],
      "execution_count": 3,
      "outputs": [
        {
          "output_type": "stream",
          "name": "stdout",
          "text": [
            "Mounted at /content/drive\n"
          ]
        }
      ]
    },
    {
      "cell_type": "code",
      "metadata": {
        "id": "nYAp5gb0KIHM",
        "outputId": "87c99752-3ab9-4272-810a-e08bf71b87e5",
        "colab": {
          "base_uri": "https://localhost:8080/"
        }
      },
      "source": [
        "%cd .."
      ],
      "execution_count": 5,
      "outputs": [
        {
          "output_type": "stream",
          "name": "stdout",
          "text": [
            "/content\n"
          ]
        }
      ]
    },
    {
      "cell_type": "code",
      "metadata": {
        "id": "qMjlmAXlQxvp"
      },
      "source": [
        "!cp /content/drive/MyDrive/kosa-2021/aqua*yolov5pytorch.zip ."
      ],
      "execution_count": 6,
      "outputs": []
    },
    {
      "cell_type": "code",
      "metadata": {
        "id": "l9JqhO0kFWNR",
        "colab": {
          "base_uri": "https://localhost:8080/"
        },
        "outputId": "e799b4ac-d08c-4545-d4f1-928f20a22f71"
      },
      "source": [
        "!pwd"
      ],
      "execution_count": 4,
      "outputs": [
        {
          "output_type": "stream",
          "name": "stdout",
          "text": [
            "/content/yolov5\n"
          ]
        }
      ]
    },
    {
      "cell_type": "code",
      "metadata": {
        "id": "alzAe9JcFPzv"
      },
      "source": [
        "torch.__version__"
      ],
      "execution_count": null,
      "outputs": []
    },
    {
      "cell_type": "markdown",
      "metadata": {
        "id": "SDIhrBF0sPaM"
      },
      "source": [
        "# Download Correctly Formatted Custom Dataset \n",
        "\n",
        "We'll download our dataset from Roboflow. Use the \"**YOLOv5 PyTorch**\" export format. Note that the Ultralytics implementation calls for a YAML file defining where your training and test data is. The Roboflow export also writes this format for us.\n",
        "\n",
        "To get your data into Roboflow, follow the [Getting Started Guide](https://blog.roboflow.ai/getting-started-with-roboflow/)."
      ]
    },
    {
      "cell_type": "markdown",
      "metadata": {
        "id": "vDeebwqS9JbZ"
      },
      "source": [
        "\n",
        "\n"
      ]
    },
    {
      "cell_type": "markdown",
      "metadata": {
        "id": "qC5AdhpziDYb"
      },
      "source": [
        "### https://github.com/datitran/raccoon_dataset"
      ]
    },
    {
      "cell_type": "code",
      "metadata": {
        "id": "59Cr-WKJ5w8a"
      },
      "source": [
        "!ls -l"
      ],
      "execution_count": null,
      "outputs": []
    },
    {
      "cell_type": "code",
      "metadata": {
        "id": "r0_DL4R8FxJ9",
        "colab": {
          "base_uri": "https://localhost:8080/"
        },
        "outputId": "1215e69f-32e4-4487-a3a2-2732c44c00c5"
      },
      "source": [
        "%cd .."
      ],
      "execution_count": 8,
      "outputs": [
        {
          "output_type": "stream",
          "name": "stdout",
          "text": [
            "/content\n"
          ]
        }
      ]
    },
    {
      "cell_type": "code",
      "metadata": {
        "id": "dXkRKGVq9jVk"
      },
      "source": [
        "!unzip /content/aqua1.v1i.yolov5pytorch.zip"
      ],
      "execution_count": null,
      "outputs": []
    },
    {
      "cell_type": "code",
      "metadata": {
        "id": "ZZ3DmmGQztJj",
        "colab": {
          "base_uri": "https://localhost:8080/"
        },
        "outputId": "027cf10b-3160-42e2-b02b-12b68aaf1a96"
      },
      "source": [
        "# this is the YAML file Roboflow wrote for us that we're loading into this notebook with our data\n",
        "%cat data.yaml"
      ],
      "execution_count": 11,
      "outputs": [
        {
          "output_type": "stream",
          "name": "stdout",
          "text": [
            "train: ../train/images\n",
            "val: ../valid/images\n",
            "\n",
            "nc: 7\n",
            "names: ['fish', 'jellyfish', 'penguin', 'puffin', 'shark', 'starfish', 'stingray']"
          ]
        }
      ]
    },
    {
      "cell_type": "markdown",
      "metadata": {
        "id": "UwJx-2NHsYxT"
      },
      "source": [
        "# Define Model Configuration and Architecture\n",
        "\n",
        "We will write a yaml script that defines the parameters for our model like the number of classes, anchors, and each layer.\n",
        "\n",
        "You do not need to edit these cells, but you may."
      ]
    },
    {
      "cell_type": "code",
      "metadata": {
        "id": "dOPn9wjOAwwK"
      },
      "source": [
        "# define number of classes based on YAML\n",
        "import yaml\n",
        "with open(\"data.yaml\", 'r') as stream:\n",
        "    num_classes = str(yaml.safe_load(stream)['nc'])"
      ],
      "execution_count": 8,
      "outputs": []
    },
    {
      "cell_type": "code",
      "metadata": {
        "id": "1Rvt5wilnDyX"
      },
      "source": [
        "#this is the model configuration we will use for our tutorial \n",
        "%cat /content/yolov5/models/yolov5l.yaml"
      ],
      "execution_count": null,
      "outputs": []
    },
    {
      "cell_type": "code",
      "metadata": {
        "id": "t14hhyqdmw6O"
      },
      "source": [
        "#customize iPython writefile so we can write variables\n",
        "from IPython.core.magic import register_line_cell_magic\n",
        "\n",
        "@register_line_cell_magic\n",
        "def writetemplate(line, cell):\n",
        "    with open(line, 'w') as f:\n",
        "        f.write(cell.format(**globals()))"
      ],
      "execution_count": 10,
      "outputs": []
    },
    {
      "cell_type": "code",
      "metadata": {
        "id": "KOZtaOBGGeEl",
        "colab": {
          "base_uri": "https://localhost:8080/",
          "height": 35
        },
        "outputId": "60c8ef46-a9d7-46e4-dcc8-271962d60c27"
      },
      "source": [
        "num_classes"
      ],
      "execution_count": 11,
      "outputs": [
        {
          "output_type": "execute_result",
          "data": {
            "application/vnd.google.colaboratory.intrinsic+json": {
              "type": "string"
            },
            "text/plain": [
              "'3'"
            ]
          },
          "metadata": {},
          "execution_count": 11
        }
      ]
    },
    {
      "cell_type": "code",
      "metadata": {
        "id": "uDxebz13RdRA"
      },
      "source": [
        "%%writetemplate /content/yolov5/models/custom_yolov5l.yaml\n",
        "\n",
        "# parameters\n",
        "nc: {num_classes}  # number of classes\n",
        "depth_multiple: 0.33  # model depth multiple\n",
        "width_multiple: 0.50  # layer channel multiple\n",
        "\n",
        "# anchors\n",
        "anchors:\n",
        "  - [10,13, 16,30, 33,23]  # P3/8\n",
        "  - [30,61, 62,45, 59,119]  # P4/16\n",
        "  - [116,90, 156,198, 373,326]  # P5/32\n",
        "\n",
        "# YOLOv5 backbone\n",
        "backbone:\n",
        "  # [from, number, module, args]\n",
        "  [[-1, 1, Focus, [64, 3]],  # 0-P1/2\n",
        "   [-1, 1, Conv, [128, 3, 2]],  # 1-P2/4\n",
        "   [-1, 3, BottleneckCSP, [128]],\n",
        "   [-1, 1, Conv, [256, 3, 2]],  # 3-P3/8\n",
        "   [-1, 9, BottleneckCSP, [256]],\n",
        "   [-1, 1, Conv, [512, 3, 2]],  # 5-P4/16\n",
        "   [-1, 9, BottleneckCSP, [512]],\n",
        "   [-1, 1, Conv, [1024, 3, 2]],  # 7-P5/32\n",
        "   [-1, 1, SPP, [1024, [5, 9, 13]]],\n",
        "   [-1, 3, BottleneckCSP, [1024, False]],  # 9\n",
        "  ]\n",
        "\n",
        "# YOLOv5 head\n",
        "head:\n",
        "  [[-1, 1, Conv, [512, 1, 1]],\n",
        "   [-1, 1, nn.Upsample, [None, 2, 'nearest']],\n",
        "   [[-1, 6], 1, Concat, [1]],  # cat backbone P4\n",
        "   [-1, 3, BottleneckCSP, [512, False]],  # 13\n",
        "\n",
        "   [-1, 1, Conv, [256, 1, 1]],\n",
        "   [-1, 1, nn.Upsample, [None, 2, 'nearest']],\n",
        "   [[-1, 4], 1, Concat, [1]],  # cat backbone P3\n",
        "   [-1, 3, BottleneckCSP, [256, False]],  # 17 (P3/8-small)\n",
        "\n",
        "   [-1, 1, Conv, [256, 3, 2]],\n",
        "   [[-1, 14], 1, Concat, [1]],  # cat head P4\n",
        "   [-1, 3, BottleneckCSP, [512, False]],  # 20 (P4/16-medium)\n",
        "\n",
        "   [-1, 1, Conv, [512, 3, 2]],\n",
        "   [[-1, 10], 1, Concat, [1]],  # cat head P5\n",
        "   [-1, 3, BottleneckCSP, [1024, False]],  # 23 (P5/32-large)\n",
        "\n",
        "   [[17, 20, 23], 1, Detect, [nc, anchors]],  # Detect(P3, P4, P5)\n",
        "  ]"
      ],
      "execution_count": 12,
      "outputs": []
    },
    {
      "cell_type": "markdown",
      "metadata": {
        "id": "VUOiNLtMP5aG"
      },
      "source": [
        "# Train Custom YOLOv5 Detector\n",
        "\n",
        "### Next, we'll fire off training!\n",
        "\n",
        "\n",
        "Here, we are able to pass a number of arguments:\n",
        "- **img:** define input image size\n",
        "- **batch:** determine batch size\n",
        "- **epochs:** define the number of training epochs. (Note: often, 3000+ are common here!)\n",
        "- **data:** set the path to our yaml file\n",
        "- **cfg:** specify our model configuration\n",
        "- **weights:** specify a custom path to weights. (Note: you can download weights from the Ultralytics Google Drive [folder](https://drive.google.com/open?id=1Drs_Aiu7xx6S-ix95f9kNsA6ueKRpN2J))\n",
        "- **name:** result names\n",
        "- **nosave:** only save the final checkpoint\n",
        "- **cache:** cache images for faster training"
      ]
    },
    {
      "cell_type": "code",
      "metadata": {
        "id": "1NcFxRcFdJ_O",
        "colab": {
          "base_uri": "https://localhost:8080/"
        },
        "outputId": "c6682df3-2680-48ff-d201-454eba331721"
      },
      "source": [
        "# train yolov5s on custom data for 100 epochs\n",
        "# time its performance\n",
        "%%time\n",
        "%cd /content/yolov5/\n",
        "!python train.py --img 416 --batch 16 --epochs 150 --data '../data.yaml' --cfg ./models/custom_yolov5l.yaml --weights '' --name yolov5l_results  --cache"
      ],
      "execution_count": 13,
      "outputs": [
        {
          "output_type": "stream",
          "name": "stdout",
          "text": [
            "/content/yolov5\n",
            "\u001b[34m\u001b[1mgithub: \u001b[0m⚠️ WARNING: code is out of date by 599 commits. Use 'git pull' to update or 'git clone https://github.com/ultralytics/yolov5' to download latest.\n",
            "YOLOv5 v4.0-126-g886f1c0 torch 1.9.0+cu111 CUDA:0 (Tesla P100-PCIE-16GB, 16280.875MB)\n",
            "\n",
            "Namespace(adam=False, batch_size=16, bucket='', cache_images=True, cfg='./models/custom_yolov5l.yaml', data='../data.yaml', device='', entity=None, epochs=150, evolve=False, exist_ok=False, global_rank=-1, hyp='data/hyp.scratch.yaml', image_weights=False, img_size=[416, 416], linear_lr=False, local_rank=-1, log_artifacts=False, log_imgs=16, multi_scale=False, name='yolov5l_results', noautoanchor=False, nosave=False, notest=False, project='runs/train', quad=False, rect=False, resume=False, save_dir='runs/train/yolov5l_results', single_cls=False, sync_bn=False, total_batch_size=16, weights='', workers=8, world_size=1)\n",
            "\u001b[34m\u001b[1mwandb: \u001b[0mInstall Weights & Biases for YOLOv5 logging with 'pip install wandb' (recommended)\n",
            "Start Tensorboard with \"tensorboard --logdir runs/train\", view at http://localhost:6006/\n",
            "\u001b[34m\u001b[1mhyperparameters: \u001b[0mlr0=0.01, lrf=0.2, momentum=0.937, weight_decay=0.0005, warmup_epochs=3.0, warmup_momentum=0.8, warmup_bias_lr=0.1, box=0.05, cls=0.5, cls_pw=1.0, obj=1.0, obj_pw=1.0, iou_t=0.2, anchor_t=4.0, fl_gamma=0.0, hsv_h=0.015, hsv_s=0.7, hsv_v=0.4, degrees=0.0, translate=0.1, scale=0.5, shear=0.0, perspective=0.0, flipud=0.0, fliplr=0.5, mosaic=1.0, mixup=0.0\n",
            "\n",
            "                 from  n    params  module                                  arguments                     \n",
            "  0                -1  1      3520  models.common.Focus                     [3, 32, 3]                    \n",
            "  1                -1  1     18560  models.common.Conv                      [32, 64, 3, 2]                \n",
            "  2                -1  1     19904  models.common.BottleneckCSP             [64, 64, 1]                   \n",
            "  3                -1  1     73984  models.common.Conv                      [64, 128, 3, 2]               \n",
            "  4                -1  1    161152  models.common.BottleneckCSP             [128, 128, 3]                 \n",
            "  5                -1  1    295424  models.common.Conv                      [128, 256, 3, 2]              \n",
            "  6                -1  1    641792  models.common.BottleneckCSP             [256, 256, 3]                 \n",
            "  7                -1  1   1180672  models.common.Conv                      [256, 512, 3, 2]              \n",
            "  8                -1  1    656896  models.common.SPP                       [512, 512, [5, 9, 13]]        \n",
            "  9                -1  1   1248768  models.common.BottleneckCSP             [512, 512, 1, False]          \n",
            " 10                -1  1    131584  models.common.Conv                      [512, 256, 1, 1]              \n",
            " 11                -1  1         0  torch.nn.modules.upsampling.Upsample    [None, 2, 'nearest']          \n",
            " 12           [-1, 6]  1         0  models.common.Concat                    [1]                           \n",
            " 13                -1  1    378624  models.common.BottleneckCSP             [512, 256, 1, False]          \n",
            " 14                -1  1     33024  models.common.Conv                      [256, 128, 1, 1]              \n",
            " 15                -1  1         0  torch.nn.modules.upsampling.Upsample    [None, 2, 'nearest']          \n",
            " 16           [-1, 4]  1         0  models.common.Concat                    [1]                           \n",
            " 17                -1  1     95104  models.common.BottleneckCSP             [256, 128, 1, False]          \n",
            " 18                -1  1    147712  models.common.Conv                      [128, 128, 3, 2]              \n",
            " 19          [-1, 14]  1         0  models.common.Concat                    [1]                           \n",
            " 20                -1  1    313088  models.common.BottleneckCSP             [256, 256, 1, False]          \n",
            " 21                -1  1    590336  models.common.Conv                      [256, 256, 3, 2]              \n",
            " 22          [-1, 10]  1         0  models.common.Concat                    [1]                           \n",
            " 23                -1  1   1248768  models.common.BottleneckCSP             [512, 512, 1, False]          \n",
            " 24      [17, 20, 23]  1     21576  models.yolo.Detect                      [3, [[10, 13, 16, 30, 33, 23], [30, 61, 62, 45, 59, 119], [116, 90, 156, 198, 373, 326]], [128, 256, 512]]\n",
            "/usr/local/lib/python3.7/dist-packages/torch/nn/functional.py:718: UserWarning: Named tensors and all their associated APIs are an experimental feature and subject to change. Please do not use them for anything important until they are released as stable. (Triggered internally at  /pytorch/c10/core/TensorImpl.h:1156.)\n",
            "  return torch.max_pool2d(input, kernel_size, stride, padding, dilation, ceil_mode)\n",
            "Model Summary: 283 layers, 7260488 parameters, 7260488 gradients, 16.8 GFLOPS\n",
            "\n",
            "Scaled weight_decay = 0.0005\n",
            "Optimizer groups: 62 .bias, 70 conv.weight, 59 other\n",
            "\u001b[34m\u001b[1mtrain: \u001b[0mScanning '../train/labels' for images and labels... 430 found, 0 missing, 202 empty, 0 corrupted: 100% 430/430 [00:00<00:00, 2699.75it/s]\n",
            "\u001b[34m\u001b[1mtrain: \u001b[0mNew cache created: ../train/labels.cache\n",
            "\u001b[34m\u001b[1mtrain: \u001b[0mCaching images (0.2GB): 100% 430/430 [00:00<00:00, 904.77it/s]\n",
            "\u001b[34m\u001b[1mval: \u001b[0mScanning '../valid/labels' for images and labels... 42 found, 0 missing, 11 empty, 0 corrupted: 100% 42/42 [00:00<00:00, 2320.29it/s]\n",
            "\u001b[34m\u001b[1mval: \u001b[0mNew cache created: ../valid/labels.cache\n",
            "\u001b[34m\u001b[1mval: \u001b[0mCaching images (0.0GB): 100% 42/42 [00:00<00:00, 449.37it/s]\n",
            "[W pthreadpool-cpp.cc:90] Warning: Leaking Caffe2 thread-pool after fork. (function pthreadpool)\n",
            "[W pthreadpool-cpp.cc:90] Warning: Leaking Caffe2 thread-pool after fork. (function pthreadpool)\n",
            "[W pthreadpool-cpp.cc:90] Warning: Leaking Caffe2 thread-pool after fork. (function pthreadpool)\n",
            "[W pthreadpool-cpp.cc:90] Warning: Leaking Caffe2 thread-pool after fork. (function pthreadpool)\n",
            "Plotting labels... \n",
            "\n",
            "\u001b[34m\u001b[1mautoanchor: \u001b[0mAnalyzing anchors... anchors/target = 3.36, Best Possible Recall (BPR) = 1.0000\n",
            "Image sizes 416 train, 416 test\n",
            "Using 4 dataloader workers\n",
            "Logging results to runs/train/yolov5l_results\n",
            "Starting training for 150 epochs...\n",
            "\n",
            "     Epoch   gpu_mem       box       obj       cls     total   targets  img_size\n",
            "     0/149     1.41G   0.09647   0.01722   0.03553    0.1492        22       416: 100% 27/27 [00:06<00:00,  4.34it/s]\n",
            "               Class      Images     Targets           P           R      mAP@.5  mAP@.5:.95: 100% 2/2 [00:00<00:00,  2.23it/s]\n",
            "                 all          42          32    0.000593       0.426    0.000955      0.0002\n",
            "\n",
            "     Epoch   gpu_mem       box       obj       cls     total   targets  img_size\n",
            "     1/149     1.39G   0.07907   0.01726   0.03474    0.1311        20       416: 100% 27/27 [00:04<00:00,  6.27it/s]\n",
            "               Class      Images     Targets           P           R      mAP@.5  mAP@.5:.95: 100% 2/2 [00:00<00:00,  6.72it/s]\n",
            "                 all          42          32     0.00154       0.608     0.00157    0.000211\n",
            "\n",
            "     Epoch   gpu_mem       box       obj       cls     total   targets  img_size\n",
            "     2/149     1.39G   0.07254   0.01834   0.03559    0.1265        17       416: 100% 27/27 [00:04<00:00,  6.22it/s]\n",
            "               Class      Images     Targets           P           R      mAP@.5  mAP@.5:.95: 100% 2/2 [00:00<00:00,  6.91it/s]\n",
            "                 all          42          32    0.000898       0.409    0.000593    0.000109\n",
            "\n",
            "     Epoch   gpu_mem       box       obj       cls     total   targets  img_size\n",
            "     3/149     1.39G   0.06954   0.01719   0.03364    0.1204        24       416: 100% 27/27 [00:04<00:00,  6.22it/s]\n",
            "               Class      Images     Targets           P           R      mAP@.5  mAP@.5:.95: 100% 2/2 [00:00<00:00,  6.76it/s]\n",
            "                 all          42          32     0.00135       0.487     0.00159    0.000199\n",
            "\n",
            "     Epoch   gpu_mem       box       obj       cls     total   targets  img_size\n",
            "     4/149     1.39G   0.07074   0.01718   0.03457    0.1225        25       416: 100% 27/27 [00:04<00:00,  6.23it/s]\n",
            "               Class      Images     Targets           P           R      mAP@.5  mAP@.5:.95: 100% 2/2 [00:00<00:00,  7.22it/s]\n",
            "                 all          42          32     0.00173       0.587     0.00179    0.000238\n",
            "\n",
            "     Epoch   gpu_mem       box       obj       cls     total   targets  img_size\n",
            "     5/149     1.39G   0.07242   0.01806   0.03542    0.1259        21       416: 100% 27/27 [00:04<00:00,  6.20it/s]\n",
            "               Class      Images     Targets           P           R      mAP@.5  mAP@.5:.95: 100% 2/2 [00:00<00:00,  6.74it/s]\n",
            "                 all          42          32      0.0012       0.478     0.00116    0.000166\n",
            "\n",
            "     Epoch   gpu_mem       box       obj       cls     total   targets  img_size\n",
            "     6/149     1.39G   0.07129   0.01835   0.03409    0.1237        27       416: 100% 27/27 [00:04<00:00,  6.72it/s]\n",
            "               Class      Images     Targets           P           R      mAP@.5  mAP@.5:.95: 100% 2/2 [00:00<00:00,  6.87it/s]\n",
            "                 all          42          32     0.00194       0.354     0.00162    0.000232\n",
            "\n",
            "     Epoch   gpu_mem       box       obj       cls     total   targets  img_size\n",
            "     7/149     1.39G   0.06659   0.01814   0.03343    0.1182        23       416: 100% 27/27 [00:03<00:00,  6.91it/s]\n",
            "               Class      Images     Targets           P           R      mAP@.5  mAP@.5:.95: 100% 2/2 [00:00<00:00,  6.66it/s]\n",
            "                 all          42          32     0.00157       0.589     0.00158    0.000258\n",
            "\n",
            "     Epoch   gpu_mem       box       obj       cls     total   targets  img_size\n",
            "     8/149     1.39G   0.06722   0.01789   0.03368    0.1188        17       416: 100% 27/27 [00:03<00:00,  6.84it/s]\n",
            "               Class      Images     Targets           P           R      mAP@.5  mAP@.5:.95: 100% 2/2 [00:00<00:00,  6.94it/s]\n",
            "                 all          42          32     0.00199       0.457     0.00281    0.000447\n",
            "\n",
            "     Epoch   gpu_mem       box       obj       cls     total   targets  img_size\n",
            "     9/149     1.39G   0.06401   0.01573   0.03222     0.112        16       416: 100% 27/27 [00:03<00:00,  6.88it/s]\n",
            "               Class      Images     Targets           P           R      mAP@.5  mAP@.5:.95: 100% 2/2 [00:00<00:00,  7.36it/s]\n",
            "                 all          42          32     0.00266       0.496     0.00322    0.000459\n",
            "\n",
            "     Epoch   gpu_mem       box       obj       cls     total   targets  img_size\n",
            "    10/149     1.39G   0.07232   0.01827   0.03397    0.1246        25       416: 100% 27/27 [00:03<00:00,  6.84it/s]\n",
            "               Class      Images     Targets           P           R      mAP@.5  mAP@.5:.95: 100% 2/2 [00:00<00:00,  7.25it/s]\n",
            "                 all          42          32     0.00249        0.29     0.00214    0.000382\n",
            "\n",
            "     Epoch   gpu_mem       box       obj       cls     total   targets  img_size\n",
            "    11/149     1.39G   0.07193   0.01779   0.03495    0.1247        25       416: 100% 27/27 [00:03<00:00,  6.85it/s]\n",
            "               Class      Images     Targets           P           R      mAP@.5  mAP@.5:.95: 100% 2/2 [00:00<00:00,  7.16it/s]\n",
            "                 all          42          32     0.00288        0.31       0.003     0.00049\n",
            "\n",
            "     Epoch   gpu_mem       box       obj       cls     total   targets  img_size\n",
            "    12/149     1.39G   0.06586   0.01645   0.03334    0.1157        21       416: 100% 27/27 [00:03<00:00,  6.82it/s]\n",
            "               Class      Images     Targets           P           R      mAP@.5  mAP@.5:.95: 100% 2/2 [00:00<00:00,  7.25it/s]\n",
            "                 all          42          32     0.00294       0.266     0.00495     0.00072\n",
            "\n",
            "     Epoch   gpu_mem       box       obj       cls     total   targets  img_size\n",
            "    13/149     1.39G   0.06316   0.01768   0.03127    0.1121        19       416: 100% 27/27 [00:03<00:00,  6.91it/s]\n",
            "               Class      Images     Targets           P           R      mAP@.5  mAP@.5:.95: 100% 2/2 [00:00<00:00,  7.29it/s]\n",
            "                 all          42          32     0.00236       0.226      0.0035    0.000754\n",
            "\n",
            "     Epoch   gpu_mem       box       obj       cls     total   targets  img_size\n",
            "    14/149     1.39G   0.07157   0.01751   0.03384    0.1229        31       416: 100% 27/27 [00:03<00:00,  6.82it/s]\n",
            "               Class      Images     Targets           P           R      mAP@.5  mAP@.5:.95: 100% 2/2 [00:00<00:00,  7.08it/s]\n",
            "                 all          42          32     0.00329       0.285      0.0076     0.00147\n",
            "\n",
            "     Epoch   gpu_mem       box       obj       cls     total   targets  img_size\n",
            "    15/149     1.39G   0.06932   0.01659   0.03402    0.1199        22       416: 100% 27/27 [00:03<00:00,  6.90it/s]\n",
            "               Class      Images     Targets           P           R      mAP@.5  mAP@.5:.95: 100% 2/2 [00:00<00:00,  7.29it/s]\n",
            "                 all          42          32      0.0173      0.0303     0.00573     0.00117\n",
            "\n",
            "     Epoch   gpu_mem       box       obj       cls     total   targets  img_size\n",
            "    16/149     1.39G   0.06876   0.01769   0.03434    0.1208        25       416: 100% 27/27 [00:04<00:00,  6.73it/s]\n",
            "               Class      Images     Targets           P           R      mAP@.5  mAP@.5:.95: 100% 2/2 [00:00<00:00,  7.23it/s]\n",
            "                 all          42          32     0.00493       0.877      0.0111     0.00214\n",
            "\n",
            "     Epoch   gpu_mem       box       obj       cls     total   targets  img_size\n",
            "    17/149     1.39G   0.06538   0.01645   0.03253    0.1144        20       416: 100% 27/27 [00:03<00:00,  6.88it/s]\n",
            "               Class      Images     Targets           P           R      mAP@.5  mAP@.5:.95: 100% 2/2 [00:00<00:00,  6.89it/s]\n",
            "                 all          42          32     0.00541       0.808     0.00852     0.00146\n",
            "\n",
            "     Epoch   gpu_mem       box       obj       cls     total   targets  img_size\n",
            "    18/149     1.39G   0.06917    0.0181   0.03505    0.1223        32       416: 100% 27/27 [00:03<00:00,  6.87it/s]\n",
            "               Class      Images     Targets           P           R      mAP@.5  mAP@.5:.95: 100% 2/2 [00:00<00:00,  7.15it/s]\n",
            "                 all          42          32      0.0123        0.62       0.014      0.0029\n",
            "\n",
            "     Epoch   gpu_mem       box       obj       cls     total   targets  img_size\n",
            "    19/149     1.39G   0.06303   0.01663   0.03334     0.113        16       416: 100% 27/27 [00:03<00:00,  7.16it/s]\n",
            "               Class      Images     Targets           P           R      mAP@.5  mAP@.5:.95: 100% 2/2 [00:00<00:00,  7.19it/s]\n",
            "                 all          42          32      0.0109        0.31      0.0148     0.00329\n",
            "\n",
            "     Epoch   gpu_mem       box       obj       cls     total   targets  img_size\n",
            "    20/149     1.39G   0.06388   0.01727   0.03289     0.114        12       416: 100% 27/27 [00:03<00:00,  7.15it/s]\n",
            "               Class      Images     Targets           P           R      mAP@.5  mAP@.5:.95: 100% 2/2 [00:00<00:00,  7.34it/s]\n",
            "                 all          42          32      0.0326      0.0303      0.0212     0.00339\n",
            "\n",
            "     Epoch   gpu_mem       box       obj       cls     total   targets  img_size\n",
            "    21/149     1.39G    0.0659   0.01726   0.03354    0.1167        24       416: 100% 27/27 [00:03<00:00,  7.15it/s]\n",
            "               Class      Images     Targets           P           R      mAP@.5  mAP@.5:.95: 100% 2/2 [00:00<00:00,  7.27it/s]\n",
            "                 all          42          32      0.0122       0.897      0.0245     0.00553\n",
            "\n",
            "     Epoch   gpu_mem       box       obj       cls     total   targets  img_size\n",
            "    22/149     1.39G    0.0671   0.01742   0.03468    0.1192        33       416: 100% 27/27 [00:03<00:00,  7.11it/s]\n",
            "               Class      Images     Targets           P           R      mAP@.5  mAP@.5:.95: 100% 2/2 [00:00<00:00,  6.99it/s]\n",
            "                 all          42          32      0.0213       0.685      0.0287     0.00743\n",
            "\n",
            "     Epoch   gpu_mem       box       obj       cls     total   targets  img_size\n",
            "    23/149     1.39G   0.06098   0.01743   0.03345    0.1119        24       416: 100% 27/27 [00:03<00:00,  7.04it/s]\n",
            "               Class      Images     Targets           P           R      mAP@.5  mAP@.5:.95: 100% 2/2 [00:00<00:00,  7.51it/s]\n",
            "                 all          42          32       0.365      0.0833       0.016     0.00249\n",
            "\n",
            "     Epoch   gpu_mem       box       obj       cls     total   targets  img_size\n",
            "    24/149     1.39G   0.06432   0.01664   0.03319    0.1142        18       416: 100% 27/27 [00:03<00:00,  7.12it/s]\n",
            "               Class      Images     Targets           P           R      mAP@.5  mAP@.5:.95: 100% 2/2 [00:00<00:00,  7.45it/s]\n",
            "                 all          42          32      0.0162       0.373      0.0165     0.00403\n",
            "\n",
            "     Epoch   gpu_mem       box       obj       cls     total   targets  img_size\n",
            "    25/149     1.39G   0.05891   0.01777    0.0323     0.109        17       416: 100% 27/27 [00:03<00:00,  7.16it/s]\n",
            "               Class      Images     Targets           P           R      mAP@.5  mAP@.5:.95: 100% 2/2 [00:00<00:00,  7.03it/s]\n",
            "                 all          42          32       0.019       0.709      0.0242     0.00571\n",
            "\n",
            "     Epoch   gpu_mem       box       obj       cls     total   targets  img_size\n",
            "    26/149     1.39G   0.06013   0.01737   0.03276    0.1103        23       416: 100% 27/27 [00:03<00:00,  7.13it/s]\n",
            "               Class      Images     Targets           P           R      mAP@.5  mAP@.5:.95: 100% 2/2 [00:00<00:00,  7.32it/s]\n",
            "                 all          42          32      0.0538       0.207       0.043     0.00686\n",
            "\n",
            "     Epoch   gpu_mem       box       obj       cls     total   targets  img_size\n",
            "    27/149     1.39G   0.05859   0.01795   0.03309    0.1096        21       416: 100% 27/27 [00:03<00:00,  7.09it/s]\n",
            "               Class      Images     Targets           P           R      mAP@.5  mAP@.5:.95: 100% 2/2 [00:00<00:00,  7.36it/s]\n",
            "                 all          42          32      0.0312       0.256      0.0314     0.00639\n",
            "\n",
            "     Epoch   gpu_mem       box       obj       cls     total   targets  img_size\n",
            "    28/149     1.39G   0.05932   0.01793   0.03331    0.1105        18       416: 100% 27/27 [00:03<00:00,  7.01it/s]\n",
            "               Class      Images     Targets           P           R      mAP@.5  mAP@.5:.95: 100% 2/2 [00:00<00:00,  7.31it/s]\n",
            "                 all          42          32      0.0165       0.197       0.021     0.00427\n",
            "\n",
            "     Epoch   gpu_mem       box       obj       cls     total   targets  img_size\n",
            "    29/149     1.39G   0.05807   0.01752   0.03329    0.1089        29       416: 100% 27/27 [00:03<00:00,  7.10it/s]\n",
            "               Class      Images     Targets           P           R      mAP@.5  mAP@.5:.95: 100% 2/2 [00:00<00:00,  7.39it/s]\n",
            "                 all          42          32      0.0171       0.521      0.0341     0.00825\n",
            "\n",
            "     Epoch   gpu_mem       box       obj       cls     total   targets  img_size\n",
            "    30/149     1.39G   0.05784   0.01808   0.03402    0.1099        26       416: 100% 27/27 [00:03<00:00,  7.14it/s]\n",
            "               Class      Images     Targets           P           R      mAP@.5  mAP@.5:.95: 100% 2/2 [00:00<00:00,  7.34it/s]\n",
            "                 all          42          32      0.0114        0.55      0.0141     0.00287\n",
            "\n",
            "     Epoch   gpu_mem       box       obj       cls     total   targets  img_size\n",
            "    31/149     1.39G   0.05763   0.01964   0.03372     0.111        23       416: 100% 27/27 [00:03<00:00,  7.27it/s]\n",
            "               Class      Images     Targets           P           R      mAP@.5  mAP@.5:.95: 100% 2/2 [00:00<00:00,  7.26it/s]\n",
            "                 all          42          32      0.0184       0.316      0.0278     0.00508\n",
            "\n",
            "     Epoch   gpu_mem       box       obj       cls     total   targets  img_size\n",
            "    32/149     1.39G   0.05818   0.01922   0.03389    0.1113        20       416: 100% 27/27 [00:03<00:00,  7.19it/s]\n",
            "               Class      Images     Targets           P           R      mAP@.5  mAP@.5:.95: 100% 2/2 [00:00<00:00,  7.08it/s]\n",
            "                 all          42          32      0.0357       0.639      0.0716      0.0119\n",
            "\n",
            "     Epoch   gpu_mem       box       obj       cls     total   targets  img_size\n",
            "    33/149     1.39G   0.05904   0.01889   0.03429    0.1122        13       416: 100% 27/27 [00:03<00:00,  7.19it/s]\n",
            "               Class      Images     Targets           P           R      mAP@.5  mAP@.5:.95: 100% 2/2 [00:00<00:00,  6.97it/s]\n",
            "                 all          42          32      0.0178       0.836      0.0399     0.00757\n",
            "\n",
            "     Epoch   gpu_mem       box       obj       cls     total   targets  img_size\n",
            "    34/149     1.39G   0.05667    0.0195    0.0337    0.1099        18       416: 100% 27/27 [00:03<00:00,  7.18it/s]\n",
            "               Class      Images     Targets           P           R      mAP@.5  mAP@.5:.95: 100% 2/2 [00:00<00:00,  7.31it/s]\n",
            "                 all          42          32      0.0146       0.388      0.0164     0.00284\n",
            "\n",
            "     Epoch   gpu_mem       box       obj       cls     total   targets  img_size\n",
            "    35/149     1.39G   0.05363   0.01843   0.03259    0.1047        12       416: 100% 27/27 [00:03<00:00,  7.31it/s]\n",
            "               Class      Images     Targets           P           R      mAP@.5  mAP@.5:.95: 100% 2/2 [00:00<00:00,  7.14it/s]\n",
            "                 all          42          32     0.00903       0.287      0.0101      0.0018\n",
            "\n",
            "     Epoch   gpu_mem       box       obj       cls     total   targets  img_size\n",
            "    36/149     1.39G   0.05688   0.01951   0.03305    0.1094        26       416: 100% 27/27 [00:03<00:00,  7.21it/s]\n",
            "               Class      Images     Targets           P           R      mAP@.5  mAP@.5:.95: 100% 2/2 [00:00<00:00,  7.04it/s]\n",
            "                 all          42          32      0.0141       0.128      0.0143      0.0032\n",
            "\n",
            "     Epoch   gpu_mem       box       obj       cls     total   targets  img_size\n",
            "    37/149     1.39G   0.05175   0.01908   0.03187    0.1027        29       416: 100% 27/27 [00:03<00:00,  7.24it/s]\n",
            "               Class      Images     Targets           P           R      mAP@.5  mAP@.5:.95: 100% 2/2 [00:00<00:00,  7.17it/s]\n",
            "                 all          42          32      0.0444       0.543      0.0795       0.016\n",
            "\n",
            "     Epoch   gpu_mem       box       obj       cls     total   targets  img_size\n",
            "    38/149     1.39G   0.04747   0.01832   0.03107   0.09687        26       416: 100% 27/27 [00:03<00:00,  7.28it/s]\n",
            "               Class      Images     Targets           P           R      mAP@.5  mAP@.5:.95: 100% 2/2 [00:00<00:00,  7.10it/s]\n",
            "                 all          42          32       0.037       0.182      0.0253     0.00614\n",
            "\n",
            "     Epoch   gpu_mem       box       obj       cls     total   targets  img_size\n",
            "    39/149     1.39G   0.05293   0.01843   0.03351    0.1049        20       416: 100% 27/27 [00:03<00:00,  7.24it/s]\n",
            "               Class      Images     Targets           P           R      mAP@.5  mAP@.5:.95: 100% 2/2 [00:00<00:00,  7.10it/s]\n",
            "                 all          42          32     0.00741       0.183     0.00699      0.0013\n",
            "\n",
            "     Epoch   gpu_mem       box       obj       cls     total   targets  img_size\n",
            "    40/149     1.39G   0.05195    0.0188   0.03328     0.104        16       416: 100% 27/27 [00:03<00:00,  7.21it/s]\n",
            "               Class      Images     Targets           P           R      mAP@.5  mAP@.5:.95: 100% 2/2 [00:00<00:00,  7.07it/s]\n",
            "                 all          42          32      0.0123       0.697      0.0133     0.00374\n",
            "\n",
            "     Epoch   gpu_mem       box       obj       cls     total   targets  img_size\n",
            "    41/149     1.39G   0.05186   0.01891   0.03285    0.1036        19       416: 100% 27/27 [00:03<00:00,  7.19it/s]\n",
            "               Class      Images     Targets           P           R      mAP@.5  mAP@.5:.95: 100% 2/2 [00:00<00:00,  6.99it/s]\n",
            "                 all          42          32      0.0326       0.623      0.0448      0.0075\n",
            "\n",
            "     Epoch   gpu_mem       box       obj       cls     total   targets  img_size\n",
            "    42/149     1.39G   0.04811   0.01858   0.03208   0.09877        17       416: 100% 27/27 [00:03<00:00,  7.23it/s]\n",
            "               Class      Images     Targets           P           R      mAP@.5  mAP@.5:.95: 100% 2/2 [00:00<00:00,  7.24it/s]\n",
            "                 all          42          32      0.0448       0.612      0.0599      0.0131\n",
            "\n",
            "     Epoch   gpu_mem       box       obj       cls     total   targets  img_size\n",
            "    43/149     1.39G   0.05098   0.01888   0.03257    0.1024        22       416: 100% 27/27 [00:03<00:00,  7.30it/s]\n",
            "               Class      Images     Targets           P           R      mAP@.5  mAP@.5:.95: 100% 2/2 [00:00<00:00,  7.42it/s]\n",
            "                 all          42          32       0.439      0.0588      0.0678       0.016\n",
            "\n",
            "     Epoch   gpu_mem       box       obj       cls     total   targets  img_size\n",
            "    44/149     1.39G    0.0508   0.01855    0.0333    0.1026        13       416: 100% 27/27 [00:03<00:00,  7.20it/s]\n",
            "               Class      Images     Targets           P           R      mAP@.5  mAP@.5:.95: 100% 2/2 [00:00<00:00,  7.08it/s]\n",
            "                 all          42          32      0.0722       0.119      0.0612      0.0163\n",
            "\n",
            "     Epoch   gpu_mem       box       obj       cls     total   targets  img_size\n",
            "    45/149     1.39G   0.04938   0.01892   0.03242    0.1007        21       416: 100% 27/27 [00:03<00:00,  7.24it/s]\n",
            "               Class      Images     Targets           P           R      mAP@.5  mAP@.5:.95: 100% 2/2 [00:00<00:00,  7.28it/s]\n",
            "                 all          42          32      0.0657      0.0392      0.0178     0.00594\n",
            "\n",
            "     Epoch   gpu_mem       box       obj       cls     total   targets  img_size\n",
            "    46/149     1.39G   0.04979   0.01752   0.03188    0.0992        23       416: 100% 27/27 [00:03<00:00,  7.19it/s]\n",
            "               Class      Images     Targets           P           R      mAP@.5  mAP@.5:.95: 100% 2/2 [00:00<00:00,  7.22it/s]\n",
            "                 all          42          32       0.464      0.0392      0.0583       0.013\n",
            "\n",
            "     Epoch   gpu_mem       box       obj       cls     total   targets  img_size\n",
            "    47/149     1.39G   0.04678   0.01742   0.03196   0.09616        18       416: 100% 27/27 [00:03<00:00,  7.28it/s]\n",
            "               Class      Images     Targets           P           R      mAP@.5  mAP@.5:.95: 100% 2/2 [00:00<00:00,  7.31it/s]\n",
            "                 all          42          32      0.0414       0.142      0.0348      0.0104\n",
            "\n",
            "     Epoch   gpu_mem       box       obj       cls     total   targets  img_size\n",
            "    48/149     1.39G   0.04687   0.01876   0.03145   0.09707        16       416: 100% 27/27 [00:03<00:00,  7.22it/s]\n",
            "               Class      Images     Targets           P           R      mAP@.5  mAP@.5:.95: 100% 2/2 [00:00<00:00,  7.43it/s]\n",
            "                 all          42          32      0.0201       0.266      0.0203     0.00554\n",
            "\n",
            "     Epoch   gpu_mem       box       obj       cls     total   targets  img_size\n",
            "    49/149     1.39G   0.05024   0.01895   0.03365    0.1028        30       416: 100% 27/27 [00:03<00:00,  7.19it/s]\n",
            "               Class      Images     Targets           P           R      mAP@.5  mAP@.5:.95: 100% 2/2 [00:00<00:00,  7.08it/s]\n",
            "                 all          42          32      0.0807       0.172      0.0483      0.0103\n",
            "\n",
            "     Epoch   gpu_mem       box       obj       cls     total   targets  img_size\n",
            "    50/149     1.39G   0.04435   0.01841   0.03217   0.09493        28       416: 100% 27/27 [00:03<00:00,  7.22it/s]\n",
            "               Class      Images     Targets           P           R      mAP@.5  mAP@.5:.95: 100% 2/2 [00:00<00:00,  7.01it/s]\n",
            "                 all          42          32       0.733      0.0588      0.0393     0.00778\n",
            "\n",
            "     Epoch   gpu_mem       box       obj       cls     total   targets  img_size\n",
            "    51/149     1.39G    0.0459   0.01725   0.03181   0.09495        22       416: 100% 27/27 [00:03<00:00,  7.28it/s]\n",
            "               Class      Images     Targets           P           R      mAP@.5  mAP@.5:.95: 100% 2/2 [00:00<00:00,  7.30it/s]\n",
            "                 all          42          32      0.0723        0.27      0.0845      0.0185\n",
            "\n",
            "     Epoch   gpu_mem       box       obj       cls     total   targets  img_size\n",
            "    52/149     1.39G   0.05197    0.0179   0.03184    0.1017        23       416: 100% 27/27 [00:03<00:00,  7.26it/s]\n",
            "               Class      Images     Targets           P           R      mAP@.5  mAP@.5:.95: 100% 2/2 [00:00<00:00,  7.17it/s]\n",
            "                 all          42          32      0.0507        0.37      0.0645      0.0128\n",
            "\n",
            "     Epoch   gpu_mem       box       obj       cls     total   targets  img_size\n",
            "    53/149     1.39G   0.04843   0.01862   0.03386    0.1009        19       416: 100% 27/27 [00:03<00:00,  7.15it/s]\n",
            "               Class      Images     Targets           P           R      mAP@.5  mAP@.5:.95: 100% 2/2 [00:00<00:00,  7.48it/s]\n",
            "                 all          42          32      0.0645        0.47       0.073      0.0124\n",
            "\n",
            "     Epoch   gpu_mem       box       obj       cls     total   targets  img_size\n",
            "    54/149     1.39G   0.04465   0.01741   0.03164    0.0937        22       416: 100% 27/27 [00:03<00:00,  7.26it/s]\n",
            "               Class      Images     Targets           P           R      mAP@.5  mAP@.5:.95: 100% 2/2 [00:00<00:00,  7.42it/s]\n",
            "                 all          42          32       0.064       0.393      0.0704      0.0149\n",
            "\n",
            "     Epoch   gpu_mem       box       obj       cls     total   targets  img_size\n",
            "    55/149     1.39G   0.04811   0.01829   0.03204   0.09844        23       416: 100% 27/27 [00:03<00:00,  7.25it/s]\n",
            "               Class      Images     Targets           P           R      mAP@.5  mAP@.5:.95: 100% 2/2 [00:00<00:00,  7.59it/s]\n",
            "                 all          42          32      0.0853       0.513       0.096      0.0205\n",
            "\n",
            "     Epoch   gpu_mem       box       obj       cls     total   targets  img_size\n",
            "    56/149     1.39G   0.04877   0.01667   0.03183   0.09727        12       416: 100% 27/27 [00:03<00:00,  7.18it/s]\n",
            "               Class      Images     Targets           P           R      mAP@.5  mAP@.5:.95: 100% 2/2 [00:00<00:00,  7.42it/s]\n",
            "                 all          42          32       0.203      0.0802      0.0667      0.0188\n",
            "\n",
            "     Epoch   gpu_mem       box       obj       cls     total   targets  img_size\n",
            "    57/149     1.39G   0.04576   0.01842   0.03086   0.09505        33       416: 100% 27/27 [00:03<00:00,  7.23it/s]\n",
            "               Class      Images     Targets           P           R      mAP@.5  mAP@.5:.95: 100% 2/2 [00:00<00:00,  7.64it/s]\n",
            "                 all          42          32       0.174        0.13        0.13      0.0291\n",
            "\n",
            "     Epoch   gpu_mem       box       obj       cls     total   targets  img_size\n",
            "    58/149     1.39G   0.04475    0.0178   0.03013   0.09268        29       416: 100% 27/27 [00:03<00:00,  7.22it/s]\n",
            "               Class      Images     Targets           P           R      mAP@.5  mAP@.5:.95: 100% 2/2 [00:00<00:00,  7.56it/s]\n",
            "                 all          42          32      0.0809       0.383       0.102      0.0348\n",
            "\n",
            "     Epoch   gpu_mem       box       obj       cls     total   targets  img_size\n",
            "    59/149     1.39G   0.04527   0.01832   0.02959   0.09319        30       416: 100% 27/27 [00:03<00:00,  7.33it/s]\n",
            "               Class      Images     Targets           P           R      mAP@.5  mAP@.5:.95: 100% 2/2 [00:00<00:00,  7.50it/s]\n",
            "                 all          42          32      0.0355        0.42      0.0365      0.0101\n",
            "\n",
            "     Epoch   gpu_mem       box       obj       cls     total   targets  img_size\n",
            "    60/149     1.39G   0.04628   0.01823    0.0299   0.09442        16       416: 100% 27/27 [00:03<00:00,  7.24it/s]\n",
            "               Class      Images     Targets           P           R      mAP@.5  mAP@.5:.95: 100% 2/2 [00:00<00:00,  7.36it/s]\n",
            "                 all          42          32      0.0963       0.519       0.167       0.043\n",
            "\n",
            "     Epoch   gpu_mem       box       obj       cls     total   targets  img_size\n",
            "    61/149     1.39G   0.04771   0.01884   0.03141   0.09796        20       416: 100% 27/27 [00:03<00:00,  7.18it/s]\n",
            "               Class      Images     Targets           P           R      mAP@.5  mAP@.5:.95: 100% 2/2 [00:00<00:00,  7.17it/s]\n",
            "                 all          42          32       0.063       0.191      0.0884      0.0296\n",
            "\n",
            "     Epoch   gpu_mem       box       obj       cls     total   targets  img_size\n",
            "    62/149     1.39G   0.04691   0.01725   0.03095    0.0951        17       416: 100% 27/27 [00:03<00:00,  7.21it/s]\n",
            "               Class      Images     Targets           P           R      mAP@.5  mAP@.5:.95: 100% 2/2 [00:00<00:00,  7.30it/s]\n",
            "                 all          42          32       0.294      0.0695       0.115      0.0283\n",
            "\n",
            "     Epoch   gpu_mem       box       obj       cls     total   targets  img_size\n",
            "    63/149     1.39G   0.04873    0.0175    0.0305   0.09673        21       416: 100% 27/27 [00:03<00:00,  7.27it/s]\n",
            "               Class      Images     Targets           P           R      mAP@.5  mAP@.5:.95: 100% 2/2 [00:00<00:00,  7.39it/s]\n",
            "                 all          42          32       0.107        0.26       0.108      0.0209\n",
            "\n",
            "     Epoch   gpu_mem       box       obj       cls     total   targets  img_size\n",
            "    64/149     1.39G   0.04556   0.01858   0.02984   0.09398        26       416: 100% 27/27 [00:03<00:00,  7.22it/s]\n",
            "               Class      Images     Targets           P           R      mAP@.5  mAP@.5:.95: 100% 2/2 [00:00<00:00,  7.68it/s]\n",
            "                 all          42          32      0.0587       0.445       0.063      0.0173\n",
            "\n",
            "     Epoch   gpu_mem       box       obj       cls     total   targets  img_size\n",
            "    65/149     1.39G   0.04649   0.01784   0.03145   0.09578        21       416: 100% 27/27 [00:03<00:00,  7.21it/s]\n",
            "               Class      Images     Targets           P           R      mAP@.5  mAP@.5:.95: 100% 2/2 [00:00<00:00,  7.45it/s]\n",
            "                 all          42          32       0.127      0.0891      0.0675      0.0191\n",
            "\n",
            "     Epoch   gpu_mem       box       obj       cls     total   targets  img_size\n",
            "    66/149     1.39G   0.04527   0.01792      0.03   0.09319        24       416: 100% 27/27 [00:03<00:00,  7.15it/s]\n",
            "               Class      Images     Targets           P           R      mAP@.5  mAP@.5:.95: 100% 2/2 [00:00<00:00,  7.45it/s]\n",
            "                 all          42          32      0.0273       0.749      0.0344     0.00802\n",
            "\n",
            "     Epoch   gpu_mem       box       obj       cls     total   targets  img_size\n",
            "    67/149     1.39G   0.04426   0.01714   0.02903   0.09043        26       416: 100% 27/27 [00:03<00:00,  7.17it/s]\n",
            "               Class      Images     Targets           P           R      mAP@.5  mAP@.5:.95: 100% 2/2 [00:00<00:00,  7.43it/s]\n",
            "                 all          42          32      0.0374       0.385      0.0382     0.00795\n",
            "\n",
            "     Epoch   gpu_mem       box       obj       cls     total   targets  img_size\n",
            "    68/149     1.39G   0.04554   0.01797   0.03053   0.09404        11       416: 100% 27/27 [00:03<00:00,  6.99it/s]\n",
            "               Class      Images     Targets           P           R      mAP@.5  mAP@.5:.95: 100% 2/2 [00:00<00:00,  7.36it/s]\n",
            "                 all          42          32      0.0852       0.457      0.0683      0.0135\n",
            "\n",
            "     Epoch   gpu_mem       box       obj       cls     total   targets  img_size\n",
            "    69/149     1.39G    0.0437   0.01713   0.02927    0.0901        18       416: 100% 27/27 [00:03<00:00,  7.15it/s]\n",
            "               Class      Images     Targets           P           R      mAP@.5  mAP@.5:.95: 100% 2/2 [00:00<00:00,  7.91it/s]\n",
            "                 all          42          32      0.0851       0.109      0.0679      0.0152\n",
            "\n",
            "     Epoch   gpu_mem       box       obj       cls     total   targets  img_size\n",
            "    70/149     1.39G   0.04613   0.01802   0.02974   0.09389        22       416: 100% 27/27 [00:03<00:00,  7.16it/s]\n",
            "               Class      Images     Targets           P           R      mAP@.5  mAP@.5:.95: 100% 2/2 [00:00<00:00,  7.53it/s]\n",
            "                 all          42          32      0.0451       0.242       0.065      0.0197\n",
            "\n",
            "     Epoch   gpu_mem       box       obj       cls     total   targets  img_size\n",
            "    71/149     1.39G   0.04567   0.01881   0.02967   0.09416        21       416: 100% 27/27 [00:03<00:00,  7.17it/s]\n",
            "               Class      Images     Targets           P           R      mAP@.5  mAP@.5:.95: 100% 2/2 [00:00<00:00,  7.35it/s]\n",
            "                 all          42          32      0.0571       0.434      0.0556      0.0148\n",
            "\n",
            "     Epoch   gpu_mem       box       obj       cls     total   targets  img_size\n",
            "    72/149     1.39G   0.04703   0.01797   0.03046   0.09546        13       416: 100% 27/27 [00:03<00:00,  7.19it/s]\n",
            "               Class      Images     Targets           P           R      mAP@.5  mAP@.5:.95: 100% 2/2 [00:00<00:00,  7.77it/s]\n",
            "                 all          42          32      0.0663       0.365      0.0567      0.0112\n",
            "\n",
            "     Epoch   gpu_mem       box       obj       cls     total   targets  img_size\n",
            "    73/149     1.39G   0.04425   0.01839    0.0294   0.09204        18       416: 100% 27/27 [00:03<00:00,  7.17it/s]\n",
            "               Class      Images     Targets           P           R      mAP@.5  mAP@.5:.95: 100% 2/2 [00:00<00:00,  7.75it/s]\n",
            "                 all          42          32      0.0911       0.452        0.11      0.0242\n",
            "\n",
            "     Epoch   gpu_mem       box       obj       cls     total   targets  img_size\n",
            "    74/149     1.39G   0.04319    0.0173   0.02964   0.09014        18       416: 100% 27/27 [00:03<00:00,  7.22it/s]\n",
            "               Class      Images     Targets           P           R      mAP@.5  mAP@.5:.95: 100% 2/2 [00:00<00:00,  7.40it/s]\n",
            "                 all          42          32      0.0434       0.272      0.0404     0.00908\n",
            "\n",
            "     Epoch   gpu_mem       box       obj       cls     total   targets  img_size\n",
            "    75/149     1.39G   0.04372   0.01716   0.02873   0.08961        21       416: 100% 27/27 [00:03<00:00,  7.30it/s]\n",
            "               Class      Images     Targets           P           R      mAP@.5  mAP@.5:.95: 100% 2/2 [00:00<00:00,  7.47it/s]\n",
            "                 all          42          32      0.0875       0.148      0.0328     0.00668\n",
            "\n",
            "     Epoch   gpu_mem       box       obj       cls     total   targets  img_size\n",
            "    76/149     1.39G    0.0427   0.01722   0.02781   0.08772        19       416: 100% 27/27 [00:03<00:00,  7.21it/s]\n",
            "               Class      Images     Targets           P           R      mAP@.5  mAP@.5:.95: 100% 2/2 [00:00<00:00,  7.46it/s]\n",
            "                 all          42          32      0.0597       0.472      0.0725       0.014\n",
            "\n",
            "     Epoch   gpu_mem       box       obj       cls     total   targets  img_size\n",
            "    77/149     1.39G    0.0433   0.01745   0.02972   0.09047        21       416: 100% 27/27 [00:03<00:00,  7.21it/s]\n",
            "               Class      Images     Targets           P           R      mAP@.5  mAP@.5:.95: 100% 2/2 [00:00<00:00,  7.66it/s]\n",
            "                 all          42          32      0.0914       0.392       0.106      0.0218\n",
            "\n",
            "     Epoch   gpu_mem       box       obj       cls     total   targets  img_size\n",
            "    78/149     1.39G   0.04158   0.01699   0.02822   0.08678        18       416: 100% 27/27 [00:03<00:00,  7.19it/s]\n",
            "               Class      Images     Targets           P           R      mAP@.5  mAP@.5:.95: 100% 2/2 [00:00<00:00,  7.51it/s]\n",
            "                 all          42          32      0.0916       0.109      0.0859      0.0166\n",
            "\n",
            "     Epoch   gpu_mem       box       obj       cls     total   targets  img_size\n",
            "    79/149     1.39G    0.0437   0.01632   0.02735   0.08737        22       416: 100% 27/27 [00:03<00:00,  7.26it/s]\n",
            "               Class      Images     Targets           P           R      mAP@.5  mAP@.5:.95: 100% 2/2 [00:00<00:00,  7.43it/s]\n",
            "                 all          42          32       0.118       0.212       0.102      0.0209\n",
            "\n",
            "     Epoch   gpu_mem       box       obj       cls     total   targets  img_size\n",
            "    80/149     1.39G   0.04382   0.01787   0.02772   0.08941        21       416: 100% 27/27 [00:03<00:00,  7.20it/s]\n",
            "               Class      Images     Targets           P           R      mAP@.5  mAP@.5:.95: 100% 2/2 [00:00<00:00,  7.57it/s]\n",
            "                 all          42          32      0.0835       0.325      0.0862      0.0182\n",
            "\n",
            "     Epoch   gpu_mem       box       obj       cls     total   targets  img_size\n",
            "    81/149     1.39G   0.04078   0.01755   0.02768   0.08601        18       416: 100% 27/27 [00:03<00:00,  7.18it/s]\n",
            "               Class      Images     Targets           P           R      mAP@.5  mAP@.5:.95: 100% 2/2 [00:00<00:00,  7.55it/s]\n",
            "                 all          42          32      0.0834       0.294      0.0869      0.0206\n",
            "\n",
            "     Epoch   gpu_mem       box       obj       cls     total   targets  img_size\n",
            "    82/149     1.39G   0.04387   0.01805   0.02628    0.0882        22       416: 100% 27/27 [00:03<00:00,  6.98it/s]\n",
            "               Class      Images     Targets           P           R      mAP@.5  mAP@.5:.95: 100% 2/2 [00:00<00:00,  7.31it/s]\n",
            "                 all          42          32      0.0538        0.21      0.0772      0.0188\n",
            "\n",
            "     Epoch   gpu_mem       box       obj       cls     total   targets  img_size\n",
            "    83/149     1.39G   0.04138    0.0176   0.02729   0.08627        15       416: 100% 27/27 [00:03<00:00,  7.23it/s]\n",
            "               Class      Images     Targets           P           R      mAP@.5  mAP@.5:.95: 100% 2/2 [00:00<00:00,  7.54it/s]\n",
            "                 all          42          32       0.555      0.0392      0.0568      0.0133\n",
            "\n",
            "     Epoch   gpu_mem       box       obj       cls     total   targets  img_size\n",
            "    84/149     1.39G   0.04361   0.01709   0.02474   0.08544        18       416: 100% 27/27 [00:03<00:00,  7.23it/s]\n",
            "               Class      Images     Targets           P           R      mAP@.5  mAP@.5:.95: 100% 2/2 [00:00<00:00,  7.86it/s]\n",
            "                 all          42          32      0.0469        0.26      0.0653      0.0134\n",
            "\n",
            "     Epoch   gpu_mem       box       obj       cls     total   targets  img_size\n",
            "    85/149     1.39G   0.04316   0.01848   0.02621   0.08785        19       416: 100% 27/27 [00:03<00:00,  7.15it/s]\n",
            "               Class      Images     Targets           P           R      mAP@.5  mAP@.5:.95: 100% 2/2 [00:00<00:00,  7.87it/s]\n",
            "                 all          42          32      0.0847       0.393      0.0955      0.0218\n",
            "\n",
            "     Epoch   gpu_mem       box       obj       cls     total   targets  img_size\n",
            "    86/149     1.39G   0.04254   0.01781   0.02713   0.08748        16       416: 100% 27/27 [00:03<00:00,  7.26it/s]\n",
            "               Class      Images     Targets           P           R      mAP@.5  mAP@.5:.95: 100% 2/2 [00:00<00:00,  7.63it/s]\n",
            "                 all          42          32      0.0865       0.567       0.108      0.0237\n",
            "\n",
            "     Epoch   gpu_mem       box       obj       cls     total   targets  img_size\n",
            "    87/149     1.39G   0.04261   0.01686   0.02597   0.08544        25       416: 100% 27/27 [00:03<00:00,  7.27it/s]\n",
            "               Class      Images     Targets           P           R      mAP@.5  mAP@.5:.95: 100% 2/2 [00:00<00:00,  7.37it/s]\n",
            "                 all          42          32      0.0965       0.416       0.097      0.0255\n",
            "\n",
            "     Epoch   gpu_mem       box       obj       cls     total   targets  img_size\n",
            "    88/149     1.39G   0.04634   0.01807   0.02798   0.09239        27       416: 100% 27/27 [00:03<00:00,  7.15it/s]\n",
            "               Class      Images     Targets           P           R      mAP@.5  mAP@.5:.95: 100% 2/2 [00:00<00:00,  7.56it/s]\n",
            "                 all          42          32      0.0825       0.119      0.0774      0.0203\n",
            "\n",
            "     Epoch   gpu_mem       box       obj       cls     total   targets  img_size\n",
            "    89/149     1.39G   0.04267   0.01702   0.02748   0.08717        20       416: 100% 27/27 [00:03<00:00,  7.27it/s]\n",
            "               Class      Images     Targets           P           R      mAP@.5  mAP@.5:.95: 100% 2/2 [00:00<00:00,  7.54it/s]\n",
            "                 all          42          32       0.577      0.0588      0.0867      0.0254\n",
            "\n",
            "     Epoch   gpu_mem       box       obj       cls     total   targets  img_size\n",
            "    90/149     1.39G   0.04159   0.01696   0.02836   0.08691        18       416: 100% 27/27 [00:03<00:00,  7.26it/s]\n",
            "               Class      Images     Targets           P           R      mAP@.5  mAP@.5:.95: 100% 2/2 [00:00<00:00,  7.65it/s]\n",
            "                 all          42          32      0.0683       0.575        0.11      0.0267\n",
            "\n",
            "     Epoch   gpu_mem       box       obj       cls     total   targets  img_size\n",
            "    91/149     1.39G   0.04364   0.01683   0.02707   0.08755        21       416: 100% 27/27 [00:03<00:00,  7.20it/s]\n",
            "               Class      Images     Targets           P           R      mAP@.5  mAP@.5:.95: 100% 2/2 [00:00<00:00,  7.68it/s]\n",
            "                 all          42          32       0.667      0.0588       0.099      0.0246\n",
            "\n",
            "     Epoch   gpu_mem       box       obj       cls     total   targets  img_size\n",
            "    92/149     1.39G   0.04222   0.01727   0.02669   0.08618        21       416: 100% 27/27 [00:03<00:00,  7.18it/s]\n",
            "               Class      Images     Targets           P           R      mAP@.5  mAP@.5:.95: 100% 2/2 [00:00<00:00,  7.67it/s]\n",
            "                 all          42          32        0.58      0.0588      0.0888        0.02\n",
            "\n",
            "     Epoch   gpu_mem       box       obj       cls     total   targets  img_size\n",
            "    93/149     1.39G   0.04122   0.01704   0.02632   0.08458        21       416: 100% 27/27 [00:03<00:00,  7.20it/s]\n",
            "               Class      Images     Targets           P           R      mAP@.5  mAP@.5:.95: 100% 2/2 [00:00<00:00,  7.70it/s]\n",
            "                 all          42          32         0.1       0.324       0.122      0.0238\n",
            "\n",
            "     Epoch   gpu_mem       box       obj       cls     total   targets  img_size\n",
            "    94/149     1.39G   0.04008   0.01803   0.02505   0.08316        18       416: 100% 27/27 [00:03<00:00,  7.23it/s]\n",
            "               Class      Images     Targets           P           R      mAP@.5  mAP@.5:.95: 100% 2/2 [00:00<00:00,  7.64it/s]\n",
            "                 all          42          32       0.101       0.508       0.142      0.0368\n",
            "\n",
            "     Epoch   gpu_mem       box       obj       cls     total   targets  img_size\n",
            "    95/149     1.39G   0.03941   0.01711   0.02453   0.08106        19       416: 100% 27/27 [00:03<00:00,  7.26it/s]\n",
            "               Class      Images     Targets           P           R      mAP@.5  mAP@.5:.95: 100% 2/2 [00:00<00:00,  7.63it/s]\n",
            "                 all          42          32       0.119        0.46       0.121      0.0325\n",
            "\n",
            "     Epoch   gpu_mem       box       obj       cls     total   targets  img_size\n",
            "    96/149     1.39G   0.04443    0.0187   0.02465   0.08778        20       416: 100% 27/27 [00:03<00:00,  7.13it/s]\n",
            "               Class      Images     Targets           P           R      mAP@.5  mAP@.5:.95: 100% 2/2 [00:00<00:00,  7.53it/s]\n",
            "                 all          42          32        0.16       0.407      0.0863      0.0198\n",
            "\n",
            "     Epoch   gpu_mem       box       obj       cls     total   targets  img_size\n",
            "    97/149     1.39G   0.04548   0.01762   0.02629   0.08939        23       416: 100% 27/27 [00:03<00:00,  7.22it/s]\n",
            "               Class      Images     Targets           P           R      mAP@.5  mAP@.5:.95: 100% 2/2 [00:00<00:00,  7.53it/s]\n",
            "                 all          42          32       0.107       0.283      0.0921      0.0189\n",
            "\n",
            "     Epoch   gpu_mem       box       obj       cls     total   targets  img_size\n",
            "    98/149     1.39G   0.04278   0.01708   0.02623   0.08608        26       416: 100% 27/27 [00:03<00:00,  7.21it/s]\n",
            "               Class      Images     Targets           P           R      mAP@.5  mAP@.5:.95: 100% 2/2 [00:00<00:00,  7.89it/s]\n",
            "                 all          42          32      0.0842       0.341       0.103      0.0209\n",
            "\n",
            "     Epoch   gpu_mem       box       obj       cls     total   targets  img_size\n",
            "    99/149     1.39G   0.04321   0.01663   0.02587   0.08571        26       416: 100% 27/27 [00:03<00:00,  7.27it/s]\n",
            "               Class      Images     Targets           P           R      mAP@.5  mAP@.5:.95: 100% 2/2 [00:00<00:00,  7.85it/s]\n",
            "                 all          42          32      0.0731       0.392       0.122      0.0302\n",
            "\n",
            "     Epoch   gpu_mem       box       obj       cls     total   targets  img_size\n",
            "   100/149     1.39G   0.04371   0.01706   0.02504   0.08582        18       416: 100% 27/27 [00:03<00:00,  7.19it/s]\n",
            "               Class      Images     Targets           P           R      mAP@.5  mAP@.5:.95: 100% 2/2 [00:00<00:00,  7.54it/s]\n",
            "                 all          42          32      0.0918       0.342       0.109      0.0207\n",
            "\n",
            "     Epoch   gpu_mem       box       obj       cls     total   targets  img_size\n",
            "   101/149     1.39G   0.04495   0.01695   0.02704   0.08894        25       416: 100% 27/27 [00:03<00:00,  7.15it/s]\n",
            "               Class      Images     Targets           P           R      mAP@.5  mAP@.5:.95: 100% 2/2 [00:00<00:00,  7.37it/s]\n",
            "                 all          42          32       0.558        0.14        0.15        0.04\n",
            "\n",
            "     Epoch   gpu_mem       box       obj       cls     total   targets  img_size\n",
            "   102/149     1.39G   0.04153   0.01835   0.02414   0.08403        25       416: 100% 27/27 [00:03<00:00,  7.25it/s]\n",
            "               Class      Images     Targets           P           R      mAP@.5  mAP@.5:.95: 100% 2/2 [00:00<00:00,  8.06it/s]\n",
            "                 all          42          32      0.0923       0.507       0.129      0.0357\n",
            "\n",
            "     Epoch   gpu_mem       box       obj       cls     total   targets  img_size\n",
            "   103/149     1.39G   0.04128   0.01779   0.02492   0.08399        21       416: 100% 27/27 [00:03<00:00,  7.29it/s]\n",
            "               Class      Images     Targets           P           R      mAP@.5  mAP@.5:.95: 100% 2/2 [00:00<00:00,  7.71it/s]\n",
            "                 all          42          32      0.0748       0.481      0.0949      0.0217\n",
            "\n",
            "     Epoch   gpu_mem       box       obj       cls     total   targets  img_size\n",
            "   104/149     1.39G    0.0395   0.01598   0.02391   0.07939        18       416: 100% 27/27 [00:03<00:00,  7.21it/s]\n",
            "               Class      Images     Targets           P           R      mAP@.5  mAP@.5:.95: 100% 2/2 [00:00<00:00,  7.22it/s]\n",
            "                 all          42          32      0.0465       0.308      0.0826      0.0233\n",
            "\n",
            "     Epoch   gpu_mem       box       obj       cls     total   targets  img_size\n",
            "   105/149     1.39G   0.04119   0.01722   0.02513   0.08354        23       416: 100% 27/27 [00:03<00:00,  7.20it/s]\n",
            "               Class      Images     Targets           P           R      mAP@.5  mAP@.5:.95: 100% 2/2 [00:00<00:00,  7.56it/s]\n",
            "                 all          42          32      0.0703        0.74       0.107       0.021\n",
            "\n",
            "     Epoch   gpu_mem       box       obj       cls     total   targets  img_size\n",
            "   106/149     1.39G   0.03839   0.01659   0.02294   0.07793        23       416: 100% 27/27 [00:03<00:00,  7.21it/s]\n",
            "               Class      Images     Targets           P           R      mAP@.5  mAP@.5:.95: 100% 2/2 [00:00<00:00,  7.76it/s]\n",
            "                 all          42          32       0.106       0.284      0.0916      0.0214\n",
            "\n",
            "     Epoch   gpu_mem       box       obj       cls     total   targets  img_size\n",
            "   107/149     1.39G   0.04412   0.01765   0.02252   0.08429        21       416: 100% 27/27 [00:03<00:00,  7.28it/s]\n",
            "               Class      Images     Targets           P           R      mAP@.5  mAP@.5:.95: 100% 2/2 [00:00<00:00,  7.33it/s]\n",
            "                 all          42          32      0.0502       0.553      0.0729      0.0259\n",
            "\n",
            "     Epoch   gpu_mem       box       obj       cls     total   targets  img_size\n",
            "   108/149     1.39G   0.04165    0.0171   0.02397   0.08272        18       416: 100% 27/27 [00:03<00:00,  7.20it/s]\n",
            "               Class      Images     Targets           P           R      mAP@.5  mAP@.5:.95: 100% 2/2 [00:00<00:00,  7.47it/s]\n",
            "                 all          42          32      0.0771       0.395       0.116      0.0293\n",
            "\n",
            "     Epoch   gpu_mem       box       obj       cls     total   targets  img_size\n",
            "   109/149     1.39G   0.04058   0.01834   0.02327   0.08219        18       416: 100% 27/27 [00:03<00:00,  7.13it/s]\n",
            "               Class      Images     Targets           P           R      mAP@.5  mAP@.5:.95: 100% 2/2 [00:00<00:00,  8.03it/s]\n",
            "                 all          42          32      0.0973       0.328      0.0995      0.0244\n",
            "\n",
            "     Epoch   gpu_mem       box       obj       cls     total   targets  img_size\n",
            "   110/149     1.39G   0.03777   0.01699    0.0223   0.07706        24       416: 100% 27/27 [00:03<00:00,  7.28it/s]\n",
            "               Class      Images     Targets           P           R      mAP@.5  mAP@.5:.95: 100% 2/2 [00:00<00:00,  7.52it/s]\n",
            "                 all          42          32        0.12       0.349       0.148        0.04\n",
            "\n",
            "     Epoch   gpu_mem       box       obj       cls     total   targets  img_size\n",
            "   111/149     1.39G   0.04171   0.01675   0.02373    0.0822        24       416: 100% 27/27 [00:03<00:00,  7.28it/s]\n",
            "               Class      Images     Targets           P           R      mAP@.5  mAP@.5:.95: 100% 2/2 [00:00<00:00,  7.35it/s]\n",
            "                 all          42          32        0.11        0.48       0.157      0.0374\n",
            "\n",
            "     Epoch   gpu_mem       box       obj       cls     total   targets  img_size\n",
            "   112/149     1.39G   0.03888   0.01668   0.02341   0.07897        20       416: 100% 27/27 [00:03<00:00,  7.18it/s]\n",
            "               Class      Images     Targets           P           R      mAP@.5  mAP@.5:.95: 100% 2/2 [00:00<00:00,  7.65it/s]\n",
            "                 all          42          32        0.11       0.451       0.147      0.0339\n",
            "\n",
            "     Epoch   gpu_mem       box       obj       cls     total   targets  img_size\n",
            "   113/149     1.39G   0.03984   0.01705   0.02308   0.07997        18       416: 100% 27/27 [00:03<00:00,  7.22it/s]\n",
            "               Class      Images     Targets           P           R      mAP@.5  mAP@.5:.95: 100% 2/2 [00:00<00:00,  7.52it/s]\n",
            "                 all          42          32       0.099       0.569       0.134      0.0279\n",
            "\n",
            "     Epoch   gpu_mem       box       obj       cls     total   targets  img_size\n",
            "   114/149     1.39G   0.03947    0.0158   0.02328   0.07856        21       416: 100% 27/27 [00:03<00:00,  7.25it/s]\n",
            "               Class      Images     Targets           P           R      mAP@.5  mAP@.5:.95: 100% 2/2 [00:00<00:00,  7.38it/s]\n",
            "                 all          42          32       0.138       0.495       0.169      0.0346\n",
            "\n",
            "     Epoch   gpu_mem       box       obj       cls     total   targets  img_size\n",
            "   115/149     1.39G   0.04087    0.0172   0.02216   0.08023        21       416: 100% 27/27 [00:03<00:00,  7.23it/s]\n",
            "               Class      Images     Targets           P           R      mAP@.5  mAP@.5:.95: 100% 2/2 [00:00<00:00,  7.43it/s]\n",
            "                 all          42          32       0.231       0.162       0.187      0.0287\n",
            "\n",
            "     Epoch   gpu_mem       box       obj       cls     total   targets  img_size\n",
            "   116/149     1.39G   0.03989    0.0171   0.02255   0.07953        19       416: 100% 27/27 [00:03<00:00,  7.24it/s]\n",
            "               Class      Images     Targets           P           R      mAP@.5  mAP@.5:.95: 100% 2/2 [00:00<00:00,  7.85it/s]\n",
            "                 all          42          32       0.123       0.201        0.14      0.0337\n",
            "\n",
            "     Epoch   gpu_mem       box       obj       cls     total   targets  img_size\n",
            "   117/149     1.39G   0.04229   0.01686   0.02505    0.0842        21       416: 100% 27/27 [00:03<00:00,  7.18it/s]\n",
            "               Class      Images     Targets           P           R      mAP@.5  mAP@.5:.95: 100% 2/2 [00:00<00:00,  7.62it/s]\n",
            "                 all          42          32      0.0809       0.493       0.119      0.0312\n",
            "\n",
            "     Epoch   gpu_mem       box       obj       cls     total   targets  img_size\n",
            "   118/149     1.39G   0.04164   0.01663   0.02158   0.07985        19       416: 100% 27/27 [00:03<00:00,  7.11it/s]\n",
            "               Class      Images     Targets           P           R      mAP@.5  mAP@.5:.95: 100% 2/2 [00:00<00:00,  7.60it/s]\n",
            "                 all          42          32      0.0728       0.351       0.105      0.0283\n",
            "\n",
            "     Epoch   gpu_mem       box       obj       cls     total   targets  img_size\n",
            "   119/149     1.39G   0.04144   0.01684   0.02221   0.08049        15       416: 100% 27/27 [00:03<00:00,  7.22it/s]\n",
            "               Class      Images     Targets           P           R      mAP@.5  mAP@.5:.95: 100% 2/2 [00:00<00:00,  7.81it/s]\n",
            "                 all          42          32       0.155       0.295       0.157      0.0492\n",
            "\n",
            "     Epoch   gpu_mem       box       obj       cls     total   targets  img_size\n",
            "   120/149     1.39G   0.03936   0.01646   0.02291   0.07873        22       416: 100% 27/27 [00:03<00:00,  7.15it/s]\n",
            "               Class      Images     Targets           P           R      mAP@.5  mAP@.5:.95: 100% 2/2 [00:00<00:00,  7.55it/s]\n",
            "                 all          42          32       0.111       0.495       0.137      0.0346\n",
            "\n",
            "     Epoch   gpu_mem       box       obj       cls     total   targets  img_size\n",
            "   121/149     1.39G   0.04001   0.01634    0.0244   0.08075        20       416: 100% 27/27 [00:03<00:00,  7.19it/s]\n",
            "               Class      Images     Targets           P           R      mAP@.5  mAP@.5:.95: 100% 2/2 [00:00<00:00,  7.75it/s]\n",
            "                 all          42          32       0.105       0.372       0.143      0.0434\n",
            "\n",
            "     Epoch   gpu_mem       box       obj       cls     total   targets  img_size\n",
            "   122/149     1.39G   0.03792   0.01777   0.02368   0.07937        26       416: 100% 27/27 [00:03<00:00,  7.15it/s]\n",
            "               Class      Images     Targets           P           R      mAP@.5  mAP@.5:.95: 100% 2/2 [00:00<00:00,  7.45it/s]\n",
            "                 all          42          32       0.127       0.201       0.129      0.0348\n",
            "\n",
            "     Epoch   gpu_mem       box       obj       cls     total   targets  img_size\n",
            "   123/149     1.39G   0.04207   0.01736    0.0221   0.08153        22       416: 100% 27/27 [00:03<00:00,  7.23it/s]\n",
            "               Class      Images     Targets           P           R      mAP@.5  mAP@.5:.95: 100% 2/2 [00:00<00:00,  7.54it/s]\n",
            "                 all          42          32      0.0911        0.26       0.122      0.0374\n",
            "\n",
            "     Epoch   gpu_mem       box       obj       cls     total   targets  img_size\n",
            "   124/149     1.39G   0.04019    0.0173   0.02275   0.08024        18       416: 100% 27/27 [00:03<00:00,  7.22it/s]\n",
            "               Class      Images     Targets           P           R      mAP@.5  mAP@.5:.95: 100% 2/2 [00:00<00:00,  7.76it/s]\n",
            "                 all          42          32      0.0899        0.32       0.112      0.0288\n",
            "\n",
            "     Epoch   gpu_mem       box       obj       cls     total   targets  img_size\n",
            "   125/149     1.39G   0.03949   0.01706    0.0219   0.07845        17       416: 100% 27/27 [00:03<00:00,  7.19it/s]\n",
            "               Class      Images     Targets           P           R      mAP@.5  mAP@.5:.95: 100% 2/2 [00:00<00:00,  7.51it/s]\n",
            "                 all          42          32       0.111       0.393       0.134      0.0301\n",
            "\n",
            "     Epoch   gpu_mem       box       obj       cls     total   targets  img_size\n",
            "   126/149     1.39G   0.04199   0.01776   0.02096   0.08071        19       416: 100% 27/27 [00:03<00:00,  7.12it/s]\n",
            "               Class      Images     Targets           P           R      mAP@.5  mAP@.5:.95: 100% 2/2 [00:00<00:00,  7.83it/s]\n",
            "                 all          42          32        0.11       0.278       0.123      0.0281\n",
            "\n",
            "     Epoch   gpu_mem       box       obj       cls     total   targets  img_size\n",
            "   127/149     1.39G   0.04041   0.01601   0.02142   0.07784        29       416: 100% 27/27 [00:03<00:00,  7.26it/s]\n",
            "               Class      Images     Targets           P           R      mAP@.5  mAP@.5:.95: 100% 2/2 [00:00<00:00,  7.66it/s]\n",
            "                 all          42          32      0.0919        0.31       0.138      0.0374\n",
            "\n",
            "     Epoch   gpu_mem       box       obj       cls     total   targets  img_size\n",
            "   128/149     1.39G   0.04115     0.017   0.01969   0.07784        22       416: 100% 27/27 [00:03<00:00,  7.21it/s]\n",
            "               Class      Images     Targets           P           R      mAP@.5  mAP@.5:.95: 100% 2/2 [00:00<00:00,  7.56it/s]\n",
            "                 all          42          32       0.148       0.289       0.178      0.0462\n",
            "\n",
            "     Epoch   gpu_mem       box       obj       cls     total   targets  img_size\n",
            "   129/149     1.39G   0.03845   0.01796   0.01738   0.07379        19       416: 100% 27/27 [00:03<00:00,  7.23it/s]\n",
            "               Class      Images     Targets           P           R      mAP@.5  mAP@.5:.95: 100% 2/2 [00:00<00:00,  7.91it/s]\n",
            "                 all          42          32       0.201       0.393       0.192      0.0473\n",
            "\n",
            "     Epoch   gpu_mem       box       obj       cls     total   targets  img_size\n",
            "   130/149     1.39G   0.03835   0.01679   0.02061   0.07575        23       416: 100% 27/27 [00:03<00:00,  7.26it/s]\n",
            "               Class      Images     Targets           P           R      mAP@.5  mAP@.5:.95: 100% 2/2 [00:00<00:00,  7.81it/s]\n",
            "                 all          42          32       0.143       0.473       0.199      0.0492\n",
            "\n",
            "     Epoch   gpu_mem       box       obj       cls     total   targets  img_size\n",
            "   131/149     1.39G   0.04097   0.01621   0.02014   0.07732        19       416: 100% 27/27 [00:03<00:00,  7.24it/s]\n",
            "               Class      Images     Targets           P           R      mAP@.5  mAP@.5:.95: 100% 2/2 [00:00<00:00,  7.68it/s]\n",
            "                 all          42          32       0.177       0.335       0.193      0.0595\n",
            "\n",
            "     Epoch   gpu_mem       box       obj       cls     total   targets  img_size\n",
            "   132/149     1.39G   0.04017   0.01667   0.01889   0.07573        27       416: 100% 27/27 [00:03<00:00,  7.22it/s]\n",
            "               Class      Images     Targets           P           R      mAP@.5  mAP@.5:.95: 100% 2/2 [00:00<00:00,  7.70it/s]\n",
            "                 all          42          32       0.166       0.226       0.187       0.051\n",
            "\n",
            "     Epoch   gpu_mem       box       obj       cls     total   targets  img_size\n",
            "   133/149     1.39G   0.04136   0.01613   0.02235   0.07985        18       416: 100% 27/27 [00:03<00:00,  7.17it/s]\n",
            "               Class      Images     Targets           P           R      mAP@.5  mAP@.5:.95: 100% 2/2 [00:00<00:00,  7.83it/s]\n",
            "                 all          42          32        0.13       0.503       0.188       0.061\n",
            "\n",
            "     Epoch   gpu_mem       box       obj       cls     total   targets  img_size\n",
            "   134/149     1.39G    0.0431   0.01726    0.0209   0.08125        18       416: 100% 27/27 [00:03<00:00,  7.18it/s]\n",
            "               Class      Images     Targets           P           R      mAP@.5  mAP@.5:.95: 100% 2/2 [00:00<00:00,  7.55it/s]\n",
            "                 all          42          32       0.116       0.242        0.13      0.0442\n",
            "\n",
            "     Epoch   gpu_mem       box       obj       cls     total   targets  img_size\n",
            "   135/149     1.39G   0.04016   0.01652    0.0211   0.07777        21       416: 100% 27/27 [00:03<00:00,  7.25it/s]\n",
            "               Class      Images     Targets           P           R      mAP@.5  mAP@.5:.95: 100% 2/2 [00:00<00:00,  7.81it/s]\n",
            "                 all          42          32       0.124       0.481       0.171      0.0522\n",
            "\n",
            "     Epoch   gpu_mem       box       obj       cls     total   targets  img_size\n",
            "   136/149     1.39G   0.03894   0.01622   0.02006   0.07523        22       416: 100% 27/27 [00:03<00:00,  7.23it/s]\n",
            "               Class      Images     Targets           P           R      mAP@.5  mAP@.5:.95: 100% 2/2 [00:00<00:00,  7.84it/s]\n",
            "                 all          42          32       0.186       0.226       0.191      0.0583\n",
            "\n",
            "     Epoch   gpu_mem       box       obj       cls     total   targets  img_size\n",
            "   137/149     1.39G   0.03814   0.01664   0.01939   0.07417        16       416: 100% 27/27 [00:03<00:00,  7.24it/s]\n",
            "               Class      Images     Targets           P           R      mAP@.5  mAP@.5:.95: 100% 2/2 [00:00<00:00,  7.93it/s]\n",
            "                 all          42          32       0.168       0.217       0.166      0.0476\n",
            "\n",
            "     Epoch   gpu_mem       box       obj       cls     total   targets  img_size\n",
            "   138/149     1.39G   0.04177     0.017    0.0195   0.07827        16       416: 100% 27/27 [00:03<00:00,  7.21it/s]\n",
            "               Class      Images     Targets           P           R      mAP@.5  mAP@.5:.95: 100% 2/2 [00:00<00:00,  7.49it/s]\n",
            "                 all          42          32        0.14       0.372        0.16      0.0424\n",
            "\n",
            "     Epoch   gpu_mem       box       obj       cls     total   targets  img_size\n",
            "   139/149     1.39G   0.03749   0.01678   0.01837   0.07265        12       416: 100% 27/27 [00:03<00:00,  7.26it/s]\n",
            "               Class      Images     Targets           P           R      mAP@.5  mAP@.5:.95: 100% 2/2 [00:00<00:00,  7.69it/s]\n",
            "                 all          42          32      0.0775       0.406       0.111      0.0304\n",
            "\n",
            "     Epoch   gpu_mem       box       obj       cls     total   targets  img_size\n",
            "   140/149     1.39G   0.03938   0.01563   0.01947   0.07448        20       416: 100% 27/27 [00:03<00:00,  7.19it/s]\n",
            "               Class      Images     Targets           P           R      mAP@.5  mAP@.5:.95: 100% 2/2 [00:00<00:00,  7.62it/s]\n",
            "                 all          42          32       0.167       0.172       0.124      0.0292\n",
            "\n",
            "     Epoch   gpu_mem       box       obj       cls     total   targets  img_size\n",
            "   141/149     1.39G   0.04097   0.01772   0.01846   0.07715        28       416: 100% 27/27 [00:03<00:00,  7.13it/s]\n",
            "               Class      Images     Targets           P           R      mAP@.5  mAP@.5:.95: 100% 2/2 [00:00<00:00,  7.79it/s]\n",
            "                 all          42          32       0.134        0.29       0.158      0.0403\n",
            "\n",
            "     Epoch   gpu_mem       box       obj       cls     total   targets  img_size\n",
            "   142/149     1.39G   0.03828   0.01727   0.01794   0.07348        24       416: 100% 27/27 [00:03<00:00,  7.21it/s]\n",
            "               Class      Images     Targets           P           R      mAP@.5  mAP@.5:.95: 100% 2/2 [00:00<00:00,  7.80it/s]\n",
            "                 all          42          32        0.16       0.473       0.185       0.053\n",
            "\n",
            "     Epoch   gpu_mem       box       obj       cls     total   targets  img_size\n",
            "   143/149     1.39G     0.038   0.01602   0.01682   0.07083        24       416: 100% 27/27 [00:03<00:00,  7.26it/s]\n",
            "               Class      Images     Targets           P           R      mAP@.5  mAP@.5:.95: 100% 2/2 [00:00<00:00,  7.65it/s]\n",
            "                 all          42          32       0.195        0.66       0.242      0.0681\n",
            "\n",
            "     Epoch   gpu_mem       box       obj       cls     total   targets  img_size\n",
            "   144/149     1.39G   0.04129    0.0165   0.01725   0.07504        14       416: 100% 27/27 [00:03<00:00,  7.17it/s]\n",
            "               Class      Images     Targets           P           R      mAP@.5  mAP@.5:.95: 100% 2/2 [00:00<00:00,  7.94it/s]\n",
            "                 all          42          32       0.164       0.567       0.205      0.0522\n",
            "\n",
            "     Epoch   gpu_mem       box       obj       cls     total   targets  img_size\n",
            "   145/149     1.39G   0.03708   0.01657   0.02021   0.07386        28       416: 100% 27/27 [00:03<00:00,  7.20it/s]\n",
            "               Class      Images     Targets           P           R      mAP@.5  mAP@.5:.95: 100% 2/2 [00:00<00:00,  7.67it/s]\n",
            "                 all          42          32       0.215       0.321       0.178      0.0442\n",
            "\n",
            "     Epoch   gpu_mem       box       obj       cls     total   targets  img_size\n",
            "   146/149     1.39G    0.0387   0.01768   0.01848   0.07486        14       416: 100% 27/27 [00:03<00:00,  7.19it/s]\n",
            "               Class      Images     Targets           P           R      mAP@.5  mAP@.5:.95: 100% 2/2 [00:00<00:00,  7.75it/s]\n",
            "                 all          42          32       0.213       0.303       0.176      0.0486\n",
            "\n",
            "     Epoch   gpu_mem       box       obj       cls     total   targets  img_size\n",
            "   147/149     1.39G   0.03809   0.01672   0.01721   0.07202        16       416: 100% 27/27 [00:03<00:00,  7.19it/s]\n",
            "               Class      Images     Targets           P           R      mAP@.5  mAP@.5:.95: 100% 2/2 [00:00<00:00,  7.57it/s]\n",
            "                 all          42          32       0.146       0.381       0.159      0.0457\n",
            "\n",
            "     Epoch   gpu_mem       box       obj       cls     total   targets  img_size\n",
            "   148/149     1.39G   0.04007   0.01587   0.01726   0.07321        28       416: 100% 27/27 [00:03<00:00,  7.22it/s]\n",
            "               Class      Images     Targets           P           R      mAP@.5  mAP@.5:.95: 100% 2/2 [00:00<00:00,  7.82it/s]\n",
            "                 all          42          32       0.603       0.179       0.175      0.0479\n",
            "\n",
            "     Epoch   gpu_mem       box       obj       cls     total   targets  img_size\n",
            "   149/149     1.39G   0.03721   0.01632   0.01871   0.07224        20       416: 100% 27/27 [00:03<00:00,  7.17it/s]\n",
            "               Class      Images     Targets           P           R      mAP@.5  mAP@.5:.95: 100% 2/2 [00:00<00:00,  3.74it/s]\n",
            "                 all          42          32       0.134       0.267        0.19      0.0504\n",
            "             dorphin          42           4      0.0308        0.25      0.0454     0.00785\n",
            "           manta_ray          42          17       0.328        0.46        0.41       0.118\n",
            "               shark          42          11      0.0427      0.0909       0.113      0.0256\n",
            "Optimizer stripped from runs/train/yolov5l_results/weights/last.pt, 14.8MB\n",
            "Optimizer stripped from runs/train/yolov5l_results/weights/best.pt, 14.8MB\n",
            "150 epochs completed in 0.191 hours.\n",
            "\n",
            "CPU times: user 11 s, sys: 2.24 s, total: 13.2 s\n",
            "Wall time: 11min 53s\n"
          ]
        }
      ]
    },
    {
      "cell_type": "markdown",
      "metadata": {
        "id": "kJVs_4zEeVbF"
      },
      "source": [
        "# Evaluate Custom YOLOv5 Detector Performance"
      ]
    },
    {
      "cell_type": "code",
      "metadata": {
        "id": "64hxpt4YHgQv"
      },
      "source": [
        "!nvcc --version"
      ],
      "execution_count": null,
      "outputs": []
    },
    {
      "cell_type": "markdown",
      "metadata": {
        "id": "7KN5ghjE6ZWh"
      },
      "source": [
        "Training losses and performance metrics are saved to Tensorboard and also to a logfile defined above with the **--name** flag when we train. In our case, we named this `yolov5s_results`. (If given no name, it defaults to `results.txt`.) The results file is plotted as a png after training completes.\n",
        "\n",
        "Note from Glenn: Partially completed `results.txt` files can be plotted with `from utils.utils import plot_results; plot_results()`."
      ]
    },
    {
      "cell_type": "code",
      "metadata": {
        "id": "bOy5KI2ncnWd"
      },
      "source": [
        "# Start tensorboard\n",
        "# Launch after you have started training\n",
        "# logs save in the folder \"runs\"\n",
        "%load_ext tensorboard\n",
        "%tensorboard --logdir runs"
      ],
      "execution_count": null,
      "outputs": []
    },
    {
      "cell_type": "code",
      "metadata": {
        "id": "C60XAsyv6OPe"
      },
      "source": [
        "# we can also output some older school graphs if the tensor board isn't working for whatever reason... \n",
        "from utils.plots import plot_results  # plot results.txt as results.png\n",
        "Image(filename='/content/yolov5/runs/train/yolov5s_results/results.png', width=1000)  # view results.png"
      ],
      "execution_count": null,
      "outputs": []
    },
    {
      "cell_type": "markdown",
      "metadata": {
        "id": "DLI1JmHU7B0l"
      },
      "source": [
        "### Curious? Visualize Our Training Data with Labels\n",
        "\n",
        "After training starts, view `train*.jpg` images to see training images, labels and augmentation effects.\n",
        "\n",
        "Note a mosaic dataloader is used for training (shown below), a new dataloading concept developed by Glenn Jocher and first featured in [YOLOv4](https://arxiv.org/abs/2004.10934)."
      ]
    },
    {
      "cell_type": "code",
      "metadata": {
        "id": "PF9MLHDb7tB6"
      },
      "source": [
        "# first, display our ground truth data\n",
        "print(\"GROUND TRUTH TRAINING DATA:\")\n",
        "Image(filename='/content/yolov5/runs/train/yolov5s_results/test_batch0_labels.jpg', width=900)"
      ],
      "execution_count": null,
      "outputs": []
    },
    {
      "cell_type": "code",
      "metadata": {
        "id": "W40tI99_7BcH"
      },
      "source": [
        "# print out an augmented training example\n",
        "print(\"GROUND TRUTH AUGMENTED TRAINING DATA:\")\n",
        "Image(filename='/content/yolov5/runs/train/yolov5s_results/train_batch0.jpg', width=900)"
      ],
      "execution_count": null,
      "outputs": []
    },
    {
      "cell_type": "markdown",
      "metadata": {
        "id": "N3qM6T0W53gh"
      },
      "source": [
        "#Run Inference  With Trained Weights\n",
        "Run inference with a pretrained checkpoint on contents of `test/images` folder downloaded from Roboflow."
      ]
    },
    {
      "cell_type": "code",
      "metadata": {
        "id": "yIEwt5YLeQ7P"
      },
      "source": [
        "# trained weights are saved by default in our weights folder\n",
        "%ls runs/"
      ],
      "execution_count": null,
      "outputs": []
    },
    {
      "cell_type": "code",
      "metadata": {
        "id": "4SyOWS80qR32"
      },
      "source": [
        "%ls runs/train/yolov5s_results/weights"
      ],
      "execution_count": null,
      "outputs": []
    },
    {
      "cell_type": "markdown",
      "metadata": {
        "id": "rRhZmqhMqQtQ"
      },
      "source": [
        ""
      ]
    },
    {
      "cell_type": "code",
      "metadata": {
        "id": "9nmZZnWOgJ2S",
        "colab": {
          "base_uri": "https://localhost:8080/"
        },
        "outputId": "65ff412f-475f-4162-c5be-a4817364397c"
      },
      "source": [
        "# when we ran this, we saw .007 second inference time. That is 140 FPS on a TESLA P100!\n",
        "# use the best weights!\n",
        "%cd /content/yolov5/\n",
        "!python detect.py --weights /content/aqua_best.pt --img 416 --iou-thres 0.3 --conf 0.3 --source ../test/images"
      ],
      "execution_count": 15,
      "outputs": [
        {
          "output_type": "stream",
          "name": "stdout",
          "text": [
            "/content/yolov5\n",
            "Namespace(agnostic_nms=False, augment=False, classes=None, conf_thres=0.3, device='', exist_ok=False, img_size=416, iou_thres=0.3, name='exp', project='runs/detect', save_conf=False, save_txt=False, source='../test/images', update=False, view_img=False, weights=['/content/aqua_best.pt'])\n",
            "YOLOv5 v4.0-126-g886f1c0 torch 1.9.0+cu111 CUDA:0 (Tesla P100-PCIE-16GB, 16280.875MB)\n",
            "\n",
            "Fusing layers... \n",
            "/usr/local/lib/python3.7/dist-packages/torch/nn/functional.py:718: UserWarning: Named tensors and all their associated APIs are an experimental feature and subject to change. Please do not use them for anything important until they are released as stable. (Triggered internally at  /pytorch/c10/core/TensorImpl.h:1156.)\n",
            "  return torch.max_pool2d(input, kernel_size, stride, padding, dilation, ceil_mode)\n",
            "Model Summary: 232 layers, 7262700 parameters, 0 gradients, 16.8 GFLOPS\n",
            "image 1/21 /content/yolov5/../test/images/033356d8fc_jpg.rf.40073146bfd79ffe9132c96ec4786632.jpg: 416x416 Done. (0.012s)\n",
            "image 2/21 /content/yolov5/../test/images/2422a66604_jpg.rf.a9591c4537d58da3096ab10f6cf7fa96.jpg: 416x416 Done. (0.012s)\n",
            "image 3/21 /content/yolov5/../test/images/2f6347eca7_jpg.rf.e9e6c0a2093a222fee89432e104bddc9.jpg: 416x416 1 stingray, Done. (0.013s)\n",
            "image 4/21 /content/yolov5/../test/images/306eecde74_jpg.rf.0edfdebe774c8473bfc995571ce606e1.jpg: 416x416 Done. (0.014s)\n",
            "image 5/21 /content/yolov5/../test/images/32b5cf63db_jpg.rf.dc0571e69ba0234467311211de2bc840.jpg: 416x416 Done. (0.012s)\n",
            "image 6/21 /content/yolov5/../test/images/377750a447_jpg.rf.3aa5a254fed16df65be2073edc066a00.jpg: 416x416 3 jellyfishs, 2 sharks, Done. (0.013s)\n",
            "image 7/21 /content/yolov5/../test/images/3b9bf49fda_jpg.rf.5ee99d6ae96e7aa51fa8c7db8b27040f.jpg: 416x416 1 puffin, Done. (0.014s)\n",
            "image 8/21 /content/yolov5/../test/images/3c6ed5cc3f_jpg.rf.ca2d42828bd64357a78035229ac8f1ff.jpg: 416x416 Done. (0.012s)\n",
            "image 9/21 /content/yolov5/../test/images/583d8a0442_jpg.rf.d7c453cf38376680b352aeee79189784.jpg: 416x416 1 stingray, Done. (0.015s)\n",
            "image 10/21 /content/yolov5/../test/images/62618d7dfe_jpg.rf.8324fe13c66e6924349df3915f29e20e.jpg: 416x416 Done. (0.012s)\n",
            "image 11/21 /content/yolov5/../test/images/8468769fcb_jpg.rf.730d355af6af7598fba7747c3795d6e0.jpg: 416x416 Done. (0.012s)\n",
            "image 12/21 /content/yolov5/../test/images/9acfa0421f_jpg.rf.a40c2d95c92d686b26e02895e2b912b2.jpg: 416x416 1 jellyfish, Done. (0.014s)\n",
            "image 13/21 /content/yolov5/../test/images/9afe570759_jpg.rf.9429e27333f1dc3bd3db75e24a963490.jpg: 416x416 Done. (0.012s)\n",
            "image 14/21 /content/yolov5/../test/images/9c555a3801_jpg.rf.8b18d4e03ee30c1d1f490d47b0d94c64.jpg: 416x416 Done. (0.012s)\n",
            "image 15/21 /content/yolov5/../test/images/ba342a42d6_jpg.rf.efaa1c44bb89677c053460c057d097d6.jpg: 416x416 1 starfish, Done. (0.013s)\n",
            "image 16/21 /content/yolov5/../test/images/bb068ba8b0_jpg.rf.209e4e2eeb0add197ec06f1a3b3a3cb2.jpg: 416x416 Done. (0.012s)\n",
            "image 17/21 /content/yolov5/../test/images/bb0c03889c_jpg.rf.22101daed43c650343f10da0ccfd5b85.jpg: 416x416 Done. (0.012s)\n",
            "image 18/21 /content/yolov5/../test/images/d185d8f469_jpg.rf.b7ad5460efe49a6e86b71e11f5089744.jpg: 416x416 1 jellyfish, Done. (0.013s)\n",
            "image 19/21 /content/yolov5/../test/images/e6b67fdca9_jpg.rf.5013154679dfb92ece82885aae1b6f7b.jpg: 416x416 1 penguin, 1 shark, Done. (0.013s)\n",
            "image 20/21 /content/yolov5/../test/images/e7f64acc56_jpg.rf.3b6d84789d489765109c25edaa1590ea.jpg: 416x416 Done. (0.015s)\n",
            "image 21/21 /content/yolov5/../test/images/ff21da8f48_jpg.rf.3c6e6d15833fe4d683da9781c24e625b.jpg: 416x416 2 jellyfishs, Done. (0.013s)\n",
            "Results saved to runs/detect/exp2\n",
            "Done. (0.424s)\n"
          ]
        }
      ]
    },
    {
      "cell_type": "code",
      "metadata": {
        "id": "MaP92VAckFST"
      },
      "source": [
        "!python detect.py --weights /content/yolov5/runs/train/yolov5l_results/weights/best.pt --img 416 --iou-thres 0.3 --conf 0.3 --source /content/jerry-fish.mkv"
      ],
      "execution_count": null,
      "outputs": []
    },
    {
      "cell_type": "code",
      "metadata": {
        "id": "odKEqYtTgbRc"
      },
      "source": [
        "#display inference on ALL test images\n",
        "#this looks much better with longer training above\n",
        "\n",
        "import glob\n",
        "from IPython.display import Image, display\n",
        "\n",
        "for imageName in glob.glob('/content/yolov5/runs/detect/exp/*.jpg'): #assuming JPG\n",
        "    display(Image(filename=imageName))\n",
        "    print(\"\\n\")"
      ],
      "execution_count": null,
      "outputs": []
    },
    {
      "cell_type": "markdown",
      "metadata": {
        "id": "_uPq9mVgiBql"
      },
      "source": [
        "# Export Trained Weights for Future Inference\n",
        "\n",
        "Now that you have trained your custom detector, you can export the trained weights you have made here for inference on your device elsewhere"
      ]
    },
    {
      "cell_type": "code",
      "metadata": {
        "id": "YH4CTzDRh00g"
      },
      "source": [
        "from google.colab import drive\n",
        "drive.mount('/content/gdrive')"
      ],
      "execution_count": null,
      "outputs": []
    },
    {
      "cell_type": "code",
      "metadata": {
        "id": "1x_wg3VeiXMW"
      },
      "source": [
        "%cp /content/yolov5/runs/train/yolov5s_results/weights/best.pt /content/gdrive/My\\ Drive"
      ],
      "execution_count": null,
      "outputs": []
    },
    {
      "cell_type": "markdown",
      "metadata": {
        "id": "LVpCFeU-K4gb"
      },
      "source": [
        "## Congrats!\n",
        "\n",
        "Hope you enjoyed this!\n",
        "\n"
      ]
    },
    {
      "cell_type": "code",
      "metadata": {
        "id": "KDEAkbSR8GMT",
        "outputId": "c492d38f-d02c-49c8-c8b9-dd115148417e",
        "colab": {
          "base_uri": "https://localhost:8080/"
        }
      },
      "source": [
        "%cd yolov5"
      ],
      "execution_count": 11,
      "outputs": [
        {
          "output_type": "stream",
          "name": "stdout",
          "text": [
            "/content/yolov5\n"
          ]
        }
      ]
    },
    {
      "cell_type": "code",
      "metadata": {
        "id": "Pc7vLkk08Ux1",
        "outputId": "53eddd0c-32ba-4c5e-c774-77ee70cdb737",
        "colab": {
          "base_uri": "https://localhost:8080/"
        }
      },
      "source": [
        "!ls -l /content/drive/MyDrive/kosa-2021/auqa_best.pt"
      ],
      "execution_count": 8,
      "outputs": [
        {
          "output_type": "stream",
          "name": "stdout",
          "text": [
            "ls: cannot access '/content/drive/MyDrive/kosa-2021/auqa_best.pt': No such file or directory\n"
          ]
        }
      ]
    },
    {
      "cell_type": "code",
      "metadata": {
        "id": "7CzNrmYj8Ack"
      },
      "source": [
        "!cp /content/drive/MyDrive/kosa-2021/aqua_best.pt ."
      ],
      "execution_count": 9,
      "outputs": []
    },
    {
      "cell_type": "code",
      "metadata": {
        "id": "YTL20S7b8oaU"
      },
      "source": [
        "!python detect.py --weights /content/aqua_best.pt --img 320 --iou-thres 0.25 --conf 0.15 --source /content/sting-ray.mp4"
      ],
      "execution_count": null,
      "outputs": []
    },
    {
      "cell_type": "code",
      "metadata": {
        "id": "319um5Ujef-b",
        "colab": {
          "base_uri": "https://localhost:8080/"
        },
        "outputId": "bf12b67f-a1f4-4263-f444-fc40a56857ae"
      },
      "source": [
        "!pwd"
      ],
      "execution_count": null,
      "outputs": [
        {
          "output_type": "stream",
          "name": "stdout",
          "text": [
            "/content/yolov5\n"
          ]
        }
      ]
    },
    {
      "cell_type": "code",
      "metadata": {
        "id": "Gx43btfkeavT"
      },
      "source": [
        "!cp /content/yolov5/runs/detect/exp2/aquarium.mkv /content/drive/MyDrive/kosa-2021/aqua_result.mkv"
      ],
      "execution_count": 15,
      "outputs": []
    },
    {
      "cell_type": "code",
      "metadata": {
        "id": "xT3sMMXNB4PP"
      },
      "source": [
        "!python detect.py --weights /content/aqua_best.pt --img 416 --iou-thres 0.2 --conf 0.15 --source ../aquarium.mkv"
      ],
      "execution_count": null,
      "outputs": []
    }
  ]
}